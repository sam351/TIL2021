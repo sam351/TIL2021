{
  "nbformat": 4,
  "nbformat_minor": 0,
  "metadata": {
    "colab": {
      "name": "02_Updated-Sentiment-Analysis",
      "provenance": [],
      "collapsed_sections": []
    },
    "kernelspec": {
      "name": "python3",
      "display_name": "Python 3"
    },
    "accelerator": "GPU"
  },
  "cells": [
    {
      "cell_type": "code",
      "metadata": {
        "colab": {
          "base_uri": "https://localhost:8080/"
        },
        "id": "ClGpy3rvL1_5",
        "outputId": "cc85b534-1ee3-429d-8ab3-cda6fd39937d"
      },
      "source": [
        "import torch\r\n",
        "import torch.nn as nn\r\n",
        "import torch.optim as optim\r\n",
        "\r\n",
        "import torchtext\r\n",
        "from torchtext.legacy import data, datasets\r\n",
        "\r\n",
        "import random\r\n",
        "import time\r\n",
        "\r\n",
        "import spacy\r\n",
        "\r\n",
        "torch.__version__, torchtext.__version__, spacy.__version__"
      ],
      "execution_count": 1,
      "outputs": [
        {
          "output_type": "execute_result",
          "data": {
            "text/plain": [
              "('1.8.0+cu101', '0.9.0', '2.2.4')"
            ]
          },
          "metadata": {
            "tags": []
          },
          "execution_count": 1
        }
      ]
    },
    {
      "cell_type": "markdown",
      "metadata": {
        "id": "I39JKY87WzB9"
      },
      "source": [
        "## Preparing Data"
      ]
    },
    {
      "cell_type": "code",
      "metadata": {
        "colab": {
          "base_uri": "https://localhost:8080/"
        },
        "id": "90Zk6WDoNsNl",
        "outputId": "b64c2daf-9c90-4223-85bb-7d3f8a85b1c8"
      },
      "source": [
        "%%time\r\n",
        "\r\n",
        "# set random seed for reproducibility\r\n",
        "SEED = 1234\r\n",
        "torch.manual_seed(SEED)\r\n",
        "torch.backends.cudnn.deterministic = True\r\n",
        "\r\n",
        "# downlaod and split dataset (trian, val, test)\r\n",
        "TEXT = data.Field(tokenize = 'spacy',\r\n",
        "                  tokenizer_language = 'en_core_web_sm',\r\n",
        "                  include_lengths=True)\r\n",
        "LABEL = data.LabelField(dtype = torch.float)\r\n",
        "\r\n",
        "train_val_data, test_data = datasets.IMDB.splits(TEXT, LABEL)\r\n",
        "train_data, valid_data = train_val_data.split(random_state = random.seed(SEED))"
      ],
      "execution_count": 2,
      "outputs": [
        {
          "output_type": "stream",
          "text": [
            "downloading aclImdb_v1.tar.gz\n"
          ],
          "name": "stdout"
        },
        {
          "output_type": "stream",
          "text": [
            "aclImdb_v1.tar.gz: 100%|██████████| 84.1M/84.1M [00:03<00:00, 23.0MB/s]\n"
          ],
          "name": "stderr"
        },
        {
          "output_type": "stream",
          "text": [
            "CPU times: user 1min 21s, sys: 8.87 s, total: 1min 29s\n",
            "Wall time: 1min 33s\n"
          ],
          "name": "stdout"
        }
      ]
    },
    {
      "cell_type": "code",
      "metadata": {
        "colab": {
          "base_uri": "https://localhost:8080/"
        },
        "id": "es19mu23RL4j",
        "outputId": "58ad23fb-bc72-49aa-a977-6e7f267a1859"
      },
      "source": [
        "# check the type and size of dataset\r\n",
        "print(f'>>> type : {type(train_data)}')\r\n",
        "print(f'>>> Number of training examples: {len(train_data)}')   # 17500 (35%)\r\n",
        "print(f'>>> Number of validation examples: {len(valid_data)}') # 7500  (15%)\r\n",
        "print(f'>>> Number of testing examples: {len(test_data)}')     # 25000 (50%)\r\n",
        "print()\r\n",
        "\r\n",
        "# check one sample data\r\n",
        "tmp_ex = train_val_data.examples[0]\r\n",
        "tmp_dict = vars(tmp_ex)\r\n",
        "print('< example data >')\r\n",
        "print('>>> type :', type(tmp_ex))\r\n",
        "for key in tmp_dict:\r\n",
        "  print(f'>>> {key} : {tmp_dict[key]}')"
      ],
      "execution_count": 3,
      "outputs": [
        {
          "output_type": "stream",
          "text": [
            ">>> type : <class 'torchtext.legacy.data.dataset.Dataset'>\n",
            ">>> Number of training examples: 17500\n",
            ">>> Number of validation examples: 7500\n",
            ">>> Number of testing examples: 25000\n",
            "\n",
            "< example data >\n",
            ">>> type : <class 'torchtext.legacy.data.example.Example'>\n",
            ">>> text : ['I', 'loved', 'October', 'Sky', '.', 'The', 'thing', 'I', 'loved', 'most', 'had', 'to', 'be', 'the', 'music', '.', 'It', 'worked', 'two', 'ways', ':', 'in', 'the', 'first', 'hour', 'of', 'the', 'film', ',', 'it', 'gives', 'the', 'viewer', 'a', 'time', '-', 'frame', '.', 'This', 'is', 'done', 'by', 'playing', 'songs', 'from', 'the', 'late', 'Fifties', '.', 'In', 'the', 'second', 'hour', ',', 'an', 'instrumental', 'score', 'takes', 'over', '.', 'The', 'music', 'now', 'fits', 'the', 'mood', 'of', 'the', 'film', 'perfectly.<br', '/><br', '/>I', 'did', 'not', 'only', 'enjoy', 'the', 'music', ',', 'I', 'also', 'quite', 'enjoyed', 'the', 'cast', '.', 'Jake', 'Gyllenhaal', 'as', 'Homer', 'Hickam', 'was', 'especially', 'a', 'surprise', 'for', 'me', '.', 'He', 'gave', 'off', 'a', 'first', '-', 'class', 'performance', ',', 'as', 'did', 'Chris', 'Owen', '(', 'Quentin', ')', 'and', 'Chris', 'Cooper', '(', 'John', 'Hickam).<br', '/><br', \"/>I've\", 'seen', 'this', 'movie', 'about', 'escaping', 'the', 'life', 'already', 'laid', 'out', 'for', 'you', 'twice', 'now', ',', 'and', 'both', 'times', 'I', 'thoroughly', 'enjoyed', 'myself', '.']\n",
            ">>> label : pos\n"
          ],
          "name": "stdout"
        }
      ]
    },
    {
      "cell_type": "code",
      "metadata": {
        "colab": {
          "base_uri": "https://localhost:8080/"
        },
        "id": "slloOJ9WO8LI",
        "outputId": "d50dc9f5-9f59-49ba-b968-2fde750b77ea"
      },
      "source": [
        "%%time\r\n",
        "\r\n",
        "# build vocabulary\r\n",
        "MAX_VOCAB_SIZE = 25_000\r\n",
        "TEXT.build_vocab(train_data,\r\n",
        "                 max_size = MAX_VOCAB_SIZE,\r\n",
        "                 vectors='glove.6B.100d',\r\n",
        "                 unk_init=torch.Tensor.normal_)\r\n",
        "LABEL.build_vocab(train_data)\r\n",
        "\r\n",
        "print('\\n')\r\n",
        "print(f\">>> Unique tokens in TEXT vocabulary: {len(TEXT.vocab)}\")\r\n",
        "print(f\">>> Unique tokens in LABEL vocabulary: {len(LABEL.vocab)}\")\r\n",
        "print(f\">>> Top 20 common tokens :{TEXT.vocab.freqs.most_common(20)}\")\r\n",
        "print()\r\n",
        "print('<itos and stoi>')\r\n",
        "print('>>> itos :', TEXT.vocab.itos[:10])\r\n",
        "print('>>> stoi :', LABEL.vocab.stoi)"
      ],
      "execution_count": 4,
      "outputs": [
        {
          "output_type": "stream",
          "text": [
            ".vector_cache/glove.6B.zip: 862MB [02:42, 5.30MB/s]                           \n",
            "100%|█████████▉| 398370/400000 [00:14<00:00, 24351.30it/s]"
          ],
          "name": "stderr"
        },
        {
          "output_type": "stream",
          "text": [
            "\n",
            "\n",
            ">>> Unique tokens in TEXT vocabulary: 25002\n",
            ">>> Unique tokens in LABEL vocabulary: 2\n",
            ">>> Top 20 common tokens :[('the', 201901), (',', 193270), ('.', 165744), ('and', 109493), ('a', 109270), ('of', 100339), ('to', 93283), ('is', 76605), ('in', 60986), ('I', 54030), ('it', 53366), ('that', 48979), ('\"', 44542), (\"'s\", 43223), ('this', 42332), ('-', 37175), ('/><br', 35752), ('was', 34938), ('as', 30363), ('with', 29953)]\n",
            "\n",
            "<itos and stoi>\n",
            ">>> itos : ['<unk>', '<pad>', 'the', ',', '.', 'and', 'a', 'of', 'to', 'is']\n",
            ">>> stoi : defaultdict(None, {'neg': 0, 'pos': 1})\n",
            "CPU times: user 35.2 s, sys: 5.83 s, total: 41 s\n",
            "Wall time: 3min 30s\n"
          ],
          "name": "stdout"
        }
      ]
    },
    {
      "cell_type": "code",
      "metadata": {
        "colab": {
          "base_uri": "https://localhost:8080/"
        },
        "id": "RZZdmNUmWu9F",
        "outputId": "fb341545-9ff3-4bbb-c6bc-72a6fd07894e"
      },
      "source": [
        "# create the iterators\r\n",
        "BATCH_SIZE = 64\r\n",
        "device = torch.device('cuda' if torch.cuda.is_available() else 'cpu')\r\n",
        "\r\n",
        "train_iterator, valid_iterator, test_iterator = data.BucketIterator.splits(\r\n",
        "    (train_data, valid_data, test_data),\r\n",
        "    batch_size=BATCH_SIZE,\r\n",
        "    sort_within_batch=True,\r\n",
        "    device=device\r\n",
        ")\r\n",
        "device, train_iterator, len(train_iterator), len(train_data)/BATCH_SIZE"
      ],
      "execution_count": 5,
      "outputs": [
        {
          "output_type": "execute_result",
          "data": {
            "text/plain": [
              "(device(type='cuda'),\n",
              " <torchtext.legacy.data.iterator.BucketIterator at 0x7fa19a6735d0>,\n",
              " 274,\n",
              " 273.4375)"
            ]
          },
          "metadata": {
            "tags": []
          },
          "execution_count": 5
        }
      ]
    },
    {
      "cell_type": "markdown",
      "metadata": {
        "id": "7U0Ulm3zW3hX"
      },
      "source": [
        "## Build the Model"
      ]
    },
    {
      "cell_type": "code",
      "metadata": {
        "colab": {
          "base_uri": "https://localhost:8080/"
        },
        "id": "BA-hnGUOW4C8",
        "outputId": "554c81f9-cead-42ca-b24b-f8094c5159f4"
      },
      "source": [
        "class RNN(nn.Module):\r\n",
        "    def __init__(self, vocab_size, embedding_dim, hidden_dim, output_dim,\r\n",
        "                 n_layers, bidirectional, dropout, pad_idx):\r\n",
        "        super().__init__()\r\n",
        "        self.embedding = nn.Embedding(vocab_size, embedding_dim, padding_idx=pad_idx)\r\n",
        "        self.rnn = nn.LSTM(embedding_dim, hidden_dim, num_layers=n_layers,\r\n",
        "                           bidirectional=bidirectional, dropout=dropout)\r\n",
        "        self.fc = nn.Linear(hidden_dim*2, output_dim)\r\n",
        "        self.dropout = nn.Dropout(dropout)\r\n",
        "\r\n",
        "        \r\n",
        "    def forward(self, text, text_lengths):\r\n",
        "        # text = [sent len, batch size]\r\n",
        "        # print(text.shape, text_lengths.shape)  ########################## DEBUG #########################\r\n",
        "\r\n",
        "        embedded = self.dropout(self.embedding(text))\r\n",
        "        # embedded = [sent len, batch size, emb dim]\r\n",
        "        # print(embedded.shape)  ########################## DEBUG #########################\r\n",
        "        \r\n",
        "        packed_embedded = nn.utils.rnn.pack_padded_sequence(embedded, text_lengths.to('cpu'))  # Pack sequence - length need to be on CPU\r\n",
        "        packed_output, (hidden, cell) = self.rnn(packed_embedded)\r\n",
        "        output, output_lengths = nn.utils.rnn.pad_packed_sequence(packed_output)  # Unpack sequence\r\n",
        "        # output        = [sent len, batch size, hid dim*num directions]  (output over padding tokens are zero tensors)\r\n",
        "        # hidden & cell = [num layers * num directions, batch size, hid dim]\r\n",
        "        # print(output.shape, output_lengths.shape, hidden.shape, cell.shape)  ########################## DEBUG #########################\r\n",
        "\r\n",
        "        concatenated = torch.cat((hidden[-2, :, :], hidden[-1, :, :]), dim=1)  # Concat the final forward(hidden[-2:, :, :]) & backward(hidden[-1:, :, :]) hidden layers\r\n",
        "        # concatenated = [batch size, hid dim * num directions]\r\n",
        "        # print(concatenated.shape)  ########################## DEBUG #########################\r\n",
        "        \r\n",
        "        hidden = self.dropout(concatenated)  # Apply dropout\r\n",
        "        # hidden = [batch size, hid dim*num directions]\r\n",
        "        # print(hidden.shape)  ########################## DEBUG #########################\r\n",
        "        \r\n",
        "        output_linear = self.fc(hidden)\r\n",
        "        # output_linear = [batch size, num labels]\r\n",
        "        # print(output_linear.shape)  ########################## DEBUG #########################\r\n",
        "\r\n",
        "        return output_linear\r\n",
        "\r\n",
        "\r\n",
        "INPUT_DIM = len(TEXT.vocab)\r\n",
        "EMBEDDING_DIM = 100  # 50-250\r\n",
        "HIDDEN_DIM = 256     # 100-500\r\n",
        "OUTPUT_DIM = 1       # No of labels\r\n",
        "\r\n",
        "N_LAYERS = 2\r\n",
        "BIDIRECTIONAL = True\r\n",
        "DROPOUT = 0.5\r\n",
        "PAD_IDX = TEXT.vocab.stoi[TEXT.pad_token]  # '<pad>' -> 1\r\n",
        "\r\n",
        "model = RNN(vocab_size=INPUT_DIM, embedding_dim=EMBEDDING_DIM, hidden_dim=HIDDEN_DIM, output_dim=OUTPUT_DIM,\r\n",
        "            n_layers=N_LAYERS, bidirectional=BIDIRECTIONAL, dropout=DROPOUT, pad_idx=PAD_IDX).to(device)\r\n",
        "num_parameters = sum(p.numel() for p in model.parameters() if p.requires_grad)\r\n",
        "print(f'>>> The model has {num_parameters:,} trainable parameters')"
      ],
      "execution_count": 6,
      "outputs": [
        {
          "output_type": "stream",
          "text": [
            ">>> The model has 4,810,857 trainable parameters\n"
          ],
          "name": "stdout"
        }
      ]
    },
    {
      "cell_type": "code",
      "metadata": {
        "colab": {
          "base_uri": "https://localhost:8080/"
        },
        "id": "I0ONn_QAfedx",
        "outputId": "23a0c98b-d3f5-4109-dfb1-3577f501d9a2"
      },
      "source": [
        "# Check output tensor shape through whole model (with sample input text)\r\n",
        "## 1. generate sample text\r\n",
        "text = torch.randint(size=(3, 9), \r\n",
        "                          low=0, high=len(TEXT.vocab), dtype=torch.long, device=device)\r\n",
        "text_lengths = torch.LongTensor([text.shape[0]] * text.shape[1])\r\n",
        "print(f'>>> text : {text.shape}, text_lengths : {text_lengths.shape} (value : {text_lengths})')\r\n",
        "\r\n",
        "## 2. Generate test model\r\n",
        "test_model = RNN(vocab_size=INPUT_DIM, embedding_dim=EMBEDDING_DIM, hidden_dim=HIDDEN_DIM, output_dim=OUTPUT_DIM,\r\n",
        "                 n_layers=N_LAYERS, bidirectional=BIDIRECTIONAL, dropout=DROPOUT, pad_idx=PAD_IDX).to(device)\r\n",
        "\r\n",
        "## 3. Check shapes through each layer\r\n",
        "embedded = test_model.dropout(test_model.embedding(text))\r\n",
        "# embedded = [sent len, batch size, emb dim]\r\n",
        "print(f'>>> embedded : {embedded.shape}')\r\n",
        "\r\n",
        "packed_embedded = nn.utils.rnn.pack_padded_sequence(embedded, text_lengths.to('cpu'))  # Pack sequence - length need to be on CPU\r\n",
        "packed_output, (hidden, cell) = test_model.rnn(packed_embedded)\r\n",
        "output, output_lengths = nn.utils.rnn.pad_packed_sequence(packed_output)  # Unpack sequence\r\n",
        "# output        = [sent len, batch size, hid dim*num directions]  (output over padding tokens are zero tensors)\r\n",
        "# hidden & cell = [num layers * num directions, batch size, hid dim]\r\n",
        "print(f'>>> output : {output.shape}, output_lengths : {output_lengths.shape} (value : {output_lengths}),\\n    hidden : {hidden.shape}, cell : {cell.shape}')\r\n",
        "\r\n",
        "concatenated = torch.cat((hidden[-2, :, :], hidden[-1, :, :]), dim=1)  # Concat the final forward(hidden[-2:, :, :]) & backward(hidden[-1:, :, :]) hidden layers\r\n",
        "# concatenated = [batch size, hid dim * num directions]\r\n",
        "print(f'>>> concatenated : {concatenated.shape}')\r\n",
        "\r\n",
        "hidden = test_model.dropout(concatenated)  # Apply dropout\r\n",
        "# hidden = [batch size, hid dim*num directions]\r\n",
        "print(f'>>> hidden : {hidden.shape}')\r\n",
        "\r\n",
        "output_linear = test_model.fc(hidden)\r\n",
        "# output_linear = [num labels]\r\n",
        "print(f'>>> output_linear : {output_linear.shape} (value : {output_linear.sigmoid().view(-1)})')"
      ],
      "execution_count": 7,
      "outputs": [
        {
          "output_type": "stream",
          "text": [
            ">>> text : torch.Size([3, 9]), text_lengths : torch.Size([9]) (value : tensor([3, 3, 3, 3, 3, 3, 3, 3, 3]))\n",
            ">>> embedded : torch.Size([3, 9, 100])\n",
            ">>> output : torch.Size([3, 9, 512]), output_lengths : torch.Size([9]) (value : tensor([3, 3, 3, 3, 3, 3, 3, 3, 3])),\n",
            "    hidden : torch.Size([4, 9, 256]), cell : torch.Size([4, 9, 256])\n",
            ">>> concatenated : torch.Size([9, 512])\n",
            ">>> hidden : torch.Size([9, 512])\n",
            ">>> output_linear : torch.Size([9, 1]) (value : tensor([0.4986, 0.4964, 0.4983, 0.4913, 0.5062, 0.5080, 0.4768, 0.4951, 0.5052],\n",
            "       device='cuda:0', grad_fn=<ViewBackward>))\n"
          ],
          "name": "stdout"
        }
      ]
    },
    {
      "cell_type": "code",
      "metadata": {
        "colab": {
          "base_uri": "https://localhost:8080/"
        },
        "id": "b1VNhi5wB9NV",
        "outputId": "ff8de0b7-13ef-4d41-dfab-9213660359b3"
      },
      "source": [
        "# replace initial weights of embedding layer with pre-trained embeddings\r\n",
        "print('>>> original initial weights :\\n', model.embedding.weight.data)\r\n",
        "print('\\n>>> check the shape :\\n', model.embedding.weight.data.shape, TEXT.vocab.vectors.shape)\r\n",
        "\r\n",
        "model.embedding.weight.data.copy_(TEXT.vocab.vectors)\r\n",
        "print('\\n>>> replaced initial weights :\\n', model.embedding.weight.data)"
      ],
      "execution_count": 8,
      "outputs": [
        {
          "output_type": "stream",
          "text": [
            ">>> original initial weights :\n",
            " tensor([[ 0.4109, -0.9915,  1.9818,  ..., -2.4582, -0.7268, -0.1282],\n",
            "        [ 0.0000,  0.0000,  0.0000,  ...,  0.0000,  0.0000,  0.0000],\n",
            "        [-1.0889,  0.2675,  0.8898,  ...,  3.1188,  0.1083, -0.7784],\n",
            "        ...,\n",
            "        [-1.7065, -0.6128,  0.1296,  ..., -0.8470, -1.2234, -1.1090],\n",
            "        [-0.5113, -1.9095, -0.2405,  ...,  1.5568, -0.5114,  0.7969],\n",
            "        [ 0.1813, -0.5001,  0.5283,  ...,  0.5365,  0.5466, -0.0158]],\n",
            "       device='cuda:0')\n",
            "\n",
            ">>> check the shape :\n",
            " torch.Size([25002, 100]) torch.Size([25002, 100])\n",
            "\n",
            ">>> replaced initial weights :\n",
            " tensor([[-1.1172e-01, -4.9659e-01,  1.6307e-01,  ...,  1.2647e+00,\n",
            "         -2.7527e-01, -1.3254e-01],\n",
            "        [-8.5549e-01, -7.2081e-01,  1.3755e+00,  ...,  8.2522e-02,\n",
            "         -1.1314e+00,  3.9972e-01],\n",
            "        [-3.8194e-02, -2.4487e-01,  7.2812e-01,  ..., -1.4590e-01,\n",
            "          8.2780e-01,  2.7062e-01],\n",
            "        ...,\n",
            "        [ 5.4535e-01,  3.3626e-01, -1.1108e+00,  ..., -4.8598e-01,\n",
            "          9.7973e-01, -3.9464e-01],\n",
            "        [ 9.5999e-04, -1.0385e-01,  4.2951e-01,  ..., -4.9738e-01,\n",
            "         -8.1855e-01,  7.2384e-01],\n",
            "        [-8.6995e-01,  4.4439e-02, -4.7513e-01,  ...,  1.9572e-02,\n",
            "         -6.1444e-01,  8.2885e-01]], device='cuda:0')\n"
          ],
          "name": "stdout"
        }
      ]
    },
    {
      "cell_type": "code",
      "metadata": {
        "colab": {
          "base_uri": "https://localhost:8080/"
        },
        "id": "iO5TXoaRDtID",
        "outputId": "457f754c-2c5e-4299-c7ad-f83b1b3d4210"
      },
      "source": [
        "# replace initial weights of unk & pad tokens with zeros\r\n",
        "UNK_IDX = TEXT.vocab.stoi[TEXT.unk_token]  # '<unk>' -> 0\r\n",
        "\r\n",
        "unk_vector = model.embedding.weight.data[UNK_IDX]\r\n",
        "print('>>> original initial weights :\\n', unk_vector)  # randomly initialized at N(0, 1)\r\n",
        "print('\\n>>> check the shape :\\n', unk_vector.shape, EMBEDDING_DIM)\r\n",
        "\r\n",
        "model.embedding.weight.data[UNK_IDX] = torch.zeros(EMBEDDING_DIM)  # replace with zeros\r\n",
        "model.embedding.weight.data[PAD_IDX] = torch.zeros(EMBEDDING_DIM)  # replace with zeros\r\n",
        "print('\\n>>> replaced initial weights :\\n', model.embedding.weight.data[UNK_IDX])"
      ],
      "execution_count": 9,
      "outputs": [
        {
          "output_type": "stream",
          "text": [
            ">>> original initial weights :\n",
            " tensor([-0.1117, -0.4966,  0.1631, -0.8817,  0.0539,  0.6684, -0.0597, -0.4675,\n",
            "        -0.2153,  0.8840, -0.7584, -0.3689, -0.3424, -1.4020,  0.3206, -1.0219,\n",
            "         0.7988, -0.0923, -0.7049, -1.6024,  0.2891,  0.4899, -0.3853, -0.7120,\n",
            "        -0.1706, -1.4594,  0.2207,  0.2463, -1.3248,  0.6970, -0.6631,  1.2158,\n",
            "        -1.4949,  0.8810, -1.1786, -0.9340, -0.5675, -0.2772, -2.1834,  0.3668,\n",
            "         0.9380,  0.0078, -0.3139, -1.1567,  1.8409, -1.0174,  1.2192,  0.1601,\n",
            "         1.5985, -0.0469, -1.5270, -2.0143, -1.5173,  0.3877, -1.1849,  0.6897,\n",
            "         1.3232,  1.8169,  0.6808,  0.7244,  0.0323, -1.6593, -1.8773,  0.7372,\n",
            "         0.9257,  0.9247,  0.1825, -0.0737,  0.3147, -1.0369,  0.2100,  0.6144,\n",
            "         0.0628, -0.3297, -1.7970,  0.8728,  0.7670, -0.1138, -0.9428,  0.7540,\n",
            "         0.1407, -0.6937, -0.6159, -0.7295,  1.3204,  1.5997, -1.0792, -0.3396,\n",
            "        -1.4538, -2.6740,  1.5984,  0.8021,  0.5722,  0.0653, -0.0235,  0.8876,\n",
            "         1.4689,  1.2647, -0.2753, -0.1325], device='cuda:0')\n",
            "\n",
            ">>> check the shape :\n",
            " torch.Size([100]) 100\n",
            "\n",
            ">>> replaced initial weights :\n",
            " tensor([0., 0., 0., 0., 0., 0., 0., 0., 0., 0., 0., 0., 0., 0., 0., 0., 0., 0., 0., 0., 0., 0., 0., 0.,\n",
            "        0., 0., 0., 0., 0., 0., 0., 0., 0., 0., 0., 0., 0., 0., 0., 0., 0., 0., 0., 0., 0., 0., 0., 0.,\n",
            "        0., 0., 0., 0., 0., 0., 0., 0., 0., 0., 0., 0., 0., 0., 0., 0., 0., 0., 0., 0., 0., 0., 0., 0.,\n",
            "        0., 0., 0., 0., 0., 0., 0., 0., 0., 0., 0., 0., 0., 0., 0., 0., 0., 0., 0., 0., 0., 0., 0., 0.,\n",
            "        0., 0., 0., 0.], device='cuda:0')\n"
          ],
          "name": "stdout"
        }
      ]
    },
    {
      "cell_type": "markdown",
      "metadata": {
        "id": "kJNiAAtcb4xd"
      },
      "source": [
        "## Train the Model"
      ]
    },
    {
      "cell_type": "code",
      "metadata": {
        "id": "BptvQg7sd4d9"
      },
      "source": [
        "def binary_accuracy(preds, y):\r\n",
        "    \"\"\"\r\n",
        "    Returns accuracy per batch, i.e. if you get 8/10 right, this returns 0.8, NOT 8\r\n",
        "    \"\"\"\r\n",
        "    #round predictions to the closest integer\r\n",
        "    rounded_preds = torch.round(torch.sigmoid(preds))\r\n",
        "    correct = (rounded_preds == y).float() #convert into float for division \r\n",
        "    acc = correct.sum() / len(correct)\r\n",
        "    return acc\r\n",
        "\r\n",
        "\r\n",
        "def train(model, iterator, optimizer, criterion):\r\n",
        "    epoch_loss = 0\r\n",
        "    epoch_acc = 0\r\n",
        "    model.train()\r\n",
        "    \r\n",
        "    for batch in iterator:\r\n",
        "        text, text_lengths = batch.text\r\n",
        "\r\n",
        "        predictions = model(text, text_lengths).squeeze(1)\r\n",
        "        loss = criterion(predictions, batch.label)\r\n",
        "        acc = binary_accuracy(predictions, batch.label)\r\n",
        "        \r\n",
        "        optimizer.zero_grad()\r\n",
        "        loss.backward()\r\n",
        "        optimizer.step()\r\n",
        "        \r\n",
        "        epoch_loss += loss.item()\r\n",
        "        epoch_acc += acc.item()\r\n",
        "    return epoch_loss / len(iterator), epoch_acc / len(iterator)\r\n",
        "\r\n",
        "\r\n",
        "def evaluate(model, iterator, criterion):\r\n",
        "    epoch_loss = 0\r\n",
        "    epoch_acc = 0\r\n",
        "    model.eval()\r\n",
        "    \r\n",
        "    with torch.no_grad():\r\n",
        "        for batch in iterator:\r\n",
        "            text, text_lengths = batch.text\r\n",
        "\r\n",
        "            predictions = model(text, text_lengths).squeeze(1)\r\n",
        "            loss = criterion(predictions, batch.label)\r\n",
        "            acc = binary_accuracy(predictions, batch.label)\r\n",
        "\r\n",
        "            epoch_loss += loss.item()\r\n",
        "            epoch_acc += acc.item()\r\n",
        "    return epoch_loss / len(iterator), epoch_acc / len(iterator)\r\n",
        "\r\n",
        "\r\n",
        "def epoch_time(start_time, end_time):\r\n",
        "    elapsed_time = end_time - start_time\r\n",
        "    elapsed_mins = int(elapsed_time / 60)\r\n",
        "    elapsed_secs = int(elapsed_time - (elapsed_mins * 60))\r\n",
        "    return elapsed_mins, elapsed_secs"
      ],
      "execution_count": 10,
      "outputs": []
    },
    {
      "cell_type": "code",
      "metadata": {
        "id": "TQSg5axSeXe9",
        "colab": {
          "base_uri": "https://localhost:8080/"
        },
        "outputId": "7130a4d3-08fa-4dc1-fd00-ebe6ae739a7a"
      },
      "source": [
        "%%time\r\n",
        "\r\n",
        "# generate optimizer & loss function\r\n",
        "optimizer = optim.Adam(model.parameters())\r\n",
        "criterion = nn.BCEWithLogitsLoss().to(device)\r\n",
        "\r\n",
        "# train model\r\n",
        "N_EPOCHS = 5\r\n",
        "best_valid_loss = float('inf')\r\n",
        "outfile_dir = 'tut2-model.pt'\r\n",
        "for epoch in range(N_EPOCHS):\r\n",
        "    start_time = time.time()\r\n",
        "    \r\n",
        "    train_loss, train_acc = train(model, train_iterator, optimizer, criterion)\r\n",
        "    valid_loss, valid_acc = evaluate(model, valid_iterator, criterion)\r\n",
        "    \r\n",
        "    end_time = time.time()\r\n",
        "\r\n",
        "    # save the model state only when improved\r\n",
        "    if valid_loss < best_valid_loss:\r\n",
        "        best_valid_loss = valid_loss\r\n",
        "        torch.save(model.state_dict(), outfile_dir)\r\n",
        "\r\n",
        "    epoch_mins, epoch_secs = epoch_time(start_time, end_time)    \r\n",
        "    print(f'Epoch: {epoch+1:02} | Epoch Time: {epoch_mins}m {epoch_secs}s')\r\n",
        "    print(f'\\tTrain Loss: {train_loss:.3f} | Train Acc: {train_acc*100:.2f}%')\r\n",
        "    print(f'\\t Val. Loss: {valid_loss:.3f} |  Val. Acc: {valid_acc*100:.2f}%')"
      ],
      "execution_count": 11,
      "outputs": [
        {
          "output_type": "stream",
          "text": [
            "\r100%|█████████▉| 398370/400000 [00:29<00:00, 24351.30it/s]"
          ],
          "name": "stderr"
        },
        {
          "output_type": "stream",
          "text": [
            "Epoch: 01 | Epoch Time: 0m 37s\n",
            "\tTrain Loss: 0.677 | Train Acc: 57.95%\n",
            "\t Val. Loss: 0.675 |  Val. Acc: 63.11%\n",
            "Epoch: 02 | Epoch Time: 0m 39s\n",
            "\tTrain Loss: 0.661 | Train Acc: 60.31%\n",
            "\t Val. Loss: 0.615 |  Val. Acc: 66.65%\n",
            "Epoch: 03 | Epoch Time: 0m 40s\n",
            "\tTrain Loss: 0.576 | Train Acc: 69.97%\n",
            "\t Val. Loss: 0.421 |  Val. Acc: 81.67%\n",
            "Epoch: 04 | Epoch Time: 0m 40s\n",
            "\tTrain Loss: 0.501 | Train Acc: 75.59%\n",
            "\t Val. Loss: 0.378 |  Val. Acc: 85.02%\n",
            "Epoch: 05 | Epoch Time: 0m 40s\n",
            "\tTrain Loss: 0.386 | Train Acc: 83.05%\n",
            "\t Val. Loss: 0.325 |  Val. Acc: 86.42%\n",
            "CPU times: user 2min 21s, sys: 56.5 s, total: 3min 17s\n",
            "Wall time: 3min 18s\n"
          ],
          "name": "stdout"
        }
      ]
    },
    {
      "cell_type": "markdown",
      "metadata": {
        "id": "1n0bWBPse4YT"
      },
      "source": [
        "## Load and Test saved model"
      ]
    },
    {
      "cell_type": "code",
      "metadata": {
        "id": "1o1NvT8Ue2gh",
        "colab": {
          "base_uri": "https://localhost:8080/"
        },
        "outputId": "9444144c-6cd2-48f9-dadd-d2712aa5c002"
      },
      "source": [
        "%%time\r\n",
        "\r\n",
        "model.load_state_dict(torch.load(outfile_dir))\r\n",
        "test_loss, test_acc = evaluate(model, test_iterator, criterion)\r\n",
        "print(f'>>> Test Loss: {test_loss:.3f} | Test Acc: {test_acc*100:.2f}%')"
      ],
      "execution_count": 12,
      "outputs": [
        {
          "output_type": "stream",
          "text": [
            ">>> Test Loss: 0.321 | Test Acc: 86.50%\n",
            "CPU times: user 11.7 s, sys: 3.18 s, total: 14.9 s\n",
            "Wall time: 14.9 s\n"
          ],
          "name": "stdout"
        }
      ]
    },
    {
      "cell_type": "markdown",
      "metadata": {
        "id": "BQrgMHKSKguV"
      },
      "source": [
        "## Predict New Sentences"
      ]
    },
    {
      "cell_type": "code",
      "metadata": {
        "colab": {
          "base_uri": "https://localhost:8080/"
        },
        "id": "sqzdwVSqNPSz",
        "outputId": "74d4519e-a226-47e9-d7e3-459f6ed2d586"
      },
      "source": [
        "%%time\r\n",
        "nlp = spacy.load('en_core_web_sm')\r\n",
        "\r\n",
        "def predict_sentiment(model, text):\r\n",
        "  model.eval()\r\n",
        "  tokenized = [tok.text for tok in nlp.tokenizer(text)]\r\n",
        "  indexed = [TEXT.vocab.stoi[tok] for tok in tokenized]\r\n",
        "  length = [len(indexed)]\r\n",
        "  \r\n",
        "  tensor = torch.LongTensor(indexed).to(device)\r\n",
        "  tensor = tensor.unsqueeze(1)\r\n",
        "  length_tensor = torch.LongTensor(length)\r\n",
        "\r\n",
        "  prediction = torch.sigmoid(model(tensor, length_tensor))\r\n",
        "  return prediction.item()\r\n",
        "\r\n",
        "\r\n",
        "for sentence in [\"I'm not so surprised by the movie\", \"I'm not surprised by the movie\",\r\n",
        "                 \"I'm so surprised by this thing\", \"I'm not so surprised by this thing\", \"I'm not surprised by this thing\",\r\n",
        "                 \"This film is terrible\", \"This film is great\"]:\r\n",
        "  prob = predict_sentiment(model, sentence)\r\n",
        "  print(f'>>> {sentence} : {prob:.4f}')"
      ],
      "execution_count": 13,
      "outputs": [
        {
          "output_type": "stream",
          "text": [
            ">>> I'm not so surprised by the movie : 0.4833\n",
            ">>> I'm not surprised by the movie : 0.4951\n",
            ">>> I'm so surprised by this thing : 0.3426\n",
            ">>> I'm not so surprised by this thing : 0.2042\n",
            ">>> I'm not surprised by this thing : 0.2071\n",
            ">>> This film is terrible : 0.0133\n",
            ">>> This film is great : 0.9896\n",
            "CPU times: user 770 ms, sys: 61.7 ms, total: 832 ms\n",
            "Wall time: 1.09 s\n"
          ],
          "name": "stdout"
        }
      ]
    }
  ]
}