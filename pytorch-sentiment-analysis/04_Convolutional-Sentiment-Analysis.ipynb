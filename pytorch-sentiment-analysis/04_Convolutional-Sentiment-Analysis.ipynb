{
  "nbformat": 4,
  "nbformat_minor": 0,
  "metadata": {
    "colab": {
      "name": "04_Convolutional-Sentiment-Analysis",
      "provenance": [],
      "collapsed_sections": []
    },
    "kernelspec": {
      "name": "python3",
      "display_name": "Python 3"
    }
  },
  "cells": [
    {
      "cell_type": "code",
      "metadata": {
        "colab": {
          "base_uri": "https://localhost:8080/"
        },
        "id": "ClGpy3rvL1_5",
        "outputId": "1cdd3488-47f4-4877-b752-91b32704d703"
      },
      "source": [
        "import torch\r\n",
        "import torch.nn as nn\r\n",
        "import torch.nn.functional as F\r\n",
        "import torch.optim as optim\r\n",
        "\r\n",
        "import torchtext\r\n",
        "from torchtext.legacy import data, datasets\r\n",
        "\r\n",
        "import random\r\n",
        "import numpy as np\r\n",
        "import time\r\n",
        "import spacy\r\n",
        "\r\n",
        "\r\n",
        "torch.__version__, torchtext.__version__, spacy.__version__, np.__version__"
      ],
      "execution_count": 1,
      "outputs": [
        {
          "output_type": "execute_result",
          "data": {
            "text/plain": [
              "('1.8.0+cu101', '0.9.0', '2.2.4', '1.19.5')"
            ]
          },
          "metadata": {
            "tags": []
          },
          "execution_count": 1
        }
      ]
    },
    {
      "cell_type": "markdown",
      "metadata": {
        "id": "I39JKY87WzB9"
      },
      "source": [
        "## Preparing Data"
      ]
    },
    {
      "cell_type": "code",
      "metadata": {
        "colab": {
          "base_uri": "https://localhost:8080/"
        },
        "id": "0xmBt5IAbCKq",
        "outputId": "5b0d0f51-6f8e-4a33-b8f5-295f7c49e804"
      },
      "source": [
        "%%time\r\n",
        "\r\n",
        "# set random seed for reproducibility\r\n",
        "SEED = 1234\r\n",
        "random.seed(SEED)\r\n",
        "np.random.seed(SEED)\r\n",
        "torch.manual_seed(SEED)\r\n",
        "torch.backends.cudnn.deterministic = True\r\n",
        "\r\n",
        "# download and split dataset (train, valid, test)\r\n",
        "TEXT = data.Field(\r\n",
        "    tokenize='spacy', tokenizer_language='en_core_web_sm', batch_first=True\r\n",
        ")\r\n",
        "LABEL = data.LabelField(dtype=torch.float)\r\n",
        "\r\n",
        "train_data, test_data = datasets.IMDB.splits(TEXT, LABEL)\r\n",
        "train_data, valid_data = train_data.split(random_state=random.seed(SEED))"
      ],
      "execution_count": 2,
      "outputs": [
        {
          "output_type": "stream",
          "text": [
            "\raclImdb_v1.tar.gz:   0%|          | 0.00/84.1M [00:00<?, ?B/s]"
          ],
          "name": "stderr"
        },
        {
          "output_type": "stream",
          "text": [
            "downloading aclImdb_v1.tar.gz\n"
          ],
          "name": "stdout"
        },
        {
          "output_type": "stream",
          "text": [
            "aclImdb_v1.tar.gz: 100%|██████████| 84.1M/84.1M [00:06<00:00, 13.5MB/s]\n"
          ],
          "name": "stderr"
        },
        {
          "output_type": "stream",
          "text": [
            "CPU times: user 1min 47s, sys: 11.3 s, total: 1min 59s\n",
            "Wall time: 2min 5s\n"
          ],
          "name": "stdout"
        }
      ]
    },
    {
      "cell_type": "code",
      "metadata": {
        "colab": {
          "base_uri": "https://localhost:8080/"
        },
        "id": "es19mu23RL4j",
        "outputId": "eeda9553-66dd-401e-e40d-6f04b21c8adc"
      },
      "source": [
        "# check the type and size of dataset\r\n",
        "print(f'>>> type : {type(train_data)}')\r\n",
        "print(f'>>> Number of training examples: {len(train_data)}')   # 17500 (35%)\r\n",
        "print(f'>>> Number of validation examples: {len(valid_data)}') # 7500  (15%)\r\n",
        "print(f'>>> Number of testing examples: {len(test_data)}')     # 25000 (50%)\r\n",
        "print()\r\n",
        "\r\n",
        "# check one sample data\r\n",
        "tmp_ex = train_data.examples[0]\r\n",
        "tmp_dict = vars(tmp_ex)\r\n",
        "print('< example data >')\r\n",
        "print('>>> type :', type(tmp_ex))\r\n",
        "for key in tmp_dict:\r\n",
        "  print(f'>>> {key} : {tmp_dict[key]}')"
      ],
      "execution_count": 3,
      "outputs": [
        {
          "output_type": "stream",
          "text": [
            ">>> type : <class 'torchtext.legacy.data.dataset.Dataset'>\n",
            ">>> Number of training examples: 17500\n",
            ">>> Number of validation examples: 7500\n",
            ">>> Number of testing examples: 25000\n",
            "\n",
            "< example data >\n",
            ">>> type : <class 'torchtext.legacy.data.example.Example'>\n",
            ">>> text : ['Before', 'I', 'begin', ',', 'you', 'need', 'to', 'know', 'that', 'I', 'am', 'a', 'huge', 'fan', 'of', 'many', 'of', 'Sonny', 'Chiba', \"'s\", 'films', '.', 'His', 'biographical', 'series', 'of', 'the', 'life', 'of', 'his', 'master', ',', 'Mas', 'Oyama', ',', 'were', 'amazing', 'and', 'among', 'the', 'best', 'martial', 'arts', 'films', 'ever', 'made', ',', 'as', 'were', 'most', 'of', 'his', 'Street', 'Fighter', 'films', '.', 'The', 'action', 'was', 'practically', 'non', '-', 'stop', 'and', 'with', 'the', 'possible', 'exception', 'of', 'Bruce', 'Lee', '(', 'depending', 'on', 'who', 'you', 'ask', ')', ',', 'he', 'was', 'the', 'greatest', 'martial', 'arts', 'practitioner', 'on', 'film', 'during', 'the', '1970s', '.', 'Because', 'they', 'are', 'so', 'good', ',', 'I', \"'ve\", 'seen', 'at', 'least', '15', 'of', 'his', 'films', 'and', 'recently', 'bought', 'some', 'more', '(', 'which', 'I', 'am', 'in', 'the', 'process', 'of', 'watching).<br', '/><br', '/>Unfortunately', ',', 'despite', 'my', 'love', 'of', 'these', 'films', ',', 'I', 'am', 'NOT', 'a', 'mind', '-', 'numbed', 'zombie', 'who', 'worships', 'the', 'man', 'to', 'such', 'a', 'degree', 'that', 'I', 'rate', 'EVERY', 'film', 'a', '10', '.', 'There', 'are', 'a', 'few', 'reviews', 'like', 'this', 'here', 'on', 'IMDb', 'and', 'I', 'truly', 'think', 'that', 'anyone', 'giving', 'this', 'film', 'a', '10', 'should', 'be', 'ignored', 'because', 'this', 'is', 'such', 'a', 'bad', 'film', 'from', 'a', 'technical', 'standpoint', 'and', 'is', \"n't\", 'even', 'close', 'to', 'the', 'being', 'Chiba', \"'s\", 'best', 'work', '.', 'A', 'score', 'of', '10', 'is', \"n't\", 'a', 'real', 'rating', '--', 'it', \"'s\", 'some', 'zombie', 'fan', 'trying', 'to', 'make', 'a', 'statement', 'about', 'Chiba', ',', 'not', 'this', 'film', '!', 'As', 'I', 'said', ',', 'technically', 'this', 'film', 'is', 'awful', '.', 'Some', 'of', 'this', 'was', 'the', 'result', 'of', 'my', 'seeing', 'the', 'American', 'dubbed', 'version', ',', 'with', 'its', 'irrelevant', 'prologue', 'and', 'bad', 'dubbing', '.', 'But', 'most', 'of', 'the', 'problem', 'would', 'still', 'exist', 'with', 'the', 'original', 'Japanese', 'print', '.', 'The', 'camera', '-', 'work', 'is', 'simply', 'atrocious', '--', 'like', 'it', 'was', 'done', 'by', 'chimps', '(', 'smart', 'chimps', ',', 'but', 'still', 'chimps', 'nonetheless', ')', '.', 'Often', ',', 'much', 'of', 'the', 'fast', 'martial', 'arts', 'action', 'is', 'missed', 'because', 'the', 'camera', 'is', 'so', 'slow', 'or', 'the', 'tops', 'of', 'the', 'actors', 'heads', 'are', 'clipped', 'off', 'due', 'to', 'the', 'shoddiness', 'of', 'production', '.', 'And', ',', 'again', 'and', 'again', ',', 'the', 'camera', 'pans', 'in', 'and', 'out', 'like', 'it', 'is', 'a', 'new', 'toy', 'being', 'used', 'by', 'an', 'idiot', 'plus', 'the', 'editing', 'is', 'beyond', 'wretched', '--', 'with', 'cuts', 'being', 'done', 'haphazardly', 'and', 'confusingly.<br', '/><br', '/>I', 'do', \"n't\", 'know', 'whether', 'the', 'musical', 'score', 'is', 'original', 'or', 'not', '--', 'but', 'it', 'was', 'also', 'very', ',', 'very', 'bad', '.', 'Sort', 'of', 'like', 'acid', 'rock', 'of', '1970', 'blended', 'poorly', 'with', 'Ennio', 'Morricone', \"'s\", '\"', 'Spaghetti', 'Western', '\"', 'music', '--', 'it', 'was', 'annoying', ',', 'distracting', 'and', 'just', 'plain', 'silly.<br', '/><br', '/>As', 'for', 'the', 'martial', 'arts', 'action', ',', 'I', 'think', 'that', 'having', 'chimps', 'do', 'the', 'choreography', 'would', 'have', 'improved', 'things', 'a', 'bit', '.', 'Instead', 'of', 'the', 'great', 'fight', 'scenes', 'you', \"'d\", 'look', 'forward', 'to', 'in', 'a', 'Chiba', 'film', ',', 'the', 'fights', 'are', 'too', 'brief', 'and', 'often', 'missed', 'by', 'the', 'camera', '!', '!', 'So', 'what', 'you', 'are', 'left', 'with', 'is', 'the', 'story', '...', 'and', 'this', 'MIGHT', 'just', 'be', 'the', 'worst', 'part', 'of', 'the', 'film', '!', 'It', \"'s\", 'supposed', 'to', 'be', 'an', 'anti', '-', 'drug', 'film', 'starring', 'Sonny', 'Chiba', 'as', '....', 'Sonny', 'Chiba', '!', 'And', 'when', 'the', 'film', 'begins', ',', 'he', 'vows', 'to', 'destroy', 'the', 'drug', 'trade', 'in', 'Japan', '.', 'But', ',', 'the', 'Mafia', '(', 'complete', 'with', 'not', 'a', 'single', 'member', 'who', 'looks', 'Italian', ',', 'but', 'who', 'are', 'ALL', 'Japanese', ')', 'vows', 'to', 'stop', 'Chiba', '.', 'And', ',', 'when', 'a', 'lady', 'comes', 'to', 'Chiba', 'with', 'promises', 'to', 'give', 'him', 'information', 'about', 'how', 'to', 'destroy', 'the', 'drug', 'trade', ',', 'he', 'agrees', 'to', 'help', 'her', 'and', 'risk', 'his', 'life', 'with', 'no', 'conditions', '--', 'even', 'though', 'she', \"'s\", 'NEVER', 'forthright', 'about', 'telling', 'him', 'what', 'she', 'knows', '!', 'In', 'fact', ',', 'later', 'it', 'turns', 'out', 'she', 'is', 'just', 'trying', 'to', 'use', 'Chiba', 'to', 'protect', 'her', 'while', 'she', 'herself', 'sells', 'a', 'huge', 'briefcase', 'full', 'of', 'cocaine', '--', 'and', 'he', 'CONTINUES', 'trying', 'to', 'protect', 'her', '!', '!', 'This', 'makes', 'no', 'sense', 'at', 'all', 'and', 'throughout', 'much', 'of', 'the', 'film', 'it', 'looks', 'as', 'if', 'they', 'just', 'shot', 'the', 'film', 'without', 'a', 'script', '--', 'such', 'as', 'when', 'they', 'went', 'into', 'the', 'bars', 'and', 'brothels', 'and', 'had', 'Chiba', 'walking', 'about', 'as', 'if', 'he', 'was', 'drunk.<br', '/><br', '/>So', 'if', 'it', 'was', 'THAT', 'bad', ',', 'why', 'still', 'does', 'it', 'merit', 'a', '3', '?', 'Well', ',', 'first', ',', 'there', 'are', 'many', 'more', 'horrid', 'marital', 'arts', 'films', '(', 'such', 'as', 'many', 'of', 'those', 'from', 'Hong', 'Kong', 'in', 'the', '1970s)--including', 'one', 'with', 'guys', 'dressed', 'up', 'in', 'gorilla', 'suits', 'doing', 'kung', 'fu', 'and', 'their', 'handlers', 'with', '3', 'foot', 'long', 'tongues', 'they', 'used', 'for', 'fighting', '(', 'now', 'THAT', \"'S\", 'bad', ')', '.', 'Second', ',', 'while', 'the', 'action', 'is', 'very', 'bad', 'compared', 'to', 'other', 'Sonny', 'Chiba', 'films', ',', 'compared', 'to', 'its', 'contemporaries', ',', 'it', \"'s\", 'not', 'that', 'bad', '.', 'Still', ',', 'you', 'could', 'easily', 'do', 'a', 'lot', 'better', 'than', 'this', 'horrid', 'little', 'film.<br', '/><br', '/>By', 'the', 'way', ',', 'if', 'you', 'are', 'wondering', 'if', 'this', 'is', 'the', 'worst', 'Sonny', 'Chiba', 'film', ',', 'it', 'certainly', 'is', 'not', '!', 'In', 'one', 'of', 'his', 'first', 'films', ',', 'INVASION', 'OF', 'THE', 'NEPTUNE', 'MEN', ',', 'Chiba', 'plays', 'a', 'leotard', '-', 'wearing', 'super', '-', 'hero', 'who', 'battles', 'pointy', '-', 'headed', 'invaders', 'from', 'the', 'planet', 'Neptune', '.', 'It', \"'s\", 'so', 'bad', 'that', 'it', 'rivals', 'PLAN', '9', 'FROM', 'OUTER', 'SPACE', 'and', 'THEY', 'SAVED', 'HITLER', \"'S\", 'BRAIN', 'for', 'awfulness.<br', '/><br', '/>A', 'final', 'note', 'to', 'parents', '--', 'Like', 'most', 'of', 'Sonny', 'Chiba', \"'s\", 'films', ',', 'this', 'one', 'is', 'very', 'violent', 'and', 'has', 'its', 'share', 'of', 'boobies', '.', \"DON'T\", 'let', 'little', 'kids', 'watch', 'this', 'no', 'matter', 'how', 'much', 'they', 'beg', '!', 'Make', 'them', 'wait', 'until', 'they', 'are', 'older', 'before', 'you', 'let', 'them', 'watch', 'wretched', 'rated', '-', 'R', 'martial', 'arts', 'films', '!']\n",
            ">>> label : neg\n"
          ],
          "name": "stdout"
        }
      ]
    },
    {
      "cell_type": "code",
      "metadata": {
        "colab": {
          "base_uri": "https://localhost:8080/"
        },
        "id": "eVOnakpiP1T-",
        "outputId": "22e09830-cd95-4445-ef59-9d2adbc08295"
      },
      "source": [
        "%%time\r\n",
        "\r\n",
        "# build vocabulary\r\n",
        "MAX_VOCAB_SIZE = 25_000\r\n",
        "TEXT.build_vocab(train_data, \r\n",
        "                 max_size = MAX_VOCAB_SIZE, \r\n",
        "                 vectors = \"glove.6B.100d\", \r\n",
        "                 unk_init = torch.Tensor.normal_)\r\n",
        "LABEL.build_vocab(train_data)\r\n",
        "\r\n",
        "print('\\n')\r\n",
        "print(f\">>> Unique tokens in TEXT vocabulary: {len(TEXT.vocab)}\")\r\n",
        "print(f\">>> Unique tokens in LABEL vocabulary: {len(LABEL.vocab)}\")\r\n",
        "print(f\">>> Top 20 common tokens :{TEXT.vocab.freqs.most_common(20)}\")\r\n",
        "print()\r\n",
        "print('<itos and stoi>')\r\n",
        "print('>>> itos :', TEXT.vocab.itos[:10])\r\n",
        "print('>>> stoi :', LABEL.vocab.stoi)"
      ],
      "execution_count": 4,
      "outputs": [
        {
          "output_type": "stream",
          "text": [
            ".vector_cache/glove.6B.zip: 862MB [02:41, 5.35MB/s]                          \n",
            "100%|█████████▉| 399932/400000 [00:17<00:00, 22938.62it/s]"
          ],
          "name": "stderr"
        },
        {
          "output_type": "stream",
          "text": [
            "\n",
            "\n",
            ">>> Unique tokens in TEXT vocabulary: 25002\n",
            ">>> Unique tokens in LABEL vocabulary: 2\n",
            ">>> Top 20 common tokens :[('the', 202910), (',', 193454), ('.', 165899), ('and', 109555), ('a', 109537), ('of', 100744), ('to', 93761), ('is', 76456), ('in', 61420), ('I', 53872), ('it', 53601), ('that', 49127), ('\"', 44671), (\"'s\", 43429), ('this', 42093), ('-', 37409), ('/><br', 35947), ('was', 35042), ('as', 30577), ('with', 29995)]\n",
            "\n",
            "<itos and stoi>\n",
            ">>> itos : ['<unk>', '<pad>', 'the', ',', '.', 'and', 'a', 'of', 'to', 'is']\n",
            ">>> stoi : defaultdict(None, {'neg': 0, 'pos': 1})\n",
            "CPU times: user 40.4 s, sys: 5.26 s, total: 45.7 s\n",
            "Wall time: 3min 22s\n"
          ],
          "name": "stdout"
        }
      ]
    },
    {
      "cell_type": "code",
      "metadata": {
        "colab": {
          "base_uri": "https://localhost:8080/",
          "height": 90
        },
        "id": "vB58J1OUQZXr",
        "outputId": "2cb8015f-9580-47e6-ec6b-be33436b1e32"
      },
      "source": [
        "# create the iterators\r\n",
        "BATCH_SIZE = 64\r\n",
        "device = torch.device('cuda' if torch.cuda.is_available() else 'cpu')\r\n",
        "\r\n",
        "train_iterator, valid_iterator, test_iterator = data.BucketIterator.splits(\r\n",
        "    (train_data, valid_data, test_data), batch_size=BATCH_SIZE, device=device\r\n",
        ")\r\n",
        "\r\n",
        "display(device, type(train_iterator), len(train_iterator), len(train_data)/BATCH_SIZE)"
      ],
      "execution_count": 5,
      "outputs": [
        {
          "output_type": "display_data",
          "data": {
            "text/plain": [
              "device(type='cpu')"
            ]
          },
          "metadata": {
            "tags": []
          }
        },
        {
          "output_type": "display_data",
          "data": {
            "text/plain": [
              "torchtext.legacy.data.iterator.BucketIterator"
            ]
          },
          "metadata": {
            "tags": []
          }
        },
        {
          "output_type": "display_data",
          "data": {
            "text/plain": [
              "274"
            ]
          },
          "metadata": {
            "tags": []
          }
        },
        {
          "output_type": "display_data",
          "data": {
            "text/plain": [
              "273.4375"
            ]
          },
          "metadata": {
            "tags": []
          }
        }
      ]
    },
    {
      "cell_type": "code",
      "metadata": {
        "id": "Nr7z_sxdP1WQ"
      },
      "source": [
        ""
      ],
      "execution_count": null,
      "outputs": []
    }
  ]
}