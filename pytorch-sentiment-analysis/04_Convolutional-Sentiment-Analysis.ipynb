{
  "nbformat": 4,
  "nbformat_minor": 0,
  "metadata": {
    "colab": {
      "name": "04_Convolutional-Sentiment-Analysis",
      "provenance": [],
      "collapsed_sections": []
    },
    "kernelspec": {
      "name": "python3",
      "display_name": "Python 3"
    }
  },
  "cells": [
    {
      "cell_type": "code",
      "metadata": {
        "colab": {
          "base_uri": "https://localhost:8080/"
        },
        "id": "ClGpy3rvL1_5",
        "outputId": "d5ba9ebf-cf81-430d-9d8a-5e77c406059e"
      },
      "source": [
        "import torch\r\n",
        "import torch.nn as nn\r\n",
        "import torch.nn.functional as F\r\n",
        "import torch.optim as optim\r\n",
        "\r\n",
        "import torchtext\r\n",
        "from torchtext.legacy import data, datasets\r\n",
        "\r\n",
        "import random\r\n",
        "import numpy as np\r\n",
        "import time\r\n",
        "import spacy\r\n",
        "\r\n",
        "\r\n",
        "torch.__version__, torchtext.__version__, spacy.__version__, np.__version__"
      ],
      "execution_count": 1,
      "outputs": [
        {
          "output_type": "execute_result",
          "data": {
            "text/plain": [
              "('1.8.0+cu101', '0.9.0', '2.2.4', '1.19.5')"
            ]
          },
          "metadata": {
            "tags": []
          },
          "execution_count": 1
        }
      ]
    },
    {
      "cell_type": "markdown",
      "metadata": {
        "id": "I39JKY87WzB9"
      },
      "source": [
        "## Preparing Data"
      ]
    },
    {
      "cell_type": "code",
      "metadata": {
        "colab": {
          "base_uri": "https://localhost:8080/"
        },
        "id": "0xmBt5IAbCKq",
        "outputId": "484f15ec-a688-4d25-e384-e51cca7e629c"
      },
      "source": [
        "%%time\r\n",
        "\r\n",
        "# set random seed for reproducibility\r\n",
        "SEED = 1234\r\n",
        "random.seed(SEED)\r\n",
        "np.random.seed(SEED)\r\n",
        "torch.manual_seed(SEED)\r\n",
        "torch.backends.cudnn.deterministic = True\r\n",
        "\r\n",
        "# download and split dataset (train, valid, test)\r\n",
        "TEXT = data.Field(\r\n",
        "    tokenize='spacy', tokenizer_language='en_core_web_sm', batch_first=True\r\n",
        ")\r\n",
        "LABEL = data.LabelField(dtype=torch.float)\r\n",
        "\r\n",
        "train_data, test_data = datasets.IMDB.splits(TEXT, LABEL)\r\n",
        "train_data, valid_data = train_data.split(random_state=random.seed(SEED))"
      ],
      "execution_count": 2,
      "outputs": [
        {
          "output_type": "stream",
          "text": [
            "\raclImdb_v1.tar.gz:   0%|          | 0.00/84.1M [00:00<?, ?B/s]"
          ],
          "name": "stderr"
        },
        {
          "output_type": "stream",
          "text": [
            "downloading aclImdb_v1.tar.gz\n"
          ],
          "name": "stdout"
        },
        {
          "output_type": "stream",
          "text": [
            "aclImdb_v1.tar.gz: 100%|██████████| 84.1M/84.1M [00:04<00:00, 19.0MB/s]\n"
          ],
          "name": "stderr"
        },
        {
          "output_type": "stream",
          "text": [
            "CPU times: user 1min 26s, sys: 9.17 s, total: 1min 35s\n",
            "Wall time: 1min 40s\n"
          ],
          "name": "stdout"
        }
      ]
    },
    {
      "cell_type": "code",
      "metadata": {
        "colab": {
          "base_uri": "https://localhost:8080/"
        },
        "id": "es19mu23RL4j",
        "outputId": "964ab957-e3cb-4835-b11a-4a6aeff42ccc"
      },
      "source": [
        "# check the type and size of dataset\r\n",
        "print(f'>>> type : {type(train_data)}')\r\n",
        "print(f'>>> Number of training examples: {len(train_data)}')   # 17500 (35%)\r\n",
        "print(f'>>> Number of validation examples: {len(valid_data)}') # 7500  (15%)\r\n",
        "print(f'>>> Number of testing examples: {len(test_data)}')     # 25000 (50%)\r\n",
        "print()\r\n",
        "\r\n",
        "# check one sample data\r\n",
        "tmp_ex = train_data.examples[0]\r\n",
        "tmp_dict = vars(tmp_ex)\r\n",
        "print('< example data >')\r\n",
        "print('>>> type :', type(tmp_ex))\r\n",
        "for key in tmp_dict:\r\n",
        "  print(f'>>> {key} : {tmp_dict[key]}')"
      ],
      "execution_count": 3,
      "outputs": [
        {
          "output_type": "stream",
          "text": [
            ">>> type : <class 'torchtext.legacy.data.dataset.Dataset'>\n",
            ">>> Number of training examples: 17500\n",
            ">>> Number of validation examples: 7500\n",
            ">>> Number of testing examples: 25000\n",
            "\n",
            "< example data >\n",
            ">>> type : <class 'torchtext.legacy.data.example.Example'>\n",
            ">>> text : ['[', 'CONTAINS', 'SPOILERS!!!]<br', '/><br', '/', '>', 'Timon', 'and', 'Pumbaa', 'are', 'watching', 'The', 'Lion', 'King', '.', 'Timon', 'decides', 'to', 'go', 'back', 'BEFORE', 'the', 'beginning', ',', 'to', 'when', 'the', 'story', 'really', 'began', '.', 'So', 'they', 'go', 'back', '.', 'Way', 'back', '.', 'Back', 'even', 'before', 'Simba', 'was', 'born', '.', 'Back', 'to', 'Timon', \"'s\", 'old', 'home', 'which', 'was', 'miles', 'away', 'from', 'Pride', 'Rock', '.', 'A', 'clan', 'of', 'meerkats', 'burrowed', 'underground', 'to', 'hide', 'from', 'hyenas', '.', 'The', 'worst', 'digger', 'in', 'the', 'clan', 'was', 'a', 'pompous', ',', 'self', '-', 'centered', 'meerkat', 'named', 'Timon', '.', 'His', 'mother', 'took', 'pity', 'on', 'him', 'but', 'Uncle', 'Max', 'just', 'shook', 'his', 'head', '.', 'Mother', 'suggested', 'putting', 'Timon', 'on', 'sentry', 'duty', ';', 'Timon', 'had', 'dreams', 'of', 'a', 'bigger', 'and', 'better', 'place', 'out', 'there', 'somewhere', '.', 'Just', 'then', ',', 'hyenas', 'Shenzi', ',', 'Bonzai', 'and', 'Ed', 'arrived', 'and', 'nearly', 'killed', 'poor', 'Uncle', 'Max', '.', 'That', 'did', 'it', '.', 'The', 'other', 'meerkats', 'just', 'wanted', 'Timon', 'to', 'go', 'away', 'while', 'Timon', 'took', 'it', 'upon', 'himself', 'to', 'leave', '.', 'So', 'he', 'kissed', 'his', 'mom', 'goodbye', 'and', 'started', 'off', '.', 'He', 'did', \"n't\", 'get', 'very', 'far', 'before', 'he', 'started', 'getting', 'homesick', '.', 'Just', 'then', 'he', 'met', 'Rafiki', ',', 'who', 'taught', 'him', 'to', 'look', 'beyond', 'what', 'he', 'sees', '.', 'Timon', 'had', 'no', 'clue', 'what', 'that', 'meant', 'so', 'he', 'continued', 'on', 'and', 'met', 'a', 'warthog', 'named', 'Pumbaa', ',', 'who', 'was', 'all', 'alone', 'due', 'to', 'a', 'flatulence', 'problem', '.', 'Timon', 'and', 'Pumbaa', 'join', 'up', 'then', ',', 'but', 'Timon', 'declared', 'them', 'acquaintances', ',', 'rather', 'than', 'friends.<br', '/><br', '/', '>', 'They', 'soon', 'arrive', 'at', 'Pride', 'Rock', 'where', 'all', 'the', 'zebras', ',', 'antelopes', ',', 'wildebeests', ',', 'rhinoceroses', ',', 'giraffe', \"'s\", ',', 'elephants', 'and', 'many', 'other', 'plain', 'animals', 'had', 'gathered', '.', 'What', 'was', 'going', 'on', '?', 'Timon', 'did', \"n't\", 'care', '.', 'They', 'pressed', 'on', '.', 'Timon', 'then', 'saw', 'Rafiki', 'atop', 'Pride', 'Rock', 'lifting', 'into', 'the', 'air', 'something', 'he', 'could', \"n't\", 'see', '.', 'Just', 'then', 'all', 'the', 'animals', 'took', 'a', 'bow', '.', 'Was', 'this', 'to', 'honor', 'the', 'birth', 'of', 'the', 'new', 'king', '?', 'No', ',', 'Pumbaa', 'had', 'passed', 'gas', 'and', 'the', 'animals', 'were', 'bowing', 'to', 'cover', 'their', 'noses', ';', 'Timon', 'and', 'Pumbaa', 'try', 'an', 'assortment', 'of', 'new', 'homes', ',', 'but', 'each', 'are', 'discomforting', 'due', 'to', 'incessant', 'singing', 'or', 'hyenas', 'or', 'a', 'large', 'stampede', 'of', 'wildebeests', '!', 'Pumbaa', 'and', 'Timon', 'suddenly', 'find', 'themselves', 'heading', 'down', 'stream', '.', 'When', 'they', 'reach', 'land', ',', 'Timon', 'decides', 'to', 'give', 'up', '.', 'But', 'then', 'they', 'gaze', 'around', 'at', 'their', 'newfound', 'paradise', '.', 'It', 'was', 'beautiful', ':', 'trees', 'and', 'water', 'falls', 'as', 'far', 'as', 'the', 'eye', 'could', 'see', '.', 'Timon', 'named', 'the', 'place', 'after', 'a', 'strange', 'phrase', 'he', 'learned', 'from', 'Rafiki', ':', 'Hakuna', 'Matata', '.', 'Timon', 'and', 'Pumbaa', 'go', 'out', 'bowling', 'for', 'buzzards', 'one', 'afternoon', 'when', 'they', 'suddenly', 'run', 'into', 'Simba', '.', 'They', 'take', 'him', 'under', 'their', 'wing', 'and', 'become', 'father', 'figures', '.', 'They', 'teach', 'him', 'the', 'arts', 'of', 'bug', 'eating', 'and', 'belching', 'contests', '.', 'Pretty', 'soon', ',', 'a', 'teenage', 'Simba', 'takes', 'on', 'Timon', 'in', 'a', 'snail', 'slurping', 'contest', '.', 'Simba', 'won', ',', 'leaving', 'Timon', 'deathly', 'ill.<br', '/><br', '/', '>', 'Then', 'one', 'day', ',', 'Simba', \"'s\", 'childhood', 'friend', 'Nala', 'arrived', '.', 'Timon', 'and', 'Pumbaa', 'just', 'knew', 'she', \"'d\", 'break', 'up', 'the', 'friendship', '.', 'Suddenly', ',', 'Simba', 'runs', 'away', '.', 'Nala', 'and', 'Pumbaa', 'race', 'after', 'him', ',', 'but', 'not', 'Timon', '.', 'He', 'chose', 'to', 'stay', 'at', '\"', 'Hakuna', 'Matata', '\"', 'by', 'himself', ',', 'until', 'Rafiki', '\"', 'talked', '\"', 'some', 'sense', 'into', 'him', ',', 'so', 'he', 'joins', 'his', 'friends', 'at', 'Pride', 'Rock', '.', 'Timon', \"'s\", 'mother', 'and', 'Uncle', 'Max', 'arrive', 'then', '.', 'While', 'Simba', 'battles', 'Scar', ',', 'Mother', 'and', 'Max', 'dig', 'a', 'large', 'hole', 'to', 'trap', 'hyenas', 'Shenzi', ',', 'Bonzai', 'and', 'Ed', 'in', '.', 'It', 'worked', '.', 'Scar', 'is', 'soon', 'flung', 'down', 'the', 'same', 'hole', 'where', 'he', 'is', 'devoured', 'by', 'the', 'hyenas', '.', 'Then', 'all', 'is', 'well', '.', 'Mother', ',', 'Uncle', 'Max', 'and', 'the', 'rest', 'of', 'the', 'meerkats', 'go', 'live', 'with', 'Timon', 'and', 'Pumbaa', 'in', 'the', 'paradise', 'that', 'is', 'Hakuna', 'Matata', '.', 'Back', 'to', 'the', 'present', ',', 'Timon', 'and', 'Pumbaa', 'finish', 'the', 'movie', 'when', 'suddenly', 'Mother', ',', 'Uncle', 'Max', ',', 'Simba', 'and', 'Rafiki', 'want', 'to', 'watch', 'it', 'again', '.', 'So', 'do', 'Mickey', 'Mouse', ',', 'Donald', 'Duck', ',', 'Goofy', ',', 'Snow', 'White', ',', 'the', 'Seven', 'Dwarfs', ',', 'Dumbo', ',', 'Peter', 'Pan', ',', 'the', 'Lost', 'Boys', ',', 'Mad', 'Hatter', ',', 'March', 'Hare', ',', 'Genie', ',', 'Aladdin', ',', 'and', 'Jasmine.<br', '/><br', '/', '>', 'Well', ',', 'I', 'must', 'say', 'that', 'The', 'Lion', 'King', '1', '1/2', 'was', \"n't\", 'as', 'good', 'as', 'I', 'had', 'hoped', '.', 'It', 'was', 'too', 'ridiculous', 'and', 'silly', '.', 'The', 'original', 'Lion', 'King', 'was', 'a', 'masterpiece', '.', 'It', 'had', 'a', 'serious', 'story', 'with', 'light', 'comedy', 'thrown', 'in', '.', 'This', 'one', 'was', 'just', 'silly', 'and', 'made', 'a', 'mockery', 'of', 'it', '.', 'I', 'swear', ',', 'sometimes', 'Timon', 'and', 'Pumbaa', 'are', 'just', 'way', 'too', 'overplayed', '.', 'They', \"'re\", 'overplayed', 'to', 'the', 'point', 'of', 'no', 'longer', 'being', 'funny', ',', 'just', 'annoying', '.', 'The', 'original', 'voice', 'cast', 'is', 'back', ':', 'Nathan', 'Lane', 'as', 'Timon', ',', 'Ernie', 'Sabella', 'as', 'Pumbaa', ',', 'Matthew', 'Broddrick', 'as', 'Adult', 'Simba', ',', 'Whoopi', 'Goldberg', 'as', 'Shenzi', ',', 'Cheech', 'Marin', 'as', 'Bonzai', ',', 'Jim', 'Cummings', 'as', 'Ed', ',', 'Robert', 'Guillame', 'as', 'Rafiki', '.', 'New', 'to', 'the', 'cast', 'are', 'Julie', 'Kavner', 'of', 'TV', \"'s\", '(', 'Too', ')', 'long', 'running', 'series', 'The', 'Simpsons', 'as', 'Timon', \"'s\", 'mom', 'and', 'Jerry', 'Stiller', 'as', 'Uncle', 'Max', '.', 'So', 'anyway', ',', 'this', 'movie', 'is', \"n't\", 'The', 'Lion', 'King', 'III', ',', 'and', 'it', 'is', \"n't\", 'II', 'because', 'there', 'already', 'is', 'a', 'II', '.', 'It', 'takes', 'place', 'right', 'after', 'Part', 'I', 'and', 'Part', 'II', 'is', 'a', 'ways', 'away', '.', 'Hence', ',', 'it', \"'s\", '1', '1/2', '.', 'In', 'conclusion', ',', 'I', 'do', \"n't\", 'recommend', 'this', 'to', 'die', 'hard', 'Lion', 'King', 'fans', 'because', 'it', \"'s\", 'far', 'too', 'ridiculous', 'and', 'frivilous', '.', 'However', 'the', 'kids', 'will', 'love', 'it', 'so', 'I', 'recommend', 'it', 'to', 'them', '.', 'I', 'hope', 'this', 'will', 'also', 'be', 'the', 'LAST', 'Lion', 'King', 'movie', '.', 'Two', 'is', 'enough', '.', '\"', 'The', 'Lion', 'King', '1', '1/2', '\"', '.', 'What', 'we', \"'ve\", 'come', 'to', 'expect', 'from', 'Disney', 'sequel', 'makers.<br', '/><br', '/>-']\n",
            ">>> label : neg\n"
          ],
          "name": "stdout"
        }
      ]
    }
  ]
}