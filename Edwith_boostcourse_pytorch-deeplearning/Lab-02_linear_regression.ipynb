{
  "nbformat": 4,
  "nbformat_minor": 0,
  "metadata": {
    "colab": {
      "name": "Lab-02_linear_regression",
      "provenance": [],
      "collapsed_sections": []
    },
    "kernelspec": {
      "name": "python3",
      "display_name": "Python 3"
    }
  },
  "cells": [
    {
      "cell_type": "code",
      "metadata": {
        "colab": {
          "base_uri": "https://localhost:8080/",
          "height": 35
        },
        "id": "_E-LwOBwpoTW",
        "outputId": "e2d30bf7-d984-44fd-f606-903f79172e2c"
      },
      "source": [
        "import torch\r\n",
        "import torch.nn as nn\r\n",
        "import torch.nn.functional as F\r\n",
        "import torch.optim as optim\r\n",
        "\r\n",
        "torch.__version__"
      ],
      "execution_count": 1,
      "outputs": [
        {
          "output_type": "execute_result",
          "data": {
            "application/vnd.google.colaboratory.intrinsic+json": {
              "type": "string"
            },
            "text/plain": [
              "'1.7.0+cu101'"
            ]
          },
          "metadata": {
            "tags": []
          },
          "execution_count": 1
        }
      ]
    },
    {
      "cell_type": "code",
      "metadata": {
        "colab": {
          "base_uri": "https://localhost:8080/"
        },
        "id": "KKdZOFOQTJDb",
        "outputId": "15c31377-1be4-4d73-c6b7-41d5f9b37d3b"
      },
      "source": [
        "# For reproducibility\r\n",
        "torch.manual_seed(1)"
      ],
      "execution_count": 2,
      "outputs": [
        {
          "output_type": "execute_result",
          "data": {
            "text/plain": [
              "<torch._C.Generator at 0x7f1a45750b58>"
            ]
          },
          "metadata": {
            "tags": []
          },
          "execution_count": 2
        }
      ]
    },
    {
      "cell_type": "markdown",
      "metadata": {
        "id": "8_eWQm1oUrj0"
      },
      "source": [
        "## Initialize variables"
      ]
    },
    {
      "cell_type": "code",
      "metadata": {
        "colab": {
          "base_uri": "https://localhost:8080/"
        },
        "id": "-ts_ptHbTJvD",
        "outputId": "2018e5a1-adc0-4a6e-b0df-ebd75c4f38b5"
      },
      "source": [
        "# Data\r\n",
        "x_train = torch.FloatTensor([[1], [2], [3]])\r\n",
        "y_train = torch.FloatTensor([[3], [5], [7]])\r\n",
        "print(x_train.shape)\r\n",
        "print(x_train)\r\n",
        "print()\r\n",
        "\r\n",
        "\r\n",
        "# Weights\r\n",
        "W = torch.zeros(1, requires_grad=True)\r\n",
        "b = torch.zeros(1, requires_grad=True)\r\n",
        "print(W)"
      ],
      "execution_count": 3,
      "outputs": [
        {
          "output_type": "stream",
          "text": [
            "torch.Size([3, 1])\n",
            "tensor([[1.],\n",
            "        [2.],\n",
            "        [3.]])\n",
            "\n",
            "tensor([0.], requires_grad=True)\n"
          ],
          "name": "stdout"
        }
      ]
    },
    {
      "cell_type": "markdown",
      "metadata": {
        "id": "xBlLRDZAUu-m"
      },
      "source": [
        "## Train model"
      ]
    },
    {
      "cell_type": "code",
      "metadata": {
        "colab": {
          "base_uri": "https://localhost:8080/"
        },
        "id": "cs3qoPd4UyD7",
        "outputId": "74f43582-1afc-4311-c9b9-71c8d12abc06"
      },
      "source": [
        "optimizer = optim.SGD([W, b], lr=0.01)\r\n",
        "\r\n",
        "n_epochs = 1000\r\n",
        "for epoch in range(n_epochs + 1):\r\n",
        "  hypothesis = x_train * W + b\r\n",
        "  cost = torch.mean( (hypothesis - y_train)**2 )\r\n",
        "  \r\n",
        "  optimizer.zero_grad()  # gradient 초기화\r\n",
        "  cost.backward()        # gradient 계산\r\n",
        "  optimizer.step()       # param 업데이트\r\n",
        "\r\n",
        "  if epoch % 100 == 0:\r\n",
        "    print(f'epoch : {epoch:5}  |  cost : {cost.item():10.6f}  |  W : {W.item():.3f}  |  b : {b.item():.3f}')"
      ],
      "execution_count": 4,
      "outputs": [
        {
          "output_type": "stream",
          "text": [
            "epoch :     0  |  cost :  27.666666  |  W : 0.227  |  b : 0.100\n",
            "epoch :   100  |  cost :   0.000899  |  W : 2.035  |  b : 0.921\n",
            "epoch :   200  |  cost :   0.000556  |  W : 2.027  |  b : 0.938\n",
            "epoch :   300  |  cost :   0.000343  |  W : 2.021  |  b : 0.951\n",
            "epoch :   400  |  cost :   0.000212  |  W : 2.017  |  b : 0.962\n",
            "epoch :   500  |  cost :   0.000131  |  W : 2.013  |  b : 0.970\n",
            "epoch :   600  |  cost :   0.000081  |  W : 2.010  |  b : 0.976\n",
            "epoch :   700  |  cost :   0.000050  |  W : 2.008  |  b : 0.981\n",
            "epoch :   800  |  cost :   0.000031  |  W : 2.006  |  b : 0.985\n",
            "epoch :   900  |  cost :   0.000019  |  W : 2.005  |  b : 0.988\n",
            "epoch :  1000  |  cost :   0.000012  |  W : 2.004  |  b : 0.991\n"
          ],
          "name": "stdout"
        }
      ]
    },
    {
      "cell_type": "markdown",
      "metadata": {
        "id": "YAJpoY37Yfl3"
      },
      "source": [
        "## High-level Implementation with `nn.Module`\r\n",
        "- 기본적으로 PyTorch의 모든 모델은 제공되는 nn.Module을 inherit 해서 생성"
      ]
    },
    {
      "cell_type": "code",
      "metadata": {
        "id": "gyg3qKfGYkDC"
      },
      "source": [
        "class LinearRegressionModel(nn.Module):\r\n",
        "  def __init__(self):\r\n",
        "    super().__init__()\r\n",
        "    self.linear = nn.Linear(1, 1)\r\n",
        "  \r\n",
        "  def forward(self, x):  # 모델이 어떻게 입력값에서 출력값을 계산하는지 알려줍니다\r\n",
        "    return self.linear(x)"
      ],
      "execution_count": 5,
      "outputs": []
    },
    {
      "cell_type": "code",
      "metadata": {
        "colab": {
          "base_uri": "https://localhost:8080/"
        },
        "id": "owk_aCigZXdp",
        "outputId": "aca36889-78f8-4e4e-9e23-a66e5a9ccc1a"
      },
      "source": [
        "# Generate model instance and predict y\r\n",
        "model = LinearRegressionModel()\r\n",
        "print(model)\r\n",
        "print('>>> params :', [i.item() for i in model.parameters()])\r\n",
        "print()\r\n",
        "\r\n",
        "hypothesis = model(x_train)  # model.forward(x_train)\r\n",
        "print(hypothesis)"
      ],
      "execution_count": 6,
      "outputs": [
        {
          "output_type": "stream",
          "text": [
            "LinearRegressionModel(\n",
            "  (linear): Linear(in_features=1, out_features=1, bias=True)\n",
            ")\n",
            ">>> params : [0.5152631998062134, -0.44137823581695557]\n",
            "\n",
            "tensor([[0.0739],\n",
            "        [0.5891],\n",
            "        [1.1044]], grad_fn=<AddmmBackward>)\n"
          ],
          "name": "stdout"
        }
      ]
    },
    {
      "cell_type": "code",
      "metadata": {
        "colab": {
          "base_uri": "https://localhost:8080/"
        },
        "id": "GhvxYjPKZlrP",
        "outputId": "b1ae19f0-6a32-47bc-d2dd-2d3b14a3ed7e"
      },
      "source": [
        "# Train model\r\n",
        "model = LinearRegressionModel()\r\n",
        "optimizer = optim.SGD(model.parameters(), lr=0.01)\r\n",
        "\r\n",
        "n_epochs = 1000\r\n",
        "for epoch in range(n_epochs + 1):\r\n",
        "  hypothesis = model(x_train)\r\n",
        "  cost = F.mse_loss(hypothesis, y_train)\r\n",
        "  \r\n",
        "  optimizer.zero_grad()  # gradient 초기화\r\n",
        "  cost.backward()        # gradient 계산\r\n",
        "  optimizer.step()       # param 업데이트\r\n",
        "\r\n",
        "  if epoch % 100 == 0:\r\n",
        "    W, b = [i.item() for i in model.parameters()]\r\n",
        "    print(f'epoch : {epoch:5}  |  cost : {cost.item():10.6f}  |  W : {W:7.3f}  |  b : {b:7.3f}')"
      ],
      "execution_count": 7,
      "outputs": [
        {
          "output_type": "stream",
          "text": [
            "epoch :     0  |  cost :  27.398893  |  W :   0.032  |  b :   0.568\n",
            "epoch :   100  |  cost :   0.011746  |  W :   1.874  |  b :   1.285\n",
            "epoch :   200  |  cost :   0.007258  |  W :   1.901  |  b :   1.224\n",
            "epoch :   300  |  cost :   0.004485  |  W :   1.922  |  b :   1.176\n",
            "epoch :   400  |  cost :   0.002772  |  W :   1.939  |  b :   1.139\n",
            "epoch :   500  |  cost :   0.001713  |  W :   1.952  |  b :   1.109\n",
            "epoch :   600  |  cost :   0.001058  |  W :   1.962  |  b :   1.086\n",
            "epoch :   700  |  cost :   0.000654  |  W :   1.970  |  b :   1.067\n",
            "epoch :   800  |  cost :   0.000404  |  W :   1.977  |  b :   1.053\n",
            "epoch :   900  |  cost :   0.000250  |  W :   1.982  |  b :   1.042\n",
            "epoch :  1000  |  cost :   0.000154  |  W :   1.986  |  b :   1.033\n"
          ],
          "name": "stdout"
        }
      ]
    }
  ]
}