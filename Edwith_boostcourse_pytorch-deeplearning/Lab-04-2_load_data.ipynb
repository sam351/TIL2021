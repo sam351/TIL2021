{
  "nbformat": 4,
  "nbformat_minor": 0,
  "metadata": {
    "colab": {
      "name": "Lab-04-2_load_data",
      "provenance": [],
      "collapsed_sections": []
    },
    "kernelspec": {
      "name": "python3",
      "display_name": "Python 3"
    }
  },
  "cells": [
    {
      "cell_type": "code",
      "metadata": {
        "colab": {
          "base_uri": "https://localhost:8080/",
          "height": 35
        },
        "id": "_E-LwOBwpoTW",
        "outputId": "d2019759-a18e-4f2d-bd06-fbf7fb66d7a4"
      },
      "source": [
        "import torch\r\n",
        "import torch.nn as nn\r\n",
        "import torch.nn.functional as F\r\n",
        "import torch.optim as optim\r\n",
        "from torch.utils.data import Dataset, DataLoader\r\n",
        "\r\n",
        "torch.__version__"
      ],
      "execution_count": 1,
      "outputs": [
        {
          "output_type": "execute_result",
          "data": {
            "application/vnd.google.colaboratory.intrinsic+json": {
              "type": "string"
            },
            "text/plain": [
              "'1.7.0+cu101'"
            ]
          },
          "metadata": {
            "tags": []
          },
          "execution_count": 1
        }
      ]
    },
    {
      "cell_type": "code",
      "metadata": {
        "colab": {
          "base_uri": "https://localhost:8080/"
        },
        "id": "KKdZOFOQTJDb",
        "outputId": "fb44e606-1090-4014-ff7b-fb749bec31fb"
      },
      "source": [
        "# For reproducibility\r\n",
        "torch.manual_seed(1)"
      ],
      "execution_count": 2,
      "outputs": [
        {
          "output_type": "execute_result",
          "data": {
            "text/plain": [
              "<torch._C.Generator at 0x7f5ea407eb58>"
            ]
          },
          "metadata": {
            "tags": []
          },
          "execution_count": 2
        }
      ]
    },
    {
      "cell_type": "markdown",
      "metadata": {
        "id": "8_eWQm1oUrj0"
      },
      "source": [
        "## Pytorch Dataset"
      ]
    },
    {
      "cell_type": "code",
      "metadata": {
        "id": "Wj6bGv61RJgx"
      },
      "source": [
        "class CustomDataset(Dataset):\r\n",
        "  def __init__(self):\r\n",
        "    self.x_data = [[73, 80, 75],\r\n",
        "                   [93, 88, 93],\r\n",
        "                   [89, 91, 90],\r\n",
        "                   [96, 98, 100],\r\n",
        "                   [73, 66, 70]]\r\n",
        "    self.y_data = [[152], [185], [180], [196], [142]]\r\n",
        "  \r\n",
        "  def __len__(self):\r\n",
        "    return len(self.x_data)\r\n",
        "  \r\n",
        "  def __getitem__(self, idx):\r\n",
        "    x = torch.FloatTensor(self.x_data[idx])\r\n",
        "    y = torch.FloatTensor(self.y_data[idx])\r\n",
        "    return x, y"
      ],
      "execution_count": 3,
      "outputs": []
    },
    {
      "cell_type": "code",
      "metadata": {
        "colab": {
          "base_uri": "https://localhost:8080/"
        },
        "id": "UjZAA9IGSVmB",
        "outputId": "150329ad-1abc-45c3-b7df-58e1be3c3dda"
      },
      "source": [
        "dataset = CustomDataset()\r\n",
        "print(dataset)\r\n",
        "\r\n",
        "dataloader = DataLoader(\r\n",
        "    dataset,       # data\r\n",
        "    batch_size=2,  # 각 minibatch 크기 (보통 2의 제곱수)s\r\n",
        "    shuffle=True   # epoch마다 데이터 shuffle\r\n",
        ")\r\n",
        "print(dataloader)"
      ],
      "execution_count": 4,
      "outputs": [
        {
          "output_type": "stream",
          "text": [
            "<__main__.CustomDataset object at 0x7f5e56018d68>\n",
            "<torch.utils.data.dataloader.DataLoader object at 0x7f5e56018da0>\n"
          ],
          "name": "stdout"
        }
      ]
    },
    {
      "cell_type": "markdown",
      "metadata": {
        "id": "9gBOGjVlS7FN"
      },
      "source": [
        "## Train model with Data Loader"
      ]
    },
    {
      "cell_type": "code",
      "metadata": {
        "id": "2kihJhwWTdrZ"
      },
      "source": [
        "class MultivariateLinearRegressionModel(nn.Module):\r\n",
        "  def __init__(self):\r\n",
        "    super().__init__()\r\n",
        "    self.linear = nn.Linear(3, 1)\r\n",
        "\r\n",
        "  def forward(self, x):\r\n",
        "    return self.linear(x)"
      ],
      "execution_count": 5,
      "outputs": []
    },
    {
      "cell_type": "code",
      "metadata": {
        "colab": {
          "base_uri": "https://localhost:8080/"
        },
        "id": "yAdk67P7SeTj",
        "outputId": "a74f0a66-12ff-4371-e8bc-72d2998dd89e"
      },
      "source": [
        "model = MultivariateLinearRegressionModel()\r\n",
        "optimizer = optim.SGD(model.parameters(), lr=1e-5)\r\n",
        "\r\n",
        "n_epochs = 1000\r\n",
        "for epoch in range(n_epochs + 1):\r\n",
        "  for batch_idx, samples in enumerate(dataloader):\r\n",
        "    x_train, y_train = samples\r\n",
        "\r\n",
        "    hypothesis = model(x_train)\r\n",
        "    cost = F.mse_loss(hypothesis, y_train)\r\n",
        "\r\n",
        "    optimizer.zero_grad()\r\n",
        "    cost.backward()\r\n",
        "    optimizer.step()\r\n",
        "\r\n",
        "  if epoch % 100 == 0:\r\n",
        "    print(f'epoch : {epoch:5}  |  cost : {cost.item():10.6f}')"
      ],
      "execution_count": 6,
      "outputs": [
        {
          "output_type": "stream",
          "text": [
            "epoch :     0  |  cost : 5100.812988\n",
            "epoch :   100  |  cost :   1.106291\n",
            "epoch :   200  |  cost :   1.059766\n",
            "epoch :   300  |  cost :   0.954390\n",
            "epoch :   400  |  cost :   0.390415\n",
            "epoch :   500  |  cost :   0.044656\n",
            "epoch :   600  |  cost :   0.014227\n",
            "epoch :   700  |  cost :   0.850838\n",
            "epoch :   800  |  cost :   0.000002\n",
            "epoch :   900  |  cost :   0.074451\n",
            "epoch :  1000  |  cost :   0.107326\n"
          ],
          "name": "stdout"
        }
      ]
    }
  ]
}