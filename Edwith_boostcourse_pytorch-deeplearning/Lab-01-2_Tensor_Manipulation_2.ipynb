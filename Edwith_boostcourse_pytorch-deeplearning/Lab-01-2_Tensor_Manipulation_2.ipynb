{
  "nbformat": 4,
  "nbformat_minor": 0,
  "metadata": {
    "colab": {
      "name": "Lab-01-2 Tensor Manipulation 2",
      "provenance": [],
      "collapsed_sections": []
    },
    "kernelspec": {
      "name": "python3",
      "display_name": "Python 3"
    }
  },
  "cells": [
    {
      "cell_type": "markdown",
      "metadata": {
        "id": "Y3XqHWsxqYDP"
      },
      "source": [
        "## View\r\n",
        "- numpy .reshape() 메서드와 동일한 기능"
      ]
    },
    {
      "cell_type": "code",
      "metadata": {
        "colab": {
          "base_uri": "https://localhost:8080/",
          "height": 35
        },
        "id": "_E-LwOBwpoTW",
        "outputId": "7c924247-fbb5-415a-f45b-d7fea925f54c"
      },
      "source": [
        "import torch\r\n",
        "\r\n",
        "torch.__version__"
      ],
      "execution_count": 1,
      "outputs": [
        {
          "output_type": "execute_result",
          "data": {
            "application/vnd.google.colaboratory.intrinsic+json": {
              "type": "string"
            },
            "text/plain": [
              "'1.7.0+cu101'"
            ]
          },
          "metadata": {
            "tags": []
          },
          "execution_count": 1
        }
      ]
    },
    {
      "cell_type": "code",
      "metadata": {
        "colab": {
          "base_uri": "https://localhost:8080/"
        },
        "id": "nLiOmHqKpsJH",
        "outputId": "8196932d-c348-4fe7-eb18-ada1e13c33c2"
      },
      "source": [
        "ft = torch.FloatTensor(\r\n",
        "    [[[1, 2, 3, 4],\r\n",
        "      [4, 5, 6, 7]],\r\n",
        "     \r\n",
        "     [[1, 2, 3, 4],\r\n",
        "      [4, 5, 6, 7]]]\r\n",
        ")\r\n",
        "print(ft.shape)\r\n",
        "print(ft)"
      ],
      "execution_count": 2,
      "outputs": [
        {
          "output_type": "stream",
          "text": [
            "torch.Size([2, 2, 4])\n",
            "tensor([[[1., 2., 3., 4.],\n",
            "         [4., 5., 6., 7.]],\n",
            "\n",
            "        [[1., 2., 3., 4.],\n",
            "         [4., 5., 6., 7.]]])\n"
          ],
          "name": "stdout"
        }
      ]
    },
    {
      "cell_type": "code",
      "metadata": {
        "colab": {
          "base_uri": "https://localhost:8080/"
        },
        "id": "kdfwD6e4p2se",
        "outputId": "7a712b7e-e98a-4a2c-b842-70ce400259e0"
      },
      "source": [
        "ft_view = ft.view(-1, 4)\r\n",
        "print(ft_view.shape)\r\n",
        "print(ft_view)"
      ],
      "execution_count": 3,
      "outputs": [
        {
          "output_type": "stream",
          "text": [
            "torch.Size([4, 4])\n",
            "tensor([[1., 2., 3., 4.],\n",
            "        [4., 5., 6., 7.],\n",
            "        [1., 2., 3., 4.],\n",
            "        [4., 5., 6., 7.]])\n"
          ],
          "name": "stdout"
        }
      ]
    },
    {
      "cell_type": "code",
      "metadata": {
        "colab": {
          "base_uri": "https://localhost:8080/"
        },
        "id": "xrKzslQV799u",
        "outputId": "8e6a6f84-b3fb-4ef4-aaea-6c7ac87cf809"
      },
      "source": [
        "ft_view = ft.view(-1, 1, 4)\r\n",
        "print(ft_view.shape)\r\n",
        "print(ft_view)"
      ],
      "execution_count": 4,
      "outputs": [
        {
          "output_type": "stream",
          "text": [
            "torch.Size([4, 1, 4])\n",
            "tensor([[[1., 2., 3., 4.]],\n",
            "\n",
            "        [[4., 5., 6., 7.]],\n",
            "\n",
            "        [[1., 2., 3., 4.]],\n",
            "\n",
            "        [[4., 5., 6., 7.]]])\n"
          ],
          "name": "stdout"
        }
      ]
    },
    {
      "cell_type": "markdown",
      "metadata": {
        "id": "wuxvh-L5qitX"
      },
      "source": [
        "## Squeeze\r\n",
        "- numpy .ravel() 메서드와 동일한 기능"
      ]
    },
    {
      "cell_type": "code",
      "metadata": {
        "colab": {
          "base_uri": "https://localhost:8080/"
        },
        "id": "d5W9JWR8qcv3",
        "outputId": "cdc0311c-4437-49fc-de88-1f9e32359c5a"
      },
      "source": [
        "ft = torch.FloatTensor(\r\n",
        "    [[0], [1], [2]]\r\n",
        ")\r\n",
        "print(ft.shape)\r\n",
        "print(ft)"
      ],
      "execution_count": 5,
      "outputs": [
        {
          "output_type": "stream",
          "text": [
            "torch.Size([3, 1])\n",
            "tensor([[0.],\n",
            "        [1.],\n",
            "        [2.]])\n"
          ],
          "name": "stdout"
        }
      ]
    },
    {
      "cell_type": "code",
      "metadata": {
        "colab": {
          "base_uri": "https://localhost:8080/"
        },
        "id": "umRfucZW83HU",
        "outputId": "39a92a9a-6a15-41b6-d5b1-e4903dafcd82"
      },
      "source": [
        "ft_sqz = ft.squeeze()\r\n",
        "print(ft_sqz.shape)\r\n",
        "print(ft_sqz)"
      ],
      "execution_count": 6,
      "outputs": [
        {
          "output_type": "stream",
          "text": [
            "torch.Size([3])\n",
            "tensor([0., 1., 2.])\n"
          ],
          "name": "stdout"
        }
      ]
    },
    {
      "cell_type": "code",
      "metadata": {
        "colab": {
          "base_uri": "https://localhost:8080/"
        },
        "id": "cRNcqvcL9N9a",
        "outputId": "a652b2ca-db6b-4a9b-ef7d-f48601fd2fe0"
      },
      "source": [
        "ft_sqz = ft.squeeze(dim=0)\r\n",
        "print(ft_sqz.shape)\r\n",
        "print(ft_sqz)\r\n",
        "\r\n",
        "ft_sqz = ft.squeeze(dim=1)\r\n",
        "\r\n",
        "print(ft_sqz.shape)\r\n",
        "print(ft_sqz)"
      ],
      "execution_count": 7,
      "outputs": [
        {
          "output_type": "stream",
          "text": [
            "torch.Size([3, 1])\n",
            "tensor([[0.],\n",
            "        [1.],\n",
            "        [2.]])\n",
            "torch.Size([3])\n",
            "tensor([0., 1., 2.])\n"
          ],
          "name": "stdout"
        }
      ]
    },
    {
      "cell_type": "markdown",
      "metadata": {
        "id": "ud7BLZsGrnZo"
      },
      "source": [
        "## Type Casting\r\n",
        "- 텐서의 타입 변환"
      ]
    },
    {
      "cell_type": "code",
      "metadata": {
        "colab": {
          "base_uri": "https://localhost:8080/"
        },
        "id": "H3iiNN5arDhm",
        "outputId": "b6770b08-5289-498d-e7d9-b209ceee6ca1"
      },
      "source": [
        "lt = torch.LongTensor([1,2,3,4])\r\n",
        "print(lt)\r\n",
        "print(lt.float())"
      ],
      "execution_count": 8,
      "outputs": [
        {
          "output_type": "stream",
          "text": [
            "tensor([1, 2, 3, 4])\n",
            "tensor([1., 2., 3., 4.])\n"
          ],
          "name": "stdout"
        }
      ]
    },
    {
      "cell_type": "code",
      "metadata": {
        "colab": {
          "base_uri": "https://localhost:8080/"
        },
        "id": "CQUdcd7UBoP3",
        "outputId": "3c19f651-ab8e-4547-af2a-5e031801c73b"
      },
      "source": [
        "bt = torch.ByteTensor([True, False, False, True])\r\n",
        "print(bt)  # dtype uint8\r\n",
        "print(bt.long())\r\n",
        "print(bt.float())"
      ],
      "execution_count": 9,
      "outputs": [
        {
          "output_type": "stream",
          "text": [
            "tensor([1, 0, 0, 1], dtype=torch.uint8)\n",
            "tensor([1, 0, 0, 1])\n",
            "tensor([1., 0., 0., 1.])\n"
          ],
          "name": "stdout"
        }
      ]
    },
    {
      "cell_type": "code",
      "metadata": {
        "colab": {
          "base_uri": "https://localhost:8080/"
        },
        "id": "mRVJYmNtCFAV",
        "outputId": "71105f39-428c-4ee9-f55c-26fc6498dcce"
      },
      "source": [
        "bt = lt==3\r\n",
        "print(bt)  # dtype bool\r\n",
        "print(bt.long())\r\n",
        "print(bt.float())"
      ],
      "execution_count": 10,
      "outputs": [
        {
          "output_type": "stream",
          "text": [
            "tensor([False, False,  True, False])\n",
            "tensor([0, 0, 1, 0])\n",
            "tensor([0., 0., 1., 0.])\n"
          ],
          "name": "stdout"
        }
      ]
    },
    {
      "cell_type": "markdown",
      "metadata": {
        "id": "l9nVDhFEtcew"
      },
      "source": [
        "## Concatenate"
      ]
    },
    {
      "cell_type": "code",
      "metadata": {
        "colab": {
          "base_uri": "https://localhost:8080/"
        },
        "id": "ULip3yxwsrs-",
        "outputId": "cd182b10-9739-44b5-e3b0-685f4fb6dc46"
      },
      "source": [
        "x = torch.FloatTensor([[1, 2], [3, 4]])\r\n",
        "y = torch.FloatTensor([[5, 6], [7, 8]])\r\n",
        "print(x)\r\n",
        "print()\r\n",
        "\r\n",
        "print(torch.cat([x, y], dim=0))\r\n",
        "print(torch.cat([x, y], dim=1))\r\n",
        "print(torch.cat([x, y], dim=-1))"
      ],
      "execution_count": 11,
      "outputs": [
        {
          "output_type": "stream",
          "text": [
            "tensor([[1., 2.],\n",
            "        [3., 4.]])\n",
            "\n",
            "tensor([[1., 2.],\n",
            "        [3., 4.],\n",
            "        [5., 6.],\n",
            "        [7., 8.]])\n",
            "tensor([[1., 2., 5., 6.],\n",
            "        [3., 4., 7., 8.]])\n",
            "tensor([[1., 2., 5., 6.],\n",
            "        [3., 4., 7., 8.]])\n"
          ],
          "name": "stdout"
        }
      ]
    },
    {
      "cell_type": "markdown",
      "metadata": {
        "id": "agVode4SDwgi"
      },
      "source": [
        "## Stacking"
      ]
    },
    {
      "cell_type": "code",
      "metadata": {
        "colab": {
          "base_uri": "https://localhost:8080/"
        },
        "id": "CY7ot0kUDwgj",
        "outputId": "3cd49e4a-d817-4b69-abd9-e20f57b2e7f8"
      },
      "source": [
        "x = torch.FloatTensor([1, 2])\r\n",
        "y = torch.FloatTensor([3, 4])\r\n",
        "z = torch.FloatTensor([5, 6])\r\n",
        "\r\n",
        "print(x)\r\n",
        "print()\r\n",
        "\r\n",
        "print(torch.stack([x, y, z]))\r\n",
        "print(torch.stack([x, y, z], dim=1))"
      ],
      "execution_count": 12,
      "outputs": [
        {
          "output_type": "stream",
          "text": [
            "tensor([1., 2.])\n",
            "\n",
            "tensor([[1., 2.],\n",
            "        [3., 4.],\n",
            "        [5., 6.]])\n",
            "tensor([[1., 3., 5.],\n",
            "        [2., 4., 6.]])\n"
          ],
          "name": "stdout"
        }
      ]
    },
    {
      "cell_type": "code",
      "metadata": {
        "colab": {
          "base_uri": "https://localhost:8080/"
        },
        "id": "2d6Xw_IuEOuj",
        "outputId": "d115677e-2287-4494-a1f3-e1436b964152"
      },
      "source": [
        "print(torch.cat([x, y, z]).view(-1, 2))"
      ],
      "execution_count": 13,
      "outputs": [
        {
          "output_type": "stream",
          "text": [
            "tensor([[1., 2.],\n",
            "        [3., 4.],\n",
            "        [5., 6.]])\n"
          ],
          "name": "stdout"
        }
      ]
    },
    {
      "cell_type": "markdown",
      "metadata": {
        "id": "q3DlwHJ2E2M9"
      },
      "source": [
        "## Ones_like and Zeros_like\r\n",
        "- Dimension 뿐만 아니라 device(CPU, GPU, Multiple device)도 유지해 에러를 방지"
      ]
    },
    {
      "cell_type": "code",
      "metadata": {
        "colab": {
          "base_uri": "https://localhost:8080/"
        },
        "id": "Ah9DNotJE2M_",
        "outputId": "2f19ad56-11a5-4241-93dc-9544bb053446"
      },
      "source": [
        "x = torch.FloatTensor([[1, 2, 3], [3, 4, 5]])\r\n",
        "\r\n",
        "print(x)\r\n",
        "print()\r\n",
        "\r\n",
        "print(torch.ones_like(x))\r\n",
        "print(torch.zeros_like(x))"
      ],
      "execution_count": 14,
      "outputs": [
        {
          "output_type": "stream",
          "text": [
            "tensor([[1., 2., 3.],\n",
            "        [3., 4., 5.]])\n",
            "\n",
            "tensor([[1., 1., 1.],\n",
            "        [1., 1., 1.]])\n",
            "tensor([[0., 0., 0.],\n",
            "        [0., 0., 0.]])\n"
          ],
          "name": "stdout"
        }
      ]
    }
  ]
}