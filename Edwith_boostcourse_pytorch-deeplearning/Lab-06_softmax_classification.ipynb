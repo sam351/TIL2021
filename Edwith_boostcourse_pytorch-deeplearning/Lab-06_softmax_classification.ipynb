{
  "nbformat": 4,
  "nbformat_minor": 0,
  "metadata": {
    "colab": {
      "name": "Lab-06_softmax_classification",
      "provenance": [],
      "collapsed_sections": []
    },
    "kernelspec": {
      "name": "python3",
      "display_name": "Python 3"
    }
  },
  "cells": [
    {
      "cell_type": "code",
      "metadata": {
        "colab": {
          "base_uri": "https://localhost:8080/",
          "height": 35
        },
        "id": "_E-LwOBwpoTW",
        "outputId": "55d72bf0-26a7-4339-9af8-8e05ceb4f5a6"
      },
      "source": [
        "import torch\r\n",
        "import torch.nn as nn\r\n",
        "import torch.nn.functional as F\r\n",
        "import torch.optim as optim\r\n",
        "from torch.utils.data import Dataset, DataLoader\r\n",
        "\r\n",
        "torch.__version__"
      ],
      "execution_count": 1,
      "outputs": [
        {
          "output_type": "execute_result",
          "data": {
            "application/vnd.google.colaboratory.intrinsic+json": {
              "type": "string"
            },
            "text/plain": [
              "'1.7.0+cu101'"
            ]
          },
          "metadata": {
            "tags": []
          },
          "execution_count": 1
        }
      ]
    },
    {
      "cell_type": "code",
      "metadata": {
        "colab": {
          "base_uri": "https://localhost:8080/"
        },
        "id": "KKdZOFOQTJDb",
        "outputId": "9012785e-a0fe-466d-ead6-095f4d967827"
      },
      "source": [
        "# For reproducibility\r\n",
        "torch.manual_seed(1)"
      ],
      "execution_count": 2,
      "outputs": [
        {
          "output_type": "execute_result",
          "data": {
            "text/plain": [
              "<torch._C.Generator at 0x7fa3c3fd7b58>"
            ]
          },
          "metadata": {
            "tags": []
          },
          "execution_count": 2
        }
      ]
    },
    {
      "cell_type": "code",
      "metadata": {
        "colab": {
          "base_uri": "https://localhost:8080/"
        },
        "id": "76hYIZJ4zK8N",
        "outputId": "5dd34bd9-6189-4ed8-eadf-e66cb7d5c3a9"
      },
      "source": [
        "# Data\r\n",
        "x_train = torch.FloatTensor(\r\n",
        "    [[1, 2, 1, 1],\r\n",
        "     [2, 1, 3, 2],\r\n",
        "     [3, 1, 3, 4],\r\n",
        "     [4, 1, 5, 5],\r\n",
        "     [1, 7, 5, 5],\r\n",
        "     [1, 2, 5, 6],\r\n",
        "     [1, 6, 6, 6],\r\n",
        "     [1, 7, 7, 7]]\r\n",
        ") \r\n",
        "y_train = torch.LongTensor([2, 2, 2, 1, 1, 1, 0, 0])\r\n",
        "\r\n",
        "print(x_train.shape)\r\n",
        "print(x_train)"
      ],
      "execution_count": 3,
      "outputs": [
        {
          "output_type": "stream",
          "text": [
            "torch.Size([8, 4])\n",
            "tensor([[1., 2., 1., 1.],\n",
            "        [2., 1., 3., 2.],\n",
            "        [3., 1., 3., 4.],\n",
            "        [4., 1., 5., 5.],\n",
            "        [1., 7., 5., 5.],\n",
            "        [1., 2., 5., 6.],\n",
            "        [1., 6., 6., 6.],\n",
            "        [1., 7., 7., 7.]])\n"
          ],
          "name": "stdout"
        }
      ]
    },
    {
      "cell_type": "markdown",
      "metadata": {
        "id": "9gBOGjVlS7FN"
      },
      "source": [
        "## Train model with Low-level Cross Entropy Loss"
      ]
    },
    {
      "cell_type": "code",
      "metadata": {
        "colab": {
          "base_uri": "https://localhost:8080/"
        },
        "id": "d7zny4d-zmfn",
        "outputId": "5300bbd7-4400-42c6-da32-8dd100bf02fa"
      },
      "source": [
        "W = torch.zeros([4, 3], requires_grad=True)\r\n",
        "b = torch.zeros(1, requires_grad=True)\r\n",
        "optimizer = optim.SGD([W, b], lr=0.1)\r\n",
        "\r\n",
        "n_epochs = 1000\r\n",
        "for epoch in range(n_epochs + 1):\r\n",
        "  hypothesis = x_train.matmul(W) + b\r\n",
        "\r\n",
        "  y_one_hot = torch.zeros_like(hypothesis)\r\n",
        "  y_one_hot = y_one_hot.scatter(1, y_train.unsqueeze(dim=1), 1)\r\n",
        "  cost = ( y_one_hot * - torch.log(F.softmax(hypothesis, dim=1)) ).sum(dim=1).mean()\r\n",
        "  \r\n",
        "  optimizer.zero_grad()\r\n",
        "  cost.backward()\r\n",
        "  optimizer.step()\r\n",
        "  \r\n",
        "  if epoch % 100 == 0:\r\n",
        "    print(f'epoch : {epoch:5}  |  cost {cost:10.6f}')"
      ],
      "execution_count": 4,
      "outputs": [
        {
          "output_type": "stream",
          "text": [
            "epoch :     0  |  cost   1.098612\n",
            "epoch :   100  |  cost   0.761050\n",
            "epoch :   200  |  cost   0.689991\n",
            "epoch :   300  |  cost   0.643229\n",
            "epoch :   400  |  cost   0.604117\n",
            "epoch :   500  |  cost   0.568255\n",
            "epoch :   600  |  cost   0.533922\n",
            "epoch :   700  |  cost   0.500291\n",
            "epoch :   800  |  cost   0.466908\n",
            "epoch :   900  |  cost   0.433507\n",
            "epoch :  1000  |  cost   0.399962\n"
          ],
          "name": "stdout"
        }
      ]
    },
    {
      "cell_type": "markdown",
      "metadata": {
        "id": "YsD3FCuLznks"
      },
      "source": [
        "## Train model with `F.cross_entropy`"
      ]
    },
    {
      "cell_type": "code",
      "metadata": {
        "colab": {
          "base_uri": "https://localhost:8080/"
        },
        "id": "stcgDpKbzu1L",
        "outputId": "b8584ea6-8068-43b4-c1d9-6edb58452f82"
      },
      "source": [
        "W = torch.zeros([4, 3], requires_grad=True)\r\n",
        "b = torch.zeros(1, requires_grad=True)\r\n",
        "optimizer = optim.SGD([W, b], lr=0.1)\r\n",
        "\r\n",
        "n_epochs = 1000\r\n",
        "for epoch in range(n_epochs + 1):\r\n",
        "  hypothesis = x_train.matmul(W) + b\r\n",
        "\r\n",
        "  cost = F.cross_entropy(hypothesis, y_train)\r\n",
        "  \r\n",
        "  optimizer.zero_grad()\r\n",
        "  cost.backward()\r\n",
        "  optimizer.step()\r\n",
        "  \r\n",
        "  if epoch % 100 == 0:\r\n",
        "    print(f'epoch : {epoch:5}  |  cost {cost:10.6f}')"
      ],
      "execution_count": 5,
      "outputs": [
        {
          "output_type": "stream",
          "text": [
            "epoch :     0  |  cost   1.098612\n",
            "epoch :   100  |  cost   0.761050\n",
            "epoch :   200  |  cost   0.689991\n",
            "epoch :   300  |  cost   0.643229\n",
            "epoch :   400  |  cost   0.604117\n",
            "epoch :   500  |  cost   0.568256\n",
            "epoch :   600  |  cost   0.533922\n",
            "epoch :   700  |  cost   0.500291\n",
            "epoch :   800  |  cost   0.466908\n",
            "epoch :   900  |  cost   0.433507\n",
            "epoch :  1000  |  cost   0.399962\n"
          ],
          "name": "stdout"
        }
      ]
    },
    {
      "cell_type": "markdown",
      "metadata": {
        "id": "-_ItGqlDzvEn"
      },
      "source": [
        "## High-level Implementation with `nn.Module`"
      ]
    },
    {
      "cell_type": "code",
      "metadata": {
        "id": "2kihJhwWTdrZ"
      },
      "source": [
        "class SoftmaxClassifierModel(nn.Module):\r\n",
        "  def __init__(self):\r\n",
        "    super().__init__()\r\n",
        "    self.linear = nn.Linear(4, 3)\r\n",
        "\r\n",
        "  def forward(self, x):\r\n",
        "    return self.linear(x)"
      ],
      "execution_count": 6,
      "outputs": []
    },
    {
      "cell_type": "code",
      "metadata": {
        "colab": {
          "base_uri": "https://localhost:8080/"
        },
        "id": "yAdk67P7SeTj",
        "outputId": "a97d71db-5723-42f3-9b22-1f2268ad24dd"
      },
      "source": [
        "model = SoftmaxClassifierModel()\r\n",
        "optimizer = optim.SGD(model.parameters(), lr=0.1)\r\n",
        "\r\n",
        "n_epochs = 1000\r\n",
        "for epoch in range(n_epochs + 1):\r\n",
        "  hypothesis = model(x_train)\r\n",
        "  cost = F.cross_entropy(hypothesis, y_train)\r\n",
        "\r\n",
        "  optimizer.zero_grad()\r\n",
        "  cost.backward()\r\n",
        "  optimizer.step()\r\n",
        "\r\n",
        "  if epoch % 100 == 0:\r\n",
        "    print(f'epoch : {epoch:5}  |  cost : {cost.item():10.6f}')"
      ],
      "execution_count": 7,
      "outputs": [
        {
          "output_type": "stream",
          "text": [
            "epoch :     0  |  cost :   1.616785\n",
            "epoch :   100  |  cost :   0.658891\n",
            "epoch :   200  |  cost :   0.573443\n",
            "epoch :   300  |  cost :   0.518151\n",
            "epoch :   400  |  cost :   0.473265\n",
            "epoch :   500  |  cost :   0.433516\n",
            "epoch :   600  |  cost :   0.396563\n",
            "epoch :   700  |  cost :   0.360914\n",
            "epoch :   800  |  cost :   0.325392\n",
            "epoch :   900  |  cost :   0.289178\n",
            "epoch :  1000  |  cost :   0.254148\n"
          ],
          "name": "stdout"
        }
      ]
    }
  ]
}