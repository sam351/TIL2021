{
  "nbformat": 4,
  "nbformat_minor": 0,
  "metadata": {
    "colab": {
      "name": "Lab-10-1_Convolution",
      "provenance": [],
      "collapsed_sections": []
    },
    "kernelspec": {
      "name": "python3",
      "display_name": "Python 3"
    }
  },
  "cells": [
    {
      "cell_type": "code",
      "metadata": {
        "colab": {
          "base_uri": "https://localhost:8080/"
        },
        "id": "2H84tJR1yPmb",
        "outputId": "3289b302-3b71-4bd4-a31f-9655015d5e9e"
      },
      "source": [
        "import torch\r\n",
        "import random\r\n",
        "\r\n",
        "# check device\r\n",
        "device = 'cuda' if torch.cuda.is_available() else 'cpu'\r\n",
        "\r\n",
        "# set seed for reproducibility\r\n",
        "random.seed(777)\r\n",
        "torch.manual_seed(777)\r\n",
        "if device == 'cuda':\r\n",
        "    torch.cuda.manual_seed_all(777)\r\n",
        "\r\n",
        "torch.__version__, device"
      ],
      "execution_count": 1,
      "outputs": [
        {
          "output_type": "execute_result",
          "data": {
            "text/plain": [
              "('1.7.0+cu101', 'cpu')"
            ]
          },
          "metadata": {
            "tags": []
          },
          "execution_count": 1
        }
      ]
    },
    {
      "cell_type": "markdown",
      "metadata": {
        "id": "7BT_yb2s8Fga"
      },
      "source": [
        "## 용어 이해\r\n",
        "- Convolution : 이미지 위에서 stride 값만큼 filter(kernel)를 이동시키면서 겹쳐지는 부분의 각 원소의 값을 곱해서 모두 더한 값을 출력하는 연산\r\n",
        "- stride : filter를 한번에 얼마나 이동할 것인가\r\n",
        "- padding : zero-padding\r\n",
        "- 입력 형태(shape) : NCHW - batch_size, channel, height, width\r\n",
        "- pooling : 이미지 사이즈를 줄이거나 fully connected layer를 대체하기 위해 사용\r\n",
        "- Cross-correlation : filter를 뒤집고 계산하면 Convolution, 뒤집지 않고 계산하면 Cross-correlation"
      ]
    },
    {
      "cell_type": "markdown",
      "metadata": {
        "id": "NKtAG6gH2QCY"
      },
      "source": [
        "## Convolution의 ouput 크기 계산 공식\r\n",
        "$$Output\\ size = \\frac{input\\ size - filter\\ size + (2 * padding)}{Stride} + 1$$"
      ]
    },
    {
      "cell_type": "code",
      "metadata": {
        "colab": {
          "base_uri": "https://localhost:8080/"
        },
        "id": "z1-IvBaAyTuZ",
        "outputId": "ef07a9b1-9cfb-4c0a-8fec-f43f98bbd7cb"
      },
      "source": [
        "input_size = 32, 32\r\n",
        "filter_size = 4\r\n",
        "stride = 4\r\n",
        "padding = 2\r\n",
        "\r\n",
        "# calculate output size with conv2D layer\r\n",
        "inputs = torch.Tensor(1, 1, *input_size)\r\n",
        "conv = torch.nn.Conv2d(1, 1, kernel_size=filter_size, stride=stride, padding=padding)\r\n",
        "out = conv(inputs)\r\n",
        "print(out.shape)\r\n",
        "\r\n",
        "# calculate output size with formula\r\n",
        "get_output_size = lambda x : int((x - filter_size + (2*padding))/stride) + 1\r\n",
        "out_size = get_output_size(input_size[0]), get_output_size(input_size[1])\r\n",
        "print(out_size)"
      ],
      "execution_count": 2,
      "outputs": [
        {
          "output_type": "stream",
          "text": [
            "torch.Size([1, 1, 9, 9])\n",
            "(9, 9)\n"
          ],
          "name": "stdout"
        }
      ]
    },
    {
      "cell_type": "code",
      "metadata": {
        "id": "ONN7vNwr_ctz"
      },
      "source": [
        ""
      ],
      "execution_count": 2,
      "outputs": []
    }
  ]
}