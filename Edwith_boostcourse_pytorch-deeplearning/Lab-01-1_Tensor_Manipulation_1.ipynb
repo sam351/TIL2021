{
  "nbformat": 4,
  "nbformat_minor": 0,
  "metadata": {
    "colab": {
      "name": "Lab-01-1 Tensor Manipulation 1",
      "provenance": [],
      "collapsed_sections": []
    },
    "kernelspec": {
      "name": "python3",
      "display_name": "Python 3"
    }
  },
  "cells": [
    {
      "cell_type": "markdown",
      "metadata": {
        "id": "Y3XqHWsxqYDP"
      },
      "source": [
        "## Pytorch Tensor\r\n",
        "- Pytorch는 Numpy와 매우 유사하게 텐서 조작 가능"
      ]
    },
    {
      "cell_type": "code",
      "metadata": {
        "colab": {
          "base_uri": "https://localhost:8080/",
          "height": 34
        },
        "id": "_E-LwOBwpoTW",
        "outputId": "7b80cf96-8c10-4ed7-86fd-f64fc4894a42"
      },
      "source": [
        "import torch\r\n",
        "\r\n",
        "torch.__version__"
      ],
      "execution_count": 1,
      "outputs": [
        {
          "output_type": "execute_result",
          "data": {
            "application/vnd.google.colaboratory.intrinsic+json": {
              "type": "string"
            },
            "text/plain": [
              "'1.7.0+cu101'"
            ]
          },
          "metadata": {
            "tags": []
          },
          "execution_count": 1
        }
      ]
    },
    {
      "cell_type": "code",
      "metadata": {
        "colab": {
          "base_uri": "https://localhost:8080/"
        },
        "id": "nLiOmHqKpsJH",
        "outputId": "c00f7979-a1ac-4263-828e-b76857a4ec9f"
      },
      "source": [
        "t = torch.FloatTensor([0, 1, 2 ,3, 4, 5, 6])\r\n",
        "print(t)"
      ],
      "execution_count": 2,
      "outputs": [
        {
          "output_type": "stream",
          "text": [
            "tensor([0., 1., 2., 3., 4., 5., 6.])\n"
          ],
          "name": "stdout"
        }
      ]
    },
    {
      "cell_type": "code",
      "metadata": {
        "colab": {
          "base_uri": "https://localhost:8080/"
        },
        "id": "kdfwD6e4p2se",
        "outputId": "03a47694-9be3-4c27-a43e-4023e7762c84"
      },
      "source": [
        "print(t.dim())  # rank\r\n",
        "print(t.size()) # shape\r\n",
        "print(t.shape)  # shape\r\n",
        "print(t[0], t[1], t[-1]) # Element\r\n",
        "print(t[2:5], t[4:-1]) # Slicing"
      ],
      "execution_count": 3,
      "outputs": [
        {
          "output_type": "stream",
          "text": [
            "1\n",
            "torch.Size([7])\n",
            "torch.Size([7])\n",
            "tensor(0.) tensor(1.) tensor(6.)\n",
            "tensor([2., 3., 4.]) tensor([4., 5.])\n"
          ],
          "name": "stdout"
        }
      ]
    },
    {
      "cell_type": "markdown",
      "metadata": {
        "id": "wuxvh-L5qitX"
      },
      "source": [
        "## Broadcasting\r\n",
        "- 엄격하게는 불가능한 연산을, 자동 Broadcasting으로 가능하게 만듦\r\n",
        "- 자동으로 이루어지므로 실수로 연산한 경우에도 에러를 유발하지 않기 때문에, 유의해야 함 (디버깅 등에 문제 발생 가능성)"
      ]
    },
    {
      "cell_type": "code",
      "metadata": {
        "colab": {
          "base_uri": "https://localhost:8080/"
        },
        "id": "d5W9JWR8qcv3",
        "outputId": "40b1cfcd-5e08-458d-fdb6-2e377f57cdd8"
      },
      "source": [
        "# Same shape\r\n",
        "m1 = torch.FloatTensor([[3, 3]])\r\n",
        "m2 = torch.FloatTensor([[2, 2]])\r\n",
        "print(m1 + m2, '\\n')\r\n",
        "\r\n",
        "# Vector + scalar\r\n",
        "m1 = torch.FloatTensor([[1, 2]])\r\n",
        "m2 = torch.FloatTensor([[3]])\r\n",
        "print(m1 + m2, '\\n')\r\n",
        "\r\n",
        "# 2x1 Vector + 1x2 Tensor\r\n",
        "m1 = torch.FloatTensor([[1, 2]])\r\n",
        "m2 = torch.FloatTensor([[3], [4]])\r\n",
        "print(m1 + m2)"
      ],
      "execution_count": 4,
      "outputs": [
        {
          "output_type": "stream",
          "text": [
            "tensor([[5., 5.]]) \n",
            "\n",
            "tensor([[4., 5.]]) \n",
            "\n",
            "tensor([[4., 5.],\n",
            "        [5., 6.]])\n"
          ],
          "name": "stdout"
        }
      ]
    },
    {
      "cell_type": "markdown",
      "metadata": {
        "id": "ud7BLZsGrnZo"
      },
      "source": [
        "## Multiplication vs Matrix Multiplication"
      ]
    },
    {
      "cell_type": "code",
      "metadata": {
        "colab": {
          "base_uri": "https://localhost:8080/"
        },
        "id": "H3iiNN5arDhm",
        "outputId": "cd418e08-1549-4d26-b36f-c5fd712a7f50"
      },
      "source": [
        "m1 = torch.FloatTensor([[1, 2], [3, 4]])  # 2 x 2\r\n",
        "m2 = torch.FloatTensor([[1], [2]])  # 2 x 1\r\n",
        "print('>>> Original Shape :', m1.shape, m2.shape)\r\n",
        "print('>>> Original Tensor :')\r\n",
        "print(m1)\r\n",
        "print(m2)\r\n",
        "\r\n",
        "print('\\n>>> Tensor After Multiplication :')\r\n",
        "print(m1 * m2)\r\n",
        "print(m1.mul(m2))\r\n",
        "\r\n",
        "print('\\n>>> Tensor After Matrix Multiplication :')\r\n",
        "print(m1.matmul(m2))"
      ],
      "execution_count": 5,
      "outputs": [
        {
          "output_type": "stream",
          "text": [
            ">>> Original Shape : torch.Size([2, 2]) torch.Size([2, 1])\n",
            ">>> Original Tensor :\n",
            "tensor([[1., 2.],\n",
            "        [3., 4.]])\n",
            "tensor([[1.],\n",
            "        [2.]])\n",
            "\n",
            ">>> Tensor After Multiplication :\n",
            "tensor([[1., 2.],\n",
            "        [6., 8.]])\n",
            "tensor([[1., 2.],\n",
            "        [6., 8.]])\n",
            "\n",
            ">>> Tensor After Matrix Multiplication :\n",
            "tensor([[ 5.],\n",
            "        [11.]])\n"
          ],
          "name": "stdout"
        }
      ]
    },
    {
      "cell_type": "markdown",
      "metadata": {
        "id": "l9nVDhFEtcew"
      },
      "source": [
        "## Mean, Sum\r\n",
        "- dim=0 는 첫 번째 dimension(row) 기준 dim 유지\r\n",
        "- dim=1 는 두 번째 dimension(column) 기준 dim 유지"
      ]
    },
    {
      "cell_type": "code",
      "metadata": {
        "colab": {
          "base_uri": "https://localhost:8080/"
        },
        "id": "ULip3yxwsrs-",
        "outputId": "64d67cd9-7f93-4cc9-a638-2958a05de94b"
      },
      "source": [
        "t = torch.FloatTensor([[1, 2, 3], [4, 5, 6]])\r\n",
        "print(t)\r\n",
        "print(t.shape)\r\n",
        "\r\n",
        "print()\r\n",
        "print(t.mean(dim=0))\r\n",
        "print(t.mean(dim=1))\r\n",
        "print(t.mean(dim=-1))\r\n",
        "\r\n",
        "print()\r\n",
        "print(t.mean(dim=0).shape)\r\n",
        "print(t.mean(dim=1).shape)\r\n",
        "print(t.mean(dim=-1).shape)"
      ],
      "execution_count": 6,
      "outputs": [
        {
          "output_type": "stream",
          "text": [
            "tensor([[1., 2., 3.],\n",
            "        [4., 5., 6.]])\n",
            "torch.Size([2, 3])\n",
            "\n",
            "tensor([2.5000, 3.5000, 4.5000])\n",
            "tensor([2., 5.])\n",
            "tensor([2., 5.])\n",
            "\n",
            "torch.Size([3])\n",
            "torch.Size([2])\n",
            "torch.Size([2])\n"
          ],
          "name": "stdout"
        }
      ]
    },
    {
      "cell_type": "code",
      "metadata": {
        "colab": {
          "base_uri": "https://localhost:8080/"
        },
        "id": "xDfsWCYCsvrC",
        "outputId": "746fb81a-4b30-4a12-a884-d2c5ae06f67e"
      },
      "source": [
        "t = torch.FloatTensor(\r\n",
        "    [[[1, 2, 3, 4],\r\n",
        "      [4, 5, 6, 7],\r\n",
        "      [4, 5, 6, 7]],\r\n",
        "     \r\n",
        "     [[1, 2, 3, 4],\r\n",
        "      [4, 5, 6, 7],\r\n",
        "      [4, 5, 6, 7]]]\r\n",
        ")\r\n",
        "\r\n",
        "print(t)\r\n",
        "print(t.shape)\r\n",
        "\r\n",
        "print()\r\n",
        "print(t.mean(dim=0))\r\n",
        "print(t.mean(dim=1))\r\n",
        "print(t.mean(dim=-1))\r\n",
        "\r\n",
        "print()\r\n",
        "print(t.mean(dim=0).shape)\r\n",
        "print(t.mean(dim=1).shape)\r\n",
        "print(t.mean(dim=-1).shape)"
      ],
      "execution_count": 7,
      "outputs": [
        {
          "output_type": "stream",
          "text": [
            "tensor([[[1., 2., 3., 4.],\n",
            "         [4., 5., 6., 7.],\n",
            "         [4., 5., 6., 7.]],\n",
            "\n",
            "        [[1., 2., 3., 4.],\n",
            "         [4., 5., 6., 7.],\n",
            "         [4., 5., 6., 7.]]])\n",
            "torch.Size([2, 3, 4])\n",
            "\n",
            "tensor([[1., 2., 3., 4.],\n",
            "        [4., 5., 6., 7.],\n",
            "        [4., 5., 6., 7.]])\n",
            "tensor([[3., 4., 5., 6.],\n",
            "        [3., 4., 5., 6.]])\n",
            "tensor([[2.5000, 5.5000, 5.5000],\n",
            "        [2.5000, 5.5000, 5.5000]])\n",
            "\n",
            "torch.Size([3, 4])\n",
            "torch.Size([2, 4])\n",
            "torch.Size([2, 3])\n"
          ],
          "name": "stdout"
        }
      ]
    },
    {
      "cell_type": "markdown",
      "metadata": {
        "id": "y_e7ev2SyOza"
      },
      "source": [
        "## Max and Argmax\r\n",
        "- Max는 Tensor 내에서 가장 큰 값 return\r\n",
        "- Argmax는 Tensor 내에서 가장 큰 값의 인덱스 return\r\n",
        "- .max() 메서드에 dim 파라미터를 전달하면 값과 인덱스를 둘 다 return"
      ]
    },
    {
      "cell_type": "code",
      "metadata": {
        "colab": {
          "base_uri": "https://localhost:8080/"
        },
        "id": "pFRIZmcPyYwA",
        "outputId": "4b7a9ddb-1aff-4bb1-abb6-552220e6df3b"
      },
      "source": [
        "t = torch.FloatTensor([[1, 2, 3], [4, 5, 6]])\r\n",
        "print(t)\r\n",
        "print(t.shape, '\\n')\r\n",
        "\r\n",
        "print('>>> Max without dim parameter (Total max) :', t.max())\r\n",
        "\r\n",
        "print('\\n>>> Max (dim=0) :', t.max(dim=0))\r\n",
        "print('>>> Max values (dim=0) :', t.max(dim=0)[0])\r\n",
        "print('>>> Max indices - Argmax (dim=0) :', t.max(dim=0)[1])"
      ],
      "execution_count": 8,
      "outputs": [
        {
          "output_type": "stream",
          "text": [
            "tensor([[1., 2., 3.],\n",
            "        [4., 5., 6.]])\n",
            "torch.Size([2, 3]) \n",
            "\n",
            ">>> Max without dim parameter (Total max) : tensor(6.)\n",
            "\n",
            ">>> Max (dim=0) : torch.return_types.max(\n",
            "values=tensor([4., 5., 6.]),\n",
            "indices=tensor([1, 1, 1]))\n",
            ">>> Max values (dim=0) : tensor([4., 5., 6.])\n",
            ">>> Max indices - Argmax (dim=0) : tensor([1, 1, 1])\n"
          ],
          "name": "stdout"
        }
      ]
    },
    {
      "cell_type": "code",
      "metadata": {
        "colab": {
          "base_uri": "https://localhost:8080/"
        },
        "id": "Sao8nJRMzliH",
        "outputId": "7f2bb287-b008-410e-cac6-5e9ac25d6b42"
      },
      "source": [
        "print('>>> Max (dim=1) :', t.max(dim=1))\r\n",
        "print('\\n>>> Max (dim=-1) :', t.max(dim=-1))"
      ],
      "execution_count": 9,
      "outputs": [
        {
          "output_type": "stream",
          "text": [
            ">>> Max (dim=1) : torch.return_types.max(\n",
            "values=tensor([3., 6.]),\n",
            "indices=tensor([2, 2]))\n",
            "\n",
            ">>> Max (dim=-1) : torch.return_types.max(\n",
            "values=tensor([3., 6.]),\n",
            "indices=tensor([2, 2]))\n"
          ],
          "name": "stdout"
        }
      ]
    }
  ]
}