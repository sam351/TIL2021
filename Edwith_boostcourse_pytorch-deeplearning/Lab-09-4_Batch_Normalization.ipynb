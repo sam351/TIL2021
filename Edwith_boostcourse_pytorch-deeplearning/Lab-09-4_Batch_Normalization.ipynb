{
  "nbformat": 4,
  "nbformat_minor": 0,
  "metadata": {
    "colab": {
      "name": "Lab-09-4_Batch_Normalization",
      "provenance": [],
      "collapsed_sections": []
    },
    "kernelspec": {
      "name": "python3",
      "display_name": "Python 3"
    },
    "accelerator": "GPU",
    "widgets": {
      "application/vnd.jupyter.widget-state+json": {
        "62e737aec6854ad8b18e3794265ae7f0": {
          "model_module": "@jupyter-widgets/controls",
          "model_name": "HBoxModel",
          "state": {
            "_view_name": "HBoxView",
            "_dom_classes": [],
            "_model_name": "HBoxModel",
            "_view_module": "@jupyter-widgets/controls",
            "_model_module_version": "1.5.0",
            "_view_count": null,
            "_view_module_version": "1.5.0",
            "box_style": "",
            "layout": "IPY_MODEL_e544adf7eb404329ad2edb9bb0476183",
            "_model_module": "@jupyter-widgets/controls",
            "children": [
              "IPY_MODEL_bfacad076b0944f9b3852df959e56049",
              "IPY_MODEL_86b4fd7d130e4cf68d78e0d3108e4475"
            ]
          }
        },
        "e544adf7eb404329ad2edb9bb0476183": {
          "model_module": "@jupyter-widgets/base",
          "model_name": "LayoutModel",
          "state": {
            "_view_name": "LayoutView",
            "grid_template_rows": null,
            "right": null,
            "justify_content": null,
            "_view_module": "@jupyter-widgets/base",
            "overflow": null,
            "_model_module_version": "1.2.0",
            "_view_count": null,
            "flex_flow": null,
            "width": null,
            "min_width": null,
            "border": null,
            "align_items": null,
            "bottom": null,
            "_model_module": "@jupyter-widgets/base",
            "top": null,
            "grid_column": null,
            "overflow_y": null,
            "overflow_x": null,
            "grid_auto_flow": null,
            "grid_area": null,
            "grid_template_columns": null,
            "flex": null,
            "_model_name": "LayoutModel",
            "justify_items": null,
            "grid_row": null,
            "max_height": null,
            "align_content": null,
            "visibility": null,
            "align_self": null,
            "height": null,
            "min_height": null,
            "padding": null,
            "grid_auto_rows": null,
            "grid_gap": null,
            "max_width": null,
            "order": null,
            "_view_module_version": "1.2.0",
            "grid_template_areas": null,
            "object_position": null,
            "object_fit": null,
            "grid_auto_columns": null,
            "margin": null,
            "display": null,
            "left": null
          }
        },
        "bfacad076b0944f9b3852df959e56049": {
          "model_module": "@jupyter-widgets/controls",
          "model_name": "FloatProgressModel",
          "state": {
            "_view_name": "ProgressView",
            "style": "IPY_MODEL_761e76e8be6f408695e69cd283f08f24",
            "_dom_classes": [],
            "description": "",
            "_model_name": "FloatProgressModel",
            "bar_style": "info",
            "max": 1,
            "_view_module": "@jupyter-widgets/controls",
            "_model_module_version": "1.5.0",
            "value": 1,
            "_view_count": null,
            "_view_module_version": "1.5.0",
            "orientation": "horizontal",
            "min": 0,
            "description_tooltip": null,
            "_model_module": "@jupyter-widgets/controls",
            "layout": "IPY_MODEL_2184c975b86f49f49c693a40875750c4"
          }
        },
        "86b4fd7d130e4cf68d78e0d3108e4475": {
          "model_module": "@jupyter-widgets/controls",
          "model_name": "HTMLModel",
          "state": {
            "_view_name": "HTMLView",
            "style": "IPY_MODEL_c230a5612ca04479bd90d7b9f084f702",
            "_dom_classes": [],
            "description": "",
            "_model_name": "HTMLModel",
            "placeholder": "​",
            "_view_module": "@jupyter-widgets/controls",
            "_model_module_version": "1.5.0",
            "value": " 9920512/? [00:20&lt;00:00, 1335972.78it/s]",
            "_view_count": null,
            "_view_module_version": "1.5.0",
            "description_tooltip": null,
            "_model_module": "@jupyter-widgets/controls",
            "layout": "IPY_MODEL_62a138515b7647309c60a377d9785a93"
          }
        },
        "761e76e8be6f408695e69cd283f08f24": {
          "model_module": "@jupyter-widgets/controls",
          "model_name": "ProgressStyleModel",
          "state": {
            "_view_name": "StyleView",
            "_model_name": "ProgressStyleModel",
            "description_width": "initial",
            "_view_module": "@jupyter-widgets/base",
            "_model_module_version": "1.5.0",
            "_view_count": null,
            "_view_module_version": "1.2.0",
            "bar_color": null,
            "_model_module": "@jupyter-widgets/controls"
          }
        },
        "2184c975b86f49f49c693a40875750c4": {
          "model_module": "@jupyter-widgets/base",
          "model_name": "LayoutModel",
          "state": {
            "_view_name": "LayoutView",
            "grid_template_rows": null,
            "right": null,
            "justify_content": null,
            "_view_module": "@jupyter-widgets/base",
            "overflow": null,
            "_model_module_version": "1.2.0",
            "_view_count": null,
            "flex_flow": null,
            "width": null,
            "min_width": null,
            "border": null,
            "align_items": null,
            "bottom": null,
            "_model_module": "@jupyter-widgets/base",
            "top": null,
            "grid_column": null,
            "overflow_y": null,
            "overflow_x": null,
            "grid_auto_flow": null,
            "grid_area": null,
            "grid_template_columns": null,
            "flex": null,
            "_model_name": "LayoutModel",
            "justify_items": null,
            "grid_row": null,
            "max_height": null,
            "align_content": null,
            "visibility": null,
            "align_self": null,
            "height": null,
            "min_height": null,
            "padding": null,
            "grid_auto_rows": null,
            "grid_gap": null,
            "max_width": null,
            "order": null,
            "_view_module_version": "1.2.0",
            "grid_template_areas": null,
            "object_position": null,
            "object_fit": null,
            "grid_auto_columns": null,
            "margin": null,
            "display": null,
            "left": null
          }
        },
        "c230a5612ca04479bd90d7b9f084f702": {
          "model_module": "@jupyter-widgets/controls",
          "model_name": "DescriptionStyleModel",
          "state": {
            "_view_name": "StyleView",
            "_model_name": "DescriptionStyleModel",
            "description_width": "",
            "_view_module": "@jupyter-widgets/base",
            "_model_module_version": "1.5.0",
            "_view_count": null,
            "_view_module_version": "1.2.0",
            "_model_module": "@jupyter-widgets/controls"
          }
        },
        "62a138515b7647309c60a377d9785a93": {
          "model_module": "@jupyter-widgets/base",
          "model_name": "LayoutModel",
          "state": {
            "_view_name": "LayoutView",
            "grid_template_rows": null,
            "right": null,
            "justify_content": null,
            "_view_module": "@jupyter-widgets/base",
            "overflow": null,
            "_model_module_version": "1.2.0",
            "_view_count": null,
            "flex_flow": null,
            "width": null,
            "min_width": null,
            "border": null,
            "align_items": null,
            "bottom": null,
            "_model_module": "@jupyter-widgets/base",
            "top": null,
            "grid_column": null,
            "overflow_y": null,
            "overflow_x": null,
            "grid_auto_flow": null,
            "grid_area": null,
            "grid_template_columns": null,
            "flex": null,
            "_model_name": "LayoutModel",
            "justify_items": null,
            "grid_row": null,
            "max_height": null,
            "align_content": null,
            "visibility": null,
            "align_self": null,
            "height": null,
            "min_height": null,
            "padding": null,
            "grid_auto_rows": null,
            "grid_gap": null,
            "max_width": null,
            "order": null,
            "_view_module_version": "1.2.0",
            "grid_template_areas": null,
            "object_position": null,
            "object_fit": null,
            "grid_auto_columns": null,
            "margin": null,
            "display": null,
            "left": null
          }
        },
        "f792f3b413144f739304b147c63077aa": {
          "model_module": "@jupyter-widgets/controls",
          "model_name": "HBoxModel",
          "state": {
            "_view_name": "HBoxView",
            "_dom_classes": [],
            "_model_name": "HBoxModel",
            "_view_module": "@jupyter-widgets/controls",
            "_model_module_version": "1.5.0",
            "_view_count": null,
            "_view_module_version": "1.5.0",
            "box_style": "",
            "layout": "IPY_MODEL_d04de79cf8d5473980843913187ece0c",
            "_model_module": "@jupyter-widgets/controls",
            "children": [
              "IPY_MODEL_102e4b963c1b4e328ee51038a493e51b",
              "IPY_MODEL_23426f14156e41e4bedcdea5d7f3f0ef"
            ]
          }
        },
        "d04de79cf8d5473980843913187ece0c": {
          "model_module": "@jupyter-widgets/base",
          "model_name": "LayoutModel",
          "state": {
            "_view_name": "LayoutView",
            "grid_template_rows": null,
            "right": null,
            "justify_content": null,
            "_view_module": "@jupyter-widgets/base",
            "overflow": null,
            "_model_module_version": "1.2.0",
            "_view_count": null,
            "flex_flow": null,
            "width": null,
            "min_width": null,
            "border": null,
            "align_items": null,
            "bottom": null,
            "_model_module": "@jupyter-widgets/base",
            "top": null,
            "grid_column": null,
            "overflow_y": null,
            "overflow_x": null,
            "grid_auto_flow": null,
            "grid_area": null,
            "grid_template_columns": null,
            "flex": null,
            "_model_name": "LayoutModel",
            "justify_items": null,
            "grid_row": null,
            "max_height": null,
            "align_content": null,
            "visibility": null,
            "align_self": null,
            "height": null,
            "min_height": null,
            "padding": null,
            "grid_auto_rows": null,
            "grid_gap": null,
            "max_width": null,
            "order": null,
            "_view_module_version": "1.2.0",
            "grid_template_areas": null,
            "object_position": null,
            "object_fit": null,
            "grid_auto_columns": null,
            "margin": null,
            "display": null,
            "left": null
          }
        },
        "102e4b963c1b4e328ee51038a493e51b": {
          "model_module": "@jupyter-widgets/controls",
          "model_name": "FloatProgressModel",
          "state": {
            "_view_name": "ProgressView",
            "style": "IPY_MODEL_67c874e0e72f4aac9a9e86e352eef3a9",
            "_dom_classes": [],
            "description": "",
            "_model_name": "FloatProgressModel",
            "bar_style": "success",
            "max": 1,
            "_view_module": "@jupyter-widgets/controls",
            "_model_module_version": "1.5.0",
            "value": 1,
            "_view_count": null,
            "_view_module_version": "1.5.0",
            "orientation": "horizontal",
            "min": 0,
            "description_tooltip": null,
            "_model_module": "@jupyter-widgets/controls",
            "layout": "IPY_MODEL_fe9f035574c44edabb9ff3e79fa514b3"
          }
        },
        "23426f14156e41e4bedcdea5d7f3f0ef": {
          "model_module": "@jupyter-widgets/controls",
          "model_name": "HTMLModel",
          "state": {
            "_view_name": "HTMLView",
            "style": "IPY_MODEL_6a6ec438b896451d9bde43b219b1b46d",
            "_dom_classes": [],
            "description": "",
            "_model_name": "HTMLModel",
            "placeholder": "​",
            "_view_module": "@jupyter-widgets/controls",
            "_model_module_version": "1.5.0",
            "value": " 32768/? [00:00&lt;00:00, 217975.42it/s]",
            "_view_count": null,
            "_view_module_version": "1.5.0",
            "description_tooltip": null,
            "_model_module": "@jupyter-widgets/controls",
            "layout": "IPY_MODEL_f10ecb6b793a46f797229ae976b8cbc9"
          }
        },
        "67c874e0e72f4aac9a9e86e352eef3a9": {
          "model_module": "@jupyter-widgets/controls",
          "model_name": "ProgressStyleModel",
          "state": {
            "_view_name": "StyleView",
            "_model_name": "ProgressStyleModel",
            "description_width": "initial",
            "_view_module": "@jupyter-widgets/base",
            "_model_module_version": "1.5.0",
            "_view_count": null,
            "_view_module_version": "1.2.0",
            "bar_color": null,
            "_model_module": "@jupyter-widgets/controls"
          }
        },
        "fe9f035574c44edabb9ff3e79fa514b3": {
          "model_module": "@jupyter-widgets/base",
          "model_name": "LayoutModel",
          "state": {
            "_view_name": "LayoutView",
            "grid_template_rows": null,
            "right": null,
            "justify_content": null,
            "_view_module": "@jupyter-widgets/base",
            "overflow": null,
            "_model_module_version": "1.2.0",
            "_view_count": null,
            "flex_flow": null,
            "width": null,
            "min_width": null,
            "border": null,
            "align_items": null,
            "bottom": null,
            "_model_module": "@jupyter-widgets/base",
            "top": null,
            "grid_column": null,
            "overflow_y": null,
            "overflow_x": null,
            "grid_auto_flow": null,
            "grid_area": null,
            "grid_template_columns": null,
            "flex": null,
            "_model_name": "LayoutModel",
            "justify_items": null,
            "grid_row": null,
            "max_height": null,
            "align_content": null,
            "visibility": null,
            "align_self": null,
            "height": null,
            "min_height": null,
            "padding": null,
            "grid_auto_rows": null,
            "grid_gap": null,
            "max_width": null,
            "order": null,
            "_view_module_version": "1.2.0",
            "grid_template_areas": null,
            "object_position": null,
            "object_fit": null,
            "grid_auto_columns": null,
            "margin": null,
            "display": null,
            "left": null
          }
        },
        "6a6ec438b896451d9bde43b219b1b46d": {
          "model_module": "@jupyter-widgets/controls",
          "model_name": "DescriptionStyleModel",
          "state": {
            "_view_name": "StyleView",
            "_model_name": "DescriptionStyleModel",
            "description_width": "",
            "_view_module": "@jupyter-widgets/base",
            "_model_module_version": "1.5.0",
            "_view_count": null,
            "_view_module_version": "1.2.0",
            "_model_module": "@jupyter-widgets/controls"
          }
        },
        "f10ecb6b793a46f797229ae976b8cbc9": {
          "model_module": "@jupyter-widgets/base",
          "model_name": "LayoutModel",
          "state": {
            "_view_name": "LayoutView",
            "grid_template_rows": null,
            "right": null,
            "justify_content": null,
            "_view_module": "@jupyter-widgets/base",
            "overflow": null,
            "_model_module_version": "1.2.0",
            "_view_count": null,
            "flex_flow": null,
            "width": null,
            "min_width": null,
            "border": null,
            "align_items": null,
            "bottom": null,
            "_model_module": "@jupyter-widgets/base",
            "top": null,
            "grid_column": null,
            "overflow_y": null,
            "overflow_x": null,
            "grid_auto_flow": null,
            "grid_area": null,
            "grid_template_columns": null,
            "flex": null,
            "_model_name": "LayoutModel",
            "justify_items": null,
            "grid_row": null,
            "max_height": null,
            "align_content": null,
            "visibility": null,
            "align_self": null,
            "height": null,
            "min_height": null,
            "padding": null,
            "grid_auto_rows": null,
            "grid_gap": null,
            "max_width": null,
            "order": null,
            "_view_module_version": "1.2.0",
            "grid_template_areas": null,
            "object_position": null,
            "object_fit": null,
            "grid_auto_columns": null,
            "margin": null,
            "display": null,
            "left": null
          }
        },
        "4d18c5e640d042bfbbb673cf97204816": {
          "model_module": "@jupyter-widgets/controls",
          "model_name": "HBoxModel",
          "state": {
            "_view_name": "HBoxView",
            "_dom_classes": [],
            "_model_name": "HBoxModel",
            "_view_module": "@jupyter-widgets/controls",
            "_model_module_version": "1.5.0",
            "_view_count": null,
            "_view_module_version": "1.5.0",
            "box_style": "",
            "layout": "IPY_MODEL_f67d6ebfe92b4c69aa1aa9ab09d1719c",
            "_model_module": "@jupyter-widgets/controls",
            "children": [
              "IPY_MODEL_98ef66510a94409c9338c96bf50f9b27",
              "IPY_MODEL_8042c5f656c7443bb5d81fe79efb50b4"
            ]
          }
        },
        "f67d6ebfe92b4c69aa1aa9ab09d1719c": {
          "model_module": "@jupyter-widgets/base",
          "model_name": "LayoutModel",
          "state": {
            "_view_name": "LayoutView",
            "grid_template_rows": null,
            "right": null,
            "justify_content": null,
            "_view_module": "@jupyter-widgets/base",
            "overflow": null,
            "_model_module_version": "1.2.0",
            "_view_count": null,
            "flex_flow": null,
            "width": null,
            "min_width": null,
            "border": null,
            "align_items": null,
            "bottom": null,
            "_model_module": "@jupyter-widgets/base",
            "top": null,
            "grid_column": null,
            "overflow_y": null,
            "overflow_x": null,
            "grid_auto_flow": null,
            "grid_area": null,
            "grid_template_columns": null,
            "flex": null,
            "_model_name": "LayoutModel",
            "justify_items": null,
            "grid_row": null,
            "max_height": null,
            "align_content": null,
            "visibility": null,
            "align_self": null,
            "height": null,
            "min_height": null,
            "padding": null,
            "grid_auto_rows": null,
            "grid_gap": null,
            "max_width": null,
            "order": null,
            "_view_module_version": "1.2.0",
            "grid_template_areas": null,
            "object_position": null,
            "object_fit": null,
            "grid_auto_columns": null,
            "margin": null,
            "display": null,
            "left": null
          }
        },
        "98ef66510a94409c9338c96bf50f9b27": {
          "model_module": "@jupyter-widgets/controls",
          "model_name": "FloatProgressModel",
          "state": {
            "_view_name": "ProgressView",
            "style": "IPY_MODEL_e85ed5f0c65041779f38a30ea5d4b870",
            "_dom_classes": [],
            "description": "",
            "_model_name": "FloatProgressModel",
            "bar_style": "info",
            "max": 1,
            "_view_module": "@jupyter-widgets/controls",
            "_model_module_version": "1.5.0",
            "value": 1,
            "_view_count": null,
            "_view_module_version": "1.5.0",
            "orientation": "horizontal",
            "min": 0,
            "description_tooltip": null,
            "_model_module": "@jupyter-widgets/controls",
            "layout": "IPY_MODEL_ae63c898d6474ad981d45f3db7215ffa"
          }
        },
        "8042c5f656c7443bb5d81fe79efb50b4": {
          "model_module": "@jupyter-widgets/controls",
          "model_name": "HTMLModel",
          "state": {
            "_view_name": "HTMLView",
            "style": "IPY_MODEL_0022f2460a12405a84f845e049377c19",
            "_dom_classes": [],
            "description": "",
            "_model_name": "HTMLModel",
            "placeholder": "​",
            "_view_module": "@jupyter-widgets/controls",
            "_model_module_version": "1.5.0",
            "value": " 1654784/? [00:18&lt;00:00, 288177.36it/s]",
            "_view_count": null,
            "_view_module_version": "1.5.0",
            "description_tooltip": null,
            "_model_module": "@jupyter-widgets/controls",
            "layout": "IPY_MODEL_2f8504db3b3247009875b805683c3254"
          }
        },
        "e85ed5f0c65041779f38a30ea5d4b870": {
          "model_module": "@jupyter-widgets/controls",
          "model_name": "ProgressStyleModel",
          "state": {
            "_view_name": "StyleView",
            "_model_name": "ProgressStyleModel",
            "description_width": "initial",
            "_view_module": "@jupyter-widgets/base",
            "_model_module_version": "1.5.0",
            "_view_count": null,
            "_view_module_version": "1.2.0",
            "bar_color": null,
            "_model_module": "@jupyter-widgets/controls"
          }
        },
        "ae63c898d6474ad981d45f3db7215ffa": {
          "model_module": "@jupyter-widgets/base",
          "model_name": "LayoutModel",
          "state": {
            "_view_name": "LayoutView",
            "grid_template_rows": null,
            "right": null,
            "justify_content": null,
            "_view_module": "@jupyter-widgets/base",
            "overflow": null,
            "_model_module_version": "1.2.0",
            "_view_count": null,
            "flex_flow": null,
            "width": null,
            "min_width": null,
            "border": null,
            "align_items": null,
            "bottom": null,
            "_model_module": "@jupyter-widgets/base",
            "top": null,
            "grid_column": null,
            "overflow_y": null,
            "overflow_x": null,
            "grid_auto_flow": null,
            "grid_area": null,
            "grid_template_columns": null,
            "flex": null,
            "_model_name": "LayoutModel",
            "justify_items": null,
            "grid_row": null,
            "max_height": null,
            "align_content": null,
            "visibility": null,
            "align_self": null,
            "height": null,
            "min_height": null,
            "padding": null,
            "grid_auto_rows": null,
            "grid_gap": null,
            "max_width": null,
            "order": null,
            "_view_module_version": "1.2.0",
            "grid_template_areas": null,
            "object_position": null,
            "object_fit": null,
            "grid_auto_columns": null,
            "margin": null,
            "display": null,
            "left": null
          }
        },
        "0022f2460a12405a84f845e049377c19": {
          "model_module": "@jupyter-widgets/controls",
          "model_name": "DescriptionStyleModel",
          "state": {
            "_view_name": "StyleView",
            "_model_name": "DescriptionStyleModel",
            "description_width": "",
            "_view_module": "@jupyter-widgets/base",
            "_model_module_version": "1.5.0",
            "_view_count": null,
            "_view_module_version": "1.2.0",
            "_model_module": "@jupyter-widgets/controls"
          }
        },
        "2f8504db3b3247009875b805683c3254": {
          "model_module": "@jupyter-widgets/base",
          "model_name": "LayoutModel",
          "state": {
            "_view_name": "LayoutView",
            "grid_template_rows": null,
            "right": null,
            "justify_content": null,
            "_view_module": "@jupyter-widgets/base",
            "overflow": null,
            "_model_module_version": "1.2.0",
            "_view_count": null,
            "flex_flow": null,
            "width": null,
            "min_width": null,
            "border": null,
            "align_items": null,
            "bottom": null,
            "_model_module": "@jupyter-widgets/base",
            "top": null,
            "grid_column": null,
            "overflow_y": null,
            "overflow_x": null,
            "grid_auto_flow": null,
            "grid_area": null,
            "grid_template_columns": null,
            "flex": null,
            "_model_name": "LayoutModel",
            "justify_items": null,
            "grid_row": null,
            "max_height": null,
            "align_content": null,
            "visibility": null,
            "align_self": null,
            "height": null,
            "min_height": null,
            "padding": null,
            "grid_auto_rows": null,
            "grid_gap": null,
            "max_width": null,
            "order": null,
            "_view_module_version": "1.2.0",
            "grid_template_areas": null,
            "object_position": null,
            "object_fit": null,
            "grid_auto_columns": null,
            "margin": null,
            "display": null,
            "left": null
          }
        },
        "ec958f08d848406eb09976feedc37505": {
          "model_module": "@jupyter-widgets/controls",
          "model_name": "HBoxModel",
          "state": {
            "_view_name": "HBoxView",
            "_dom_classes": [],
            "_model_name": "HBoxModel",
            "_view_module": "@jupyter-widgets/controls",
            "_model_module_version": "1.5.0",
            "_view_count": null,
            "_view_module_version": "1.5.0",
            "box_style": "",
            "layout": "IPY_MODEL_b978aedda67d4969b1a611974f977479",
            "_model_module": "@jupyter-widgets/controls",
            "children": [
              "IPY_MODEL_3e741dacbe98410aa4a8a151a0713bb0",
              "IPY_MODEL_62bbce8861d7472aa71bef77ce7f600f"
            ]
          }
        },
        "b978aedda67d4969b1a611974f977479": {
          "model_module": "@jupyter-widgets/base",
          "model_name": "LayoutModel",
          "state": {
            "_view_name": "LayoutView",
            "grid_template_rows": null,
            "right": null,
            "justify_content": null,
            "_view_module": "@jupyter-widgets/base",
            "overflow": null,
            "_model_module_version": "1.2.0",
            "_view_count": null,
            "flex_flow": null,
            "width": null,
            "min_width": null,
            "border": null,
            "align_items": null,
            "bottom": null,
            "_model_module": "@jupyter-widgets/base",
            "top": null,
            "grid_column": null,
            "overflow_y": null,
            "overflow_x": null,
            "grid_auto_flow": null,
            "grid_area": null,
            "grid_template_columns": null,
            "flex": null,
            "_model_name": "LayoutModel",
            "justify_items": null,
            "grid_row": null,
            "max_height": null,
            "align_content": null,
            "visibility": null,
            "align_self": null,
            "height": null,
            "min_height": null,
            "padding": null,
            "grid_auto_rows": null,
            "grid_gap": null,
            "max_width": null,
            "order": null,
            "_view_module_version": "1.2.0",
            "grid_template_areas": null,
            "object_position": null,
            "object_fit": null,
            "grid_auto_columns": null,
            "margin": null,
            "display": null,
            "left": null
          }
        },
        "3e741dacbe98410aa4a8a151a0713bb0": {
          "model_module": "@jupyter-widgets/controls",
          "model_name": "FloatProgressModel",
          "state": {
            "_view_name": "ProgressView",
            "style": "IPY_MODEL_dfcf5e6e818c459ab5c36d436435d634",
            "_dom_classes": [],
            "description": "  0%",
            "_model_name": "FloatProgressModel",
            "bar_style": "info",
            "max": 1,
            "_view_module": "@jupyter-widgets/controls",
            "_model_module_version": "1.5.0",
            "value": 0,
            "_view_count": null,
            "_view_module_version": "1.5.0",
            "orientation": "horizontal",
            "min": 0,
            "description_tooltip": null,
            "_model_module": "@jupyter-widgets/controls",
            "layout": "IPY_MODEL_9e87db36644340d79ccf40e7ccb5f139"
          }
        },
        "62bbce8861d7472aa71bef77ce7f600f": {
          "model_module": "@jupyter-widgets/controls",
          "model_name": "HTMLModel",
          "state": {
            "_view_name": "HTMLView",
            "style": "IPY_MODEL_95aeb4f410334418a5ae6f6cd900a108",
            "_dom_classes": [],
            "description": "",
            "_model_name": "HTMLModel",
            "placeholder": "​",
            "_view_module": "@jupyter-widgets/controls",
            "_model_module_version": "1.5.0",
            "value": " 0/4542 [00:00&lt;?, ?it/s]",
            "_view_count": null,
            "_view_module_version": "1.5.0",
            "description_tooltip": null,
            "_model_module": "@jupyter-widgets/controls",
            "layout": "IPY_MODEL_7ef233a6bb06446ebe9a2a8673aeb066"
          }
        },
        "dfcf5e6e818c459ab5c36d436435d634": {
          "model_module": "@jupyter-widgets/controls",
          "model_name": "ProgressStyleModel",
          "state": {
            "_view_name": "StyleView",
            "_model_name": "ProgressStyleModel",
            "description_width": "initial",
            "_view_module": "@jupyter-widgets/base",
            "_model_module_version": "1.5.0",
            "_view_count": null,
            "_view_module_version": "1.2.0",
            "bar_color": null,
            "_model_module": "@jupyter-widgets/controls"
          }
        },
        "9e87db36644340d79ccf40e7ccb5f139": {
          "model_module": "@jupyter-widgets/base",
          "model_name": "LayoutModel",
          "state": {
            "_view_name": "LayoutView",
            "grid_template_rows": null,
            "right": null,
            "justify_content": null,
            "_view_module": "@jupyter-widgets/base",
            "overflow": null,
            "_model_module_version": "1.2.0",
            "_view_count": null,
            "flex_flow": null,
            "width": null,
            "min_width": null,
            "border": null,
            "align_items": null,
            "bottom": null,
            "_model_module": "@jupyter-widgets/base",
            "top": null,
            "grid_column": null,
            "overflow_y": null,
            "overflow_x": null,
            "grid_auto_flow": null,
            "grid_area": null,
            "grid_template_columns": null,
            "flex": null,
            "_model_name": "LayoutModel",
            "justify_items": null,
            "grid_row": null,
            "max_height": null,
            "align_content": null,
            "visibility": null,
            "align_self": null,
            "height": null,
            "min_height": null,
            "padding": null,
            "grid_auto_rows": null,
            "grid_gap": null,
            "max_width": null,
            "order": null,
            "_view_module_version": "1.2.0",
            "grid_template_areas": null,
            "object_position": null,
            "object_fit": null,
            "grid_auto_columns": null,
            "margin": null,
            "display": null,
            "left": null
          }
        },
        "95aeb4f410334418a5ae6f6cd900a108": {
          "model_module": "@jupyter-widgets/controls",
          "model_name": "DescriptionStyleModel",
          "state": {
            "_view_name": "StyleView",
            "_model_name": "DescriptionStyleModel",
            "description_width": "",
            "_view_module": "@jupyter-widgets/base",
            "_model_module_version": "1.5.0",
            "_view_count": null,
            "_view_module_version": "1.2.0",
            "_model_module": "@jupyter-widgets/controls"
          }
        },
        "7ef233a6bb06446ebe9a2a8673aeb066": {
          "model_module": "@jupyter-widgets/base",
          "model_name": "LayoutModel",
          "state": {
            "_view_name": "LayoutView",
            "grid_template_rows": null,
            "right": null,
            "justify_content": null,
            "_view_module": "@jupyter-widgets/base",
            "overflow": null,
            "_model_module_version": "1.2.0",
            "_view_count": null,
            "flex_flow": null,
            "width": null,
            "min_width": null,
            "border": null,
            "align_items": null,
            "bottom": null,
            "_model_module": "@jupyter-widgets/base",
            "top": null,
            "grid_column": null,
            "overflow_y": null,
            "overflow_x": null,
            "grid_auto_flow": null,
            "grid_area": null,
            "grid_template_columns": null,
            "flex": null,
            "_model_name": "LayoutModel",
            "justify_items": null,
            "grid_row": null,
            "max_height": null,
            "align_content": null,
            "visibility": null,
            "align_self": null,
            "height": null,
            "min_height": null,
            "padding": null,
            "grid_auto_rows": null,
            "grid_gap": null,
            "max_width": null,
            "order": null,
            "_view_module_version": "1.2.0",
            "grid_template_areas": null,
            "object_position": null,
            "object_fit": null,
            "grid_auto_columns": null,
            "margin": null,
            "display": null,
            "left": null
          }
        }
      }
    }
  },
  "cells": [
    {
      "cell_type": "code",
      "metadata": {
        "colab": {
          "base_uri": "https://localhost:8080/"
        },
        "id": "_E-LwOBwpoTW",
        "outputId": "8b4d3660-aa8d-4d86-929a-87aba3fc7540"
      },
      "source": [
        "import torch\r\n",
        "import torchvision.datasets as dsets\r\n",
        "from torchvision import transforms\r\n",
        "import random\r\n",
        "import matplotlib.pyplot as plt\r\n",
        "\r\n",
        "\r\n",
        "# check device\r\n",
        "device = 'cuda' if torch.cuda.is_available() else 'cpu'\r\n",
        "\r\n",
        "# set seed for reproducibility\r\n",
        "random.seed(777)\r\n",
        "torch.manual_seed(777)\r\n",
        "if device == 'cuda':\r\n",
        "    torch.cuda.manual_seed_all(777)\r\n",
        "\r\n",
        "torch.__version__, device"
      ],
      "execution_count": 1,
      "outputs": [
        {
          "output_type": "execute_result",
          "data": {
            "text/plain": [
              "('1.7.0+cu101', 'cuda')"
            ]
          },
          "metadata": {
            "tags": []
          },
          "execution_count": 1
        }
      ]
    },
    {
      "cell_type": "markdown",
      "metadata": {
        "id": "oYG1TOSu6jnK"
      },
      "source": [
        "## Batch Normalization\r\n",
        "- Gradient Vanishing/Exploding 을 방지하기 위한 방법들 <br>\r\n",
        "  1) Change activation function <br>\r\n",
        "  2) Change Initialization method <br>\r\n",
        "  3) Small learning rate (only for exploding) <br>\r\n",
        "  4) Batch Normalization <br> <br>\r\n",
        "- 특히 Batch Normalization 은 전반적인 학습을 안정적(stable)으로 만들어 주는 우수한 방법\r\n",
        "  - cf. Internal Covariate Shift"
      ]
    },
    {
      "cell_type": "code",
      "metadata": {
        "id": "KKdZOFOQTJDb",
        "colab": {
          "base_uri": "https://localhost:8080/",
          "height": 401,
          "referenced_widgets": [
            "62e737aec6854ad8b18e3794265ae7f0",
            "e544adf7eb404329ad2edb9bb0476183",
            "bfacad076b0944f9b3852df959e56049",
            "86b4fd7d130e4cf68d78e0d3108e4475",
            "761e76e8be6f408695e69cd283f08f24",
            "2184c975b86f49f49c693a40875750c4",
            "c230a5612ca04479bd90d7b9f084f702",
            "62a138515b7647309c60a377d9785a93",
            "f792f3b413144f739304b147c63077aa",
            "d04de79cf8d5473980843913187ece0c",
            "102e4b963c1b4e328ee51038a493e51b",
            "23426f14156e41e4bedcdea5d7f3f0ef",
            "67c874e0e72f4aac9a9e86e352eef3a9",
            "fe9f035574c44edabb9ff3e79fa514b3",
            "6a6ec438b896451d9bde43b219b1b46d",
            "f10ecb6b793a46f797229ae976b8cbc9",
            "4d18c5e640d042bfbbb673cf97204816",
            "f67d6ebfe92b4c69aa1aa9ab09d1719c",
            "98ef66510a94409c9338c96bf50f9b27",
            "8042c5f656c7443bb5d81fe79efb50b4",
            "e85ed5f0c65041779f38a30ea5d4b870",
            "ae63c898d6474ad981d45f3db7215ffa",
            "0022f2460a12405a84f845e049377c19",
            "2f8504db3b3247009875b805683c3254",
            "ec958f08d848406eb09976feedc37505",
            "b978aedda67d4969b1a611974f977479",
            "3e741dacbe98410aa4a8a151a0713bb0",
            "62bbce8861d7472aa71bef77ce7f600f",
            "dfcf5e6e818c459ab5c36d436435d634",
            "9e87db36644340d79ccf40e7ccb5f139",
            "95aeb4f410334418a5ae6f6cd900a108",
            "7ef233a6bb06446ebe9a2a8673aeb066"
          ]
        },
        "outputId": "4653a07f-e5ac-4aa0-ae5c-a43ec83d47b7"
      },
      "source": [
        "# set parameters\r\n",
        "batch_size = 32\r\n",
        "n_epochs = 10\r\n",
        "learning_rate = 0.01\r\n",
        "\r\n",
        "# prepare data\r\n",
        "mnist_train = dsets.MNIST(root='mnist_data/', train=True, transform=transforms.ToTensor(), download=True)\r\n",
        "mnist_valid = dsets.MNIST(root='mnist_data/', train=False, transform=transforms.ToTensor(), download=True)\r\n",
        "\r\n",
        "train_loader = torch.utils.data.DataLoader(dataset=mnist_train, batch_size=batch_size, shuffle=True, drop_last=True)\r\n",
        "valid_loader  = torch.utils.data.DataLoader(dataset=mnist_valid, batch_size=batch_size, shuffle=True, drop_last=True)"
      ],
      "execution_count": 2,
      "outputs": [
        {
          "output_type": "stream",
          "text": [
            "Downloading http://yann.lecun.com/exdb/mnist/train-images-idx3-ubyte.gz to mnist_data/MNIST/raw/train-images-idx3-ubyte.gz\n"
          ],
          "name": "stdout"
        },
        {
          "output_type": "display_data",
          "data": {
            "application/vnd.jupyter.widget-view+json": {
              "model_id": "62e737aec6854ad8b18e3794265ae7f0",
              "version_minor": 0,
              "version_major": 2
            },
            "text/plain": [
              "HBox(children=(FloatProgress(value=1.0, bar_style='info', max=1.0), HTML(value='')))"
            ]
          },
          "metadata": {
            "tags": []
          }
        },
        {
          "output_type": "stream",
          "text": [
            "Extracting mnist_data/MNIST/raw/train-images-idx3-ubyte.gz to mnist_data/MNIST/raw\n",
            "Downloading http://yann.lecun.com/exdb/mnist/train-labels-idx1-ubyte.gz to mnist_data/MNIST/raw/train-labels-idx1-ubyte.gz\n"
          ],
          "name": "stdout"
        },
        {
          "output_type": "display_data",
          "data": {
            "application/vnd.jupyter.widget-view+json": {
              "model_id": "f792f3b413144f739304b147c63077aa",
              "version_minor": 0,
              "version_major": 2
            },
            "text/plain": [
              "HBox(children=(FloatProgress(value=1.0, bar_style='info', max=1.0), HTML(value='')))"
            ]
          },
          "metadata": {
            "tags": []
          }
        },
        {
          "output_type": "stream",
          "text": [
            "Extracting mnist_data/MNIST/raw/train-labels-idx1-ubyte.gz to mnist_data/MNIST/raw\n",
            "Downloading http://yann.lecun.com/exdb/mnist/t10k-images-idx3-ubyte.gz to mnist_data/MNIST/raw/t10k-images-idx3-ubyte.gz\n",
            "\n"
          ],
          "name": "stdout"
        },
        {
          "output_type": "display_data",
          "data": {
            "application/vnd.jupyter.widget-view+json": {
              "model_id": "4d18c5e640d042bfbbb673cf97204816",
              "version_minor": 0,
              "version_major": 2
            },
            "text/plain": [
              "HBox(children=(FloatProgress(value=1.0, bar_style='info', max=1.0), HTML(value='')))"
            ]
          },
          "metadata": {
            "tags": []
          }
        },
        {
          "output_type": "stream",
          "text": [
            "Extracting mnist_data/MNIST/raw/t10k-images-idx3-ubyte.gz to mnist_data/MNIST/raw\n",
            "Downloading http://yann.lecun.com/exdb/mnist/t10k-labels-idx1-ubyte.gz to mnist_data/MNIST/raw/t10k-labels-idx1-ubyte.gz\n"
          ],
          "name": "stdout"
        },
        {
          "output_type": "display_data",
          "data": {
            "application/vnd.jupyter.widget-view+json": {
              "model_id": "ec958f08d848406eb09976feedc37505",
              "version_minor": 0,
              "version_major": 2
            },
            "text/plain": [
              "HBox(children=(FloatProgress(value=1.0, bar_style='info', max=1.0), HTML(value='')))"
            ]
          },
          "metadata": {
            "tags": []
          }
        },
        {
          "output_type": "stream",
          "text": [
            "Extracting mnist_data/MNIST/raw/t10k-labels-idx1-ubyte.gz to mnist_data/MNIST/raw\n",
            "Processing...\n",
            "Done!\n"
          ],
          "name": "stdout"
        },
        {
          "output_type": "stream",
          "text": [
            "/usr/local/lib/python3.6/dist-packages/torchvision/datasets/mnist.py:480: UserWarning: The given NumPy array is not writeable, and PyTorch does not support non-writeable tensors. This means you can write to the underlying (supposedly non-writeable) NumPy array using the tensor. You may want to copy the array to protect its data or make it writeable before converting it to a tensor. This type of warning will be suppressed for the rest of this program. (Triggered internally at  /pytorch/torch/csrc/utils/tensor_numpy.cpp:141.)\n",
            "  return torch.from_numpy(parsed.astype(m[2], copy=False)).view(*s)\n"
          ],
          "name": "stderr"
        }
      ]
    },
    {
      "cell_type": "code",
      "metadata": {
        "id": "9LfNCXhyn_jj"
      },
      "source": [
        "# build model 1 - model with Batchnorm\r\n",
        "linear1 = torch.nn.Linear(28*28, 32, bias=True).to(device)\r\n",
        "linear2 = torch.nn.Linear(32, 32, bias=True).to(device)\r\n",
        "linear3 = torch.nn.Linear(32, 10, bias=True).to(device)\r\n",
        "relu = torch.nn.ReLU()\r\n",
        "batchnorm1 = torch.nn.BatchNorm1d(32).to(device)\r\n",
        "batchnorm2 = torch.nn.BatchNorm1d(32).to(device)\r\n",
        "\r\n",
        "bn_model = torch.nn.Sequential(\r\n",
        "    linear1, batchnorm1, relu,\r\n",
        "    linear2, batchnorm2, relu,\r\n",
        "    linear3\r\n",
        ")\r\n",
        "bn_optimizer = torch.optim.Adam(bn_model.parameters(), lr=learning_rate)\r\n",
        "\r\n",
        "\r\n",
        "# build model 2 - model without Batchnorm\r\n",
        "nn_linear1 = torch.nn.Linear(28*28, 32, bias=True).to(device)\r\n",
        "nn_linear2 = torch.nn.Linear(32, 32, bias=True).to(device)\r\n",
        "nn_linear3 = torch.nn.Linear(32, 10, bias=True).to(device)\r\n",
        "\r\n",
        "nn_model = torch.nn.Sequential(\r\n",
        "    linear1, relu,\r\n",
        "    linear2, relu,\r\n",
        "    linear3\r\n",
        ")\r\n",
        "nn_optimizer = torch.optim.Adam(nn_model.parameters(), lr=learning_rate)\r\n",
        "\r\n",
        "\r\n",
        "# # initialize weights\r\n",
        "# for layer in [linear1, linear2, linear3, nn_linear1, nn_linear2, nn_linear3]:\r\n",
        "#   torch.nn.init.xavier_normal_(layer.weight)  # Xavier Initialization\r\n",
        "\r\n",
        "# Define Loss function\r\n",
        "criterion = torch.nn.CrossEntropyLoss().to(device)  # Softmax is internally computed"
      ],
      "execution_count": 3,
      "outputs": []
    },
    {
      "cell_type": "code",
      "metadata": {
        "colab": {
          "base_uri": "https://localhost:8080/"
        },
        "id": "4lnFctw5amd7",
        "outputId": "d17c6fba-54e1-462f-8042-187c74e9a0f3"
      },
      "source": [
        "%time\r\n",
        "\r\n",
        "train_losses = []\r\n",
        "train_accs = []\r\n",
        "valid_losses = []\r\n",
        "valid_accs = []\r\n",
        "\r\n",
        "train_total_batch = len(train_loader)\r\n",
        "valid_total_batch = len(valid_loader)\r\n",
        "\r\n",
        "for epoch in range(n_epochs):\r\n",
        "  bn_model.train()\r\n",
        "  nn_model.train()\r\n",
        "  # train models\r\n",
        "  for x_train, y_train in train_loader:\r\n",
        "    ## reshape input image into [batch_size by 784]\r\n",
        "    ## label is not one-hot encoded\r\n",
        "    x_train = x_train.view(-1, 28 * 28).to(device)\r\n",
        "    y_train = y_train.to(device)\r\n",
        "\r\n",
        "    ## train model1 (with Batchnorm)\r\n",
        "    bn_prediction = bn_model(x_train)\r\n",
        "    bn_loss = criterion(bn_prediction, y_train)\r\n",
        "    bn_optimizer.zero_grad()\r\n",
        "    bn_loss.backward()\r\n",
        "    bn_optimizer.step()\r\n",
        "\r\n",
        "    ## train model2 (without Batchnorm)\r\n",
        "    nn_prediction = nn_model(x_train)\r\n",
        "    nn_loss = criterion(nn_prediction, y_train)\r\n",
        "    nn_optimizer.zero_grad()\r\n",
        "    nn_loss.backward()\r\n",
        "    nn_optimizer.step()\r\n",
        "\r\n",
        "  # calculate loss & accuracy\r\n",
        "  with torch.no_grad():\r\n",
        "    bn_model.eval()\r\n",
        "    nn_model.eval()\r\n",
        "\r\n",
        "    for loader, total_batch, status in zip([train_loader, valid_loader], [train_total_batch, valid_total_batch], ['train', 'val']):\r\n",
        "      ## calculate loss & accuracy\r\n",
        "      bn_loss, nn_loss, bn_acc, nn_acc = 0, 0, 0, 0\r\n",
        "      for i, (x_data, y_data) in enumerate(loader):\r\n",
        "        x_data = x_data.view(-1, 28 * 28).to(device)\r\n",
        "        y_data = y_data.to(device)\r\n",
        "\r\n",
        "        bn_prediction = bn_model(x_data)\r\n",
        "        bn_correct_prediction = torch.argmax(bn_prediction, 1) == y_data\r\n",
        "        bn_loss += criterion(bn_prediction, y_data) / total_batch\r\n",
        "        bn_acc += bn_correct_prediction.float().mean() / total_batch\r\n",
        "\r\n",
        "        nn_prediction = nn_model(x_data)\r\n",
        "        nn_correct_prediction = torch.argmax(nn_prediction, 1) == y_data\r\n",
        "        nn_loss += criterion(nn_prediction, y_data) / total_batch\r\n",
        "        nn_acc += nn_correct_prediction.float().mean() / total_batch\r\n",
        "      \r\n",
        "      ## Save loss & accuracy\r\n",
        "      if status == 'train':\r\n",
        "        train_losses.append([bn_loss, nn_loss])\r\n",
        "        train_accs.append([bn_acc, nn_acc])\r\n",
        "        print(f'[Epoch {epoch+1:4d}-TRAIN] Batchnorm Loss(Acc): bn_loss:{bn_loss:10.5f}(bn_acc:{bn_acc:6.2f}) vs No Batchnorm Loss(Acc): nn_loss:{nn_loss:10.5f}(nn_acc:{nn_acc:6.2f})')\r\n",
        "      else:  # status == 'val'\r\n",
        "        valid_losses.append([bn_loss, nn_loss])\r\n",
        "        valid_accs.append([bn_acc, nn_acc])\r\n",
        "        print(f'[Epoch {epoch+1:4d}-VALID] Batchnorm Loss(Acc): bn_loss:{bn_loss:10.5f}(bn_acc:{bn_acc:6.2f}) vs No Batchnorm Loss(Acc): nn_loss:{nn_loss:10.5f}(nn_acc:{nn_acc:6.2f})\\n')\r\n",
        "    \r\n",
        "print('Learning finished')\r\n",
        "\r\n",
        "    \r\n",
        "    # ## calculate train loss & accuracy\r\n",
        "    # bn_loss, nn_loss, bn_acc, nn_acc = 0, 0, 0, 0\r\n",
        "    # for i, (x_train, y_train) in enumerate(train_loader):\r\n",
        "    #     x_train = x_train.view(-1, 28 * 28).to(device)\r\n",
        "    #     y_train = y_train.to(device)\r\n",
        "\r\n",
        "    #     bn_prediction = bn_model(x_train)\r\n",
        "    #     bn_correct_prediction = torch.argmax(bn_prediction, 1) == y_train\r\n",
        "    #     bn_loss += criterion(bn_prediction, y_train) / train_total_batch\r\n",
        "    #     bn_acc += bn_correct_prediction.float().mean() / train_total_batch\r\n",
        "\r\n",
        "    #     nn_prediction = nn_model(x_train)\r\n",
        "    #     nn_correct_prediction = torch.argmax(nn_prediction, 1) == y_train\r\n",
        "    #     nn_loss += criterion(nn_prediction, y_train) / train_total_batch\r\n",
        "    #     nn_acc += nn_correct_prediction.float().mean() / train_total_batch\r\n",
        "\r\n",
        "    # ## Save train loss & accuracy\r\n",
        "    # train_losses.append([bn_loss, nn_loss])\r\n",
        "    # train_accs.append([bn_acc, nn_acc])\r\n",
        "    # print(f'[Epoch {epoch+1:4d}-TRAIN] Batchnorm Loss(Acc): bn_loss:{bn_loss:10.5f}(bn_acc:{bn_acc:6.2f}) vs No Batchnorm Loss(Acc): nn_loss:{nn_loss:10.5f}(nn_acc:{nn_acc:6.2f})')\r\n",
        "\r\n",
        "\r\n",
        "    # ## calculate validation loss & accuracy\r\n",
        "    # bn_loss, nn_loss, bn_acc, nn_acc = 0, 0, 0, 0\r\n",
        "    # for i, (x_val, y_val) in enumerate(valid_loader):\r\n",
        "    #     x_val = x_val.view(-1, 28 * 28).to(device)\r\n",
        "    #     y_val = y_val.to(device)\r\n",
        "\r\n",
        "    #     bn_prediction = bn_model(x_val)\r\n",
        "    #     bn_correct_prediction = torch.argmax(bn_prediction, 1) == y_val\r\n",
        "    #     bn_loss += criterion(bn_prediction, y_val) / valid_total_batch\r\n",
        "    #     bn_acc += bn_correct_prediction.float().mean() / valid_total_batch\r\n",
        "\r\n",
        "    #     nn_prediction = nn_model(x_val)\r\n",
        "    #     nn_correct_prediction = torch.argmax(nn_prediction, 1) == y_val\r\n",
        "    #     nn_loss += criterion(nn_prediction, y_val) / valid_total_batch\r\n",
        "    #     nn_acc += nn_correct_prediction.float().mean() / valid_total_batch\r\n",
        "\r\n",
        "    # ## Save validation loss & accuracy\r\n",
        "    # valid_losses.append([bn_loss, nn_loss])\r\n",
        "    # valid_accs.append([bn_acc, nn_acc])\r\n",
        "    # print(f'[Epoch {epoch+1:4d}-VALID] Batchnorm Loss(Acc): bn_loss:{bn_loss:10.5f}(bn_acc:{bn_acc:6.2f}) vs No Batchnorm Loss(Acc): nn_loss:{nn_loss:10.5f}(nn_acc:{nn_acc:6.2f})\\n')\r\n",
        "\r\n",
        "print('Learning finished')"
      ],
      "execution_count": 4,
      "outputs": [
        {
          "output_type": "stream",
          "text": [
            "CPU times: user 1e+03 ns, sys: 0 ns, total: 1e+03 ns\n",
            "Wall time: 4.05 µs\n",
            "[Epoch    1-TRAIN] Batchnorm Loss(Acc): bn_loss:   0.15930(bn_acc:  0.95) vs No Batchnorm Loss(Acc): nn_loss:   0.23681(nn_acc:  0.94)\n",
            "[Epoch    1-VALID] Batchnorm Loss(Acc): bn_loss:   0.17097(bn_acc:  0.95) vs No Batchnorm Loss(Acc): nn_loss:   0.25066(nn_acc:  0.93)\n",
            "\n",
            "[Epoch    2-TRAIN] Batchnorm Loss(Acc): bn_loss:   0.10917(bn_acc:  0.97) vs No Batchnorm Loss(Acc): nn_loss:   0.21200(nn_acc:  0.95)\n",
            "[Epoch    2-VALID] Batchnorm Loss(Acc): bn_loss:   0.12062(bn_acc:  0.96) vs No Batchnorm Loss(Acc): nn_loss:   0.24412(nn_acc:  0.94)\n",
            "\n",
            "[Epoch    3-TRAIN] Batchnorm Loss(Acc): bn_loss:   0.09826(bn_acc:  0.97) vs No Batchnorm Loss(Acc): nn_loss:   0.20330(nn_acc:  0.95)\n",
            "[Epoch    3-VALID] Batchnorm Loss(Acc): bn_loss:   0.11802(bn_acc:  0.96) vs No Batchnorm Loss(Acc): nn_loss:   0.23865(nn_acc:  0.94)\n",
            "\n",
            "[Epoch    4-TRAIN] Batchnorm Loss(Acc): bn_loss:   0.08922(bn_acc:  0.97) vs No Batchnorm Loss(Acc): nn_loss:   0.22571(nn_acc:  0.95)\n",
            "[Epoch    4-VALID] Batchnorm Loss(Acc): bn_loss:   0.11176(bn_acc:  0.97) vs No Batchnorm Loss(Acc): nn_loss:   0.28674(nn_acc:  0.94)\n",
            "\n",
            "[Epoch    5-TRAIN] Batchnorm Loss(Acc): bn_loss:   0.07401(bn_acc:  0.98) vs No Batchnorm Loss(Acc): nn_loss:   0.16409(nn_acc:  0.96)\n",
            "[Epoch    5-VALID] Batchnorm Loss(Acc): bn_loss:   0.09490(bn_acc:  0.97) vs No Batchnorm Loss(Acc): nn_loss:   0.23810(nn_acc:  0.96)\n",
            "\n",
            "[Epoch    6-TRAIN] Batchnorm Loss(Acc): bn_loss:   0.07455(bn_acc:  0.98) vs No Batchnorm Loss(Acc): nn_loss:   0.24179(nn_acc:  0.95)\n",
            "[Epoch    6-VALID] Batchnorm Loss(Acc): bn_loss:   0.10316(bn_acc:  0.97) vs No Batchnorm Loss(Acc): nn_loss:   0.32383(nn_acc:  0.94)\n",
            "\n",
            "[Epoch    7-TRAIN] Batchnorm Loss(Acc): bn_loss:   0.07244(bn_acc:  0.98) vs No Batchnorm Loss(Acc): nn_loss:   0.23250(nn_acc:  0.94)\n",
            "[Epoch    7-VALID] Batchnorm Loss(Acc): bn_loss:   0.09842(bn_acc:  0.97) vs No Batchnorm Loss(Acc): nn_loss:   0.32741(nn_acc:  0.93)\n",
            "\n",
            "[Epoch    8-TRAIN] Batchnorm Loss(Acc): bn_loss:   0.06317(bn_acc:  0.98) vs No Batchnorm Loss(Acc): nn_loss:   0.17820(nn_acc:  0.96)\n",
            "[Epoch    8-VALID] Batchnorm Loss(Acc): bn_loss:   0.09459(bn_acc:  0.97) vs No Batchnorm Loss(Acc): nn_loss:   0.33004(nn_acc:  0.95)\n",
            "\n",
            "[Epoch    9-TRAIN] Batchnorm Loss(Acc): bn_loss:   0.06256(bn_acc:  0.98) vs No Batchnorm Loss(Acc): nn_loss:   0.24110(nn_acc:  0.96)\n",
            "[Epoch    9-VALID] Batchnorm Loss(Acc): bn_loss:   0.09523(bn_acc:  0.97) vs No Batchnorm Loss(Acc): nn_loss:   0.43935(nn_acc:  0.95)\n",
            "\n",
            "[Epoch   10-TRAIN] Batchnorm Loss(Acc): bn_loss:   0.05907(bn_acc:  0.98) vs No Batchnorm Loss(Acc): nn_loss:   0.41184(nn_acc:  0.95)\n",
            "[Epoch   10-VALID] Batchnorm Loss(Acc): bn_loss:   0.09585(bn_acc:  0.97) vs No Batchnorm Loss(Acc): nn_loss:   0.59552(nn_acc:  0.94)\n",
            "\n",
            "Learning finished\n",
            "Learning finished\n"
          ],
          "name": "stdout"
        }
      ]
    },
    {
      "cell_type": "code",
      "metadata": {
        "id": "F4ESxEvllhPY",
        "colab": {
          "base_uri": "https://localhost:8080/",
          "height": 1000
        },
        "outputId": "c642f80f-bed2-4e86-ffc3-f411d95da64b"
      },
      "source": [
        "# visualize learning curve\r\n",
        "def plot_compare(loss_list: list, ylim=None, title=None) -> None:\r\n",
        "    bn = [i[0] for i in loss_list]\r\n",
        "    nn = [i[1] for i in loss_list]\r\n",
        "\r\n",
        "    plt.figure(figsize=(10, 4))\r\n",
        "    plt.plot(bn, label='With BN')\r\n",
        "    plt.plot(nn, label='Without BN')\r\n",
        "    if ylim:\r\n",
        "        plt.ylim(ylim)\r\n",
        "\r\n",
        "    if title:\r\n",
        "        plt.title(title)\r\n",
        "    plt.legend()\r\n",
        "    plt.grid('on')\r\n",
        "    plt.show()\r\n",
        "\r\n",
        "\r\n",
        "plot_compare(train_losses, title='Training Loss at Epoch')\r\n",
        "plot_compare(train_accs, [0, 1.0], title='Training Acc at Epoch')\r\n",
        "plot_compare(valid_losses, title='Validation Loss at Epoch')\r\n",
        "plot_compare(valid_accs, [0, 1.0], title='Validation Acc at Epoch')"
      ],
      "execution_count": 5,
      "outputs": [
        {
          "output_type": "display_data",
          "data": {
            "image/png": "[encoded data removed]",
            "text/plain": [
              "<Figure size 720x288 with 1 Axes>"
            ]
          },
          "metadata": {
            "tags": [],
            "needs_background": "light"
          }
        },
        {
          "output_type": "display_data",
          "data": {
            "image/png": "[encoded data removed]",
            "text/plain": [
              "<Figure size 720x288 with 1 Axes>"
            ]
          },
          "metadata": {
            "tags": [],
            "needs_background": "light"
          }
        },
        {
          "output_type": "display_data",
          "data": {
            "image/png": "[encoded data removed]",
            "text/plain": [
              "<Figure size 720x288 with 1 Axes>"
            ]
          },
          "metadata": {
            "tags": [],
            "needs_background": "light"
          }
        },
        {
          "output_type": "display_data",
          "data": {
            "image/png": "[encoded data removed]",
            "text/plain": [
              "<Figure size 720x288 with 1 Axes>"
            ]
          },
          "metadata": {
            "tags": [],
            "needs_background": "light"
          }
        }
      ]
    },
    {
      "cell_type": "code",
      "metadata": {
        "colab": {
          "base_uri": "https://localhost:8080/",
          "height": 1000
        },
        "id": "ZVRQ6X177G3r",
        "outputId": "19d4faf7-6504-40fe-9da2-f6a4c574c8bf"
      },
      "source": [
        "# visualization\r\n",
        "for i in range(5):\r\n",
        "  r = random.randint(0, len(mnist_valid)-1) # 0~9999까지 랜덤한 정수\r\n",
        "  X_single_data = mnist_valid.data[r].view(-1, 28*28).float().to(device)\r\n",
        "  Y_single_data = mnist_valid.targets[r].to(device)\r\n",
        "\r\n",
        "  bn_single_prediction = bn_model(X_single_data)\r\n",
        "  nn_single_prediction = nn_model(X_single_data)\r\n",
        "  print('Label:', Y_single_data.item())\r\n",
        "  print('Prediction (bn) : ', torch.argmax(bn_single_prediction, 1).item())\r\n",
        "  print('Prediction (nn) : ', torch.argmax(nn_single_prediction, 1).item())\r\n",
        "\r\n",
        "  plt.imshow(mnist_valid.data[r].view(28,28), cmap='Greys', interpolation='nearest')\r\n",
        "  plt.show()\r\n",
        "\r\n",
        "  print('\\n\\n')"
      ],
      "execution_count": 6,
      "outputs": [
        {
          "output_type": "stream",
          "text": [
            "Label: 8\n",
            "Prediction (bn) :  3\n",
            "Prediction (nn) :  8\n"
          ],
          "name": "stdout"
        },
        {
          "output_type": "display_data",
          "data": {
            "image/png": "[encoded data removed]",
            "text/plain": [
              "<Figure size 432x288 with 1 Axes>"
            ]
          },
          "metadata": {
            "tags": [],
            "needs_background": "light"
          }
        },
        {
          "output_type": "stream",
          "text": [
            "\n",
            "\n",
            "\n",
            "Label: 5\n",
            "Prediction (bn) :  5\n",
            "Prediction (nn) :  5\n"
          ],
          "name": "stdout"
        },
        {
          "output_type": "display_data",
          "data": {
            "image/png": "[encoded data removed]",
            "text/plain": [
              "<Figure size 432x288 with 1 Axes>"
            ]
          },
          "metadata": {
            "tags": [],
            "needs_background": "light"
          }
        },
        {
          "output_type": "stream",
          "text": [
            "\n",
            "\n",
            "\n",
            "Label: 7\n",
            "Prediction (bn) :  7\n",
            "Prediction (nn) :  7\n"
          ],
          "name": "stdout"
        },
        {
          "output_type": "display_data",
          "data": {
            "image/png": "[encoded data removed]",
            "text/plain": [
              "<Figure size 432x288 with 1 Axes>"
            ]
          },
          "metadata": {
            "tags": [],
            "needs_background": "light"
          }
        },
        {
          "output_type": "stream",
          "text": [
            "\n",
            "\n",
            "\n",
            "Label: 9\n",
            "Prediction (bn) :  9\n",
            "Prediction (nn) :  9\n"
          ],
          "name": "stdout"
        },
        {
          "output_type": "display_data",
          "data": {
            "image/png": "[encoded data removed]",
            "text/plain": [
              "<Figure size 432x288 with 1 Axes>"
            ]
          },
          "metadata": {
            "tags": [],
            "needs_background": "light"
          }
        },
        {
          "output_type": "stream",
          "text": [
            "\n",
            "\n",
            "\n",
            "Label: 3\n",
            "Prediction (bn) :  3\n",
            "Prediction (nn) :  3\n"
          ],
          "name": "stdout"
        },
        {
          "output_type": "display_data",
          "data": {
            "image/png": "[encoded data removed]",
            "text/plain": [
              "<Figure size 432x288 with 1 Axes>"
            ]
          },
          "metadata": {
            "tags": [],
            "needs_background": "light"
          }
        },
        {
          "output_type": "stream",
          "text": [
            "\n",
            "\n",
            "\n"
          ],
          "name": "stdout"
        }
      ]
    },
    {
      "cell_type": "code",
      "metadata": {
        "id": "ONN7vNwr_ctz"
      },
      "source": [
        ""
      ],
      "execution_count": 6,
      "outputs": []
    }
  ]
}