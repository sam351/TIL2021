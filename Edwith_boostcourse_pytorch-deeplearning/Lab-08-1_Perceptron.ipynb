{
  "nbformat": 4,
  "nbformat_minor": 0,
  "metadata": {
    "colab": {
      "name": "Lab-08-1_Perceptron",
      "provenance": [],
      "collapsed_sections": []
    },
    "kernelspec": {
      "name": "python3",
      "display_name": "Python 3"
    }
  },
  "cells": [
    {
      "cell_type": "code",
      "metadata": {
        "colab": {
          "base_uri": "https://localhost:8080/",
          "height": 35
        },
        "id": "_E-LwOBwpoTW",
        "outputId": "303b0027-fe03-4315-d321-cb3e91bd3d65"
      },
      "source": [
        "import torch\r\n",
        "from collections import OrderedDict\r\n",
        "\r\n",
        "# check device\r\n",
        "device = 'cuda' if torch.cuda.is_available() else 'cpu'\r\n",
        "\r\n",
        "# set seed for reproducibility\r\n",
        "torch.manual_seed(777)\r\n",
        "if device == 'cuda':\r\n",
        "    torch.cuda.manual_seed_all(777)\r\n",
        "\r\n",
        "torch.__version__"
      ],
      "execution_count": 1,
      "outputs": [
        {
          "output_type": "execute_result",
          "data": {
            "application/vnd.google.colaboratory.intrinsic+json": {
              "type": "string"
            },
            "text/plain": [
              "'1.7.0+cu101'"
            ]
          },
          "metadata": {
            "tags": []
          },
          "execution_count": 1
        }
      ]
    },
    {
      "cell_type": "markdown",
      "metadata": {
        "id": "oYG1TOSu6jnK"
      },
      "source": [
        "## Perceptron and XOR problem\r\n",
        "- Perceptron : Hidden Layer를 갖지 않고 오직 Input & Output Layer 로만 구성된 인공신경망\r\n",
        "- Perceptron 모델로는 XOR (두 요소가 다를 때 1, 같을 때 0) 문제를 풀 수 없음"
      ]
    },
    {
      "cell_type": "code",
      "metadata": {
        "colab": {
          "base_uri": "https://localhost:8080/"
        },
        "id": "KKdZOFOQTJDb",
        "outputId": "c0bc82e5-6bce-4b39-b08e-04713aa2f662"
      },
      "source": [
        "# prepare data for xor problem\r\n",
        "x_train = torch.FloatTensor([[0, 0], [0, 1], [1, 0], [1, 1]]).to(device)\r\n",
        "y_train = torch.FloatTensor([[0], [1], [1], [0]]).to(device)\r\n",
        "\r\n",
        "x_train"
      ],
      "execution_count": 2,
      "outputs": [
        {
          "output_type": "execute_result",
          "data": {
            "text/plain": [
              "tensor([[0., 0.],\n",
              "        [0., 1.],\n",
              "        [1., 0.],\n",
              "        [1., 1.]])"
            ]
          },
          "metadata": {
            "tags": []
          },
          "execution_count": 2
        }
      ]
    },
    {
      "cell_type": "code",
      "metadata": {
        "colab": {
          "base_uri": "https://localhost:8080/"
        },
        "id": "3Su8cM_p20pX",
        "outputId": "47ad5800-d146-4a56-82eb-1a0bc0c49ff6"
      },
      "source": [
        "# train model\r\n",
        "model = torch.nn.Sequential(OrderedDict([\r\n",
        "    ('linear', torch.nn.Linear(2, 1, bias=True)),\r\n",
        "    ('softmax', torch.nn.Sigmoid()),\r\n",
        "]))\r\n",
        "\r\n",
        "optimizer = torch.optim.SGD(model.parameters(), lr=1e-1)\r\n",
        "criterion = torch.nn.BCELoss().to(device)\r\n",
        "\r\n",
        "n_epochs = 10000\r\n",
        "for epoch in range(n_epochs+1):\r\n",
        "  hypothesis = model(x_train)\r\n",
        "  cost = criterion(hypothesis, y_train)\r\n",
        "\r\n",
        "  optimizer.zero_grad()\r\n",
        "  cost.backward()\r\n",
        "  optimizer.step()\r\n",
        "\r\n",
        "  if epoch%1000 == 0:\r\n",
        "    print(f'epoch : {epoch:6}  |  cost : {cost:10.6f}')"
      ],
      "execution_count": 3,
      "outputs": [
        {
          "output_type": "stream",
          "text": [
            "epoch :      0  |  cost :   0.727397\n",
            "epoch :   1000  |  cost :   0.693148\n",
            "epoch :   2000  |  cost :   0.693147\n",
            "epoch :   3000  |  cost :   0.693147\n",
            "epoch :   4000  |  cost :   0.693147\n",
            "epoch :   5000  |  cost :   0.693147\n",
            "epoch :   6000  |  cost :   0.693147\n",
            "epoch :   7000  |  cost :   0.693147\n",
            "epoch :   8000  |  cost :   0.693147\n",
            "epoch :   9000  |  cost :   0.693147\n",
            "epoch :  10000  |  cost :   0.693147\n"
          ],
          "name": "stdout"
        }
      ]
    },
    {
      "cell_type": "code",
      "metadata": {
        "colab": {
          "base_uri": "https://localhost:8080/"
        },
        "id": "hmSS2-mO4Y-Y",
        "outputId": "a3ea5d76-a686-4faa-d0c9-4c8f20b34e25"
      },
      "source": [
        "# compute accuracy\r\n",
        "with torch.no_grad():\r\n",
        "  hypothesis = model(x_train)\r\n",
        "  predicted = (hypothesis > 0.5).float()\r\n",
        "  accuracy = (predicted == y_train).float().mean()\r\n",
        "  print(f'>>> hypothesis :\\n {hypothesis} \\n\\n>>> label :\\n {y_train} \\n\\n>>> accuracy : {accuracy}')"
      ],
      "execution_count": 4,
      "outputs": [
        {
          "output_type": "stream",
          "text": [
            ">>> hypothesis :\n",
            " tensor([[0.5000],\n",
            "        [0.5000],\n",
            "        [0.5000],\n",
            "        [0.5000]]) \n",
            "\n",
            ">>> label :\n",
            " tensor([[0.],\n",
            "        [1.],\n",
            "        [1.],\n",
            "        [0.]]) \n",
            "\n",
            ">>> accuracy : 0.5\n"
          ],
          "name": "stdout"
        }
      ]
    }
  ]
}