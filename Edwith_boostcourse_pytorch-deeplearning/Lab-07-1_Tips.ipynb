{
  "nbformat": 4,
  "nbformat_minor": 0,
  "metadata": {
    "colab": {
      "name": "Lab-07-1_Tips",
      "provenance": [],
      "collapsed_sections": []
    },
    "kernelspec": {
      "name": "python3",
      "display_name": "Python 3"
    }
  },
  "cells": [
    {
      "cell_type": "code",
      "metadata": {
        "colab": {
          "base_uri": "https://localhost:8080/",
          "height": 35
        },
        "id": "_E-LwOBwpoTW",
        "outputId": "709e4af1-a83d-4037-909f-fa2a42b0f219"
      },
      "source": [
        "import torch\r\n",
        "import torch.nn as nn\r\n",
        "import torch.nn.functional as F\r\n",
        "import torch.optim as optim\r\n",
        "from torch.utils.data import Dataset, DataLoader\r\n",
        "\r\n",
        "torch.__version__"
      ],
      "execution_count": 1,
      "outputs": [
        {
          "output_type": "execute_result",
          "data": {
            "application/vnd.google.colaboratory.intrinsic+json": {
              "type": "string"
            },
            "text/plain": [
              "'1.7.0+cu101'"
            ]
          },
          "metadata": {
            "tags": []
          },
          "execution_count": 1
        }
      ]
    },
    {
      "cell_type": "code",
      "metadata": {
        "colab": {
          "base_uri": "https://localhost:8080/"
        },
        "id": "KKdZOFOQTJDb",
        "outputId": "a1b40c94-2f10-41a5-fdfe-998589c8e6af"
      },
      "source": [
        "# For reproducibility\r\n",
        "torch.manual_seed(1)"
      ],
      "execution_count": 2,
      "outputs": [
        {
          "output_type": "execute_result",
          "data": {
            "text/plain": [
              "<torch._C.Generator at 0x7fd9d5833b58>"
            ]
          },
          "metadata": {
            "tags": []
          },
          "execution_count": 2
        }
      ]
    },
    {
      "cell_type": "code",
      "metadata": {
        "colab": {
          "base_uri": "https://localhost:8080/"
        },
        "id": "76hYIZJ4zK8N",
        "outputId": "c35920d1-8b7a-4172-9ed9-d844b607e709"
      },
      "source": [
        "# Training  dataset\r\n",
        "x_train = torch.FloatTensor([[1, 2, 1],\r\n",
        "                             [1, 3, 2],\r\n",
        "                             [1, 3, 4],\r\n",
        "                             [1, 5, 5],\r\n",
        "                             [1, 7, 5],\r\n",
        "                             [1, 2, 5],\r\n",
        "                             [1, 6, 6],\r\n",
        "                             [1, 7, 7]\r\n",
        "                            ])\r\n",
        "y_train = torch.LongTensor([2, 2, 2, 1, 1, 1, 0, 0])\r\n",
        "\r\n",
        "# Test dataset\r\n",
        "x_test = torch.FloatTensor([[2, 1, 1],\r\n",
        "                            [3, 1, 2],\r\n",
        "                            [3, 3, 4]])\r\n",
        "y_test = torch.LongTensor([2, 2, 2])\r\n",
        "\r\n",
        "# Check dataset shape\r\n",
        "print(x_train.shape, x_test.shape)\r\n",
        "print(y_train.shape, y_test.shape)"
      ],
      "execution_count": 3,
      "outputs": [
        {
          "output_type": "stream",
          "text": [
            "torch.Size([8, 3]) torch.Size([3, 3])\n",
            "torch.Size([8]) torch.Size([3])\n"
          ],
          "name": "stdout"
        }
      ]
    },
    {
      "cell_type": "markdown",
      "metadata": {
        "id": "-_ItGqlDzvEn"
      },
      "source": [
        "## Train model\r\n",
        "- Overfitting으로 인해 모델의 Test Accuracy가 낮고 Cost는 높은 모습을 확인할 수 있음"
      ]
    },
    {
      "cell_type": "code",
      "metadata": {
        "id": "2kihJhwWTdrZ"
      },
      "source": [
        "class SoftmaxClassifierModel(nn.Module):\r\n",
        "  def __init__(self):\r\n",
        "    super().__init__()\r\n",
        "    self.linear = nn.Linear(3, 3)  # input feature X Target class\r\n",
        "\r\n",
        "  def forward(self, x):\r\n",
        "    return self.linear(x)\r\n",
        "\r\n",
        "\r\n",
        "def train(model, optimizer, x_train, y_train):\r\n",
        "  n_epochs = 20\r\n",
        "  for epoch in range(n_epochs):\r\n",
        "    prediction = model(x_train)\r\n",
        "    cost = F.cross_entropy(prediction, y_train)\r\n",
        "    \r\n",
        "    optimizer.zero_grad()\r\n",
        "    cost.backward()\r\n",
        "    optimizer.step()\r\n",
        "\r\n",
        "    if epoch % 1 == 0:\r\n",
        "      print(f'epoch : {epoch:5}  |  cost : {cost:10.6f}')\r\n",
        "\r\n",
        "def test(model, x_test, y_test):\r\n",
        "  prediction = model(x_test)\r\n",
        "  cost = F.cross_entropy(prediction, y_test)\r\n",
        "\r\n",
        "  predicted_class = prediction.max(dim=1)[1]\r\n",
        "  correct_count = sum(predicted_class == y_test)\r\n",
        "\r\n",
        "  print(f'Cost : {cost:8.6f}  |  Accuracy : {correct_count/len(y_test):8.6f}')"
      ],
      "execution_count": 4,
      "outputs": []
    },
    {
      "cell_type": "code",
      "metadata": {
        "colab": {
          "base_uri": "https://localhost:8080/"
        },
        "id": "lvc1tNKgtThL",
        "outputId": "3eb3de06-988a-4fae-cc2d-c97bcf4053e0"
      },
      "source": [
        "model = SoftmaxClassifierModel()\r\n",
        "optimizer = optim.SGD(model.parameters(), lr=0.1)\r\n",
        "\r\n",
        "train(model, optimizer, x_train, y_train)"
      ],
      "execution_count": 5,
      "outputs": [
        {
          "output_type": "stream",
          "text": [
            "epoch :     0  |  cost :   2.203667\n",
            "epoch :     1  |  cost :   1.199645\n",
            "epoch :     2  |  cost :   1.142985\n",
            "epoch :     3  |  cost :   1.117769\n",
            "epoch :     4  |  cost :   1.100901\n",
            "epoch :     5  |  cost :   1.089523\n",
            "epoch :     6  |  cost :   1.079872\n",
            "epoch :     7  |  cost :   1.071320\n",
            "epoch :     8  |  cost :   1.063325\n",
            "epoch :     9  |  cost :   1.055720\n",
            "epoch :    10  |  cost :   1.048378\n",
            "epoch :    11  |  cost :   1.041245\n",
            "epoch :    12  |  cost :   1.034285\n",
            "epoch :    13  |  cost :   1.027478\n",
            "epoch :    14  |  cost :   1.020813\n",
            "epoch :    15  |  cost :   1.014279\n",
            "epoch :    16  |  cost :   1.007872\n",
            "epoch :    17  |  cost :   1.001586\n",
            "epoch :    18  |  cost :   0.995419\n",
            "epoch :    19  |  cost :   0.989365\n"
          ],
          "name": "stdout"
        }
      ]
    },
    {
      "cell_type": "code",
      "metadata": {
        "colab": {
          "base_uri": "https://localhost:8080/"
        },
        "id": "Z3g3P7ELt0a9",
        "outputId": "3ab833af-19cb-47cd-b6cc-94a2cf8a74d0"
      },
      "source": [
        "test(model, x_test, y_test)"
      ],
      "execution_count": 6,
      "outputs": [
        {
          "output_type": "stream",
          "text": [
            "Cost : 1.425844  |  Accuracy : 0.000000\n"
          ],
          "name": "stdout"
        }
      ]
    },
    {
      "cell_type": "markdown",
      "metadata": {
        "id": "t13sEsxmtvCf"
      },
      "source": [
        "## Learning rate\r\n",
        "- Gradient Descent에서 $\\alpha$ 값\r\n",
        "- learning rate가 너무 높으면 diverge하면서 cost가 점점 증가함(overshooting)\r\n",
        "- learning rate가 너무 낮으면 cost가 잘 줄어들지 않아 학습 효율이 떨어짐"
      ]
    },
    {
      "cell_type": "code",
      "metadata": {
        "colab": {
          "base_uri": "https://localhost:8080/"
        },
        "id": "waOiz6IFwKCk",
        "outputId": "09e29fa1-76c4-4b4d-daff-e6623b8c1074"
      },
      "source": [
        "# too high learning rate\r\n",
        "model = SoftmaxClassifierModel()\r\n",
        "lr = 1e5\r\n",
        "train(model, optim.SGD(model.parameters(), lr=lr), x_train, y_train)"
      ],
      "execution_count": 7,
      "outputs": [
        {
          "output_type": "stream",
          "text": [
            "epoch :     0  |  cost :   1.280268\n",
            "epoch :     1  |  cost : 976950.750000\n",
            "epoch :     2  |  cost : 1279135.250000\n",
            "epoch :     3  |  cost : 1198378.875000\n",
            "epoch :     4  |  cost : 1098825.750000\n",
            "epoch :     5  |  cost : 1968197.625000\n",
            "epoch :     6  |  cost : 284763.250000\n",
            "epoch :     7  |  cost : 1532260.250000\n",
            "epoch :     8  |  cost : 1651503.750000\n",
            "epoch :     9  |  cost : 521878.562500\n",
            "epoch :    10  |  cost : 1397263.250000\n",
            "epoch :    11  |  cost : 750986.375000\n",
            "epoch :    12  |  cost : 918691.375000\n",
            "epoch :    13  |  cost : 1487888.250000\n",
            "epoch :    14  |  cost : 1582260.125000\n",
            "epoch :    15  |  cost : 685818.125000\n",
            "epoch :    16  |  cost : 1140048.875000\n",
            "epoch :    17  |  cost : 940566.375000\n",
            "epoch :    18  |  cost : 931638.250000\n",
            "epoch :    19  |  cost : 1971322.625000\n"
          ],
          "name": "stdout"
        }
      ]
    },
    {
      "cell_type": "code",
      "metadata": {
        "colab": {
          "base_uri": "https://localhost:8080/"
        },
        "id": "ZFVA7Z5Fw32G",
        "outputId": "4f4c1662-9f9f-42ea-a0e7-ec9238b930b5"
      },
      "source": [
        "# too low learning rate\r\n",
        "model = SoftmaxClassifierModel()\r\n",
        "lr = 1e-5\r\n",
        "train(model, optim.SGD(model.parameters(), lr=lr), x_train, y_train)"
      ],
      "execution_count": 8,
      "outputs": [
        {
          "output_type": "stream",
          "text": [
            "epoch :     0  |  cost :   3.187324\n",
            "epoch :     1  |  cost :   3.187014\n",
            "epoch :     2  |  cost :   3.186703\n",
            "epoch :     3  |  cost :   3.186393\n",
            "epoch :     4  |  cost :   3.186082\n",
            "epoch :     5  |  cost :   3.185772\n",
            "epoch :     6  |  cost :   3.185461\n",
            "epoch :     7  |  cost :   3.185151\n",
            "epoch :     8  |  cost :   3.184840\n",
            "epoch :     9  |  cost :   3.184530\n",
            "epoch :    10  |  cost :   3.184220\n",
            "epoch :    11  |  cost :   3.183910\n",
            "epoch :    12  |  cost :   3.183599\n",
            "epoch :    13  |  cost :   3.183289\n",
            "epoch :    14  |  cost :   3.182979\n",
            "epoch :    15  |  cost :   3.182669\n",
            "epoch :    16  |  cost :   3.182359\n",
            "epoch :    17  |  cost :   3.182048\n",
            "epoch :    18  |  cost :   3.181738\n",
            "epoch :    19  |  cost :   3.181427\n"
          ],
          "name": "stdout"
        }
      ]
    },
    {
      "cell_type": "markdown",
      "metadata": {
        "id": "DShG4r9SxePv"
      },
      "source": [
        "- 적절한 크기의 learning rate로 시작해서, cost가 발산하면 줄이고 cost가 정체하면 높이는 방식으로 조절"
      ]
    },
    {
      "cell_type": "code",
      "metadata": {
        "colab": {
          "base_uri": "https://localhost:8080/"
        },
        "id": "vu7D9jRcxmSR",
        "outputId": "0e6b3450-a181-44c3-93d0-913ad9063377"
      },
      "source": [
        "torch.manual_seed(1)\r\n",
        "\r\n",
        "# moderate learning rate\r\n",
        "model = SoftmaxClassifierModel()\r\n",
        "lr = 1e-1\r\n",
        "train(model, optim.SGD(model.parameters(), lr=lr), x_train, y_train)"
      ],
      "execution_count": 9,
      "outputs": [
        {
          "output_type": "stream",
          "text": [
            "epoch :     0  |  cost :   2.203667\n",
            "epoch :     1  |  cost :   1.199645\n",
            "epoch :     2  |  cost :   1.142985\n",
            "epoch :     3  |  cost :   1.117769\n",
            "epoch :     4  |  cost :   1.100901\n",
            "epoch :     5  |  cost :   1.089523\n",
            "epoch :     6  |  cost :   1.079872\n",
            "epoch :     7  |  cost :   1.071320\n",
            "epoch :     8  |  cost :   1.063325\n",
            "epoch :     9  |  cost :   1.055720\n",
            "epoch :    10  |  cost :   1.048378\n",
            "epoch :    11  |  cost :   1.041245\n",
            "epoch :    12  |  cost :   1.034285\n",
            "epoch :    13  |  cost :   1.027478\n",
            "epoch :    14  |  cost :   1.020813\n",
            "epoch :    15  |  cost :   1.014279\n",
            "epoch :    16  |  cost :   1.007872\n",
            "epoch :    17  |  cost :   1.001586\n",
            "epoch :    18  |  cost :   0.995419\n",
            "epoch :    19  |  cost :   0.989365\n"
          ],
          "name": "stdout"
        }
      ]
    },
    {
      "cell_type": "markdown",
      "metadata": {
        "id": "2P3NCTmM5hp0"
      },
      "source": [
        "## Data Preprocessing\r\n",
        "- 각 속성별 값의 범위(scale)가 크게 다르다면 범위가 큰 값이 과도하게 예측에 반영됨\r\n",
        "- 속성별 범위(scale) 차이로 인한 영향을 제거하기 위해 정규화 필요"
      ]
    },
    {
      "cell_type": "code",
      "metadata": {
        "colab": {
          "base_uri": "https://localhost:8080/"
        },
        "id": "sfW6-Zr18D7Z",
        "outputId": "aad51973-5627-45cf-8441-f58a29f0d82c"
      },
      "source": [
        "mu = x_train.mean(dim=0)\r\n",
        "sigma = x_train.std(dim=0) + 1\r\n",
        "\r\n",
        "x_train_normalized = (x_train - mu) / sigma\r\n",
        "x_test_normalized  = (x_test - mu) / sigma\r\n",
        "\r\n",
        "print(x_train_normalized)\r\n",
        "print(x_train_normalized.mean(dim=0), x_train_normalized.std(dim=0))"
      ],
      "execution_count": 10,
      "outputs": [
        {
          "output_type": "stream",
          "text": [
            "tensor([[ 0.0000, -0.7578, -1.1267],\n",
            "        [ 0.0000, -0.4387, -0.7928],\n",
            "        [ 0.0000, -0.4387, -0.1252],\n",
            "        [ 0.0000,  0.1994,  0.2086],\n",
            "        [ 0.0000,  0.8376,  0.2086],\n",
            "        [ 0.0000, -0.7578,  0.2086],\n",
            "        [ 0.0000,  0.5185,  0.5425],\n",
            "        [ 0.0000,  0.8376,  0.8763]])\n",
            "tensor([0., 0., 0.]) tensor([0.0000, 0.6809, 0.6662])\n"
          ],
          "name": "stdout"
        }
      ]
    },
    {
      "cell_type": "code",
      "metadata": {
        "colab": {
          "base_uri": "https://localhost:8080/"
        },
        "id": "outv57Ut8ily",
        "outputId": "f2e5f9fe-bc28-4455-8828-350be906adb0"
      },
      "source": [
        "torch.manual_seed(1)\r\n",
        "\r\n",
        "model = SoftmaxClassifierModel()\r\n",
        "optimizer = optim.SGD(model.parameters(), lr=0.1)\r\n",
        "\r\n",
        "train(model, optimizer, x_train_normalized, y_train)"
      ],
      "execution_count": 11,
      "outputs": [
        {
          "output_type": "stream",
          "text": [
            "epoch :     0  |  cost :   1.248026\n",
            "epoch :     1  |  cost :   1.222619\n",
            "epoch :     2  |  cost :   1.198292\n",
            "epoch :     3  |  cost :   1.175012\n",
            "epoch :     4  |  cost :   1.152744\n",
            "epoch :     5  |  cost :   1.131453\n",
            "epoch :     6  |  cost :   1.111105\n",
            "epoch :     7  |  cost :   1.091664\n",
            "epoch :     8  |  cost :   1.073092\n",
            "epoch :     9  |  cost :   1.055356\n",
            "epoch :    10  |  cost :   1.038417\n",
            "epoch :    11  |  cost :   1.022243\n",
            "epoch :    12  |  cost :   1.006796\n",
            "epoch :    13  |  cost :   0.992044\n",
            "epoch :    14  |  cost :   0.977953\n",
            "epoch :    15  |  cost :   0.964491\n",
            "epoch :    16  |  cost :   0.951626\n",
            "epoch :    17  |  cost :   0.939327\n",
            "epoch :    18  |  cost :   0.927566\n",
            "epoch :    19  |  cost :   0.916316\n"
          ],
          "name": "stdout"
        }
      ]
    }
  ]
}