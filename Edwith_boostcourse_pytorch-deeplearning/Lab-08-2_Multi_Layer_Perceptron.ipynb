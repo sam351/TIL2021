{
  "nbformat": 4,
  "nbformat_minor": 0,
  "metadata": {
    "colab": {
      "name": "Lab-08-2_Multi_Layer_Perceptron",
      "provenance": [],
      "collapsed_sections": []
    },
    "kernelspec": {
      "name": "python3",
      "display_name": "Python 3"
    }
  },
  "cells": [
    {
      "cell_type": "code",
      "metadata": {
        "colab": {
          "base_uri": "https://localhost:8080/",
          "height": 35
        },
        "id": "_E-LwOBwpoTW",
        "outputId": "4a5070b2-c3e5-42b8-e820-75e4c84ad63b"
      },
      "source": [
        "import torch\r\n",
        "from collections import OrderedDict\r\n",
        "\r\n",
        "# check device\r\n",
        "device = 'cuda' if torch.cuda.is_available() else 'cpu'\r\n",
        "\r\n",
        "# set seed for reproducibility\r\n",
        "torch.manual_seed(777)\r\n",
        "if device == 'cuda':\r\n",
        "    torch.cuda.manual_seed_all(777)\r\n",
        "\r\n",
        "torch.__version__"
      ],
      "execution_count": 1,
      "outputs": [
        {
          "output_type": "execute_result",
          "data": {
            "application/vnd.google.colaboratory.intrinsic+json": {
              "type": "string"
            },
            "text/plain": [
              "'1.7.0+cu101'"
            ]
          },
          "metadata": {
            "tags": []
          },
          "execution_count": 1
        }
      ]
    },
    {
      "cell_type": "code",
      "metadata": {
        "id": "jwlfmJkOvSKX"
      },
      "source": [
        "def train(model, optimizer, criterion, x_train, y_train):\r\n",
        "  n_epochs = 10000\r\n",
        "  for epoch in range(n_epochs+1):\r\n",
        "    hypothesis = model(x_train)\r\n",
        "    cost = criterion(hypothesis, y_train)\r\n",
        "\r\n",
        "    optimizer.zero_grad()\r\n",
        "    cost.backward()\r\n",
        "    optimizer.step()\r\n",
        "\r\n",
        "    if epoch%1000 == 0:\r\n",
        "      print(f'epoch : {epoch:6}  |  cost : {cost:10.6f}')"
      ],
      "execution_count": 2,
      "outputs": []
    },
    {
      "cell_type": "markdown",
      "metadata": {
        "id": "oYG1TOSu6jnK"
      },
      "source": [
        "## Multi Layer Perceptron and XOR problem\r\n",
        "- Perceptron 모델로 풀 수 없는 XOR 문제를 풀기 위해, Hidden Layer를 추가해 여러 층으로 쌓아 올린 MLP 구현"
      ]
    },
    {
      "cell_type": "code",
      "metadata": {
        "colab": {
          "base_uri": "https://localhost:8080/"
        },
        "id": "KKdZOFOQTJDb",
        "outputId": "927ca853-b6ed-4836-8096-67c600012ea1"
      },
      "source": [
        "# prepare data for xor problem\r\n",
        "x_train = torch.FloatTensor([[0, 0], [0, 1], [1, 0], [1, 1]]).to(device)\r\n",
        "y_train = torch.FloatTensor([[0], [1], [1], [0]]).to(device)\r\n",
        "\r\n",
        "print(x_train)\r\n",
        "print(y_train)"
      ],
      "execution_count": 3,
      "outputs": [
        {
          "output_type": "stream",
          "text": [
            "tensor([[0., 0.],\n",
            "        [0., 1.],\n",
            "        [1., 0.],\n",
            "        [1., 1.]])\n",
            "tensor([[0.],\n",
            "        [1.],\n",
            "        [1.],\n",
            "        [0.]])\n"
          ],
          "name": "stdout"
        }
      ]
    },
    {
      "cell_type": "code",
      "metadata": {
        "colab": {
          "base_uri": "https://localhost:8080/"
        },
        "id": "3Su8cM_p20pX",
        "outputId": "e22ea345-e768-4adf-da5b-3dbcc6da4494"
      },
      "source": [
        "# train model\r\n",
        "model = torch.nn.Sequential(OrderedDict([\r\n",
        "    ('linear1', torch.nn.Linear(2, 2, bias=True)),\r\n",
        "    ('softmax1', torch.nn.Sigmoid()),\r\n",
        "    ('linear2', torch.nn.Linear(2, 1, bias=True)),\r\n",
        "    ('softmax2', torch.nn.Sigmoid()),\r\n",
        "]))\r\n",
        "\r\n",
        "optimizer = torch.optim.SGD(model.parameters(), lr=1)  # modified learning rate from 0.1 to 1 to speed up learning\r\n",
        "criterion = torch.nn.BCELoss().to(device)\r\n",
        "train(model, optimizer, criterion, x_train, y_train)"
      ],
      "execution_count": 4,
      "outputs": [
        {
          "output_type": "stream",
          "text": [
            "epoch :      0  |  cost :   0.743407\n",
            "epoch :   1000  |  cost :   0.693100\n",
            "epoch :   2000  |  cost :   0.683832\n",
            "epoch :   3000  |  cost :   0.013984\n",
            "epoch :   4000  |  cost :   0.005768\n",
            "epoch :   5000  |  cost :   0.003601\n",
            "epoch :   6000  |  cost :   0.002610\n",
            "epoch :   7000  |  cost :   0.002044\n",
            "epoch :   8000  |  cost :   0.001678\n",
            "epoch :   9000  |  cost :   0.001423\n",
            "epoch :  10000  |  cost :   0.001235\n"
          ],
          "name": "stdout"
        }
      ]
    },
    {
      "cell_type": "code",
      "metadata": {
        "colab": {
          "base_uri": "https://localhost:8080/"
        },
        "id": "hmSS2-mO4Y-Y",
        "outputId": "6fd33445-a805-4b5f-a2cc-5e9a50307cec"
      },
      "source": [
        "# compute accuracy\r\n",
        "with torch.no_grad():\r\n",
        "  hypothesis = model(x_train)\r\n",
        "  predicted = (hypothesis > 0.5).float()\r\n",
        "  accuracy = (predicted == y_train).float().mean()\r\n",
        "  print(f'>>> hypothesis :\\n {hypothesis} \\n\\n>>> label :\\n {y_train} \\n\\n>>> accuracy : {accuracy}')"
      ],
      "execution_count": 5,
      "outputs": [
        {
          "output_type": "stream",
          "text": [
            ">>> hypothesis :\n",
            " tensor([[0.0011],\n",
            "        [0.9989],\n",
            "        [0.9989],\n",
            "        [0.0017]]) \n",
            "\n",
            ">>> label :\n",
            " tensor([[0.],\n",
            "        [1.],\n",
            "        [1.],\n",
            "        [0.]]) \n",
            "\n",
            ">>> accuracy : 1.0\n"
          ],
          "name": "stdout"
        }
      ]
    },
    {
      "cell_type": "markdown",
      "metadata": {
        "id": "S114Tn5du6j0"
      },
      "source": [
        "## Multi Layer Perceptron (Deeper)\r\n",
        "- 더 많은 층을 쌓아서 loss 최소화"
      ]
    },
    {
      "cell_type": "code",
      "metadata": {
        "colab": {
          "base_uri": "https://localhost:8080/"
        },
        "id": "E1rO0TUou6j7",
        "outputId": "0341e235-2637-4d4c-a3bb-73d929dda226"
      },
      "source": [
        "# train model\r\n",
        "model2 = torch.nn.Sequential(OrderedDict([\r\n",
        "    ('linear1', torch.nn.Linear(2, 10, bias=True)),\r\n",
        "    ('softmax1', torch.nn.Sigmoid()),\r\n",
        "    ('linear2', torch.nn.Linear(10, 10, bias=True)),\r\n",
        "    ('softmax2', torch.nn.Sigmoid()),\r\n",
        "    ('linear3', torch.nn.Linear(10, 10, bias=True)),\r\n",
        "    ('softmax3', torch.nn.Sigmoid()),\r\n",
        "    ('linear4', torch.nn.Linear(10, 1, bias=True)),\r\n",
        "    ('softmax4', torch.nn.Sigmoid()),\r\n",
        "]))\r\n",
        "\r\n",
        "optimizer2 = torch.optim.SGD(model2.parameters(), lr=1)  # modified learning rate from 0.1 to 1 to speed up learning\r\n",
        "criterion2 = torch.nn.BCELoss().to(device)\r\n",
        "train(model2, optimizer2, criterion2, x_train, y_train)"
      ],
      "execution_count": 6,
      "outputs": [
        {
          "output_type": "stream",
          "text": [
            "epoch :      0  |  cost :   0.697808\n",
            "epoch :   1000  |  cost :   0.692944\n",
            "epoch :   2000  |  cost :   0.679710\n",
            "epoch :   3000  |  cost :   0.002338\n",
            "epoch :   4000  |  cost :   0.000608\n",
            "epoch :   5000  |  cost :   0.000333\n",
            "epoch :   6000  |  cost :   0.000225\n",
            "epoch :   7000  |  cost :   0.000169\n",
            "epoch :   8000  |  cost :   0.000134\n",
            "epoch :   9000  |  cost :   0.000111\n",
            "epoch :  10000  |  cost :   0.000095\n"
          ],
          "name": "stdout"
        }
      ]
    },
    {
      "cell_type": "code",
      "metadata": {
        "colab": {
          "base_uri": "https://localhost:8080/"
        },
        "id": "hBIBVVFIu6j8",
        "outputId": "b1b9b102-e689-4dec-bc32-bc78bd020829"
      },
      "source": [
        "# compute accuracy\r\n",
        "with torch.no_grad():\r\n",
        "  hypothesis = model2(x_train)\r\n",
        "  predicted = (hypothesis > 0.5).float()\r\n",
        "  accuracy = (predicted == y_train).float().mean()\r\n",
        "  print(f'>>> hypothesis :\\n {hypothesis} \\n\\n>>> label :\\n {y_train} \\n\\n>>> accuracy : {accuracy}')"
      ],
      "execution_count": 7,
      "outputs": [
        {
          "output_type": "stream",
          "text": [
            ">>> hypothesis :\n",
            " tensor([[7.4389e-05],\n",
            "        [9.9988e-01],\n",
            "        [9.9990e-01],\n",
            "        [8.8289e-05]]) \n",
            "\n",
            ">>> label :\n",
            " tensor([[0.],\n",
            "        [1.],\n",
            "        [1.],\n",
            "        [0.]]) \n",
            "\n",
            ">>> accuracy : 1.0\n"
          ],
          "name": "stdout"
        }
      ]
    }
  ]
}