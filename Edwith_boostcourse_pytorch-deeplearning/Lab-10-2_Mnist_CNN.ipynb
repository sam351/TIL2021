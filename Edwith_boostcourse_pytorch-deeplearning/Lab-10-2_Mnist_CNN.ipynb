{
  "nbformat": 4,
  "nbformat_minor": 0,
  "metadata": {
    "colab": {
      "name": "Lab-10-2_Mnist_CNN",
      "provenance": [],
      "collapsed_sections": []
    },
    "kernelspec": {
      "name": "python3",
      "display_name": "Python 3"
    },
    "accelerator": "GPU"
  },
  "cells": [
    {
      "cell_type": "code",
      "metadata": {
        "colab": {
          "base_uri": "https://localhost:8080/"
        },
        "id": "_E-LwOBwpoTW",
        "outputId": "7e96ae72-1bae-4d34-8697-04bae6d17463"
      },
      "source": [
        "import torch\r\n",
        "import torchvision.datasets as dsets\r\n",
        "from torchvision import transforms\r\n",
        "import random\r\n",
        "\r\n",
        "\r\n",
        "# check device\r\n",
        "device = 'cuda' if torch.cuda.is_available() else 'cpu'\r\n",
        "\r\n",
        "# set seed for reproducibility\r\n",
        "random.seed(777)\r\n",
        "torch.manual_seed(777)\r\n",
        "if device == 'cuda':\r\n",
        "    torch.cuda.manual_seed_all(777)\r\n",
        "\r\n",
        "torch.__version__, device"
      ],
      "execution_count": 1,
      "outputs": [
        {
          "output_type": "execute_result",
          "data": {
            "text/plain": [
              "('1.7.0+cu101', 'cuda')"
            ]
          },
          "metadata": {
            "tags": []
          },
          "execution_count": 1
        }
      ]
    },
    {
      "cell_type": "code",
      "metadata": {
        "id": "zIl8MZs2_-k6"
      },
      "source": [
        "def train(model, criterion, optimizer, train_loader, n_epochs, device=device):\r\n",
        "  print('>>> Learning started. It takes sometime.')\r\n",
        "\r\n",
        "  total_batch = len(train_loader)\r\n",
        "  for epoch in range(n_epochs):\r\n",
        "    avg_cost = 0\r\n",
        "    for x_train, y_train in train_loader:\r\n",
        "      x_train = x_train.to(device)\r\n",
        "      y_train = y_train.to(device)\r\n",
        "\r\n",
        "      hypothesis = model(x_train)\r\n",
        "      cost = criterion(hypothesis, y_train)\r\n",
        "\r\n",
        "      optimizer.zero_grad()\r\n",
        "      cost.backward()\r\n",
        "      optimizer.step()\r\n",
        "\r\n",
        "      avg_cost += cost/total_batch\r\n",
        "    print(f'[Epoch: {epoch+1:3}] cost = {avg_cost:10.6f}')\r\n",
        "  print('>>> Learning Finished!')\r\n",
        "\r\n",
        "\r\n",
        "def test(model, test_data, device=device):\r\n",
        "  with torch.no_grad():\r\n",
        "    x_test = test_data.data.view(len(test_data), 1, 28, 28).float().to(device)\r\n",
        "    y_test = test_data.targets.float().to(device)\r\n",
        "\r\n",
        "    pred = model(x_test)\r\n",
        "    correct_pred = pred.argmax(1) == y_test\r\n",
        "    acc = correct_pred.float().mean()\r\n",
        "    print(f'>>> Test Accuracy: {acc:10.6f}')"
      ],
      "execution_count": 2,
      "outputs": []
    },
    {
      "cell_type": "markdown",
      "metadata": {
        "id": "oYG1TOSu6jnK"
      },
      "source": [
        "## Train CNN model with MNIST\r\n",
        "- DNN과 마찬가지로 torch.nn.Module 상속해 모델 정의\r\n",
        "- 각 CNN layer는 Conv2d + Relu + MaxPool2d로 구성\r\n",
        "- 마지막 단계에서 view를 통한 flatten 작업 및 fc layer 통과"
      ]
    },
    {
      "cell_type": "code",
      "metadata": {
        "id": "KKdZOFOQTJDb"
      },
      "source": [
        "# set parameters\r\n",
        "learning_rate = 0.001\r\n",
        "n_epochs = 15\r\n",
        "batch_size = 100\r\n",
        "\r\n",
        "# prepare data\r\n",
        "mnist_train = dsets.MNIST(root='mnist_data/', train=True, transform=transforms.ToTensor(), download=True)\r\n",
        "mnist_test = dsets.MNIST(root='mnist_data/', train=False, transform=transforms.ToTensor(), download=True)\r\n",
        "\r\n",
        "train_loader = torch.utils.data.DataLoader(dataset=mnist_train, batch_size=batch_size, shuffle=True, drop_last=True)\r\n",
        "test_loader  = torch.utils.data.DataLoader(dataset=mnist_test, batch_size=batch_size, shuffle=True, drop_last=True)"
      ],
      "execution_count": 3,
      "outputs": []
    },
    {
      "cell_type": "code",
      "metadata": {
        "id": "hIngwxHtKfDJ"
      },
      "source": [
        "class CNN(torch.nn.Module):\r\n",
        "  def __init__(self):\r\n",
        "    super(CNN, self).__init__()\r\n",
        "    self.layer1 = torch.nn.Sequential(\r\n",
        "        torch.nn.Conv2d(1, 32, kernel_size=3, stride=1, padding=1),\r\n",
        "        torch.nn.ReLU(),\r\n",
        "        torch.nn.MaxPool2d(2),\r\n",
        "    )\r\n",
        "    self.layer2 = torch.nn.Sequential(\r\n",
        "        torch.nn.Conv2d(32, 64, kernel_size=3, stride=1, padding=1),\r\n",
        "        torch.nn.ReLU(),\r\n",
        "        torch.nn.MaxPool2d(2),\r\n",
        "    )\r\n",
        "    self.fc = torch.nn.Linear(64*7*7, 10, bias=True)\r\n",
        "    torch.nn.init.xavier_uniform_(self.fc.weight)\r\n",
        "\r\n",
        "  def forward(self, x):\r\n",
        "    output = self.layer1(x)\r\n",
        "    output = self.layer2(output)\r\n",
        "\r\n",
        "    output = output.view(output.size(0), -1)\r\n",
        "    output = self.fc(output)\r\n",
        "    return output"
      ],
      "execution_count": 4,
      "outputs": []
    },
    {
      "cell_type": "code",
      "metadata": {
        "id": "ONN7vNwr_ctz",
        "colab": {
          "base_uri": "https://localhost:8080/"
        },
        "outputId": "0f63c1a2-92e1-4337-dc76-74f81f7f9c20"
      },
      "source": [
        "%%time\r\n",
        "# generate model\r\n",
        "model = CNN().to(device)\r\n",
        "criterion = torch.nn.CrossEntropyLoss().to(device)\r\n",
        "optimizer = torch.optim.Adam(model.parameters(), lr=learning_rate)\r\n",
        "\r\n",
        "# train model\r\n",
        "train(model, criterion, optimizer, train_loader, n_epochs, device)"
      ],
      "execution_count": 5,
      "outputs": [
        {
          "output_type": "stream",
          "text": [
            ">>> Learning started. It takes sometime.\n",
            "[Epoch:   1] cost =   0.220191\n",
            "[Epoch:   2] cost =   0.060927\n",
            "[Epoch:   3] cost =   0.046081\n",
            "[Epoch:   4] cost =   0.036583\n",
            "[Epoch:   5] cost =   0.029966\n",
            "[Epoch:   6] cost =   0.026065\n",
            "[Epoch:   7] cost =   0.020669\n",
            "[Epoch:   8] cost =   0.018505\n",
            "[Epoch:   9] cost =   0.015516\n",
            "[Epoch:  10] cost =   0.012905\n",
            "[Epoch:  11] cost =   0.011503\n",
            "[Epoch:  12] cost =   0.008773\n",
            "[Epoch:  13] cost =   0.008104\n",
            "[Epoch:  14] cost =   0.005991\n",
            "[Epoch:  15] cost =   0.006965\n",
            ">>> Learning Finished!\n",
            "CPU times: user 1min 20s, sys: 1.65 s, total: 1min 21s\n",
            "Wall time: 1min 22s\n"
          ],
          "name": "stdout"
        }
      ]
    },
    {
      "cell_type": "code",
      "metadata": {
        "colab": {
          "base_uri": "https://localhost:8080/"
        },
        "id": "2Iu2BMu4WVCx",
        "outputId": "713c741a-1fb3-4f6e-9721-b332f7fc972c"
      },
      "source": [
        "# test model\r\n",
        "test(model, mnist_test, device)"
      ],
      "execution_count": 6,
      "outputs": [
        {
          "output_type": "stream",
          "text": [
            ">>> Test Accuracy:   0.978300\n"
          ],
          "name": "stdout"
        }
      ]
    },
    {
      "cell_type": "code",
      "metadata": {
        "id": "L0pMtsZDZp1t"
      },
      "source": [
        "# # clear memory\r\n",
        "# import gc\r\n",
        "# del model\r\n",
        "# gc.collect()"
      ],
      "execution_count": 7,
      "outputs": []
    },
    {
      "cell_type": "markdown",
      "metadata": {
        "id": "clO26dWB_jrB"
      },
      "source": [
        "## Larger Model\r\n",
        "- 모델의 깊이를 키워 정확도 향상 시도\r\n",
        "- 모델이 깊어진다고 해서 정확도가 항상 올라가는 것은 아님. 효율적인 모델 학습이 중요"
      ]
    },
    {
      "cell_type": "code",
      "metadata": {
        "id": "JOvLkV_aNHSs"
      },
      "source": [
        "class CNN2(torch.nn.Module):\r\n",
        "  def __init__(self):\r\n",
        "    super(CNN2, self).__init__()\r\n",
        "    self.keep_prob = 0.5\r\n",
        "\r\n",
        "    self.layer1 = torch.nn.Sequential(\r\n",
        "        torch.nn.Conv2d(1, 32, 3, 1, padding=1),\r\n",
        "        torch.nn.ReLU(),\r\n",
        "        torch.nn.MaxPool2d(kernel_size=2, stride=2)\r\n",
        "    )\r\n",
        "    self.layer2 = torch.nn.Sequential(\r\n",
        "        torch.nn.Conv2d(32, 64, 3, 1, padding=1),\r\n",
        "        torch.nn.ReLU(),\r\n",
        "        torch.nn.MaxPool2d(kernel_size=2, stride=2)\r\n",
        "    )\r\n",
        "    self.layer3 = torch.nn.Sequential(\r\n",
        "        torch.nn.Conv2d(64, 128, 3, 1, padding=1),\r\n",
        "        torch.nn.ReLU(),\r\n",
        "        torch.nn.MaxPool2d(kernel_size=2, stride=2, padding=1)\r\n",
        "    )\r\n",
        "    self.fc1 = torch.nn.Linear(128*4*4, 5**4, bias=True)\r\n",
        "    torch.nn.init.xavier_uniform_(self.fc1.weight)\r\n",
        "    self.layer4 = torch.nn.Sequential(\r\n",
        "        self.fc1,\r\n",
        "        torch.nn.ReLU(),\r\n",
        "        torch.nn.Dropout(p=1-self.keep_prob)\r\n",
        "    )\r\n",
        "    self.fc2 = torch.nn.Linear(5**4, 10, bias=True)\r\n",
        "    torch.nn.init.xavier_uniform_(self.fc2.weight)\r\n",
        "  \r\n",
        "  \r\n",
        "  def forward(self, x):\r\n",
        "    output = self.layer1(x)\r\n",
        "    output = self.layer2(output)\r\n",
        "    output = self.layer3(output)\r\n",
        "    output = output.view(output.size(0), -1)\r\n",
        "    output = self.layer4(output)\r\n",
        "    output = self.fc2(output)\r\n",
        "    return output"
      ],
      "execution_count": 8,
      "outputs": []
    },
    {
      "cell_type": "code",
      "metadata": {
        "colab": {
          "base_uri": "https://localhost:8080/"
        },
        "id": "hn4puHIWYEqh",
        "outputId": "00e2af4d-bc04-47b6-8e31-3d8140c17f75"
      },
      "source": [
        "%%time\r\n",
        "# generate model\r\n",
        "model = CNN2().to(device)\r\n",
        "criterion = torch.nn.CrossEntropyLoss().to(device)\r\n",
        "optimizer = torch.optim.Adam(model.parameters(), lr=learning_rate)\r\n",
        "\r\n",
        "# train model\r\n",
        "train(model, criterion, optimizer, train_loader, n_epochs, device)"
      ],
      "execution_count": 9,
      "outputs": [
        {
          "output_type": "stream",
          "text": [
            ">>> Learning started. It takes sometime.\n",
            "[Epoch:   1] cost =   0.211705\n",
            "[Epoch:   2] cost =   0.054164\n",
            "[Epoch:   3] cost =   0.038617\n",
            "[Epoch:   4] cost =   0.029678\n",
            "[Epoch:   5] cost =   0.024067\n",
            "[Epoch:   6] cost =   0.020131\n",
            "[Epoch:   7] cost =   0.016899\n",
            "[Epoch:   8] cost =   0.014031\n",
            "[Epoch:   9] cost =   0.013088\n",
            "[Epoch:  10] cost =   0.012663\n",
            "[Epoch:  11] cost =   0.010881\n",
            "[Epoch:  12] cost =   0.010647\n",
            "[Epoch:  13] cost =   0.007446\n",
            "[Epoch:  14] cost =   0.008707\n",
            "[Epoch:  15] cost =   0.007447\n",
            ">>> Learning Finished!\n",
            "CPU times: user 1min 29s, sys: 773 ms, total: 1min 29s\n",
            "Wall time: 1min 30s\n"
          ],
          "name": "stdout"
        }
      ]
    },
    {
      "cell_type": "code",
      "metadata": {
        "id": "AvZp-IU1Rvl7",
        "colab": {
          "base_uri": "https://localhost:8080/"
        },
        "outputId": "af267576-641e-4e41-b6ca-2dcdc6b2a6f7"
      },
      "source": [
        "# test model\r\n",
        "test(model, mnist_test, device)"
      ],
      "execution_count": 10,
      "outputs": [
        {
          "output_type": "stream",
          "text": [
            ">>> Test Accuracy:   0.987600\n"
          ],
          "name": "stdout"
        }
      ]
    }
  ]
}