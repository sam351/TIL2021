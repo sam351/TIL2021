{
  "nbformat": 4,
  "nbformat_minor": 0,
  "metadata": {
    "colab": {
      "name": "Lec03-2. How to minimize cost in TensorFlow",
      "provenance": [],
      "collapsed_sections": []
    },
    "kernelspec": {
      "display_name": "Python 3",
      "name": "python3"
    }
  },
  "cells": [
    {
      "cell_type": "markdown",
      "metadata": {
        "id": "DUzhcZAsINs5"
      },
      "source": [
        "# Lab 03: Linear Regression and How to minimize cost 를 TensorFlow 로 구현하기"
      ]
    },
    {
      "cell_type": "markdown",
      "metadata": {
        "id": "dMN1xDN7Lx4o"
      },
      "source": [
        "## 핵심키워드\r\n",
        "- 선형회귀(Linear Regression)\r\n",
        "- 가설(Hypothesis)\r\n",
        "- 비용함수(Cost function)\r\n",
        "- 경사 하강법(Gradient Descent)\r\n",
        "- 볼록 함수(Convex function)"
      ]
    },
    {
      "cell_type": "code",
      "metadata": {
        "colab": {
          "base_uri": "https://localhost:8080/"
        },
        "id": "ggPVP7Coc-sI",
        "outputId": "776eff40-6252-4da4-ec6e-612d936171e9"
      },
      "source": [
        "import tensorflow as tf\r\n",
        "import numpy as np\r\n",
        "import matplotlib.pyplot as plt\r\n",
        "\r\n",
        "print(f'>>> original : tf - 2.4.0  |  np - 1.19.4')\r\n",
        "print(f'>>> present  : tf - {tf.__version__}  |  np - {np.__version__}')"
      ],
      "execution_count": 7,
      "outputs": [
        {
          "output_type": "stream",
          "text": [
            ">>> original : tf - 2.4.0  |  np - 1.19.4\n",
            ">>> present  : tf - 2.4.0  |  np - 1.19.4\n"
          ],
          "name": "stdout"
        }
      ]
    },
    {
      "cell_type": "markdown",
      "metadata": {
        "id": "NKAwrbS8DhXs"
      },
      "source": [
        "## Cost function in pure Python"
      ]
    },
    {
      "cell_type": "code",
      "metadata": {
        "colab": {
          "base_uri": "https://localhost:8080/"
        },
        "id": "NOXV1IKYGJAe",
        "outputId": "76df5bba-0f89-46c2-fe2e-269c504a7bd0"
      },
      "source": [
        "X = np.array([1, 2, 3])\r\n",
        "Y = np.array([1, 2, 3])\r\n",
        "\r\n",
        "def cost_func(W, X, Y):\r\n",
        "  cost = 0\r\n",
        "  for i in range(len(X)):\r\n",
        "    cost += (W * X[i] - Y[i])**2  # simplified hypothesis\r\n",
        "  return cost/len(X)\r\n",
        "\r\n",
        "for feed_W in np.linspace(-3, 5, num=15):\r\n",
        "  tmp_cost = cost_func(feed_W, X, Y)\r\n",
        "  print(f'{feed_W:6.3f} | {tmp_cost:10.5f}')"
      ],
      "execution_count": 8,
      "outputs": [
        {
          "output_type": "stream",
          "text": [
            "-3.000 |   74.66667\n",
            "-2.429 |   54.85714\n",
            "-1.857 |   38.09524\n",
            "-1.286 |   24.38095\n",
            "-0.714 |   13.71429\n",
            "-0.143 |    6.09524\n",
            " 0.429 |    1.52381\n",
            " 1.000 |    0.00000\n",
            " 1.571 |    1.52381\n",
            " 2.143 |    6.09524\n",
            " 2.714 |   13.71429\n",
            " 3.286 |   24.38095\n",
            " 3.857 |   38.09524\n",
            " 4.429 |   54.85714\n",
            " 5.000 |   74.66667\n"
          ],
          "name": "stdout"
        }
      ]
    },
    {
      "cell_type": "markdown",
      "metadata": {
        "id": "KjSTpYrhErVB"
      },
      "source": [
        "## Cost function in TensorFlow"
      ]
    },
    {
      "cell_type": "code",
      "metadata": {
        "colab": {
          "base_uri": "https://localhost:8080/"
        },
        "id": "WIEI2R-JGJE9",
        "outputId": "6964d350-27a3-4fe1-ea1b-0b8822024673"
      },
      "source": [
        "X = np.array([1, 2, 3])\r\n",
        "Y = np.array([1, 2, 3])\r\n",
        "\r\n",
        "def cost_func(W, X, Y):\r\n",
        "  cost = tf.reduce_mean(tf.square(tf.multiply(W, X) - Y))\r\n",
        "  return cost/len(X)\r\n",
        "\r\n",
        "W_values = np.linspace(-3, 5, num=15)\r\n",
        "cost_values = []\r\n",
        "\r\n",
        "for feed_W in W_values:\r\n",
        "  tmp_cost = cost_func(feed_W, X, Y)\r\n",
        "  cost_values.append(tmp_cost)\r\n",
        "  print(f'{feed_W:6.3f} | {tmp_cost:10.5f}')"
      ],
      "execution_count": 9,
      "outputs": [
        {
          "output_type": "stream",
          "text": [
            "-3.000 |   24.88889\n",
            "-2.429 |   18.28571\n",
            "-1.857 |   12.69841\n",
            "-1.286 |    8.12698\n",
            "-0.714 |    4.57143\n",
            "-0.143 |    2.03175\n",
            " 0.429 |    0.50794\n",
            " 1.000 |    0.00000\n",
            " 1.571 |    0.50794\n",
            " 2.143 |    2.03175\n",
            " 2.714 |    4.57143\n",
            " 3.286 |    8.12698\n",
            " 3.857 |   12.69841\n",
            " 4.429 |   18.28571\n",
            " 5.000 |   24.88889\n"
          ],
          "name": "stdout"
        }
      ]
    },
    {
      "cell_type": "code",
      "metadata": {
        "colab": {
          "base_uri": "https://localhost:8080/",
          "height": 279
        },
        "id": "fh0A_3rGFcly",
        "outputId": "4dd0686e-dcdd-4dc0-cc2c-437775b45a29"
      },
      "source": [
        "plt.figure(figsize=(6, 4))\r\n",
        "plt.plot(W_values, cost_values)\r\n",
        "plt.xlabel('W')\r\n",
        "plt.ylabel('Cost(W)')\r\n",
        "plt.show()"
      ],
      "execution_count": 10,
      "outputs": [
        {
          "output_type": "display_data",
          "data": {
            "image/png": "[encoded data removed]",
            "text/plain": [
              "<Figure size 432x288 with 1 Axes>"
            ]
          },
          "metadata": {
            "tags": [],
            "needs_background": "light"
          }
        }
      ]
    },
    {
      "cell_type": "markdown",
      "metadata": {
        "id": "ZX4g5ZUCIwi7"
      },
      "source": [
        "## Gredient Descent"
      ]
    },
    {
      "cell_type": "code",
      "metadata": {
        "colab": {
          "base_uri": "https://localhost:8080/"
        },
        "id": "dYizukMwfYZM",
        "outputId": "3e351173-5655-4b32-d533-3043427806eb"
      },
      "source": [
        "tf.random.set_seed(0)\r\n",
        "\r\n",
        "x_data = [1, 2, 3, 4]\r\n",
        "y_data = [1, 3, 5, 7]\r\n",
        "\r\n",
        "W = tf.Variable(tf.random.normal([1], -100, 100))\r\n",
        "alpha = 0.01\r\n",
        "\r\n",
        "for step in range(301):\r\n",
        "  hypothesis = tf.multiply(W, x_data)\r\n",
        "  cost = tf.reduce_mean(tf.square(hypothesis-y_data))\r\n",
        "\r\n",
        "  gradient = tf.reduce_mean(tf.multiply(hypothesis-y_data, x_data))\r\n",
        "  descent = W - tf.multiply(alpha, gradient)\r\n",
        "  W.assign(descent)\r\n",
        "  \r\n",
        "  if step%10==0:\r\n",
        "    print(f'{step:5} | {cost.numpy():10.4f} | {W.numpy()[0]:10.6f}')"
      ],
      "execution_count": 11,
      "outputs": [
        {
          "output_type": "stream",
          "text": [
            "    0 | 18332.2188 |  47.398293\n",
            "   10 |  3855.3564 |  22.638384\n",
            "   20 |   810.9046 |  11.283927\n",
            "   30 |   170.6631 |   6.076973\n",
            "   40 |    36.0217 |   3.689155\n",
            "   50 |     7.7069 |   2.594144\n",
            "   60 |     1.7524 |   2.091991\n",
            "   70 |     0.5001 |   1.861713\n",
            "   80 |     0.2368 |   1.756112\n",
            "   90 |     0.1814 |   1.707684\n",
            "  100 |     0.1698 |   1.685477\n",
            "  110 |     0.1673 |   1.675292\n",
            "  120 |     0.1668 |   1.670622\n",
            "  130 |     0.1667 |   1.668481\n",
            "  140 |     0.1667 |   1.667498\n",
            "  150 |     0.1667 |   1.667048\n",
            "  160 |     0.1667 |   1.666842\n",
            "  170 |     0.1667 |   1.666747\n",
            "  180 |     0.1667 |   1.666703\n",
            "  190 |     0.1667 |   1.666684\n",
            "  200 |     0.1667 |   1.666674\n",
            "  210 |     0.1667 |   1.666670\n",
            "  220 |     0.1667 |   1.666668\n",
            "  230 |     0.1667 |   1.666667\n",
            "  240 |     0.1667 |   1.666667\n",
            "  250 |     0.1667 |   1.666667\n",
            "  260 |     0.1667 |   1.666667\n",
            "  270 |     0.1667 |   1.666667\n",
            "  280 |     0.1667 |   1.666667\n",
            "  290 |     0.1667 |   1.666667\n",
            "  300 |     0.1667 |   1.666667\n"
          ],
          "name": "stdout"
        }
      ]
    },
    {
      "cell_type": "code",
      "metadata": {
        "colab": {
          "base_uri": "https://localhost:8080/"
        },
        "id": "NPmDZuMyg4G_",
        "outputId": "a5f43f66-e879-4162-d536-60e38eef4cb5"
      },
      "source": [
        "# predict Y\r\n",
        "print(5.0 * W)\r\n",
        "print(2.5 * W)"
      ],
      "execution_count": 12,
      "outputs": [
        {
          "output_type": "stream",
          "text": [
            "tf.Tensor([8.333338], shape=(1,), dtype=float32)\n",
            "tf.Tensor([4.166669], shape=(1,), dtype=float32)\n"
          ],
          "name": "stdout"
        }
      ]
    },
    {
      "cell_type": "markdown",
      "metadata": {
        "id": "ZteDN2vbGbyB"
      },
      "source": [
        "## Linear Regression Summary\r\n",
        "\r\n",
        "---\r\n",
        "\r\n",
        "**1. Hypothesis**\r\n",
        "$$ H(x) = Wx + b $$\r\n",
        "\r\n",
        "---\r\n",
        "\r\n",
        "**2. Cost**\r\n",
        "$$ cost(W)=\\frac { 1 }{ m } \\sum _{i=1}^{m}{ { (W{ x }^{ i }-y^{ i } })^{ 2 } }  $$\r\n",
        "\r\n",
        "---\r\n",
        "\r\n",
        "**3. Gradient Descent**\r\n",
        "$$ W := W-\\alpha \\frac { \\partial  }{ \\partial W } cost(W) $$"
      ]
    }
  ]
}