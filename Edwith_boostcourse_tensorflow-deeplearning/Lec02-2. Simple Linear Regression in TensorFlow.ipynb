{
  "nbformat": 4,
  "nbformat_minor": 0,
  "metadata": {
    "colab": {
      "name": "Lec02-2. Simple Linear Regression in TensorFlow",
      "provenance": [],
      "collapsed_sections": []
    },
    "kernelspec": {
      "name": "python3",
      "display_name": "Python 3"
    }
  },
  "cells": [
    {
      "cell_type": "markdown",
      "metadata": {
        "id": "DUzhcZAsINs5"
      },
      "source": [
        "# Lab 02: Simple Linear Regression 를 TensorFlow 로 구현하기"
      ]
    },
    {
      "cell_type": "markdown",
      "metadata": {
        "id": "dMN1xDN7Lx4o"
      },
      "source": [
        "## 핵심키워드\r\n",
        "- 선형회귀(Linear Regression)\r\n",
        "- 가설(Hypothesis)\r\n",
        "- 비용함수(Cost function)"
      ]
    },
    {
      "cell_type": "code",
      "metadata": {
        "colab": {
          "base_uri": "https://localhost:8080/"
        },
        "id": "ggPVP7Coc-sI",
        "outputId": "b11aa687-067e-48dd-8b8d-fe6f4f703c5e"
      },
      "source": [
        "import tensorflow as tf\r\n",
        "import numpy as np\r\n",
        "import matplotlib.pyplot as plt\r\n",
        "\r\n",
        "print(f'>>> original : tf - 2.4.0  |  np - 1.19.4')\r\n",
        "print(f'>>> present  : tf - {tf.__version__}  |  np - {np.__version__}')"
      ],
      "execution_count": null,
      "outputs": [
        {
          "output_type": "stream",
          "text": [
            ">>> original : tf - 2.4.0  |  np - 1.19.4\n",
            ">>> present  : tf - 2.4.0  |  np - 1.19.4\n"
          ],
          "name": "stdout"
        }
      ]
    },
    {
      "cell_type": "markdown",
      "metadata": {
        "id": "ZX4g5ZUCIwi7"
      },
      "source": [
        "## Hypothesis and Cost"
      ]
    },
    {
      "cell_type": "code",
      "metadata": {
        "colab": {
          "base_uri": "https://localhost:8080/",
          "height": 287
        },
        "id": "dYizukMwfYZM",
        "outputId": "dea13fe5-2c26-4757-a31d-07ce6fb322dc"
      },
      "source": [
        "# Data\r\n",
        "x_data = list(range(1, 6))\r\n",
        "y_data = list(range(1, 6))\r\n",
        "\r\n",
        "# W, b initialize\r\n",
        "W = tf.Variable(2.9)\r\n",
        "b = tf.Variable(0.5)\r\n",
        "\r\n",
        "# hypothesis\r\n",
        "hypothesis = W * x_data + b\r\n",
        "print(hypothesis)\r\n",
        "\r\n",
        "plt.plot(x_data, y_data, 'o')\r\n",
        "plt.plot(x_data, hypothesis, 'r-')\r\n",
        "plt.ylim(0, 8)\r\n",
        "plt.show()"
      ],
      "execution_count": null,
      "outputs": [
        {
          "output_type": "stream",
          "text": [
            "tf.Tensor([ 3.4       6.3       9.200001 12.1      15.      ], shape=(5,), dtype=float32)\n"
          ],
          "name": "stdout"
        },
        {
          "output_type": "display_data",
          "data": {
            "image/png": "[encoded data removed]",
            "text/plain": [
              "<Figure size 432x288 with 1 Axes>"
            ]
          },
          "metadata": {
            "tags": [],
            "needs_background": "light"
          }
        }
      ]
    },
    {
      "cell_type": "code",
      "metadata": {
        "colab": {
          "base_uri": "https://localhost:8080/"
        },
        "id": "NPmDZuMyg4G_",
        "outputId": "dc92e493-9795-4aa6-d677-eb681d301d9d"
      },
      "source": [
        "# cost\r\n",
        "cost = tf.reduce_mean(tf.square(hypothesis - y_data))\r\n",
        "print(cost.numpy())\r\n",
        "\r\n",
        "# gradient\r\n",
        "with tf.GradientTape() as tape:\r\n",
        "  hypothesis = W * x_data + b\r\n",
        "  cost = tf.reduce_mean(tf.square(hypothesis - y_data))\r\n",
        "\r\n",
        "W_grad, b_grad = tape.gradient(cost, [W, b])\r\n",
        "print(W_grad.numpy(), b_grad.numpy())"
      ],
      "execution_count": null,
      "outputs": [
        {
          "output_type": "stream",
          "text": [
            "45.660004\n",
            "44.800003 12.400002\n"
          ],
          "name": "stdout"
        }
      ]
    },
    {
      "cell_type": "markdown",
      "metadata": {
        "id": "lLcCspCaIw2j"
      },
      "source": [
        "## 파라미터 업데이트"
      ]
    },
    {
      "cell_type": "code",
      "metadata": {
        "colab": {
          "base_uri": "https://localhost:8080/",
          "height": 287
        },
        "id": "5b-L7lhpiBR3",
        "outputId": "8335c408-7b2b-4cfb-dacb-dea7741bcac1"
      },
      "source": [
        "learning_rate = 0.01\r\n",
        "\r\n",
        "W.assign_sub(learning_rate * W_grad)\r\n",
        "b.assign_sub(learning_rate * b_grad)\r\n",
        "print(W.numpy(), b.numpy())\r\n",
        "\r\n",
        "plt.plot(x_data, y_data, 'o')\r\n",
        "plt.plot(x_data, hypothesis, 'r-')\r\n",
        "plt.ylim(0, 8)\r\n",
        "plt.show()"
      ],
      "execution_count": null,
      "outputs": [
        {
          "output_type": "stream",
          "text": [
            "1.1080003 0.0039999485\n"
          ],
          "name": "stdout"
        },
        {
          "output_type": "display_data",
          "data": {
            "image/png": "[encoded data removed]",
            "text/plain": [
              "<Figure size 432x288 with 1 Axes>"
            ]
          },
          "metadata": {
            "tags": [],
            "needs_background": "light"
          }
        }
      ]
    },
    {
      "cell_type": "markdown",
      "metadata": {
        "id": "IU66c6aqigv3"
      },
      "source": [
        "## 여러 번 반복"
      ]
    },
    {
      "cell_type": "code",
      "metadata": {
        "colab": {
          "base_uri": "https://localhost:8080/",
          "height": 467
        },
        "id": "1SJggkAuijJq",
        "outputId": "6c0a4351-0bd8-4277-bd6b-2bcb4658b79c"
      },
      "source": [
        "W = tf.Variable(2.9)\r\n",
        "b = tf.Variable(0.5)\r\n",
        "\r\n",
        "for i in range(100+1):\r\n",
        "  with tf.GradientTape() as tape:\r\n",
        "    hypothesis = W * x_data + b\r\n",
        "    cost = tf.reduce_mean(tf.square(hypothesis - y_data))\r\n",
        "  W_grad, b_grad = tape.gradient(cost, [W, b])\r\n",
        "  W.assign_sub(learning_rate * W_grad)\r\n",
        "  b.assign_sub(learning_rate * b_grad)\r\n",
        "\r\n",
        "  if i%10==0:\r\n",
        "    print(f'{i:5}|{W.numpy():10.4f}|{b.numpy():10.4f}|{cost:10.6f}')\r\n",
        "\r\n",
        "plt.plot(x_data, y_data, 'o')\r\n",
        "plt.plot(x_data, hypothesis, 'r-')\r\n",
        "plt.ylim(0, 8)\r\n",
        "plt.show()"
      ],
      "execution_count": null,
      "outputs": [
        {
          "output_type": "stream",
          "text": [
            "    0|    2.4520|    0.3760| 45.660004\n",
            "   10|    1.1036|    0.0034|  0.206336\n",
            "   20|    1.0128|   -0.0209|  0.001026\n",
            "   30|    1.0065|   -0.0218|  0.000093\n",
            "   40|    1.0059|   -0.0212|  0.000083\n",
            "   50|    1.0057|   -0.0205|  0.000077\n",
            "   60|    1.0055|   -0.0198|  0.000072\n",
            "   70|    1.0053|   -0.0192|  0.000067\n",
            "   80|    1.0051|   -0.0185|  0.000063\n",
            "   90|    1.0050|   -0.0179|  0.000059\n",
            "  100|    1.0048|   -0.0173|  0.000055\n"
          ],
          "name": "stdout"
        },
        {
          "output_type": "display_data",
          "data": {
            "image/png": "[encoded data removed]",
            "text/plain": [
              "<Figure size 432x288 with 1 Axes>"
            ]
          },
          "metadata": {
            "tags": [],
            "needs_background": "light"
          }
        }
      ]
    },
    {
      "cell_type": "markdown",
      "metadata": {
        "id": "fjL3S8FIZJI8"
      },
      "source": [
        "## predict"
      ]
    },
    {
      "cell_type": "code",
      "metadata": {
        "colab": {
          "base_uri": "https://localhost:8080/"
        },
        "id": "S6tCBTKOj0vE",
        "outputId": "32ba4fe7-ce71-4daf-e3c5-e6b80b646922"
      },
      "source": [
        "print(W * 5 + b)\r\n",
        "print(W * 2.5 + b)"
      ],
      "execution_count": null,
      "outputs": [
        {
          "output_type": "stream",
          "text": [
            "tf.Tensor(5.00667, shape=(), dtype=float32)\n",
            "tf.Tensor(2.4946702, shape=(), dtype=float32)\n"
          ],
          "name": "stdout"
        }
      ]
    }
  ]
}