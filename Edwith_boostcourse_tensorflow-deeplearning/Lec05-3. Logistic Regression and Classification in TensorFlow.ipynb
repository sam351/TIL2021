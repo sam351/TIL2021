{
  "nbformat": 4,
  "nbformat_minor": 0,
  "metadata": {
    "colab": {
      "name": "Lec05-3. Logistic Regression and Classification in TensorFlow",
      "provenance": [],
      "collapsed_sections": []
    },
    "kernelspec": {
      "display_name": "Python 3",
      "name": "python3"
    }
  },
  "cells": [
    {
      "cell_type": "markdown",
      "metadata": {
        "id": "DUzhcZAsINs5"
      },
      "source": [
        "# Lab 05-3: Logistic Regression/Classification 를 TensorFlow로 구현하기"
      ]
    },
    {
      "cell_type": "markdown",
      "metadata": {
        "id": "dMN1xDN7Lx4o"
      },
      "source": [
        "## 핵심키워드\r\n",
        "- 로지스틱 회귀 / 분류(Logistic Regression / Classification)\r\n",
        "- 가설(Hypothesis)\r\n",
        "- 시그모이드 / 로지스틱(Sigmoid / Logistic)\r\n",
        "- 비용 함수(Cost function)\r\n",
        "- 최적화(Optimization)"
      ]
    },
    {
      "cell_type": "code",
      "metadata": {
        "colab": {
          "base_uri": "https://localhost:8080/"
        },
        "id": "ggPVP7Coc-sI",
        "outputId": "d326d5c9-1c7d-4067-d66d-250c0dae9dfd"
      },
      "source": [
        "import tensorflow as tf\r\n",
        "import numpy as np\r\n",
        "import matplotlib.pyplot as plt\r\n",
        "\r\n",
        "print(f'>>> original : tf - 2.4.0  |  np - 1.19.4')\r\n",
        "print(f'>>> present  : tf - {tf.__version__}  |  np - {np.__version__}')"
      ],
      "execution_count": null,
      "outputs": [
        {
          "output_type": "stream",
          "text": [
            ">>> original : tf - 2.4.0  |  np - 1.19.4\n",
            ">>> present  : tf - 2.4.0  |  np - 1.19.4\n"
          ],
          "name": "stdout"
        }
      ]
    },
    {
      "cell_type": "markdown",
      "metadata": {
        "id": "t3oSE7X4bRh1"
      },
      "source": [
        "## Data"
      ]
    },
    {
      "cell_type": "code",
      "metadata": {
        "colab": {
          "base_uri": "https://localhost:8080/",
          "height": 265
        },
        "id": "uGfqS4yVbSbq",
        "outputId": "dcefa197-1faa-42a1-c21f-fe4e02079667"
      },
      "source": [
        "# x_train = [[1., 2.],\r\n",
        "#           [2., 3.],\r\n",
        "#           [3., 1.],\r\n",
        "#           [4., 3.],\r\n",
        "#           [5., 3.],\r\n",
        "#           [6., 2.]]\r\n",
        "x_train = [[1., 2.],\r\n",
        "          [2., 2.5],\r\n",
        "          [4., 1.],\r\n",
        "          [3., 3.],\r\n",
        "          [5., 3.],\r\n",
        "          [6., 2.]]\r\n",
        "y_train = [[0.],\r\n",
        "          [0.],\r\n",
        "          [0.],\r\n",
        "          [1.],\r\n",
        "          [1.],\r\n",
        "          [1.]]\r\n",
        "\r\n",
        "x_test = [[5.,2.],\r\n",
        "          [4, 2],\r\n",
        "          [4, 3]]\r\n",
        "y_test = [[1.],\r\n",
        "          [1],\r\n",
        "          [1]]\r\n",
        "\r\n",
        "\r\n",
        "# Visualize data\r\n",
        "x1 = [i[0] for i in x_train]\r\n",
        "x2 = [i[1] for i in x_train]\r\n",
        "colors = [i[0]%3 for i in y_train]\r\n",
        "plt.scatter(x1, x2, c=colors, marker='^')\r\n",
        "\r\n",
        "x1_test = [i[0] for i in x_test]\r\n",
        "x2_test = [i[1] for i in x_test]\r\n",
        "plt.scatter(x1_test, x2_test, c='red')\r\n",
        "\r\n",
        "plt.show()"
      ],
      "execution_count": null,
      "outputs": [
        {
          "output_type": "display_data",
          "data": {
            "image/png": "[encoded data removed]",
            "text/plain": [
              "<Figure size 432x288 with 1 Axes>"
            ]
          },
          "metadata": {
            "tags": [],
            "needs_background": "light"
          }
        }
      ]
    },
    {
      "cell_type": "markdown",
      "metadata": {
        "id": "GevDNyWIitTB"
      },
      "source": [
        "## Logistic Regression"
      ]
    },
    {
      "cell_type": "code",
      "metadata": {
        "colab": {
          "base_uri": "https://localhost:8080/"
        },
        "id": "KX6zVsXJhyCW",
        "outputId": "ee5cdc3c-fa55-411b-b4a5-f977c205fcf7"
      },
      "source": [
        "dataset = tf.data.Dataset.from_tensor_slices((x_train, y_train)).batch(len(x_train))\r\n",
        "\r\n",
        "W = tf.Variable(tf.random.normal((2, 1)))\r\n",
        "b = tf.Variable(tf.random.normal((1,)))\r\n",
        "\r\n",
        "# hypothesis function\r\n",
        "def logistic_reg(features):\r\n",
        "  z = tf.matmul(features, W) + b\r\n",
        "  return tf.divide(1, 1 + tf.exp(-z))\r\n",
        "\r\n",
        "# cost function\r\n",
        "def loss_fn(hypothesis, labels):\r\n",
        "  loss = -tf.reduce_mean( tf.multiply(labels, tf.math.log(hypothesis)) + tf.multiply(1-labels, tf.math.log(1-hypothesis)) )\r\n",
        "  return loss\r\n",
        "\r\n",
        "# gradient function\r\n",
        "def grad(features, labels, W, b):\r\n",
        "  with tf.GradientTape() as tape:\r\n",
        "    hypothesis = logistic_reg(features)\r\n",
        "    loss = loss_fn(hypothesis, labels)\r\n",
        "  W_grad, b_grad = tape.gradient(loss, [W, b])\r\n",
        "  return W_grad, b_grad\r\n",
        "\r\n",
        "# optimizer\r\n",
        "optimizer = tf.keras.optimizers.SGD(learning_rate=0.01)\r\n",
        "\r\n",
        "# metric\r\n",
        "def accuracy_fn(hypothesis, labels):\r\n",
        "  pred = tf.cast(hypothesis>0.5, dtype=tf.float32)\r\n",
        "  acc = tf.reduce_mean(tf.cast(tf.equal(pred, labels), dtype=tf.int32))\r\n",
        "  return acc\r\n",
        "\r\n",
        "# train model (update weights)\r\n",
        "for step in range(2000 + 1):  # epoch\r\n",
        "  for features, labels in iter(dataset):  # batch\r\n",
        "    grads = grad(features, labels, W, b)\r\n",
        "    optimizer.apply_gradients(grads_and_vars=zip(grads, [W, b]))\r\n",
        "  \r\n",
        "  # verbose\r\n",
        "  if step%200==0:\r\n",
        "    loss = loss_fn(logistic_reg(features), labels)\r\n",
        "    print(f'Iter : {step:5} | Loss : {loss:6.4f}')\r\n",
        "\r\n",
        "test_acc = accuracy_fn(logistic_reg(x_test), y_test).numpy()\r\n",
        "print(f'Testset Accuracy : {test_acc:.4f}')"
      ],
      "execution_count": null,
      "outputs": [
        {
          "output_type": "stream",
          "text": [
            "Iter :     0 | Loss : 1.0464\n",
            "Iter :   200 | Loss : 0.6107\n",
            "Iter :   400 | Loss : 0.5878\n",
            "Iter :   600 | Loss : 0.5683\n",
            "Iter :   800 | Loss : 0.5507\n",
            "Iter :  1000 | Loss : 0.5343\n",
            "Iter :  1200 | Loss : 0.5188\n",
            "Iter :  1400 | Loss : 0.5041\n",
            "Iter :  1600 | Loss : 0.4901\n",
            "Iter :  1800 | Loss : 0.4767\n",
            "Iter :  2000 | Loss : 0.4640\n",
            "Testset Accuracy : 1.0000\n"
          ],
          "name": "stdout"
        }
      ]
    },
    {
      "cell_type": "markdown",
      "metadata": {
        "id": "NzK6lcPIt1X_"
      },
      "source": [
        "## Summary\r\n",
        "- Prediction process\r\n",
        " - X → $ z = θ^TX $ (Linear function) → $ g(z) =1/(1+ \\exp^{-z}) $ (Logistic function) → $ g(z) > 0.5 $ (Decision boundary) →  $ H(x) ∈ \\{0, 1\\} $\r\n",
        "<br><br>\r\n",
        "- Cost function\r\n",
        " - $ Cost(h_θ(x), y) = -y\\log(h_θ(x)) -(1-y)\\log(1-h_θ(x)) $\r\n",
        "<br><br>\r\n",
        "- The prediction process of logistic regression is similar to the process of each cell in basic Deep Neural Network, which will be discussed later in the course.\r\n",
        " - $ \\textrm{Input} → \\textrm{Linear Transformation} → \\textrm{Activation} → \\textrm{Output} $"
      ]
    }
  ]
}