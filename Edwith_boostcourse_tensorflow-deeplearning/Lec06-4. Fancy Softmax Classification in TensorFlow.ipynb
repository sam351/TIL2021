{
  "nbformat": 4,
  "nbformat_minor": 0,
  "metadata": {
    "colab": {
      "name": "Lec06-4. Fancy Softmax Classification in TensorFlow",
      "provenance": [],
      "collapsed_sections": []
    },
    "kernelspec": {
      "display_name": "Python 3",
      "name": "python3"
    }
  },
  "cells": [
    {
      "cell_type": "markdown",
      "metadata": {
        "id": "DUzhcZAsINs5"
      },
      "source": [
        "# Lab 06-4: Fancy Softmax classifier 를 TensorFlow 로 구현하기"
      ]
    },
    {
      "cell_type": "markdown",
      "metadata": {
        "id": "dMN1xDN7Lx4o"
      },
      "source": [
        "## 핵심키워드\r\n",
        "- 다항 분류(Multinomial Classification)\r\n",
        "- 소프트맥스(Softmax)\r\n",
        "- 크로스 엔트로피(Cross-entropy)\r\n",
        "- 원핫(one-hot)"
      ]
    },
    {
      "cell_type": "code",
      "metadata": {
        "colab": {
          "base_uri": "https://localhost:8080/"
        },
        "id": "ggPVP7Coc-sI",
        "outputId": "bd8fa0d1-7726-447d-9b1f-9865be2704b9"
      },
      "source": [
        "import tensorflow as tf\r\n",
        "import pandas as pd\r\n",
        "import numpy as np\r\n",
        "import matplotlib.pyplot as plt\r\n",
        "import urllib\r\n",
        "\r\n",
        "print(f'>>> original : tf - 2.4.0  |  np - 1.19.4')\r\n",
        "print(f'>>> present  : tf - {tf.__version__}  |  np - {np.__version__}')\r\n",
        "\r\n",
        "tf.random.set_seed(777)"
      ],
      "execution_count": 1,
      "outputs": [
        {
          "output_type": "stream",
          "text": [
            ">>> original : tf - 2.4.0  |  np - 1.19.4\n",
            ">>> present  : tf - 2.4.0  |  np - 1.19.5\n"
          ],
          "name": "stdout"
        }
      ]
    },
    {
      "cell_type": "markdown",
      "metadata": {
        "id": "t3oSE7X4bRh1"
      },
      "source": [
        "## Data"
      ]
    },
    {
      "cell_type": "code",
      "metadata": {
        "colab": {
          "base_uri": "https://localhost:8080/"
        },
        "id": "49CLKp_5_4Wu",
        "outputId": "d92f5b76-8cd0-4f8c-9e5f-75facf1fd3bd"
      },
      "source": [
        "url = 'https://raw.githubusercontent.com/deeplearningzerotoall/TensorFlow/master/tf_2.x/data-04-zoo.csv'\r\n",
        "response = urllib.request.urlopen(url)\r\n",
        "xy = np.loadtxt(response, delimiter=',', dtype=np.float32)\r\n",
        "\r\n",
        "x_data = xy[:, :-1]\r\n",
        "y_data = xy[:, -1]\r\n",
        "nb_classes = len(np.unique(y_data))  # 7\r\n",
        "Y_one_hot = tf.one_hot(y_data, depth=nb_classes)\r\n",
        "\r\n",
        "x_data.shape, Y_one_hot.shape"
      ],
      "execution_count": 2,
      "outputs": [
        {
          "output_type": "execute_result",
          "data": {
            "text/plain": [
              "((101, 16), TensorShape([101, 7]))"
            ]
          },
          "metadata": {
            "tags": []
          },
          "execution_count": 2
        }
      ]
    },
    {
      "cell_type": "markdown",
      "metadata": {
        "id": "GevDNyWIitTB"
      },
      "source": [
        "## Softmax Classification"
      ]
    },
    {
      "cell_type": "code",
      "metadata": {
        "colab": {
          "base_uri": "https://localhost:8080/"
        },
        "id": "tS97uquVCa6e",
        "outputId": "07cccfbe-a0de-4b7c-ecc6-1b18a7b0dc00"
      },
      "source": [
        "# Weight and bias setting\r\n",
        "W = tf.Variable(tf.random.normal([x_data.shape[1], nb_classes]))\r\n",
        "b = tf.Variable(tf.random.normal([nb_classes,]))\r\n",
        "\r\n",
        "W.shape, b.shape"
      ],
      "execution_count": 3,
      "outputs": [
        {
          "output_type": "execute_result",
          "data": {
            "text/plain": [
              "(TensorShape([16, 7]), TensorShape([7]))"
            ]
          },
          "metadata": {
            "tags": []
          },
          "execution_count": 3
        }
      ]
    },
    {
      "cell_type": "code",
      "metadata": {
        "colab": {
          "base_uri": "https://localhost:8080/"
        },
        "id": "839Xaj3DCa_o",
        "outputId": "c99a4b07-012f-49e2-d24b-39e1cddb1101"
      },
      "source": [
        "# Train model\r\n",
        "def logit_fn(X):\r\n",
        "  return tf.matmul(X, W) + b\r\n",
        "\r\n",
        "def hypothesis(X):\r\n",
        "  return tf.nn.softmax(logit_fn(X))\r\n",
        "\r\n",
        "def cost_fn(X, Y):\r\n",
        "  cost_i = tf.nn.softmax_cross_entropy_with_logits(labels=Y, logits=logit_fn(X))\r\n",
        "  # tf.keras.losses.categorical_crossentropy(Y, logit_fn(X), from_logits=True)\r\n",
        "  return tf.reduce_mean(cost_i)\r\n",
        "\r\n",
        "def grads_fn(X, Y, variables=[W, b]):\r\n",
        "  with tf.GradientTape() as tape:\r\n",
        "    cost = cost_fn(X, Y)\r\n",
        "    grads = tape.gradient(cost, variables)\r\n",
        "  return grads\r\n",
        "\r\n",
        "def accuracy_score(X, Y):\r\n",
        "  y_pred = tf.argmax(hypothesis(X), 1)\r\n",
        "  y_true = tf.argmax(Y, 1)\r\n",
        "  acc = tf.reduce_mean(tf.cast(tf.equal(y_pred, y_true), dtype=tf.float32))\r\n",
        "  return acc\r\n",
        "\r\n",
        "def fit(X, Y, variables=[W, b], epoch=1000, verbose=100):\r\n",
        "  optimizer = tf.keras.optimizers.SGD(learning_rate=0.1)\r\n",
        "  print('epoch |   cost   |  accuracy')\r\n",
        "\r\n",
        "  for step in range(epoch+1):\r\n",
        "    grads = grads_fn(X, Y, variables=variables)\r\n",
        "    optimizer.apply_gradients(grads_and_vars=zip(grads, variables))\r\n",
        "\r\n",
        "    if step==0 or step%verbose==0:\r\n",
        "      cost = cost_fn(X, Y)\r\n",
        "      acc = accuracy_score(X, Y)\r\n",
        "      print(f'{step:5} | {cost:^8.4f} | {acc:8.4f}')\r\n",
        "  pass\r\n",
        "\r\n",
        "\r\n",
        "fit(x_data, Y_one_hot)"
      ],
      "execution_count": 4,
      "outputs": [
        {
          "output_type": "stream",
          "text": [
            "epoch |   cost   |  accuracy\n",
            "    0 |  3.6350  |   0.1683\n",
            "  100 |  0.5159  |   0.7921\n",
            "  200 |  0.3173  |   0.9109\n",
            "  300 |  0.2348  |   0.9406\n",
            "  400 |  0.1884  |   0.9505\n",
            "  500 |  0.1582  |   0.9604\n",
            "  600 |  0.1369  |   0.9901\n",
            "  700 |  0.1208  |   0.9901\n",
            "  800 |  0.1084  |   1.0000\n",
            "  900 |  0.0983  |   1.0000\n",
            " 1000 |  0.0901  |   1.0000\n"
          ],
          "name": "stdout"
        }
      ]
    },
    {
      "cell_type": "code",
      "metadata": {
        "colab": {
          "base_uri": "https://localhost:8080/"
        },
        "id": "tnopYAFn6tnu",
        "outputId": "699e8742-54cd-4076-a113-f8e85bac3521"
      },
      "source": [
        "# Prediction Check\r\n",
        "pred = hypothesis(x_data)\r\n",
        "print(tf.argmax(pred, 1))\r\n",
        "print(tf.argmax(Y_one_hot, 1))"
      ],
      "execution_count": 5,
      "outputs": [
        {
          "output_type": "stream",
          "text": [
            "tf.Tensor(\n",
            "[0 0 3 0 0 0 0 3 3 0 0 1 3 6 6 6 1 0 3 0 1 1 0 1 5 4 4 0 0 0 5 0 0 1 3 0 0\n",
            " 1 3 5 5 1 5 1 0 0 6 0 0 0 0 5 4 6 0 0 1 1 1 1 3 3 2 0 0 0 0 0 0 0 0 1 6 3\n",
            " 0 0 2 6 1 1 2 6 3 1 0 6 3 1 5 4 2 2 3 0 0 1 0 5 0 6 1], shape=(101,), dtype=int64)\n",
            "tf.Tensor(\n",
            "[0 0 3 0 0 0 0 3 3 0 0 1 3 6 6 6 1 0 3 0 1 1 0 1 5 4 4 0 0 0 5 0 0 1 3 0 0\n",
            " 1 3 5 5 1 5 1 0 0 6 0 0 0 0 5 4 6 0 0 1 1 1 1 3 3 2 0 0 0 0 0 0 0 0 1 6 3\n",
            " 0 0 2 6 1 1 2 6 3 1 0 6 3 1 5 4 2 2 3 0 0 1 0 5 0 6 1], shape=(101,), dtype=int64)\n"
          ],
          "name": "stdout"
        }
      ]
    },
    {
      "cell_type": "code",
      "metadata": {
        "id": "u3VAClyDCh3x"
      },
      "source": [
        ""
      ],
      "execution_count": 5,
      "outputs": []
    }
  ]
}