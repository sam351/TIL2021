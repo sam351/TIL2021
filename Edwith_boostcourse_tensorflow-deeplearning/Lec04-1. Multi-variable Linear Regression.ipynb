{
  "nbformat": 4,
  "nbformat_minor": 0,
  "metadata": {
    "colab": {
      "name": "Lec04-1. Multi-variable Linear Regression",
      "provenance": [],
      "collapsed_sections": []
    },
    "kernelspec": {
      "name": "python3",
      "display_name": "Python 3"
    }
  },
  "cells": [
    {
      "cell_type": "markdown",
      "metadata": {
        "id": "DUzhcZAsINs5"
      },
      "source": [
        "# Lec 04: Multi-variable Linear Regression"
      ]
    },
    {
      "cell_type": "markdown",
      "metadata": {
        "id": "dMN1xDN7Lx4o"
      },
      "source": [
        "## 핵심키워드\r\n",
        "- 다중 선형회귀(Multi-variable Linear Regression)\r\n",
        "- 가설(Hypothesis)\r\n",
        "- 비용함수(Cost function)\r\n",
        "- 경사 하강법(Gradient Descent)\r\n",
        "- 행렬(Matrix)"
      ]
    },
    {
      "cell_type": "markdown",
      "metadata": {
        "id": "ZX4g5ZUCIwi7"
      },
      "source": [
        "## 다중 선형회귀(Multi-variable Linear Regression)\r\n",
        "- 입력속성(독립변수)이 둘 이상으로 다수인 선형회귀 문제\r\n",
        "- 입력속성(독립변수)의 갯수만큼 학습해야 할 가중치의 수가 늘어남<br><br>\r\n",
        "$ H(x) = w x + b $ <br>\r\n",
        "→ $ H(x_1, x_2, x_3) = w_1 x_1 + w_2 x_2 + w_3 x_3 + b $"
      ]
    },
    {
      "cell_type": "markdown",
      "metadata": {
        "id": "lLcCspCaIw2j"
      },
      "source": [
        "## 행렬(Matrix)\r\n",
        "- 다중선형회귀의 가설(hypothesis)은 행렬(Matrix)과 행렬곱(Dot product) 연산을 활용해 간결하게 표현할 수 있음\r\n",
        "<br><br>\r\n",
        "$$ w_1x_1 + w_2x_2 + w_3x_3 + w_4x_4 + w_5x_5 $$\r\n",
        "<br><br>\r\n",
        "$$ → \\begin{pmatrix} x_{11} & x_{12} & x_{13} \\\\ x_{21} & x_{22} & x_{23} \\\\ x_{31} & x_{32} & x_{33} \\\\ x_{41} & x_{42} & x_{43} \\\\ x_{51} & x_{52} & x_{53} \\\\ \\end{pmatrix} \\cdot \\begin{pmatrix} w_{1} \\\\ w_{2} \\\\ w_{3} \\\\ \\end{pmatrix} = \\begin{pmatrix} x_{11}w_1 + x_{12}w_2 + x_{13}w_3 \\\\x_{21}w_1 + x_{22}w_2 + x_{23}w_3 \\\\x_{31}w_1 + x_{32}w_2 + x_{33}w_3 \\\\x_{41}w_1 + x_{42}w_2 + x_{43}w_3 \\\\x_{51}w_1 + x_{52}w_2 + x_{53}w_3 \\\\ \\end{pmatrix}$$ <br><br>\r\n",
        "$$ → H(x) = XW $$\r\n",
        "\r\n",
        "<br><br>\r\n",
        " - 데이터의 수, 입력속성(변수)의 수, 목표속성(변수)의 수에 따라 행렬곱 연산에서 각 행렬의 차수가 달라짐\r\n",
        " - 단, 좌측 행렬(입력속성 행렬)의 열 수와 우측 행렬(가중치 행렬)의 행 수를 일치시켜야 행렬곱 연산이 가능함"
      ]
    }
  ]
}