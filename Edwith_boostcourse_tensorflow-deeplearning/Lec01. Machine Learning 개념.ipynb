{
  "nbformat": 4,
  "nbformat_minor": 0,
  "metadata": {
    "colab": {
      "name": "Lec01. Machine Learning 개념",
      "provenance": []
    },
    "kernelspec": {
      "name": "python3",
      "display_name": "Python 3"
    }
  },
  "cells": [
    {
      "cell_type": "markdown",
      "metadata": {
        "id": "DUzhcZAsINs5"
      },
      "source": [
        "# Lec 01: 기본적인 Machine Learning 의 용어와 개념 설명"
      ]
    },
    {
      "cell_type": "markdown",
      "metadata": {
        "id": "ZX4g5ZUCIwi7"
      },
      "source": [
        "## Machine Learning\r\n",
        "- 규칙 기반 프로그래밍으로 풀 수 없는 문제들 (ex. 스팸 메일 분류, 자율주행)\r\n",
        "- Machine Learning : Field of study that gives computers the ability to learn without being explicitly programmed (Arthur Samuel, 1959)"
      ]
    },
    {
      "cell_type": "markdown",
      "metadata": {
        "id": "lLcCspCaIw2j"
      },
      "source": [
        "## Supervised/Unsupervised learning\r\n",
        "- Supervised learning : learning with labeled examples (ex. Image labeling, Email spam filter, Predicting exam score) - training dataset required\r\n",
        "- Unsupervised learning : learning with un-labeled data (ex. Google news grouping, Word clustering)"
      ]
    },
    {
      "cell_type": "markdown",
      "metadata": {
        "id": "pJdCdv9uIxCk"
      },
      "source": [
        "## Types of supervised learning\r\n",
        "- Predicting exam score based on time spent : regression\r\n",
        "- Pass/non-pass based on time spent : binary classification\r\n",
        "- Letter grade (A, B, C, D and F) based on time spent : multi-label classification"
      ]
    }
  ]
}