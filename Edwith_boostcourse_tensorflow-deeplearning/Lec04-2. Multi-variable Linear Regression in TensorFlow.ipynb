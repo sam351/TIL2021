{
  "nbformat": 4,
  "nbformat_minor": 0,
  "metadata": {
    "colab": {
      "name": "Lec04-2. Multi-variable Linear Regression in TensorFlow",
      "provenance": [],
      "collapsed_sections": []
    },
    "kernelspec": {
      "display_name": "Python 3",
      "name": "python3"
    }
  },
  "cells": [
    {
      "cell_type": "markdown",
      "metadata": {
        "id": "DUzhcZAsINs5"
      },
      "source": [
        "# Lab 04: Multi-variable Linear Regression 를 TensorFlow 로 구현하기"
      ]
    },
    {
      "cell_type": "markdown",
      "metadata": {
        "id": "dMN1xDN7Lx4o"
      },
      "source": [
        "## 핵심키워드\r\n",
        "- 다중 선형회귀(Multi-variable Linear Regression)\r\n",
        "- 가설(Hypothesis)\r\n",
        "- 비용함수(Cost function)\r\n",
        "- 경사 하강법(Gradient Descent)\r\n",
        "- 행렬(Matrix)"
      ]
    },
    {
      "cell_type": "code",
      "metadata": {
        "colab": {
          "base_uri": "https://localhost:8080/"
        },
        "id": "ggPVP7Coc-sI",
        "outputId": "6ed76d8e-fb5a-488c-b275-9855473c254a"
      },
      "source": [
        "import tensorflow as tf\r\n",
        "import numpy as np\r\n",
        "import matplotlib.pyplot as plt\r\n",
        "\r\n",
        "print(f'>>> original : tf - 2.4.0  |  np - 1.19.4')\r\n",
        "print(f'>>> present  : tf - {tf.__version__}  |  np - {np.__version__}')"
      ],
      "execution_count": 1,
      "outputs": [
        {
          "output_type": "stream",
          "text": [
            ">>> original : tf - 2.4.0  |  np - 1.19.4\n",
            ">>> present  : tf - 2.4.0  |  np - 1.19.4\n"
          ],
          "name": "stdout"
        }
      ]
    },
    {
      "cell_type": "markdown",
      "metadata": {
        "id": "NKAwrbS8DhXs"
      },
      "source": [
        "## Predicting exam score\r\n",
        "multi-variable linear regression - regression using three inputs (x1, x2, x3)"
      ]
    },
    {
      "cell_type": "code",
      "metadata": {
        "colab": {
          "base_uri": "https://localhost:8080/"
        },
        "id": "NOXV1IKYGJAe",
        "outputId": "44b6df2d-ee1c-4c11-f35e-be30b62011a5"
      },
      "source": [
        "tf.random.set_seed(0)\r\n",
        "\r\n",
        "x1 = [ 73.,  93.,  89.,  96.,  73.]\r\n",
        "x2 = [ 80.,  88.,  91.,  98.,  66.]\r\n",
        "x3 = [ 75.,  93.,  90., 100.,  70.]\r\n",
        "Y  = [152., 185., 180., 196., 142.]\r\n",
        "\r\n",
        "w1 = tf.Variable(tf.random.normal([1]))\r\n",
        "w2 = tf.Variable(tf.random.normal([1]))\r\n",
        "w3 = tf.Variable(tf.random.normal([1]))\r\n",
        "b = tf.Variable(tf.random.normal([1]))\r\n",
        "\r\n",
        "learning_rate = 0.000001\r\n",
        "\r\n",
        "for step in range(1000+1):\r\n",
        "  with tf.GradientTape() as tape:\r\n",
        "    hypothesis = x1*w1 + x2*w2 + x3*w3 + b\r\n",
        "    cost = tf.reduce_mean(tf.square(hypothesis-Y))\r\n",
        "  w1_grad, w2_grad, w3_grad, b_grad = tape.gradient(cost, [w1, w2, w3, b])\r\n",
        "  \r\n",
        "  w1.assign_sub(tf.multiply(learning_rate, w1_grad))\r\n",
        "  w2.assign_sub(tf.multiply(learning_rate, w2_grad))\r\n",
        "  w3.assign_sub(tf.multiply(learning_rate, w3_grad))\r\n",
        "  b.assign_sub(tf.multiply(learning_rate, b_grad))\r\n",
        "  \r\n",
        "  if step % 50 == 0:\r\n",
        "    print(f'step : {step:5} | cost : {cost.numpy():10.4f}')"
      ],
      "execution_count": 2,
      "outputs": [
        {
          "output_type": "stream",
          "text": [
            "step :     0 | cost : 11325.9121\n",
            "step :    50 | cost :   135.3618\n",
            "step :   100 | cost :    11.1817\n",
            "step :   150 | cost :     9.7940\n",
            "step :   200 | cost :     9.7687\n",
            "step :   250 | cost :     9.7587\n",
            "step :   300 | cost :     9.7489\n",
            "step :   350 | cost :     9.7389\n",
            "step :   400 | cost :     9.7292\n",
            "step :   450 | cost :     9.7194\n",
            "step :   500 | cost :     9.7096\n",
            "step :   550 | cost :     9.6999\n",
            "step :   600 | cost :     9.6903\n",
            "step :   650 | cost :     9.6806\n",
            "step :   700 | cost :     9.6709\n",
            "step :   750 | cost :     9.6612\n",
            "step :   800 | cost :     9.6517\n",
            "step :   850 | cost :     9.6421\n",
            "step :   900 | cost :     9.6325\n",
            "step :   950 | cost :     9.6229\n",
            "step :  1000 | cost :     9.6134\n"
          ],
          "name": "stdout"
        }
      ]
    },
    {
      "cell_type": "markdown",
      "metadata": {
        "id": "i_kKm3RUf6qv"
      },
      "source": [
        "## Predicting exam score - with Matrix\r\n",
        "multi-variable linear regression - regression using three inputs (x1, x2, x3)"
      ]
    },
    {
      "cell_type": "code",
      "metadata": {
        "colab": {
          "base_uri": "https://localhost:8080/"
        },
        "id": "g5YvI97Zf7A0",
        "outputId": "e358ed74-4a59-42d2-d998-e4e4ca046269"
      },
      "source": [
        "tf.random.set_seed(0)\r\n",
        "data = np.array([x1, x2, x3, Y], dtype=np.float32).T\r\n",
        "\r\n",
        "X = data[:, :-1]\r\n",
        "y = data[:, [-1]]\r\n",
        "\r\n",
        "W = tf.Variable(tf.random.normal([3, 1]))\r\n",
        "b = tf.Variable(tf.random.normal([1]))\r\n",
        "\r\n",
        "learning_rate = 0.000001\r\n",
        "\r\n",
        "for step in range(2000+1):\r\n",
        "  with tf.GradientTape() as tape:\r\n",
        "    hypothesis = tf.matmul(X, W) + b\r\n",
        "    cost = tf.reduce_mean(tf.square(hypothesis-y))\r\n",
        "  W_grad, b_grad = tape.gradient(cost, [W, b])\r\n",
        "\r\n",
        "  W.assign_sub(tf.multiply(learning_rate, W_grad))\r\n",
        "  b.assign_sub(tf.multiply(learning_rate, b_grad))\r\n",
        "\r\n",
        "  if step%100==0:\r\n",
        "    print(f'step : {step:5} | cost : {cost.numpy():10.4f}')"
      ],
      "execution_count": 3,
      "outputs": [
        {
          "output_type": "stream",
          "text": [
            "step :     0 | cost :  1798.2894\n",
            "step :   100 | cost :     2.2888\n",
            "step :   200 | cost :     2.0632\n",
            "step :   300 | cost :     2.0587\n",
            "step :   400 | cost :     2.0542\n",
            "step :   500 | cost :     2.0498\n",
            "step :   600 | cost :     2.0454\n",
            "step :   700 | cost :     2.0409\n",
            "step :   800 | cost :     2.0366\n",
            "step :   900 | cost :     2.0322\n",
            "step :  1000 | cost :     2.0279\n",
            "step :  1100 | cost :     2.0236\n",
            "step :  1200 | cost :     2.0193\n",
            "step :  1300 | cost :     2.0151\n",
            "step :  1400 | cost :     2.0108\n",
            "step :  1500 | cost :     2.0066\n",
            "step :  1600 | cost :     2.0024\n",
            "step :  1700 | cost :     1.9982\n",
            "step :  1800 | cost :     1.9940\n",
            "step :  1900 | cost :     1.9898\n",
            "step :  2000 | cost :     1.9857\n"
          ],
          "name": "stdout"
        }
      ]
    },
    {
      "cell_type": "code",
      "metadata": {
        "colab": {
          "base_uri": "https://localhost:8080/"
        },
        "id": "DgT6S3znol0d",
        "outputId": "867beae3-c4ac-4cfb-cfc9-a10152a36ef0"
      },
      "source": [
        "# Check weights\r\n",
        "print(W.numpy())\r\n",
        "print(b.numpy())"
      ],
      "execution_count": 4,
      "outputs": [
        {
          "output_type": "stream",
          "text": [
            "[[ 1.6652974 ]\n",
            " [ 0.5952884 ]\n",
            " [-0.25148827]]\n",
            "[1.0683131]\n"
          ],
          "name": "stdout"
        }
      ]
    },
    {
      "cell_type": "code",
      "metadata": {
        "colab": {
          "base_uri": "https://localhost:8080/"
        },
        "id": "NPmDZuMyg4G_",
        "outputId": "a7be2577-695f-4a64-e29a-67ac6093fcdf"
      },
      "source": [
        "# predict\r\n",
        "print([round(i, 1) for i in (tf.matmul(X, W)+b).numpy().ravel()])  # prediction\r\n",
        "print(Y)  # labels"
      ],
      "execution_count": 5,
      "outputs": [
        {
          "output_type": "stream",
          "text": [
            "[151.4, 184.9, 180.8, 194.1, 144.3]\n",
            "[152.0, 185.0, 180.0, 196.0, 142.0]\n"
          ],
          "name": "stdout"
        }
      ]
    },
    {
      "cell_type": "code",
      "metadata": {
        "colab": {
          "base_uri": "https://localhost:8080/"
        },
        "id": "kGBSU4Y3yyCi",
        "outputId": "ca5901d3-0799-47a6-a564-3f798e2e1f7f"
      },
      "source": [
        "# predict new values\r\n",
        "new_values = [\r\n",
        "  [ 89.,  95.,  92.],\r\n",
        "  [ 84.,  92.,  85.]\r\n",
        "]\r\n",
        "(tf.matmul(new_values, W) + b).numpy()"
      ],
      "execution_count": 6,
      "outputs": [
        {
          "output_type": "execute_result",
          "data": {
            "text/plain": [
              "array([[182.69527],\n",
              "       [174.34332]], dtype=float32)"
            ]
          },
          "metadata": {
            "tags": []
          },
          "execution_count": 6
        }
      ]
    }
  ]
}