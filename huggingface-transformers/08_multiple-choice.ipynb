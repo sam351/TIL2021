{
  "nbformat": 4,
  "nbformat_minor": 0,
  "metadata": {
    "colab": {
      "name": "08_multiple-choice",
      "provenance": [],
      "collapsed_sections": [],
      "machine_shape": "hm"
    },
    "kernelspec": {
      "name": "python3",
      "display_name": "Python 3"
    },
    "language_info": {
      "name": "python"
    },
    "accelerator": "GPU"
  },
  "cells": [
    {
      "cell_type": "code",
      "metadata": {
        "colab": {
          "base_uri": "https://localhost:8080/"
        },
        "id": "meWoXQOLQluQ",
        "outputId": "81864a70-6c6d-41bf-c647-b49b72372d1c"
      },
      "source": [
        "# colab resource monitor\n",
        "from urllib.request import urlopen\n",
        "exec(urlopen(\"http://colab-monitor.smankusors.com/track.py\").read())\n",
        "_colabMonitor = ColabMonitor().start()"
      ],
      "execution_count": 1,
      "outputs": [
        {
          "output_type": "stream",
          "text": [
            "Now live at : http://colab-monitor.smankusors.com/609d348c89838\n"
          ],
          "name": "stdout"
        }
      ]
    },
    {
      "cell_type": "code",
      "metadata": {
        "id": "ntcyeOEtMhEt"
      },
      "source": [
        "# !pip install transformers\n",
        "# !pip install datasets"
      ],
      "execution_count": 2,
      "outputs": []
    },
    {
      "cell_type": "code",
      "metadata": {
        "colab": {
          "base_uri": "https://localhost:8080/"
        },
        "id": "Qk3ovz71AMnZ",
        "outputId": "563e7be4-2ad8-4abe-d01d-3e8393c9b969"
      },
      "source": [
        "!nvidia-smi -L"
      ],
      "execution_count": 3,
      "outputs": [
        {
          "output_type": "stream",
          "text": [
            "GPU 0: Tesla P100-PCIE-16GB (UUID: GPU-6f4bdbeb-9c2c-c310-6bf4-00dbd32e4841)\n"
          ],
          "name": "stdout"
        }
      ]
    },
    {
      "cell_type": "markdown",
      "metadata": {
        "id": "gwpgQNHgMoBr"
      },
      "source": [
        "# Fine-tuning a model on a multiple choice task\n",
        "This notebook will show how to fine-tune one of the 🤗 Transformers model to a multiple choice task task, which is the task of selecting the most plausible inputs in a given selection. The dataset used here is [SWAG](https://www.aclweb.org/anthology/D18-1009/) but you can adapt the pre-processing to any other multiple choice dataset you like, or your own data.<br>\n",
        "[SWAG](https://www.aclweb.org/anthology/D18-1009/) is a dataset about commonsense reasoning, where each example describes a situation then proposes four options that could go after it.<br>\n",
        "- [SWAG from huggingface](https://huggingface.co/datasets/swag)"
      ]
    },
    {
      "cell_type": "code",
      "metadata": {
        "id": "hCm4wcLICfve"
      },
      "source": [
        "# set main parameters\n",
        "model_checkpoint = \"distilbert-base-uncased\"\n",
        "batch_size = 16\n",
        "\n",
        "# check execution time for whole code\n",
        "import time\n",
        "s_time = time.time()"
      ],
      "execution_count": 4,
      "outputs": []
    },
    {
      "cell_type": "code",
      "metadata": {
        "colab": {
          "base_uri": "https://localhost:8080/"
        },
        "id": "lFnuND9vO-G5",
        "outputId": "30d93f1f-44f1-4708-d52e-d162af1e59a6"
      },
      "source": [
        "import datasets\n",
        "\n",
        "import pandas as pd\n",
        "import numpy as np\n",
        "\n",
        "import random\n",
        "from IPython.display import HTML\n",
        "import collections\n",
        "import tqdm\n",
        "\n",
        "import transformers\n",
        "from transformers import AutoTokenizer\n",
        "from transformers import AutoModelForQuestionAnswering, TrainingArguments, Trainer\n",
        "from transformers import default_data_collator\n",
        "\n",
        "import torch\n",
        "device = 'cuda' if torch.cuda.is_available() else 'cpu'\n",
        "\n",
        "# datasets : 1.6.1  |  pd : 1.1.5  |  np : 1.19.5  |  tqdm : 4.41.1  |  transformers : 4.5.1  |  torch : 1.8.1+cu101\n",
        "print(f'datasets : {datasets.__version__}  |  pd : {pd.__version__}  |  np : {np.__version__}  |  tqdm : {tqdm.__version__}  |  transformers : {transformers.__version__}  |  torch : {torch.__version__}')\n",
        "print('device :', device)"
      ],
      "execution_count": 5,
      "outputs": [
        {
          "output_type": "stream",
          "text": [
            "datasets : 1.6.2  |  pd : 1.1.5  |  np : 1.19.5  |  tqdm : 4.41.1  |  transformers : 4.6.0  |  torch : 1.8.1+cu101\n",
            "device : cuda\n"
          ],
          "name": "stdout"
        }
      ]
    },
    {
      "cell_type": "markdown",
      "metadata": {
        "id": "wHrlxkxJO0pp"
      },
      "source": [
        "## 1. Loading the dataset & metric\n",
        "- We will use the 🤗 Datasets library to download the data and get the metric we need to use for evaluation (to compare our model to the benchmark). This can be easily done with the functions `load_dataset` and `load_metric`."
      ]
    },
    {
      "cell_type": "code",
      "metadata": {
        "colab": {
          "base_uri": "https://localhost:8080/",
          "height": 562
        },
        "id": "TZNYDi4GLcPr",
        "outputId": "ac38be5e-87e7-4b64-fc98-c85b2669df1f"
      },
      "source": [
        "# load dataset & metric\n",
        "dset_dict = datasets.load_dataset('swag')\n",
        "# metric = datasets.load_metric('swag')  # not run\n",
        "\n",
        "# check dataset\n",
        "print('\\n>>> dataset object :')\n",
        "display(dset_dict)\n",
        "print('\\n>>> sample data :')\n",
        "display(dset_dict['train'][0])"
      ],
      "execution_count": 6,
      "outputs": [
        {
          "output_type": "stream",
          "text": [
            "No config specified, defaulting to: swag/regular\n",
            "Reusing dataset swag (/root/.cache/huggingface/datasets/swag/regular/0.0.0/9640de08cdba6a1469ed3834fcab4b8ad8e38caf5d1ba5e7436d8b1fd067ad4c)\n"
          ],
          "name": "stderr"
        },
        {
          "output_type": "stream",
          "text": [
            "\n",
            ">>> dataset object :\n"
          ],
          "name": "stdout"
        },
        {
          "output_type": "display_data",
          "data": {
            "text/plain": [
              "DatasetDict({\n",
              "    train: Dataset({\n",
              "        features: ['video-id', 'fold-ind', 'startphrase', 'sent1', 'sent2', 'gold-source', 'ending0', 'ending1', 'ending2', 'ending3', 'label'],\n",
              "        num_rows: 73546\n",
              "    })\n",
              "    validation: Dataset({\n",
              "        features: ['video-id', 'fold-ind', 'startphrase', 'sent1', 'sent2', 'gold-source', 'ending0', 'ending1', 'ending2', 'ending3', 'label'],\n",
              "        num_rows: 20006\n",
              "    })\n",
              "    test: Dataset({\n",
              "        features: ['video-id', 'fold-ind', 'startphrase', 'sent1', 'sent2', 'gold-source', 'ending0', 'ending1', 'ending2', 'ending3', 'label'],\n",
              "        num_rows: 20005\n",
              "    })\n",
              "})"
            ]
          },
          "metadata": {
            "tags": []
          }
        },
        {
          "output_type": "stream",
          "text": [
            "\n",
            ">>> sample data :\n"
          ],
          "name": "stdout"
        },
        {
          "output_type": "display_data",
          "data": {
            "text/plain": [
              "{'ending0': 'passes by walking down the street playing their instruments.',\n",
              " 'ending1': 'has heard approaching them.',\n",
              " 'ending2': \"arrives and they're outside dancing and asleep.\",\n",
              " 'ending3': 'turns the lead singer watches the performance.',\n",
              " 'fold-ind': '3416',\n",
              " 'gold-source': 'gold',\n",
              " 'label': 0,\n",
              " 'sent1': 'Members of the procession walk down the street holding small horn brass instruments.',\n",
              " 'sent2': 'A drum line',\n",
              " 'startphrase': 'Members of the procession walk down the street holding small horn brass instruments. A drum line',\n",
              " 'video-id': 'anetv_jkn6uvmqwh4'}"
            ]
          },
          "metadata": {
            "tags": []
          }
        }
      ]
    },
    {
      "cell_type": "code",
      "metadata": {
        "colab": {
          "base_uri": "https://localhost:8080/",
          "height": 274
        },
        "id": "JiB6ESmKLcNn",
        "outputId": "9e9307c4-bdff-4cbe-ee6c-8cfc29025b8e"
      },
      "source": [
        "# show random sample of a dataset\n",
        "def show_random_elements(dataset, num_examples=5):\n",
        "    assert num_examples <= len(dataset), \"Can't pick more elements than there are in the dataset.\"\n",
        "    random.seed(777)\n",
        "    picks = random.sample(range(len(dataset)), k=num_examples)\n",
        "    \n",
        "    df = pd.DataFrame(dataset[picks])\n",
        "    for column, typ in dataset.features.items():\n",
        "        if isinstance(typ, datasets.ClassLabel):\n",
        "            df[column] = df[column].transform(lambda i: typ.names[i])\n",
        "    display(HTML(df.to_html()))\n",
        "\n",
        "show_random_elements(dset_dict[\"train\"], 2)"
      ],
      "execution_count": 7,
      "outputs": [
        {
          "output_type": "display_data",
          "data": {
            "text/html": [
              "<table border=\"1\" class=\"dataframe\">\n",
              "  <thead>\n",
              "    <tr style=\"text-align: right;\">\n",
              "      <th></th>\n",
              "      <th>ending0</th>\n",
              "      <th>ending1</th>\n",
              "      <th>ending2</th>\n",
              "      <th>ending3</th>\n",
              "      <th>fold-ind</th>\n",
              "      <th>gold-source</th>\n",
              "      <th>label</th>\n",
              "      <th>sent1</th>\n",
              "      <th>sent2</th>\n",
              "      <th>startphrase</th>\n",
              "      <th>video-id</th>\n",
              "    </tr>\n",
              "  </thead>\n",
              "  <tbody>\n",
              "    <tr>\n",
              "      <th>0</th>\n",
              "      <td>takes possession of the surging metal.</td>\n",
              "      <td>someone and his friends follow each and open his mechanics for the last remark on the chess piece.</td>\n",
              "      <td>are row upon row of the weapons his father once used.</td>\n",
              "      <td>someone reaches into the passenger window, moves the wall punctuated back from the cabinet side - first as kids rush out.</td>\n",
              "      <td>18668</td>\n",
              "      <td>gold</td>\n",
              "      <td>2</td>\n",
              "      <td>Someone crashes into a set of shelves filled with spherical bombs.</td>\n",
              "      <td>There</td>\n",
              "      <td>Someone crashes into a set of shelves filled with spherical bombs. There</td>\n",
              "      <td>lsmdc1008_Spider-Man2-76017</td>\n",
              "    </tr>\n",
              "    <tr>\n",
              "      <th>1</th>\n",
              "      <td>takes out her hand and pulls the wheel under.</td>\n",
              "      <td>stands on his side at the shore, looking at the hair of someone with his hands.</td>\n",
              "      <td>hangs low with a closed phone.</td>\n",
              "      <td>pauses and turns back and slowly drives away.</td>\n",
              "      <td>11809</td>\n",
              "      <td>gen</td>\n",
              "      <td>3</td>\n",
              "      <td>The unit moves on, spread out along the hazy street.</td>\n",
              "      <td>Someone</td>\n",
              "      <td>The unit moves on, spread out along the hazy street. Someone</td>\n",
              "      <td>lsmdc3009_BATTLE_LOS_ANGELES-121</td>\n",
              "    </tr>\n",
              "  </tbody>\n",
              "</table>"
            ],
            "text/plain": [
              "<IPython.core.display.HTML object>"
            ]
          },
          "metadata": {
            "tags": []
          }
        }
      ]
    }
  ]
}