{
 "cells": [
  {
   "cell_type": "markdown",
   "id": "controlled-postage",
   "metadata": {
    "papermill": {
     "duration": 0.021387,
     "end_time": "2021-04-09T14:46:41.134538",
     "exception": false,
     "start_time": "2021-04-09T14:46:41.113151",
     "status": "completed"
    },
    "tags": []
   },
   "source": [
    "## ref : https://www.kaggle.com/vikashrajluhaniwal/recommending-news-articles-based-on-read-articles\n",
    "<br><br>\n",
    "## Table of Content\n",
    "### 1. Importing necessary Libraries<br>\n",
    "\n",
    "### 2. Loading Data<br>\n",
    "\n",
    "### 3. Data Preprocessing\n",
    "#### 3.a Fetching only the articles from 2018\n",
    "#### 3.b Removing all the short headline articles\n",
    "#### 3.c Checking and removing all the duplicates\n",
    "#### 3.d Checking for missing values<br>\n",
    "\n",
    "### 4. Text Preprocessing\n",
    "#### 4.a Stopwords removal\n",
    "#### 4.b Lemmatization<br>\n",
    "\n",
    "### 5. Headline based similarity on new articles\n",
    "#### 5.a Using Bag of Words method\n",
    "#### 5.b Using TF-IDF method\n",
    "#### 5.c Using Word2Vec embedding\n",
    "#### 5.d Weighted similarity based on headline and category\n",
    "#### 5.e Weighted similarity based on headline, category and author"
   ]
  },
  {
   "cell_type": "markdown",
   "id": "quiet-vietnam",
   "metadata": {
    "papermill": {
     "duration": 0.02075,
     "end_time": "2021-04-09T14:46:41.175344",
     "exception": false,
     "start_time": "2021-04-09T14:46:41.154594",
     "status": "completed"
    },
    "tags": []
   },
   "source": [
    "## 1. Importing necessary Libraries"
   ]
  },
  {
   "cell_type": "code",
   "execution_count": 1,
   "id": "lined-antigua",
   "metadata": {
    "_cell_guid": "b1076dfc-b9ad-4769-8c92-a6c4dae69d19",
    "_uuid": "8f2839f25d086af736a60e9eeb907d3b93b6e0e5",
    "execution": {
     "iopub.execute_input": "2021-04-09T14:46:41.229192Z",
     "iopub.status.busy": "2021-04-09T14:46:41.228115Z",
     "iopub.status.idle": "2021-04-09T14:46:47.380242Z",
     "shell.execute_reply": "2021-04-09T14:46:47.380810Z"
    },
    "papermill": {
     "duration": 6.186524,
     "end_time": "2021-04-09T14:46:47.381138",
     "exception": false,
     "start_time": "2021-04-09T14:46:41.194614",
     "status": "completed"
    },
    "tags": []
   },
   "outputs": [
    {
     "name": "stdout",
     "output_type": "stream",
     "text": [
      "np : 1.19.5  |  pd : 1.2.2  |  nltk : 3.2.4  |  sklearn : 0.24.1  |  gensim : 4.0.0\n"
     ]
    }
   ],
   "source": [
    "import numpy as np\n",
    "import pandas as pd\n",
    "pd.options.display.max_colwidth = None\n",
    "\n",
    "import os\n",
    "import math\n",
    "import time\n",
    "\n",
    "import matplotlib.pyplot as plt\n",
    "import seaborn as sns\n",
    "import plotly.figure_factory as ff\n",
    "import plotly.graph_objects as go\n",
    "import plotly.express as px\n",
    "\n",
    "# For text processing (NLTK)\n",
    "import nltk\n",
    "from nltk.corpus import stopwords\n",
    "from nltk.tokenize import word_tokenize\n",
    "from nltk.stem import WordNetLemmatizer\n",
    "\n",
    "import sklearn\n",
    "\n",
    "# For feature representation using sklearn\n",
    "from sklearn.feature_extraction.text import CountVectorizer\n",
    "from sklearn.feature_extraction.text import TfidfVectorizer\n",
    "\n",
    "# For similarity matrices using sklearn\n",
    "from sklearn.metrics.pairwise import cosine_similarity  \n",
    "from sklearn.metrics import pairwise_distances\n",
    "\n",
    "# For Word2vec\n",
    "import gensim\n",
    "\n",
    "\n",
    "# original - np : 1.19.5  |  pd : 1.2.2  |  nltk : 3.2.4  |  sklearn : 0.24.1  |  gensim : 4.0.0\n",
    "print(f'np : {np.__version__}  |  pd : {pd.__version__}  |  nltk : {nltk.__version__}  |  sklearn : {sklearn.__version__}  |  gensim : {gensim.__version__}')"
   ]
  },
  {
   "cell_type": "markdown",
   "id": "homeless-entity",
   "metadata": {
    "papermill": {
     "duration": 0.021024,
     "end_time": "2021-04-09T14:46:47.422598",
     "exception": false,
     "start_time": "2021-04-09T14:46:47.401574",
     "status": "completed"
    },
    "tags": []
   },
   "source": [
    "## 2. Loading Data"
   ]
  },
  {
   "cell_type": "code",
   "execution_count": 2,
   "id": "gross-museum",
   "metadata": {
    "execution": {
     "iopub.execute_input": "2021-04-09T14:46:47.472342Z",
     "iopub.status.busy": "2021-04-09T14:46:47.471579Z",
     "iopub.status.idle": "2021-04-09T14:46:51.341945Z",
     "shell.execute_reply": "2021-04-09T14:46:51.342626Z"
    },
    "papermill": {
     "duration": 3.900531,
     "end_time": "2021-04-09T14:46:51.342819",
     "exception": false,
     "start_time": "2021-04-09T14:46:47.442288",
     "status": "completed"
    },
    "tags": []
   },
   "outputs": [
    {
     "name": "stdout",
     "output_type": "stream",
     "text": [
      "<class 'pandas.core.frame.DataFrame'>\n",
      "RangeIndex: 200853 entries, 0 to 200852\n",
      "Data columns (total 6 columns):\n",
      " #   Column             Non-Null Count   Dtype         \n",
      "---  ------             --------------   -----         \n",
      " 0   category           200853 non-null  object        \n",
      " 1   headline           200853 non-null  object        \n",
      " 2   authors            200853 non-null  object        \n",
      " 3   link               200853 non-null  object        \n",
      " 4   short_description  200853 non-null  object        \n",
      " 5   date               200853 non-null  datetime64[ns]\n",
      "dtypes: datetime64[ns](1), object(5)\n",
      "memory usage: 9.2+ MB\n"
     ]
    }
   ],
   "source": [
    "news_articles = pd.read_json(\"/kaggle/input/news-category-dataset/News_Category_Dataset_v2.json\", lines = True)\n",
    "news_articles.info()"
   ]
  },
  {
   "cell_type": "code",
   "execution_count": 3,
   "id": "quiet-howard",
   "metadata": {
    "execution": {
     "iopub.execute_input": "2021-04-09T14:46:51.386988Z",
     "iopub.status.busy": "2021-04-09T14:46:51.386214Z",
     "iopub.status.idle": "2021-04-09T14:46:51.407611Z",
     "shell.execute_reply": "2021-04-09T14:46:51.406978Z"
    },
    "papermill": {
     "duration": 0.044682,
     "end_time": "2021-04-09T14:46:51.407764",
     "exception": false,
     "start_time": "2021-04-09T14:46:51.363082",
     "status": "completed"
    },
    "tags": []
   },
   "outputs": [
    {
     "data": {
      "text/html": [
       "<div>\n",
       "<style scoped>\n",
       "    .dataframe tbody tr th:only-of-type {\n",
       "        vertical-align: middle;\n",
       "    }\n",
       "\n",
       "    .dataframe tbody tr th {\n",
       "        vertical-align: top;\n",
       "    }\n",
       "\n",
       "    .dataframe thead th {\n",
       "        text-align: right;\n",
       "    }\n",
       "</style>\n",
       "<table border=\"1\" class=\"dataframe\">\n",
       "  <thead>\n",
       "    <tr style=\"text-align: right;\">\n",
       "      <th></th>\n",
       "      <th>category</th>\n",
       "      <th>headline</th>\n",
       "      <th>authors</th>\n",
       "      <th>link</th>\n",
       "      <th>short_description</th>\n",
       "      <th>date</th>\n",
       "    </tr>\n",
       "  </thead>\n",
       "  <tbody>\n",
       "    <tr>\n",
       "      <th>0</th>\n",
       "      <td>CRIME</td>\n",
       "      <td>There Were 2 Mass Shootings In Texas Last Week, But Only 1 On TV</td>\n",
       "      <td>Melissa Jeltsen</td>\n",
       "      <td>https://www.huffingtonpost.com/entry/texas-amanda-painter-mass-shooting_us_5b081ab4e4b0802d69caad89</td>\n",
       "      <td>She left her husband. He killed their children. Just another day in America.</td>\n",
       "      <td>2018-05-26</td>\n",
       "    </tr>\n",
       "    <tr>\n",
       "      <th>1</th>\n",
       "      <td>ENTERTAINMENT</td>\n",
       "      <td>Will Smith Joins Diplo And Nicky Jam For The 2018 World Cup's Official Song</td>\n",
       "      <td>Andy McDonald</td>\n",
       "      <td>https://www.huffingtonpost.com/entry/will-smith-joins-diplo-and-nicky-jam-for-the-official-2018-world-cup-song_us_5b09726fe4b0fdb2aa541201</td>\n",
       "      <td>Of course it has a song.</td>\n",
       "      <td>2018-05-26</td>\n",
       "    </tr>\n",
       "    <tr>\n",
       "      <th>2</th>\n",
       "      <td>ENTERTAINMENT</td>\n",
       "      <td>Hugh Grant Marries For The First Time At Age 57</td>\n",
       "      <td>Ron Dicker</td>\n",
       "      <td>https://www.huffingtonpost.com/entry/hugh-grant-marries_us_5b09212ce4b0568a880b9a8c</td>\n",
       "      <td>The actor and his longtime girlfriend Anna Eberstein tied the knot in a civil ceremony.</td>\n",
       "      <td>2018-05-26</td>\n",
       "    </tr>\n",
       "    <tr>\n",
       "      <th>3</th>\n",
       "      <td>ENTERTAINMENT</td>\n",
       "      <td>Jim Carrey Blasts 'Castrato' Adam Schiff And Democrats In New Artwork</td>\n",
       "      <td>Ron Dicker</td>\n",
       "      <td>https://www.huffingtonpost.com/entry/jim-carrey-adam-schiff-democrats_us_5b0950e8e4b0fdb2aa53e675</td>\n",
       "      <td>The actor gives Dems an ass-kicking for not fighting hard enough against Donald Trump.</td>\n",
       "      <td>2018-05-26</td>\n",
       "    </tr>\n",
       "    <tr>\n",
       "      <th>4</th>\n",
       "      <td>ENTERTAINMENT</td>\n",
       "      <td>Julianna Margulies Uses Donald Trump Poop Bags To Pick Up After Her Dog</td>\n",
       "      <td>Ron Dicker</td>\n",
       "      <td>https://www.huffingtonpost.com/entry/julianna-margulies-trump-poop-bag_us_5b093ec2e4b0fdb2aa53df70</td>\n",
       "      <td>The \"Dietland\" actress said using the bags is a \"really cathartic, therapeutic moment.\"</td>\n",
       "      <td>2018-05-26</td>\n",
       "    </tr>\n",
       "  </tbody>\n",
       "</table>\n",
       "</div>"
      ],
      "text/plain": [
       "        category  \\\n",
       "0          CRIME   \n",
       "1  ENTERTAINMENT   \n",
       "2  ENTERTAINMENT   \n",
       "3  ENTERTAINMENT   \n",
       "4  ENTERTAINMENT   \n",
       "\n",
       "                                                                      headline  \\\n",
       "0             There Were 2 Mass Shootings In Texas Last Week, But Only 1 On TV   \n",
       "1  Will Smith Joins Diplo And Nicky Jam For The 2018 World Cup's Official Song   \n",
       "2                              Hugh Grant Marries For The First Time At Age 57   \n",
       "3        Jim Carrey Blasts 'Castrato' Adam Schiff And Democrats In New Artwork   \n",
       "4      Julianna Margulies Uses Donald Trump Poop Bags To Pick Up After Her Dog   \n",
       "\n",
       "           authors  \\\n",
       "0  Melissa Jeltsen   \n",
       "1    Andy McDonald   \n",
       "2       Ron Dicker   \n",
       "3       Ron Dicker   \n",
       "4       Ron Dicker   \n",
       "\n",
       "                                                                                                                                         link  \\\n",
       "0                                         https://www.huffingtonpost.com/entry/texas-amanda-painter-mass-shooting_us_5b081ab4e4b0802d69caad89   \n",
       "1  https://www.huffingtonpost.com/entry/will-smith-joins-diplo-and-nicky-jam-for-the-official-2018-world-cup-song_us_5b09726fe4b0fdb2aa541201   \n",
       "2                                                         https://www.huffingtonpost.com/entry/hugh-grant-marries_us_5b09212ce4b0568a880b9a8c   \n",
       "3                                           https://www.huffingtonpost.com/entry/jim-carrey-adam-schiff-democrats_us_5b0950e8e4b0fdb2aa53e675   \n",
       "4                                          https://www.huffingtonpost.com/entry/julianna-margulies-trump-poop-bag_us_5b093ec2e4b0fdb2aa53df70   \n",
       "\n",
       "                                                                         short_description  \\\n",
       "0             She left her husband. He killed their children. Just another day in America.   \n",
       "1                                                                 Of course it has a song.   \n",
       "2  The actor and his longtime girlfriend Anna Eberstein tied the knot in a civil ceremony.   \n",
       "3   The actor gives Dems an ass-kicking for not fighting hard enough against Donald Trump.   \n",
       "4  The \"Dietland\" actress said using the bags is a \"really cathartic, therapeutic moment.\"   \n",
       "\n",
       "        date  \n",
       "0 2018-05-26  \n",
       "1 2018-05-26  \n",
       "2 2018-05-26  \n",
       "3 2018-05-26  \n",
       "4 2018-05-26  "
      ]
     },
     "execution_count": 3,
     "metadata": {},
     "output_type": "execute_result"
    }
   ],
   "source": [
    "news_articles.head()"
   ]
  },
  {
   "cell_type": "markdown",
   "id": "foster-diary",
   "metadata": {
    "papermill": {
     "duration": 0.020575,
     "end_time": "2021-04-09T14:46:51.449410",
     "exception": false,
     "start_time": "2021-04-09T14:46:51.428835",
     "status": "completed"
    },
    "tags": []
   },
   "source": [
    "## 3. Data Preprocessing\n",
    "### 3.a Fetching only the articles from 2018\n",
    "- We are only considering the latest articles from the year 2018. Those are 8583 articles out of 200853."
   ]
  },
  {
   "cell_type": "code",
   "execution_count": 4,
   "id": "hawaiian-madness",
   "metadata": {
    "execution": {
     "iopub.execute_input": "2021-04-09T14:46:51.497167Z",
     "iopub.status.busy": "2021-04-09T14:46:51.496459Z",
     "iopub.status.idle": "2021-04-09T14:46:51.507071Z",
     "shell.execute_reply": "2021-04-09T14:46:51.506473Z"
    },
    "papermill": {
     "duration": 0.036636,
     "end_time": "2021-04-09T14:46:51.507222",
     "exception": false,
     "start_time": "2021-04-09T14:46:51.470586",
     "status": "completed"
    },
    "tags": []
   },
   "outputs": [
    {
     "data": {
      "text/plain": [
       "(8583, 6)"
      ]
     },
     "execution_count": 4,
     "metadata": {},
     "output_type": "execute_result"
    }
   ],
   "source": [
    "news_articles = news_articles[news_articles['date'] >= pd.Timestamp('2018-01-01')]\n",
    "news_articles.shape"
   ]
  },
  {
   "cell_type": "markdown",
   "id": "automotive-algorithm",
   "metadata": {
    "papermill": {
     "duration": 0.021313,
     "end_time": "2021-04-09T14:46:51.551674",
     "exception": false,
     "start_time": "2021-04-09T14:46:51.530361",
     "status": "completed"
    },
    "tags": []
   },
   "source": [
    "### 3.b Removing all the short headline articles"
   ]
  },
  {
   "cell_type": "code",
   "execution_count": 5,
   "id": "educational-marriage",
   "metadata": {
    "execution": {
     "iopub.execute_input": "2021-04-09T14:46:51.611886Z",
     "iopub.status.busy": "2021-04-09T14:46:51.598733Z",
     "iopub.status.idle": "2021-04-09T14:46:51.620759Z",
     "shell.execute_reply": "2021-04-09T14:46:51.620139Z"
    },
    "papermill": {
     "duration": 0.04673,
     "end_time": "2021-04-09T14:46:51.620897",
     "exception": false,
     "start_time": "2021-04-09T14:46:51.574167",
     "status": "completed"
    },
    "tags": []
   },
   "outputs": [
    {
     "data": {
      "text/plain": [
       "(8530, 6)"
      ]
     },
     "execution_count": 5,
     "metadata": {},
     "output_type": "execute_result"
    }
   ],
   "source": [
    "news_articles = news_articles[news_articles.headline.apply(lambda x : len(x.split())>5)]\n",
    "news_articles.shape"
   ]
  },
  {
   "cell_type": "markdown",
   "id": "scenic-chicago",
   "metadata": {
    "papermill": {
     "duration": 0.022306,
     "end_time": "2021-04-09T14:46:51.666035",
     "exception": false,
     "start_time": "2021-04-09T14:46:51.643729",
     "status": "completed"
    },
    "tags": []
   },
   "source": [
    "### 3.c Checking and removing all the duplicates"
   ]
  },
  {
   "cell_type": "code",
   "execution_count": 6,
   "id": "living-falls",
   "metadata": {
    "execution": {
     "iopub.execute_input": "2021-04-09T14:46:51.728987Z",
     "iopub.status.busy": "2021-04-09T14:46:51.727554Z",
     "iopub.status.idle": "2021-04-09T14:46:51.746770Z",
     "shell.execute_reply": "2021-04-09T14:46:51.745767Z"
    },
    "papermill": {
     "duration": 0.058298,
     "end_time": "2021-04-09T14:46:51.746919",
     "exception": false,
     "start_time": "2021-04-09T14:46:51.688621",
     "status": "completed"
    },
    "tags": []
   },
   "outputs": [
    {
     "data": {
      "text/plain": [
       "(8485, 6)"
      ]
     },
     "execution_count": 6,
     "metadata": {},
     "output_type": "execute_result"
    }
   ],
   "source": [
    "news_articles = news_articles.sort_values('headline', ascending=False)\n",
    "duplicated_articles_series = news_articles.duplicated('headline', keep = False)\n",
    "news_articles = news_articles[~duplicated_articles_series]\n",
    "\n",
    "news_articles.shape"
   ]
  },
  {
   "cell_type": "markdown",
   "id": "entire-posting",
   "metadata": {
    "papermill": {
     "duration": 0.02205,
     "end_time": "2021-04-09T14:46:51.791699",
     "exception": false,
     "start_time": "2021-04-09T14:46:51.769649",
     "status": "completed"
    },
    "tags": []
   },
   "source": [
    "### 3.d Checking for missing values"
   ]
  },
  {
   "cell_type": "code",
   "execution_count": 7,
   "id": "affecting-confirmation",
   "metadata": {
    "execution": {
     "iopub.execute_input": "2021-04-09T14:46:51.851310Z",
     "iopub.status.busy": "2021-04-09T14:46:51.848203Z",
     "iopub.status.idle": "2021-04-09T14:46:51.855877Z",
     "shell.execute_reply": "2021-04-09T14:46:51.855249Z"
    },
    "papermill": {
     "duration": 0.041987,
     "end_time": "2021-04-09T14:46:51.856047",
     "exception": false,
     "start_time": "2021-04-09T14:46:51.814060",
     "status": "completed"
    },
    "tags": []
   },
   "outputs": [
    {
     "data": {
      "text/plain": [
       "category             0\n",
       "headline             0\n",
       "authors              0\n",
       "link                 0\n",
       "short_description    0\n",
       "date                 0\n",
       "dtype: int64"
      ]
     },
     "execution_count": 7,
     "metadata": {},
     "output_type": "execute_result"
    }
   ],
   "source": [
    "news_articles.isna().sum()"
   ]
  },
  {
   "cell_type": "markdown",
   "id": "tight-arrival",
   "metadata": {
    "papermill": {
     "duration": 0.023277,
     "end_time": "2021-04-09T14:46:51.902491",
     "exception": false,
     "start_time": "2021-04-09T14:46:51.879214",
     "status": "completed"
    },
    "tags": []
   },
   "source": [
    "## 4. Text Preprocessing\n",
    "- By Data processing in Step 2, we get a subset of original dataset which has different index labels. <br>\n",
    "  So, let's make the indices uniform ranging from 0 to total number of articles.\n",
    "- After text preprocessing, the original headlines will be modified. <br>\n",
    "  However, It doesn't make sense to recommend articles by displaying modified headlines. <br>\n",
    "  Therefore, let's copy the dataset into some other dataset and perform text preprocessing on the later."
   ]
  },
  {
   "cell_type": "code",
   "execution_count": 8,
   "id": "ordered-chapel",
   "metadata": {
    "execution": {
     "iopub.execute_input": "2021-04-09T14:46:51.956670Z",
     "iopub.status.busy": "2021-04-09T14:46:51.955999Z",
     "iopub.status.idle": "2021-04-09T14:46:51.966692Z",
     "shell.execute_reply": "2021-04-09T14:46:51.967249Z"
    },
    "papermill": {
     "duration": 0.042406,
     "end_time": "2021-04-09T14:46:51.967428",
     "exception": false,
     "start_time": "2021-04-09T14:46:51.925022",
     "status": "completed"
    },
    "tags": []
   },
   "outputs": [
    {
     "data": {
      "text/html": [
       "<div>\n",
       "<style scoped>\n",
       "    .dataframe tbody tr th:only-of-type {\n",
       "        vertical-align: middle;\n",
       "    }\n",
       "\n",
       "    .dataframe tbody tr th {\n",
       "        vertical-align: top;\n",
       "    }\n",
       "\n",
       "    .dataframe thead th {\n",
       "        text-align: right;\n",
       "    }\n",
       "</style>\n",
       "<table border=\"1\" class=\"dataframe\">\n",
       "  <thead>\n",
       "    <tr style=\"text-align: right;\">\n",
       "      <th></th>\n",
       "      <th>category</th>\n",
       "      <th>headline</th>\n",
       "      <th>authors</th>\n",
       "      <th>link</th>\n",
       "      <th>short_description</th>\n",
       "      <th>date</th>\n",
       "    </tr>\n",
       "  </thead>\n",
       "  <tbody>\n",
       "    <tr>\n",
       "      <th>0</th>\n",
       "      <td>QUEER VOICES</td>\n",
       "      <td>‘Will &amp; Grace’ Creator To Donate Gay Bunny Book To Every Grade School In Indiana</td>\n",
       "      <td>Elyse Wanshel</td>\n",
       "      <td>https://www.huffingtonpost.com/entry/will-grace-creator-donate-john-olivers-gay-bunny-book-to-every-elementary-school-in-indiana_us_5ac28265e4b00fa46f854225</td>\n",
       "      <td>It's about to be a lot easier for kids in Mike Pence's home state to read “A Day in the Life of Marlon Bundo.”</td>\n",
       "      <td>2018-04-02</td>\n",
       "    </tr>\n",
       "    <tr>\n",
       "      <th>1</th>\n",
       "      <td>QUEER VOICES</td>\n",
       "      <td>‘The Voice’ Blind Auditions Make History With First Trans Contestant</td>\n",
       "      <td>Lyndsey Parker, Yahoo Entertainment</td>\n",
       "      <td>https://www.huffingtonpost.com/entry/the-voice-blind-auditions-make-history-with-first-trans-contestant_us_5a9ece6ee4b002df2c5e39c2</td>\n",
       "      <td>Austin Giorgio, 21: “How Sweet It Is (To Be Loved by You)” Young crooners have appeared on singing competitions since “American</td>\n",
       "      <td>2018-03-06</td>\n",
       "    </tr>\n",
       "    <tr>\n",
       "      <th>2</th>\n",
       "      <td>QUEER VOICES</td>\n",
       "      <td>‘The Penumbra’ Is The Queer Audio Drama You Didn’t Know You Needed</td>\n",
       "      <td>Sarah Emily Baum, ContributorFreelance Writer</td>\n",
       "      <td>https://www.huffingtonpost.com/entry/the-penumbra-is-the-queer-audio-drama-you-didnt_us_5a48f900e4b0df0de8b06b29</td>\n",
       "      <td>Young, fun, fantastical and, most notably, inclusive, the show is a must-listen for young queer people.</td>\n",
       "      <td>2018-01-05</td>\n",
       "    </tr>\n",
       "  </tbody>\n",
       "</table>\n",
       "</div>"
      ],
      "text/plain": [
       "       category  \\\n",
       "0  QUEER VOICES   \n",
       "1  QUEER VOICES   \n",
       "2  QUEER VOICES   \n",
       "\n",
       "                                                                           headline  \\\n",
       "0  ‘Will & Grace’ Creator To Donate Gay Bunny Book To Every Grade School In Indiana   \n",
       "1              ‘The Voice’ Blind Auditions Make History With First Trans Contestant   \n",
       "2                ‘The Penumbra’ Is The Queer Audio Drama You Didn’t Know You Needed   \n",
       "\n",
       "                                         authors  \\\n",
       "0                                  Elyse Wanshel   \n",
       "1            Lyndsey Parker, Yahoo Entertainment   \n",
       "2  Sarah Emily Baum, ContributorFreelance Writer   \n",
       "\n",
       "                                                                                                                                                           link  \\\n",
       "0  https://www.huffingtonpost.com/entry/will-grace-creator-donate-john-olivers-gay-bunny-book-to-every-elementary-school-in-indiana_us_5ac28265e4b00fa46f854225   \n",
       "1                           https://www.huffingtonpost.com/entry/the-voice-blind-auditions-make-history-with-first-trans-contestant_us_5a9ece6ee4b002df2c5e39c2   \n",
       "2                                              https://www.huffingtonpost.com/entry/the-penumbra-is-the-queer-audio-drama-you-didnt_us_5a48f900e4b0df0de8b06b29   \n",
       "\n",
       "                                                                                                                 short_description  \\\n",
       "0                   It's about to be a lot easier for kids in Mike Pence's home state to read “A Day in the Life of Marlon Bundo.”   \n",
       "1  Austin Giorgio, 21: “How Sweet It Is (To Be Loved by You)” Young crooners have appeared on singing competitions since “American   \n",
       "2                          Young, fun, fantastical and, most notably, inclusive, the show is a must-listen for young queer people.   \n",
       "\n",
       "        date  \n",
       "0 2018-04-02  \n",
       "1 2018-03-06  \n",
       "2 2018-01-05  "
      ]
     },
     "execution_count": 8,
     "metadata": {},
     "output_type": "execute_result"
    }
   ],
   "source": [
    "# reset index\n",
    "news_articles = news_articles.reset_index(drop=True)\n",
    "\n",
    "# copy original dataset for preprocessing\n",
    "news_articles_temp = news_articles.copy()\n",
    "\n",
    "news_articles_temp.head(3)"
   ]
  },
  {
   "cell_type": "markdown",
   "id": "surgical-salmon",
   "metadata": {
    "papermill": {
     "duration": 0.024337,
     "end_time": "2021-04-09T14:46:52.015728",
     "exception": false,
     "start_time": "2021-04-09T14:46:51.991391",
     "status": "completed"
    },
    "tags": []
   },
   "source": [
    "### 4.a Stopwords removal"
   ]
  },
  {
   "cell_type": "code",
   "execution_count": 9,
   "id": "musical-villa",
   "metadata": {
    "execution": {
     "iopub.execute_input": "2021-04-09T14:46:52.065725Z",
     "iopub.status.busy": "2021-04-09T14:46:52.065126Z",
     "iopub.status.idle": "2021-04-09T14:46:52.080591Z",
     "shell.execute_reply": "2021-04-09T14:46:52.079874Z"
    },
    "papermill": {
     "duration": 0.041666,
     "end_time": "2021-04-09T14:46:52.080749",
     "exception": false,
     "start_time": "2021-04-09T14:46:52.039083",
     "status": "completed"
    },
    "tags": []
   },
   "outputs": [
    {
     "data": {
      "text/plain": [
       "(179,\n",
       " ['during',\n",
       "  'him',\n",
       "  'yourselves',\n",
       "  'i',\n",
       "  'below',\n",
       "  'by',\n",
       "  'doing',\n",
       "  'didn',\n",
       "  'am',\n",
       "  'this'])"
      ]
     },
     "execution_count": 9,
     "metadata": {},
     "output_type": "execute_result"
    }
   ],
   "source": [
    "stop_words = set(stopwords.words('english'))  # stopwords from nltk\n",
    "len(stop_words), list(stop_words)[:10]"
   ]
  },
  {
   "cell_type": "code",
   "execution_count": 10,
   "id": "advisory-theorem",
   "metadata": {
    "execution": {
     "iopub.execute_input": "2021-04-09T14:46:52.133856Z",
     "iopub.status.busy": "2021-04-09T14:46:52.133160Z",
     "iopub.status.idle": "2021-04-09T14:46:52.545376Z",
     "shell.execute_reply": "2021-04-09T14:46:52.544705Z"
    },
    "papermill": {
     "duration": 0.440176,
     "end_time": "2021-04-09T14:46:52.545550",
     "exception": false,
     "start_time": "2021-04-09T14:46:52.105374",
     "status": "completed"
    },
    "tags": []
   },
   "outputs": [
    {
     "name": "stdout",
     "output_type": "stream",
     "text": [
      "CPU times: user 386 ms, sys: 128 µs, total: 386 ms\n",
      "Wall time: 388 ms\n"
     ]
    },
    {
     "data": {
      "text/html": [
       "<div>\n",
       "<style scoped>\n",
       "    .dataframe tbody tr th:only-of-type {\n",
       "        vertical-align: middle;\n",
       "    }\n",
       "\n",
       "    .dataframe tbody tr th {\n",
       "        vertical-align: top;\n",
       "    }\n",
       "\n",
       "    .dataframe thead th {\n",
       "        text-align: right;\n",
       "    }\n",
       "</style>\n",
       "<table border=\"1\" class=\"dataframe\">\n",
       "  <thead>\n",
       "    <tr style=\"text-align: right;\">\n",
       "      <th></th>\n",
       "      <th>category</th>\n",
       "      <th>headline</th>\n",
       "      <th>authors</th>\n",
       "      <th>link</th>\n",
       "      <th>short_description</th>\n",
       "      <th>date</th>\n",
       "    </tr>\n",
       "  </thead>\n",
       "  <tbody>\n",
       "    <tr>\n",
       "      <th>0</th>\n",
       "      <td>QUEER VOICES</td>\n",
       "      <td>grace creator donate gay bunny book every grade school indiana</td>\n",
       "      <td>Elyse Wanshel</td>\n",
       "      <td>https://www.huffingtonpost.com/entry/will-grace-creator-donate-john-olivers-gay-bunny-book-to-every-elementary-school-in-indiana_us_5ac28265e4b00fa46f854225</td>\n",
       "      <td>It's about to be a lot easier for kids in Mike Pence's home state to read “A Day in the Life of Marlon Bundo.”</td>\n",
       "      <td>2018-04-02</td>\n",
       "    </tr>\n",
       "    <tr>\n",
       "      <th>1</th>\n",
       "      <td>QUEER VOICES</td>\n",
       "      <td>voice blind auditions make history first trans contestant</td>\n",
       "      <td>Lyndsey Parker, Yahoo Entertainment</td>\n",
       "      <td>https://www.huffingtonpost.com/entry/the-voice-blind-auditions-make-history-with-first-trans-contestant_us_5a9ece6ee4b002df2c5e39c2</td>\n",
       "      <td>Austin Giorgio, 21: “How Sweet It Is (To Be Loved by You)” Young crooners have appeared on singing competitions since “American</td>\n",
       "      <td>2018-03-06</td>\n",
       "    </tr>\n",
       "    <tr>\n",
       "      <th>2</th>\n",
       "      <td>QUEER VOICES</td>\n",
       "      <td>penumbra queer audio drama didnt know needed</td>\n",
       "      <td>Sarah Emily Baum, ContributorFreelance Writer</td>\n",
       "      <td>https://www.huffingtonpost.com/entry/the-penumbra-is-the-queer-audio-drama-you-didnt_us_5a48f900e4b0df0de8b06b29</td>\n",
       "      <td>Young, fun, fantastical and, most notably, inclusive, the show is a must-listen for young queer people.</td>\n",
       "      <td>2018-01-05</td>\n",
       "    </tr>\n",
       "  </tbody>\n",
       "</table>\n",
       "</div>"
      ],
      "text/plain": [
       "       category  \\\n",
       "0  QUEER VOICES   \n",
       "1  QUEER VOICES   \n",
       "2  QUEER VOICES   \n",
       "\n",
       "                                                         headline  \\\n",
       "0  grace creator donate gay bunny book every grade school indiana   \n",
       "1       voice blind auditions make history first trans contestant   \n",
       "2                    penumbra queer audio drama didnt know needed   \n",
       "\n",
       "                                         authors  \\\n",
       "0                                  Elyse Wanshel   \n",
       "1            Lyndsey Parker, Yahoo Entertainment   \n",
       "2  Sarah Emily Baum, ContributorFreelance Writer   \n",
       "\n",
       "                                                                                                                                                           link  \\\n",
       "0  https://www.huffingtonpost.com/entry/will-grace-creator-donate-john-olivers-gay-bunny-book-to-every-elementary-school-in-indiana_us_5ac28265e4b00fa46f854225   \n",
       "1                           https://www.huffingtonpost.com/entry/the-voice-blind-auditions-make-history-with-first-trans-contestant_us_5a9ece6ee4b002df2c5e39c2   \n",
       "2                                              https://www.huffingtonpost.com/entry/the-penumbra-is-the-queer-audio-drama-you-didnt_us_5a48f900e4b0df0de8b06b29   \n",
       "\n",
       "                                                                                                                 short_description  \\\n",
       "0                   It's about to be a lot easier for kids in Mike Pence's home state to read “A Day in the Life of Marlon Bundo.”   \n",
       "1  Austin Giorgio, 21: “How Sweet It Is (To Be Loved by You)” Young crooners have appeared on singing competitions since “American   \n",
       "2                          Young, fun, fantastical and, most notably, inclusive, the show is a must-listen for young queer people.   \n",
       "\n",
       "        date  \n",
       "0 2018-04-02  \n",
       "1 2018-03-06  \n",
       "2 2018-01-05  "
      ]
     },
     "execution_count": 10,
     "metadata": {},
     "output_type": "execute_result"
    }
   ],
   "source": [
    "%%time\n",
    "\n",
    "for i in range(len(news_articles_temp[\"headline\"])):\n",
    "    string = \"\"\n",
    "    for word in news_articles_temp[\"headline\"][i].split():\n",
    "        word = (\"\".join(e for e in word if e.isalnum()))\n",
    "        word = word.lower()\n",
    "        if not word in stop_words:\n",
    "            string += word + \" \"\n",
    "    news_articles_temp.at[i,\"headline\"] = string.strip()\n",
    "\n",
    "news_articles_temp.head(3)"
   ]
  },
  {
   "cell_type": "markdown",
   "id": "single-rwanda",
   "metadata": {
    "papermill": {
     "duration": 0.026687,
     "end_time": "2021-04-09T14:46:52.599183",
     "exception": false,
     "start_time": "2021-04-09T14:46:52.572496",
     "status": "completed"
    },
    "tags": []
   },
   "source": [
    "### 4.b Lemmatization"
   ]
  },
  {
   "cell_type": "code",
   "execution_count": 11,
   "id": "moving-throat",
   "metadata": {
    "execution": {
     "iopub.execute_input": "2021-04-09T14:46:52.658002Z",
     "iopub.status.busy": "2021-04-09T14:46:52.657317Z",
     "iopub.status.idle": "2021-04-09T14:46:57.002035Z",
     "shell.execute_reply": "2021-04-09T14:46:57.001430Z"
    },
    "papermill": {
     "duration": 4.377737,
     "end_time": "2021-04-09T14:46:57.002218",
     "exception": false,
     "start_time": "2021-04-09T14:46:52.624481",
     "status": "completed"
    },
    "tags": []
   },
   "outputs": [
    {
     "name": "stdout",
     "output_type": "stream",
     "text": [
      "CPU times: user 4.26 s, sys: 47.4 ms, total: 4.31 s\n",
      "Wall time: 4.33 s\n"
     ]
    },
    {
     "data": {
      "text/html": [
       "<div>\n",
       "<style scoped>\n",
       "    .dataframe tbody tr th:only-of-type {\n",
       "        vertical-align: middle;\n",
       "    }\n",
       "\n",
       "    .dataframe tbody tr th {\n",
       "        vertical-align: top;\n",
       "    }\n",
       "\n",
       "    .dataframe thead th {\n",
       "        text-align: right;\n",
       "    }\n",
       "</style>\n",
       "<table border=\"1\" class=\"dataframe\">\n",
       "  <thead>\n",
       "    <tr style=\"text-align: right;\">\n",
       "      <th></th>\n",
       "      <th>category</th>\n",
       "      <th>headline</th>\n",
       "      <th>authors</th>\n",
       "      <th>link</th>\n",
       "      <th>short_description</th>\n",
       "      <th>date</th>\n",
       "    </tr>\n",
       "  </thead>\n",
       "  <tbody>\n",
       "    <tr>\n",
       "      <th>0</th>\n",
       "      <td>QUEER VOICES</td>\n",
       "      <td>grace creator donate gay bunny book every grade school indiana</td>\n",
       "      <td>Elyse Wanshel</td>\n",
       "      <td>https://www.huffingtonpost.com/entry/will-grace-creator-donate-john-olivers-gay-bunny-book-to-every-elementary-school-in-indiana_us_5ac28265e4b00fa46f854225</td>\n",
       "      <td>It's about to be a lot easier for kids in Mike Pence's home state to read “A Day in the Life of Marlon Bundo.”</td>\n",
       "      <td>2018-04-02</td>\n",
       "    </tr>\n",
       "    <tr>\n",
       "      <th>1</th>\n",
       "      <td>QUEER VOICES</td>\n",
       "      <td>voice blind audition make history first trans contestant</td>\n",
       "      <td>Lyndsey Parker, Yahoo Entertainment</td>\n",
       "      <td>https://www.huffingtonpost.com/entry/the-voice-blind-auditions-make-history-with-first-trans-contestant_us_5a9ece6ee4b002df2c5e39c2</td>\n",
       "      <td>Austin Giorgio, 21: “How Sweet It Is (To Be Loved by You)” Young crooners have appeared on singing competitions since “American</td>\n",
       "      <td>2018-03-06</td>\n",
       "    </tr>\n",
       "    <tr>\n",
       "      <th>2</th>\n",
       "      <td>QUEER VOICES</td>\n",
       "      <td>penumbra queer audio drama didnt know need</td>\n",
       "      <td>Sarah Emily Baum, ContributorFreelance Writer</td>\n",
       "      <td>https://www.huffingtonpost.com/entry/the-penumbra-is-the-queer-audio-drama-you-didnt_us_5a48f900e4b0df0de8b06b29</td>\n",
       "      <td>Young, fun, fantastical and, most notably, inclusive, the show is a must-listen for young queer people.</td>\n",
       "      <td>2018-01-05</td>\n",
       "    </tr>\n",
       "  </tbody>\n",
       "</table>\n",
       "</div>"
      ],
      "text/plain": [
       "       category  \\\n",
       "0  QUEER VOICES   \n",
       "1  QUEER VOICES   \n",
       "2  QUEER VOICES   \n",
       "\n",
       "                                                         headline  \\\n",
       "0  grace creator donate gay bunny book every grade school indiana   \n",
       "1        voice blind audition make history first trans contestant   \n",
       "2                      penumbra queer audio drama didnt know need   \n",
       "\n",
       "                                         authors  \\\n",
       "0                                  Elyse Wanshel   \n",
       "1            Lyndsey Parker, Yahoo Entertainment   \n",
       "2  Sarah Emily Baum, ContributorFreelance Writer   \n",
       "\n",
       "                                                                                                                                                           link  \\\n",
       "0  https://www.huffingtonpost.com/entry/will-grace-creator-donate-john-olivers-gay-bunny-book-to-every-elementary-school-in-indiana_us_5ac28265e4b00fa46f854225   \n",
       "1                           https://www.huffingtonpost.com/entry/the-voice-blind-auditions-make-history-with-first-trans-contestant_us_5a9ece6ee4b002df2c5e39c2   \n",
       "2                                              https://www.huffingtonpost.com/entry/the-penumbra-is-the-queer-audio-drama-you-didnt_us_5a48f900e4b0df0de8b06b29   \n",
       "\n",
       "                                                                                                                 short_description  \\\n",
       "0                   It's about to be a lot easier for kids in Mike Pence's home state to read “A Day in the Life of Marlon Bundo.”   \n",
       "1  Austin Giorgio, 21: “How Sweet It Is (To Be Loved by You)” Young crooners have appeared on singing competitions since “American   \n",
       "2                          Young, fun, fantastical and, most notably, inclusive, the show is a must-listen for young queer people.   \n",
       "\n",
       "        date  \n",
       "0 2018-04-02  \n",
       "1 2018-03-06  \n",
       "2 2018-01-05  "
      ]
     },
     "execution_count": 11,
     "metadata": {},
     "output_type": "execute_result"
    }
   ],
   "source": [
    "%%time\n",
    "\n",
    "lemmatizer = WordNetLemmatizer()  # lemmatizer from nltk.stem\n",
    "for i in range(len(news_articles_temp[\"headline\"])):\n",
    "    string = \"\"\n",
    "    for w in word_tokenize(news_articles_temp[\"headline\"][i]):\n",
    "        string += lemmatizer.lemmatize(w, pos = \"v\") + \" \"\n",
    "    news_articles_temp.at[i, \"headline\"] = string.strip()\n",
    "\n",
    "news_articles_temp.head(3)"
   ]
  },
  {
   "cell_type": "markdown",
   "id": "determined-airline",
   "metadata": {
    "papermill": {
     "duration": 0.031005,
     "end_time": "2021-04-09T14:46:57.060203",
     "exception": false,
     "start_time": "2021-04-09T14:46:57.029198",
     "status": "completed"
    },
    "tags": []
   },
   "source": [
    "## 5. Headline based similarity on new articles\n",
    "Let's try various feature representation of headline"
   ]
  },
  {
   "cell_type": "code",
   "execution_count": 12,
   "id": "regular-contest",
   "metadata": {
    "execution": {
     "iopub.execute_input": "2021-04-09T14:46:57.133890Z",
     "iopub.status.busy": "2021-04-09T14:46:57.127035Z",
     "iopub.status.idle": "2021-04-09T14:46:57.150799Z",
     "shell.execute_reply": "2021-04-09T14:46:57.150176Z"
    },
    "papermill": {
     "duration": 0.061577,
     "end_time": "2021-04-09T14:46:57.150994",
     "exception": false,
     "start_time": "2021-04-09T14:46:57.089417",
     "status": "completed"
    },
    "tags": []
   },
   "outputs": [
    {
     "data": {
      "text/html": [
       "<div>\n",
       "<style scoped>\n",
       "    .dataframe tbody tr th:only-of-type {\n",
       "        vertical-align: middle;\n",
       "    }\n",
       "\n",
       "    .dataframe tbody tr th {\n",
       "        vertical-align: top;\n",
       "    }\n",
       "\n",
       "    .dataframe thead th {\n",
       "        text-align: right;\n",
       "    }\n",
       "</style>\n",
       "<table border=\"1\" class=\"dataframe\">\n",
       "  <thead>\n",
       "    <tr style=\"text-align: right;\">\n",
       "      <th></th>\n",
       "      <th>category</th>\n",
       "      <th>headline</th>\n",
       "      <th>authors</th>\n",
       "      <th>link</th>\n",
       "      <th>short_description</th>\n",
       "      <th>date</th>\n",
       "    </tr>\n",
       "  </thead>\n",
       "  <tbody>\n",
       "    <tr>\n",
       "      <th>133</th>\n",
       "      <td>POLITICS</td>\n",
       "      <td>Woman Fired After Flipping Off Trump's Motorcade Sues Former Employer</td>\n",
       "      <td>Jennifer Bendery</td>\n",
       "      <td>https://www.huffingtonpost.com/entry/juli-briskman-flipping-off-trump-lawsuit_us_5ac4dfbae4b093a1eb212528</td>\n",
       "      <td>Juli Briskman claims Akima LLC broke state law when it fired her over a viral photo of her presidential insult.</td>\n",
       "      <td>2018-04-04</td>\n",
       "    </tr>\n",
       "  </tbody>\n",
       "</table>\n",
       "</div>"
      ],
      "text/plain": [
       "     category  \\\n",
       "133  POLITICS   \n",
       "\n",
       "                                                                  headline  \\\n",
       "133  Woman Fired After Flipping Off Trump's Motorcade Sues Former Employer   \n",
       "\n",
       "              authors  \\\n",
       "133  Jennifer Bendery   \n",
       "\n",
       "                                                                                                          link  \\\n",
       "133  https://www.huffingtonpost.com/entry/juli-briskman-flipping-off-trump-lawsuit_us_5ac4dfbae4b093a1eb212528   \n",
       "\n",
       "                                                                                                   short_description  \\\n",
       "133  Juli Briskman claims Akima LLC broke state law when it fired her over a viral photo of her presidential insult.   \n",
       "\n",
       "          date  \n",
       "133 2018-04-04  "
      ]
     },
     "execution_count": 12,
     "metadata": {},
     "output_type": "execute_result"
    }
   ],
   "source": [
    "# function for making recommendations based on content simiarity\n",
    "def recommend_similar_txt(doc_vectors, row_index, num_recommend, dist_metric='euclidean', print_result=False):\n",
    "#     # original code\n",
    "#     couple_dist = pairwise_distances(doc_vectors, doc_vectors[row_index])\n",
    "#     indices = np.argsort(couple_dist.ravel())[0:num_recommend]\n",
    "#     df = pd.DataFrame({'publish_date': news_articles['date'][indices].values,\n",
    "#                        'headline':news_articles['headline'][indices].values,\n",
    "#                        'Euclidean similarity with the queried article': couple_dist[indices].ravel()})\n",
    "#     print(\"=\"*30,\"Queried article details\",\"=\"*30)\n",
    "#     print('headline : ',news_articles['headline'][indices[0]])\n",
    "#     print(\"\\n\",\"=\"*25,\"Recommended articles : \",\"=\"*23)\n",
    "#     return df.iloc[1:,]\n",
    "\n",
    "    dist_arr = pairwise_distances(doc_vectors, doc_vectors[row_index].reshape(1, -1), metric=dist_metric).ravel()\n",
    "    df = pd.DataFrame({'publish_date': news_articles['date'], \n",
    "                       'headline': news_articles['headline'],\n",
    "                       f'{dist_metric}_similarity': dist_arr})\n",
    "    df = df.sort_values(f'{dist_metric}_similarity').head(num_recommend+1)\n",
    "    df = df.iloc[1:,].reset_index(drop=True)  # remove input itself (most similar item)\n",
    "    \n",
    "    if print_result:\n",
    "        print(\"=\"*30, \"Queried article details\", \"=\"*30)\n",
    "        print('headline : ', news_articles.loc[row_index, 'headline'])\n",
    "        print(\"\\n\", \"=\"*25, \"Recommended articles : \", \"=\"*23)\n",
    "        display(df)\n",
    "    \n",
    "    return df\n",
    "\n",
    "\n",
    "# sample news to get recommendations\n",
    "query_idx = 133\n",
    "news_articles.loc[[query_idx]]"
   ]
  },
  {
   "cell_type": "markdown",
   "id": "tight-prison",
   "metadata": {
    "papermill": {
     "duration": 0.030083,
     "end_time": "2021-04-09T14:46:57.212189",
     "exception": false,
     "start_time": "2021-04-09T14:46:57.182106",
     "status": "completed"
    },
    "tags": []
   },
   "source": [
    "### 5.a Using Bag of Words method\n",
    "Using **BoW** approach, each document is represented by a d-dimensional vector, where d is total number of unique words in the corpus."
   ]
  },
  {
   "cell_type": "code",
   "execution_count": 13,
   "id": "outdoor-typing",
   "metadata": {
    "execution": {
     "iopub.execute_input": "2021-04-09T14:46:57.321501Z",
     "iopub.status.busy": "2021-04-09T14:46:57.284731Z",
     "iopub.status.idle": "2021-04-09T14:46:57.489591Z",
     "shell.execute_reply": "2021-04-09T14:46:57.488477Z"
    },
    "papermill": {
     "duration": 0.247669,
     "end_time": "2021-04-09T14:46:57.489758",
     "exception": false,
     "start_time": "2021-04-09T14:46:57.242089",
     "status": "completed"
    },
    "tags": []
   },
   "outputs": [
    {
     "name": "stdout",
     "output_type": "stream",
     "text": [
      ">>> input features : <class 'scipy.sparse.csr.csr_matrix'> (8485, 11122) \n",
      "\n",
      "============================== Queried article details ==============================\n",
      "headline :  Woman Fired After Flipping Off Trump's Motorcade Sues Former Employer\n",
      "\n",
      " ========================= Recommended articles :  =======================\n"
     ]
    },
    {
     "data": {
      "text/html": [
       "<div>\n",
       "<style scoped>\n",
       "    .dataframe tbody tr th:only-of-type {\n",
       "        vertical-align: middle;\n",
       "    }\n",
       "\n",
       "    .dataframe tbody tr th {\n",
       "        vertical-align: top;\n",
       "    }\n",
       "\n",
       "    .dataframe thead th {\n",
       "        text-align: right;\n",
       "    }\n",
       "</style>\n",
       "<table border=\"1\" class=\"dataframe\">\n",
       "  <thead>\n",
       "    <tr style=\"text-align: right;\">\n",
       "      <th></th>\n",
       "      <th>publish_date</th>\n",
       "      <th>headline</th>\n",
       "      <th>euclidean_similarity</th>\n",
       "    </tr>\n",
       "  </thead>\n",
       "  <tbody>\n",
       "    <tr>\n",
       "      <th>0</th>\n",
       "      <td>2018-04-02</td>\n",
       "      <td>The Trump Administration Is Suing California Again</td>\n",
       "      <td>2.828427</td>\n",
       "    </tr>\n",
       "    <tr>\n",
       "      <th>1</th>\n",
       "      <td>2018-05-01</td>\n",
       "      <td>Texas Sues Trump Administration To End DACA</td>\n",
       "      <td>3.162278</td>\n",
       "    </tr>\n",
       "    <tr>\n",
       "      <th>2</th>\n",
       "      <td>2018-03-07</td>\n",
       "      <td>Stormy Daniels Suing Trump Over Nondisclosure Agreement</td>\n",
       "      <td>3.162278</td>\n",
       "    </tr>\n",
       "    <tr>\n",
       "      <th>3</th>\n",
       "      <td>2018-04-28</td>\n",
       "      <td>Trump: Mueller Should Never Have Been Appointed</td>\n",
       "      <td>3.162278</td>\n",
       "    </tr>\n",
       "    <tr>\n",
       "      <th>4</th>\n",
       "      <td>2018-04-24</td>\n",
       "      <td>Spanish Woman Looks More Like Trump Than The Donald Himself</td>\n",
       "      <td>3.162278</td>\n",
       "    </tr>\n",
       "    <tr>\n",
       "      <th>5</th>\n",
       "      <td>2018-02-12</td>\n",
       "      <td>What You Should Know About Trump's Nihilist Budget</td>\n",
       "      <td>3.162278</td>\n",
       "    </tr>\n",
       "    <tr>\n",
       "      <th>6</th>\n",
       "      <td>2018-05-09</td>\n",
       "      <td>The Caliphate Of Trump And A Planet In Ruins</td>\n",
       "      <td>3.162278</td>\n",
       "    </tr>\n",
       "    <tr>\n",
       "      <th>7</th>\n",
       "      <td>2018-03-26</td>\n",
       "      <td>Trump Ally Sues Qatar For Hacking His Email</td>\n",
       "      <td>3.162278</td>\n",
       "    </tr>\n",
       "    <tr>\n",
       "      <th>8</th>\n",
       "      <td>2018-02-21</td>\n",
       "      <td>All They Will Call You Will Be Deportees</td>\n",
       "      <td>3.162278</td>\n",
       "    </tr>\n",
       "    <tr>\n",
       "      <th>9</th>\n",
       "      <td>2018-04-11</td>\n",
       "      <td>Pursuing Desegregation In The Trump Era</td>\n",
       "      <td>3.162278</td>\n",
       "    </tr>\n",
       "  </tbody>\n",
       "</table>\n",
       "</div>"
      ],
      "text/plain": [
       "  publish_date                                                     headline  \\\n",
       "0   2018-04-02           The Trump Administration Is Suing California Again   \n",
       "1   2018-05-01                  Texas Sues Trump Administration To End DACA   \n",
       "2   2018-03-07      Stormy Daniels Suing Trump Over Nondisclosure Agreement   \n",
       "3   2018-04-28              Trump: Mueller Should Never Have Been Appointed   \n",
       "4   2018-04-24  Spanish Woman Looks More Like Trump Than The Donald Himself   \n",
       "5   2018-02-12           What You Should Know About Trump's Nihilist Budget   \n",
       "6   2018-05-09                 The Caliphate Of Trump And A Planet In Ruins   \n",
       "7   2018-03-26                  Trump Ally Sues Qatar For Hacking His Email   \n",
       "8   2018-02-21                     All They Will Call You Will Be Deportees   \n",
       "9   2018-04-11                      Pursuing Desegregation In The Trump Era   \n",
       "\n",
       "   euclidean_similarity  \n",
       "0              2.828427  \n",
       "1              3.162278  \n",
       "2              3.162278  \n",
       "3              3.162278  \n",
       "4              3.162278  \n",
       "5              3.162278  \n",
       "6              3.162278  \n",
       "7              3.162278  \n",
       "8              3.162278  \n",
       "9              3.162278  "
      ]
     },
     "metadata": {},
     "output_type": "display_data"
    }
   ],
   "source": [
    "cnt_vectorizer = CountVectorizer()\n",
    "bow_features = cnt_vectorizer.fit_transform(news_articles_temp['headline'])\n",
    "\n",
    "print('>>> input features :', type(bow_features), bow_features.shape, '\\n')\n",
    "df = recommend_similar_txt(bow_features, row_index=query_idx, num_recommend=10, print_result=True)\n",
    "\n",
    "# using cosine metric\n",
    "# df = recommend_similar_txt(bow_features, row_index=query_idx, num_recommend=10, dist_metric='cosine', print_result=True)"
   ]
  },
  {
   "cell_type": "markdown",
   "id": "dimensional-speaking",
   "metadata": {
    "papermill": {
     "duration": 0.031531,
     "end_time": "2021-04-09T14:46:57.552550",
     "exception": false,
     "start_time": "2021-04-09T14:46:57.521019",
     "status": "completed"
    },
    "tags": []
   },
   "source": [
    "## 5.b Using TF-IDF method\n",
    "**TF-IDF** method is a weighted measure which gives more importance to less frequent words in a corpus. <br>\n",
    "It assigns a weight to each term(word) in a document based on Term frequency(TF) and inverse document frequency(IDF). <br><br>\n",
    "\n",
    "**TF(i,j)** = (# times word i appears in document j) / (# words in document j) <br>\n",
    "**IDF(i,D)** = log_e(#documents in the corpus D) / (#documents containing word i) <br>\n",
    "weight(i,j) = **TF(i,j) x IDF(i,D)** <br><br>\n",
    "\n",
    "So if a word occurs more number of times in a document but less number of times in all other documents, then its TF-IDF value will be high.<br>"
   ]
  },
  {
   "cell_type": "code",
   "execution_count": 14,
   "id": "amber-desert",
   "metadata": {
    "execution": {
     "iopub.execute_input": "2021-04-09T14:46:57.635082Z",
     "iopub.status.busy": "2021-04-09T14:46:57.624389Z",
     "iopub.status.idle": "2021-04-09T14:46:57.806455Z",
     "shell.execute_reply": "2021-04-09T14:46:57.805874Z"
    },
    "papermill": {
     "duration": 0.219976,
     "end_time": "2021-04-09T14:46:57.806601",
     "exception": false,
     "start_time": "2021-04-09T14:46:57.586625",
     "status": "completed"
    },
    "tags": []
   },
   "outputs": [
    {
     "name": "stdout",
     "output_type": "stream",
     "text": [
      ">>> input features : <class 'scipy.sparse.csr.csr_matrix'> (8485, 11122) \n",
      "\n",
      "============================== Queried article details ==============================\n",
      "headline :  Woman Fired After Flipping Off Trump's Motorcade Sues Former Employer\n",
      "\n",
      " ========================= Recommended articles :  =======================\n"
     ]
    },
    {
     "data": {
      "text/html": [
       "<div>\n",
       "<style scoped>\n",
       "    .dataframe tbody tr th:only-of-type {\n",
       "        vertical-align: middle;\n",
       "    }\n",
       "\n",
       "    .dataframe tbody tr th {\n",
       "        vertical-align: top;\n",
       "    }\n",
       "\n",
       "    .dataframe thead th {\n",
       "        text-align: right;\n",
       "    }\n",
       "</style>\n",
       "<table border=\"1\" class=\"dataframe\">\n",
       "  <thead>\n",
       "    <tr style=\"text-align: right;\">\n",
       "      <th></th>\n",
       "      <th>publish_date</th>\n",
       "      <th>headline</th>\n",
       "      <th>euclidean_similarity</th>\n",
       "    </tr>\n",
       "  </thead>\n",
       "  <tbody>\n",
       "    <tr>\n",
       "      <th>0</th>\n",
       "      <td>2018-05-21</td>\n",
       "      <td>The Supreme Court Just Made It A Lot Harder For You To Sue Your Employer</td>\n",
       "      <td>1.164067</td>\n",
       "    </tr>\n",
       "    <tr>\n",
       "      <th>1</th>\n",
       "      <td>2018-04-02</td>\n",
       "      <td>The Trump Administration Is Suing California Again</td>\n",
       "      <td>1.253867</td>\n",
       "    </tr>\n",
       "    <tr>\n",
       "      <th>2</th>\n",
       "      <td>2018-04-10</td>\n",
       "      <td>Lou Dobbs Flips Out On Live TV, Urges Trump To 'Fire The SOB' Robert Mueller</td>\n",
       "      <td>1.258810</td>\n",
       "    </tr>\n",
       "    <tr>\n",
       "      <th>3</th>\n",
       "      <td>2018-04-26</td>\n",
       "      <td>Cardi B's Former Manager Sues Her For $10 Million</td>\n",
       "      <td>1.268704</td>\n",
       "    </tr>\n",
       "    <tr>\n",
       "      <th>4</th>\n",
       "      <td>2018-04-03</td>\n",
       "      <td>A Third Woman Is Suing To Break A Trump-Related Nondisclosure Agreement</td>\n",
       "      <td>1.274264</td>\n",
       "    </tr>\n",
       "    <tr>\n",
       "      <th>5</th>\n",
       "      <td>2018-02-24</td>\n",
       "      <td>Former RNC Chair Fires Back At Claim He Was Only Hired Because He Was Black</td>\n",
       "      <td>1.274847</td>\n",
       "    </tr>\n",
       "    <tr>\n",
       "      <th>6</th>\n",
       "      <td>2018-01-16</td>\n",
       "      <td>State Employer Side Payroll Taxes And Loser Liberalism</td>\n",
       "      <td>1.276696</td>\n",
       "    </tr>\n",
       "    <tr>\n",
       "      <th>7</th>\n",
       "      <td>2018-02-21</td>\n",
       "      <td>Democrats Flip Kentucky State House Seat Where Trump Won Overwhelmingly</td>\n",
       "      <td>1.282008</td>\n",
       "    </tr>\n",
       "    <tr>\n",
       "      <th>8</th>\n",
       "      <td>2018-01-09</td>\n",
       "      <td>Big Tax Game Hunting: Employer Side Payroll Taxes</td>\n",
       "      <td>1.285147</td>\n",
       "    </tr>\n",
       "    <tr>\n",
       "      <th>9</th>\n",
       "      <td>2018-02-28</td>\n",
       "      <td>Democrats Flip 2 More GOP-Held State House Seats</td>\n",
       "      <td>1.287403</td>\n",
       "    </tr>\n",
       "  </tbody>\n",
       "</table>\n",
       "</div>"
      ],
      "text/plain": [
       "  publish_date  \\\n",
       "0   2018-05-21   \n",
       "1   2018-04-02   \n",
       "2   2018-04-10   \n",
       "3   2018-04-26   \n",
       "4   2018-04-03   \n",
       "5   2018-02-24   \n",
       "6   2018-01-16   \n",
       "7   2018-02-21   \n",
       "8   2018-01-09   \n",
       "9   2018-02-28   \n",
       "\n",
       "                                                                       headline  \\\n",
       "0      The Supreme Court Just Made It A Lot Harder For You To Sue Your Employer   \n",
       "1                            The Trump Administration Is Suing California Again   \n",
       "2  Lou Dobbs Flips Out On Live TV, Urges Trump To 'Fire The SOB' Robert Mueller   \n",
       "3                             Cardi B's Former Manager Sues Her For $10 Million   \n",
       "4       A Third Woman Is Suing To Break A Trump-Related Nondisclosure Agreement   \n",
       "5   Former RNC Chair Fires Back At Claim He Was Only Hired Because He Was Black   \n",
       "6                        State Employer Side Payroll Taxes And Loser Liberalism   \n",
       "7       Democrats Flip Kentucky State House Seat Where Trump Won Overwhelmingly   \n",
       "8                             Big Tax Game Hunting: Employer Side Payroll Taxes   \n",
       "9                              Democrats Flip 2 More GOP-Held State House Seats   \n",
       "\n",
       "   euclidean_similarity  \n",
       "0              1.164067  \n",
       "1              1.253867  \n",
       "2              1.258810  \n",
       "3              1.268704  \n",
       "4              1.274264  \n",
       "5              1.274847  \n",
       "6              1.276696  \n",
       "7              1.282008  \n",
       "8              1.285147  \n",
       "9              1.287403  "
      ]
     },
     "metadata": {},
     "output_type": "display_data"
    }
   ],
   "source": [
    "tfidf_vectorizer = TfidfVectorizer(min_df = 0)\n",
    "tfidf_features = tfidf_vectorizer.fit_transform(news_articles_temp['headline'])\n",
    "\n",
    "print('>>> input features :', type(tfidf_features), tfidf_features.shape, '\\n')\n",
    "df = recommend_similar_txt(tfidf_features, row_index=query_idx, num_recommend=10, print_result=True)\n",
    "\n",
    "# using cosine metric\n",
    "# df = recommend_similar_txt(bow_features, row_index=query_idx, num_recommend=10, dist_metric='cosine', print_result=True)"
   ]
  },
  {
   "cell_type": "markdown",
   "id": "forced-toyota",
   "metadata": {
    "papermill": {
     "duration": 0.028962,
     "end_time": "2021-04-09T14:46:57.865573",
     "exception": false,
     "start_time": "2021-04-09T14:46:57.836611",
     "status": "completed"
    },
    "tags": []
   },
   "source": [
    "## 5.c Using Word2Vec embedding\n",
    "**Word2Vec** is one of the techniques for semantic similarity which was invented by Google in 2013. <br>\n",
    "For a given corpus, it observes the patterns and respresents each word by a d-dimensional vector. <br>\n",
    "To get better results, we need fairly large corpus."
   ]
  },
  {
   "cell_type": "code",
   "execution_count": 15,
   "id": "continuous-consistency",
   "metadata": {
    "execution": {
     "iopub.execute_input": "2021-04-09T14:46:57.933969Z",
     "iopub.status.busy": "2021-04-09T14:46:57.933030Z",
     "iopub.status.idle": "2021-04-09T14:47:47.391425Z",
     "shell.execute_reply": "2021-04-09T14:47:47.391899Z"
    },
    "papermill": {
     "duration": 49.496688,
     "end_time": "2021-04-09T14:47:47.392100",
     "exception": false,
     "start_time": "2021-04-09T14:46:57.895412",
     "status": "completed"
    },
    "tags": []
   },
   "outputs": [
    {
     "name": "stdout",
     "output_type": "stream",
     "text": [
      "--2021-04-09 14:46:58--  https://s3.amazonaws.com/dl4j-distribution/GoogleNews-vectors-negative300.bin.gz\r\n",
      "Resolving s3.amazonaws.com (s3.amazonaws.com)... 52.216.204.221\r\n",
      "Connecting to s3.amazonaws.com (s3.amazonaws.com)|52.216.204.221|:443... connected.\r\n",
      "HTTP request sent, awaiting response... 200 OK\r\n",
      "Length: 1647046227 (1.5G) [application/x-gzip]\r\n",
      "Saving to: ‘GoogleNews-vectors-negative300.bin.gz’\r\n",
      "\r\n",
      "GoogleNews-vectors- 100%[===================>]   1.53G  34.2MB/s    in 47s     \r\n",
      "\r\n",
      "2021-04-09 14:47:46 (33.1 MB/s) - ‘GoogleNews-vectors-negative300.bin.gz’ saved [1647046227/1647046227]\r\n",
      "\r\n",
      "GoogleNews-vectors-negative300.bin.gz  __notebook__.ipynb\r\n",
      "CPU times: user 1.41 s, sys: 385 ms, total: 1.8 s\n",
      "Wall time: 49.5 s\n"
     ]
    }
   ],
   "source": [
    "%%time\n",
    "\n",
    "# download w2v model\n",
    "!wget -c \"https://s3.amazonaws.com/dl4j-distribution/GoogleNews-vectors-negative300.bin.gz\"\n",
    "!ls"
   ]
  },
  {
   "cell_type": "code",
   "execution_count": 16,
   "id": "oriental-reproduction",
   "metadata": {
    "execution": {
     "iopub.execute_input": "2021-04-09T14:47:47.619692Z",
     "iopub.status.busy": "2021-04-09T14:47:47.595589Z",
     "iopub.status.idle": "2021-04-09T14:49:16.673269Z",
     "shell.execute_reply": "2021-04-09T14:49:16.672561Z"
    },
    "papermill": {
     "duration": 89.180989,
     "end_time": "2021-04-09T14:49:16.673541",
     "exception": false,
     "start_time": "2021-04-09T14:47:47.492552",
     "status": "completed"
    },
    "tags": []
   },
   "outputs": [
    {
     "name": "stdout",
     "output_type": "stream",
     "text": [
      "CPU times: user 1min 16s, sys: 11.4 s, total: 1min 27s\n",
      "Wall time: 1min 28s\n"
     ]
    },
    {
     "data": {
      "text/plain": [
       "<gensim.models.keyedvectors.KeyedVectors at 0x7f12981b6a90>"
      ]
     },
     "execution_count": 16,
     "metadata": {},
     "output_type": "execute_result"
    }
   ],
   "source": [
    "%%time\n",
    "\n",
    "# load w2v model\n",
    "model_dir = 'GoogleNews-vectors-negative300.bin.gz'\n",
    "word2vec_model = gensim.models.keyedvectors.KeyedVectors.load_word2vec_format(\n",
    "    fname = model_dir, binary=True\n",
    ")\n",
    "word2vec_model"
   ]
  },
  {
   "cell_type": "code",
   "execution_count": 17,
   "id": "objective-cause",
   "metadata": {
    "execution": {
     "iopub.execute_input": "2021-04-09T14:49:19.089776Z",
     "iopub.status.busy": "2021-04-09T14:49:16.881596Z",
     "iopub.status.idle": "2021-04-09T14:49:19.177188Z",
     "shell.execute_reply": "2021-04-09T14:49:19.178250Z"
    },
    "papermill": {
     "duration": 2.405649,
     "end_time": "2021-04-09T14:49:19.178530",
     "exception": false,
     "start_time": "2021-04-09T14:49:16.772881",
     "status": "completed"
    },
    "tags": []
   },
   "outputs": [
    {
     "name": "stdout",
     "output_type": "stream",
     "text": [
      ">>> input features : <class 'numpy.ndarray'> (8485, 300) \n",
      "\n",
      "============================== Queried article details ==============================\n",
      "headline :  Woman Fired After Flipping Off Trump's Motorcade Sues Former Employer\n",
      "\n",
      " ========================= Recommended articles :  =======================\n"
     ]
    },
    {
     "data": {
      "text/html": [
       "<div>\n",
       "<style scoped>\n",
       "    .dataframe tbody tr th:only-of-type {\n",
       "        vertical-align: middle;\n",
       "    }\n",
       "\n",
       "    .dataframe tbody tr th {\n",
       "        vertical-align: top;\n",
       "    }\n",
       "\n",
       "    .dataframe thead th {\n",
       "        text-align: right;\n",
       "    }\n",
       "</style>\n",
       "<table border=\"1\" class=\"dataframe\">\n",
       "  <thead>\n",
       "    <tr style=\"text-align: right;\">\n",
       "      <th></th>\n",
       "      <th>publish_date</th>\n",
       "      <th>headline</th>\n",
       "      <th>euclidean_similarity</th>\n",
       "    </tr>\n",
       "  </thead>\n",
       "  <tbody>\n",
       "    <tr>\n",
       "      <th>0</th>\n",
       "      <td>2018-03-19</td>\n",
       "      <td>White House Lawyer Insists Trump Isn't Considering Firing Mueller</td>\n",
       "      <td>1.029262</td>\n",
       "    </tr>\n",
       "    <tr>\n",
       "      <th>1</th>\n",
       "      <td>2018-03-17</td>\n",
       "      <td>Trump’s Legal Team Says It Can Sue Stormy Daniels For $20 Million</td>\n",
       "      <td>1.086385</td>\n",
       "    </tr>\n",
       "    <tr>\n",
       "      <th>2</th>\n",
       "      <td>2018-03-20</td>\n",
       "      <td>Ex-Playboy Model Who Claims Affair With Trump Sues To Break Silence</td>\n",
       "      <td>1.095930</td>\n",
       "    </tr>\n",
       "    <tr>\n",
       "      <th>3</th>\n",
       "      <td>2018-02-24</td>\n",
       "      <td>Former RNC Chair Fires Back At Claim He Was Only Hired Because He Was Black</td>\n",
       "      <td>1.097608</td>\n",
       "    </tr>\n",
       "    <tr>\n",
       "      <th>4</th>\n",
       "      <td>2018-01-23</td>\n",
       "      <td>Former Trump Aide's Fiancee Warns White House: ‘A Lot To Come’</td>\n",
       "      <td>1.101049</td>\n",
       "    </tr>\n",
       "    <tr>\n",
       "      <th>5</th>\n",
       "      <td>2018-01-25</td>\n",
       "      <td>Trump HUD Official Lynne Patton Under Fire After Calling Journalist 'Miss Piggy'</td>\n",
       "      <td>1.106954</td>\n",
       "    </tr>\n",
       "    <tr>\n",
       "      <th>6</th>\n",
       "      <td>2018-03-07</td>\n",
       "      <td>Former Trump Attorney Stuns 'Fox &amp; Friends,' Says Stormy Daniels NDA Is Likely Invalid</td>\n",
       "      <td>1.110137</td>\n",
       "    </tr>\n",
       "    <tr>\n",
       "      <th>7</th>\n",
       "      <td>2018-01-28</td>\n",
       "      <td>Another White House Official Disputes Report That Trump Wanted To Axe Mueller</td>\n",
       "      <td>1.112997</td>\n",
       "    </tr>\n",
       "    <tr>\n",
       "      <th>8</th>\n",
       "      <td>2018-01-08</td>\n",
       "      <td>'Fire And Fury' Legal Team Hits Back At Trump In New Statement</td>\n",
       "      <td>1.113800</td>\n",
       "    </tr>\n",
       "    <tr>\n",
       "      <th>9</th>\n",
       "      <td>2018-02-20</td>\n",
       "      <td>Trump Claims He 'Never Met' Woman Accusing Him Of Sexually Assaulting Her In Trump Tower</td>\n",
       "      <td>1.120820</td>\n",
       "    </tr>\n",
       "  </tbody>\n",
       "</table>\n",
       "</div>"
      ],
      "text/plain": [
       "  publish_date  \\\n",
       "0   2018-03-19   \n",
       "1   2018-03-17   \n",
       "2   2018-03-20   \n",
       "3   2018-02-24   \n",
       "4   2018-01-23   \n",
       "5   2018-01-25   \n",
       "6   2018-03-07   \n",
       "7   2018-01-28   \n",
       "8   2018-01-08   \n",
       "9   2018-02-20   \n",
       "\n",
       "                                                                                   headline  \\\n",
       "0                         White House Lawyer Insists Trump Isn't Considering Firing Mueller   \n",
       "1                         Trump’s Legal Team Says It Can Sue Stormy Daniels For $20 Million   \n",
       "2                       Ex-Playboy Model Who Claims Affair With Trump Sues To Break Silence   \n",
       "3               Former RNC Chair Fires Back At Claim He Was Only Hired Because He Was Black   \n",
       "4                            Former Trump Aide's Fiancee Warns White House: ‘A Lot To Come’   \n",
       "5          Trump HUD Official Lynne Patton Under Fire After Calling Journalist 'Miss Piggy'   \n",
       "6    Former Trump Attorney Stuns 'Fox & Friends,' Says Stormy Daniels NDA Is Likely Invalid   \n",
       "7             Another White House Official Disputes Report That Trump Wanted To Axe Mueller   \n",
       "8                            'Fire And Fury' Legal Team Hits Back At Trump In New Statement   \n",
       "9  Trump Claims He 'Never Met' Woman Accusing Him Of Sexually Assaulting Her In Trump Tower   \n",
       "\n",
       "   euclidean_similarity  \n",
       "0              1.029262  \n",
       "1              1.086385  \n",
       "2              1.095930  \n",
       "3              1.097608  \n",
       "4              1.101049  \n",
       "5              1.106954  \n",
       "6              1.110137  \n",
       "7              1.112997  \n",
       "8              1.113800  \n",
       "9              1.120820  "
      ]
     },
     "metadata": {},
     "output_type": "display_data"
    },
    {
     "name": "stdout",
     "output_type": "stream",
     "text": [
      "CPU times: user 2.48 s, sys: 266 ms, total: 2.74 s\n",
      "Wall time: 2.29 s\n"
     ]
    }
   ],
   "source": [
    "%%time\n",
    "\n",
    "# calculate mean vector of each text\n",
    "vector_size = word2vec_model.vector_size  # vector_size=300\n",
    "w2v_features = []\n",
    "for txt in news_articles_temp['headline']:\n",
    "    w2Vec_word = np.zeros(vector_size, dtype=\"float32\")\n",
    "    tokens = word_tokenize(txt)\n",
    "    for tk in tokens:\n",
    "        if tk in word2vec_model:\n",
    "            w2Vec_word += word2vec_model[tk]\n",
    "    w2Vec_word = w2Vec_word / len(tokens)\n",
    "    w2v_features.append(w2Vec_word)\n",
    "w2v_features = np.array(w2v_features)\n",
    "\n",
    "\n",
    "# make recommendations\n",
    "print('>>> input features :', type(w2v_features), w2v_features.shape, '\\n')\n",
    "df = recommend_similar_txt(w2v_features, row_index=query_idx, num_recommend=10, print_result=True)\n",
    "\n",
    "# make recommendations - using cosine metric\n",
    "# df = recommend_similar_txt(bow_features, row_index=query_idx, num_recommend=10, dist_metric='cosine', print_result=True)"
   ]
  },
  {
   "cell_type": "code",
   "execution_count": null,
   "id": "excited-circular",
   "metadata": {
    "papermill": {
     "duration": 0.098141,
     "end_time": "2021-04-09T14:49:19.403694",
     "exception": false,
     "start_time": "2021-04-09T14:49:19.305553",
     "status": "completed"
    },
    "tags": []
   },
   "outputs": [],
   "source": []
  }
 ],
 "metadata": {
  "kernelspec": {
   "display_name": "Python 3",
   "language": "python",
   "name": "python3"
  },
  "language_info": {
   "codemirror_mode": {
    "name": "ipython",
    "version": 3
   },
   "file_extension": ".py",
   "mimetype": "text/x-python",
   "name": "python",
   "nbconvert_exporter": "python",
   "pygments_lexer": "ipython3",
   "version": "3.7.9"
  },
  "papermill": {
   "default_parameters": {},
   "duration": 168.892536,
   "end_time": "2021-04-09T14:49:21.518621",
   "environment_variables": {},
   "exception": null,
   "input_path": "__notebook__.ipynb",
   "output_path": "__notebook__.ipynb",
   "parameters": {},
   "start_time": "2021-04-09T14:46:32.626085",
   "version": "2.3.2"
  }
 },
 "nbformat": 4,
 "nbformat_minor": 5
}
