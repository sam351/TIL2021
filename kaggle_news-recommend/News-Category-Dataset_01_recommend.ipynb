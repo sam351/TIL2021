{
 "cells": [
  {
   "cell_type": "markdown",
   "id": "electrical-questionnaire",
   "metadata": {
    "papermill": {
     "duration": 0.02272,
     "end_time": "2021-04-08T14:57:55.486529",
     "exception": false,
     "start_time": "2021-04-08T14:57:55.463809",
     "status": "completed"
    },
    "tags": []
   },
   "source": [
    "## ref : https://www.kaggle.com/vikashrajluhaniwal/recommending-news-articles-based-on-read-articles\n",
    "<br><br>\n",
    "## Table of Content\n",
    "### 1. Importing necessary Libraries<br>\n",
    "\n",
    "### 2. Loading Data<br>\n",
    "\n",
    "### 3. Data Preprocessing\n",
    "#### 3.a Fetching only the articles from 2018\n",
    "#### 3.b Removing all the short headline articles\n",
    "#### 3.c Checking and removing all the duplicates\n",
    "#### 3.d Checking for missing values<br>\n",
    "\n",
    "### 4. Text Preprocessing\n",
    "#### 4.a Stopwords removal\n",
    "#### 4.b Lemmatization<br>\n",
    "\n",
    "### 5. Headline based similarity on new articles\n",
    "#### 5.a Using Bag of Words method\n",
    "#### 5.b Using TF-IDF method\n",
    "#### 5.c Using Word2Vec embedding\n",
    "#### 5.d Weighted similarity based on headline and category\n",
    "#### 5.e Weighted similarity based on headline, category and author\n",
    "#### 5.f Weighted similarity based on headline, category, author and publishing day"
   ]
  },
  {
   "cell_type": "markdown",
   "id": "secure-meaning",
   "metadata": {
    "papermill": {
     "duration": 0.021355,
     "end_time": "2021-04-08T14:57:55.529995",
     "exception": false,
     "start_time": "2021-04-08T14:57:55.508640",
     "status": "completed"
    },
    "tags": []
   },
   "source": [
    "## 1. Importing necessary Libraries"
   ]
  },
  {
   "cell_type": "code",
   "execution_count": 1,
   "id": "parliamentary-blanket",
   "metadata": {
    "_cell_guid": "b1076dfc-b9ad-4769-8c92-a6c4dae69d19",
    "_uuid": "8f2839f25d086af736a60e9eeb907d3b93b6e0e5",
    "execution": {
     "iopub.execute_input": "2021-04-08T14:57:55.575824Z",
     "iopub.status.busy": "2021-04-08T14:57:55.574919Z",
     "iopub.status.idle": "2021-04-08T14:58:03.157773Z",
     "shell.execute_reply": "2021-04-08T14:58:03.155762Z"
    },
    "papermill": {
     "duration": 7.60634,
     "end_time": "2021-04-08T14:58:03.158717",
     "exception": false,
     "start_time": "2021-04-08T14:57:55.552377",
     "status": "completed"
    },
    "tags": []
   },
   "outputs": [
    {
     "name": "stdout",
     "output_type": "stream",
     "text": [
      "np : 1.19.5  |  pd : 1.2.2  |  nltk : 3.2.4  |  sklearn : 0.24.1\n"
     ]
    }
   ],
   "source": [
    "import numpy as np\n",
    "import pandas as pd\n",
    "\n",
    "import os\n",
    "import math\n",
    "import time\n",
    "\n",
    "import matplotlib.pyplot as plt\n",
    "import seaborn as sns\n",
    "import plotly.figure_factory as ff\n",
    "import plotly.graph_objects as go\n",
    "import plotly.express as px\n",
    "\n",
    "# For text processing (NLTK)\n",
    "import nltk\n",
    "from nltk.corpus import stopwords\n",
    "from nltk.tokenize import word_tokenize\n",
    "from nltk.stem import WordNetLemmatizer\n",
    "\n",
    "import sklearn\n",
    "\n",
    "# For feature representation using sklearn\n",
    "from sklearn.feature_extraction.text import CountVectorizer\n",
    "from sklearn.feature_extraction.text import TfidfVectorizer\n",
    "\n",
    "# For similarity matrices using sklearn\n",
    "from sklearn.metrics.pairwise import cosine_similarity  \n",
    "from sklearn.metrics import pairwise_distances\n",
    "\n",
    "\n",
    "# original - np : 1.19.5  |  pd : 1.2.2  |  nltk : 3.2.4  |  sklearn : 0.24.1\n",
    "print(f'np : {np.__version__}  |  pd : {pd.__version__}  |  nltk : {nltk.__version__}  |  sklearn : {sklearn.__version__}')"
   ]
  },
  {
   "cell_type": "markdown",
   "id": "molecular-invitation",
   "metadata": {
    "papermill": {
     "duration": 0.020149,
     "end_time": "2021-04-08T14:58:03.197407",
     "exception": false,
     "start_time": "2021-04-08T14:58:03.177258",
     "status": "completed"
    },
    "tags": []
   },
   "source": [
    "## 2. Loading Data"
   ]
  },
  {
   "cell_type": "code",
   "execution_count": 2,
   "id": "posted-lighter",
   "metadata": {
    "execution": {
     "iopub.execute_input": "2021-04-08T14:58:03.246059Z",
     "iopub.status.busy": "2021-04-08T14:58:03.241424Z",
     "iopub.status.idle": "2021-04-08T14:58:08.075956Z",
     "shell.execute_reply": "2021-04-08T14:58:08.074615Z"
    },
    "papermill": {
     "duration": 4.859579,
     "end_time": "2021-04-08T14:58:08.076274",
     "exception": false,
     "start_time": "2021-04-08T14:58:03.216695",
     "status": "completed"
    },
    "tags": []
   },
   "outputs": [
    {
     "name": "stdout",
     "output_type": "stream",
     "text": [
      "<class 'pandas.core.frame.DataFrame'>\n",
      "RangeIndex: 200853 entries, 0 to 200852\n",
      "Data columns (total 6 columns):\n",
      " #   Column             Non-Null Count   Dtype         \n",
      "---  ------             --------------   -----         \n",
      " 0   category           200853 non-null  object        \n",
      " 1   headline           200853 non-null  object        \n",
      " 2   authors            200853 non-null  object        \n",
      " 3   link               200853 non-null  object        \n",
      " 4   short_description  200853 non-null  object        \n",
      " 5   date               200853 non-null  datetime64[ns]\n",
      "dtypes: datetime64[ns](1), object(5)\n",
      "memory usage: 9.2+ MB\n"
     ]
    }
   ],
   "source": [
    "news_articles = pd.read_json(\"/kaggle/input/news-category-dataset/News_Category_Dataset_v2.json\", lines = True)\n",
    "news_articles.info()"
   ]
  },
  {
   "cell_type": "code",
   "execution_count": 3,
   "id": "academic-petite",
   "metadata": {
    "execution": {
     "iopub.execute_input": "2021-04-08T14:58:08.120953Z",
     "iopub.status.busy": "2021-04-08T14:58:08.119998Z",
     "iopub.status.idle": "2021-04-08T14:58:08.148391Z",
     "shell.execute_reply": "2021-04-08T14:58:08.147655Z"
    },
    "papermill": {
     "duration": 0.054813,
     "end_time": "2021-04-08T14:58:08.148540",
     "exception": false,
     "start_time": "2021-04-08T14:58:08.093727",
     "status": "completed"
    },
    "tags": []
   },
   "outputs": [
    {
     "data": {
      "text/html": [
       "<div>\n",
       "<style scoped>\n",
       "    .dataframe tbody tr th:only-of-type {\n",
       "        vertical-align: middle;\n",
       "    }\n",
       "\n",
       "    .dataframe tbody tr th {\n",
       "        vertical-align: top;\n",
       "    }\n",
       "\n",
       "    .dataframe thead th {\n",
       "        text-align: right;\n",
       "    }\n",
       "</style>\n",
       "<table border=\"1\" class=\"dataframe\">\n",
       "  <thead>\n",
       "    <tr style=\"text-align: right;\">\n",
       "      <th></th>\n",
       "      <th>category</th>\n",
       "      <th>headline</th>\n",
       "      <th>authors</th>\n",
       "      <th>link</th>\n",
       "      <th>short_description</th>\n",
       "      <th>date</th>\n",
       "    </tr>\n",
       "  </thead>\n",
       "  <tbody>\n",
       "    <tr>\n",
       "      <th>0</th>\n",
       "      <td>CRIME</td>\n",
       "      <td>There Were 2 Mass Shootings In Texas Last Week...</td>\n",
       "      <td>Melissa Jeltsen</td>\n",
       "      <td>https://www.huffingtonpost.com/entry/texas-ama...</td>\n",
       "      <td>She left her husband. He killed their children...</td>\n",
       "      <td>2018-05-26</td>\n",
       "    </tr>\n",
       "    <tr>\n",
       "      <th>1</th>\n",
       "      <td>ENTERTAINMENT</td>\n",
       "      <td>Will Smith Joins Diplo And Nicky Jam For The 2...</td>\n",
       "      <td>Andy McDonald</td>\n",
       "      <td>https://www.huffingtonpost.com/entry/will-smit...</td>\n",
       "      <td>Of course it has a song.</td>\n",
       "      <td>2018-05-26</td>\n",
       "    </tr>\n",
       "    <tr>\n",
       "      <th>2</th>\n",
       "      <td>ENTERTAINMENT</td>\n",
       "      <td>Hugh Grant Marries For The First Time At Age 57</td>\n",
       "      <td>Ron Dicker</td>\n",
       "      <td>https://www.huffingtonpost.com/entry/hugh-gran...</td>\n",
       "      <td>The actor and his longtime girlfriend Anna Ebe...</td>\n",
       "      <td>2018-05-26</td>\n",
       "    </tr>\n",
       "    <tr>\n",
       "      <th>3</th>\n",
       "      <td>ENTERTAINMENT</td>\n",
       "      <td>Jim Carrey Blasts 'Castrato' Adam Schiff And D...</td>\n",
       "      <td>Ron Dicker</td>\n",
       "      <td>https://www.huffingtonpost.com/entry/jim-carre...</td>\n",
       "      <td>The actor gives Dems an ass-kicking for not fi...</td>\n",
       "      <td>2018-05-26</td>\n",
       "    </tr>\n",
       "    <tr>\n",
       "      <th>4</th>\n",
       "      <td>ENTERTAINMENT</td>\n",
       "      <td>Julianna Margulies Uses Donald Trump Poop Bags...</td>\n",
       "      <td>Ron Dicker</td>\n",
       "      <td>https://www.huffingtonpost.com/entry/julianna-...</td>\n",
       "      <td>The \"Dietland\" actress said using the bags is ...</td>\n",
       "      <td>2018-05-26</td>\n",
       "    </tr>\n",
       "  </tbody>\n",
       "</table>\n",
       "</div>"
      ],
      "text/plain": [
       "        category                                           headline  \\\n",
       "0          CRIME  There Were 2 Mass Shootings In Texas Last Week...   \n",
       "1  ENTERTAINMENT  Will Smith Joins Diplo And Nicky Jam For The 2...   \n",
       "2  ENTERTAINMENT    Hugh Grant Marries For The First Time At Age 57   \n",
       "3  ENTERTAINMENT  Jim Carrey Blasts 'Castrato' Adam Schiff And D...   \n",
       "4  ENTERTAINMENT  Julianna Margulies Uses Donald Trump Poop Bags...   \n",
       "\n",
       "           authors                                               link  \\\n",
       "0  Melissa Jeltsen  https://www.huffingtonpost.com/entry/texas-ama...   \n",
       "1    Andy McDonald  https://www.huffingtonpost.com/entry/will-smit...   \n",
       "2       Ron Dicker  https://www.huffingtonpost.com/entry/hugh-gran...   \n",
       "3       Ron Dicker  https://www.huffingtonpost.com/entry/jim-carre...   \n",
       "4       Ron Dicker  https://www.huffingtonpost.com/entry/julianna-...   \n",
       "\n",
       "                                   short_description       date  \n",
       "0  She left her husband. He killed their children... 2018-05-26  \n",
       "1                           Of course it has a song. 2018-05-26  \n",
       "2  The actor and his longtime girlfriend Anna Ebe... 2018-05-26  \n",
       "3  The actor gives Dems an ass-kicking for not fi... 2018-05-26  \n",
       "4  The \"Dietland\" actress said using the bags is ... 2018-05-26  "
      ]
     },
     "execution_count": 3,
     "metadata": {},
     "output_type": "execute_result"
    }
   ],
   "source": [
    "news_articles.head()"
   ]
  },
  {
   "cell_type": "markdown",
   "id": "international-realtor",
   "metadata": {
    "papermill": {
     "duration": 0.016009,
     "end_time": "2021-04-08T14:58:08.181008",
     "exception": false,
     "start_time": "2021-04-08T14:58:08.164999",
     "status": "completed"
    },
    "tags": []
   },
   "source": [
    "## 3. Data Preprocessing\n",
    "### 3.a Fetching only the articles from 2018\n",
    "- We are only considering the latest articles from the year 2018. Those are 8583 articles out of 200853."
   ]
  },
  {
   "cell_type": "code",
   "execution_count": 4,
   "id": "selective-navigator",
   "metadata": {
    "execution": {
     "iopub.execute_input": "2021-04-08T14:58:08.219952Z",
     "iopub.status.busy": "2021-04-08T14:58:08.219261Z",
     "iopub.status.idle": "2021-04-08T14:58:08.232617Z",
     "shell.execute_reply": "2021-04-08T14:58:08.231738Z"
    },
    "papermill": {
     "duration": 0.035578,
     "end_time": "2021-04-08T14:58:08.232792",
     "exception": false,
     "start_time": "2021-04-08T14:58:08.197214",
     "status": "completed"
    },
    "tags": []
   },
   "outputs": [
    {
     "data": {
      "text/plain": [
       "(8583, 6)"
      ]
     },
     "execution_count": 4,
     "metadata": {},
     "output_type": "execute_result"
    }
   ],
   "source": [
    "news_articles = news_articles[news_articles['date'] >= pd.Timestamp('2018-01-01')]\n",
    "news_articles.shape"
   ]
  },
  {
   "cell_type": "markdown",
   "id": "acute-museum",
   "metadata": {
    "papermill": {
     "duration": 0.025022,
     "end_time": "2021-04-08T14:58:08.282988",
     "exception": false,
     "start_time": "2021-04-08T14:58:08.257966",
     "status": "completed"
    },
    "tags": []
   },
   "source": [
    "### 3.b Removing all the short headline articles"
   ]
  },
  {
   "cell_type": "code",
   "execution_count": 5,
   "id": "genetic-consolidation",
   "metadata": {
    "execution": {
     "iopub.execute_input": "2021-04-08T14:58:08.351956Z",
     "iopub.status.busy": "2021-04-08T14:58:08.346146Z",
     "iopub.status.idle": "2021-04-08T14:58:08.370350Z",
     "shell.execute_reply": "2021-04-08T14:58:08.368588Z"
    },
    "papermill": {
     "duration": 0.062224,
     "end_time": "2021-04-08T14:58:08.370560",
     "exception": false,
     "start_time": "2021-04-08T14:58:08.308336",
     "status": "completed"
    },
    "tags": []
   },
   "outputs": [
    {
     "data": {
      "text/plain": [
       "(8530, 6)"
      ]
     },
     "execution_count": 5,
     "metadata": {},
     "output_type": "execute_result"
    }
   ],
   "source": [
    "news_articles = news_articles[news_articles.headline.apply(lambda x : len(x.split())>5)]\n",
    "news_articles.shape"
   ]
  },
  {
   "cell_type": "markdown",
   "id": "educated-employee",
   "metadata": {
    "papermill": {
     "duration": 0.02523,
     "end_time": "2021-04-08T14:58:08.422255",
     "exception": false,
     "start_time": "2021-04-08T14:58:08.397025",
     "status": "completed"
    },
    "tags": []
   },
   "source": [
    "### 3.c Checking and removing all the duplicates"
   ]
  },
  {
   "cell_type": "code",
   "execution_count": 6,
   "id": "duplicate-temperature",
   "metadata": {
    "execution": {
     "iopub.execute_input": "2021-04-08T14:58:08.501800Z",
     "iopub.status.busy": "2021-04-08T14:58:08.500952Z",
     "iopub.status.idle": "2021-04-08T14:58:08.521637Z",
     "shell.execute_reply": "2021-04-08T14:58:08.520784Z"
    },
    "papermill": {
     "duration": 0.073601,
     "end_time": "2021-04-08T14:58:08.521796",
     "exception": false,
     "start_time": "2021-04-08T14:58:08.448195",
     "status": "completed"
    },
    "tags": []
   },
   "outputs": [
    {
     "data": {
      "text/plain": [
       "(8485, 6)"
      ]
     },
     "execution_count": 6,
     "metadata": {},
     "output_type": "execute_result"
    }
   ],
   "source": [
    "news_articles = news_articles.sort_values('headline', ascending=False)\n",
    "duplicated_articles_series = news_articles.duplicated('headline', keep = False)\n",
    "news_articles = news_articles[~duplicated_articles_series]\n",
    "\n",
    "news_articles.shape"
   ]
  },
  {
   "cell_type": "markdown",
   "id": "rubber-national",
   "metadata": {
    "papermill": {
     "duration": 0.017681,
     "end_time": "2021-04-08T14:58:08.558036",
     "exception": false,
     "start_time": "2021-04-08T14:58:08.540355",
     "status": "completed"
    },
    "tags": []
   },
   "source": [
    "### 3.d Checking for missing values"
   ]
  },
  {
   "cell_type": "code",
   "execution_count": 7,
   "id": "accurate-witch",
   "metadata": {
    "execution": {
     "iopub.execute_input": "2021-04-08T14:58:08.617468Z",
     "iopub.status.busy": "2021-04-08T14:58:08.612189Z",
     "iopub.status.idle": "2021-04-08T14:58:08.626669Z",
     "shell.execute_reply": "2021-04-08T14:58:08.627206Z"
    },
    "papermill": {
     "duration": 0.051072,
     "end_time": "2021-04-08T14:58:08.627423",
     "exception": false,
     "start_time": "2021-04-08T14:58:08.576351",
     "status": "completed"
    },
    "tags": []
   },
   "outputs": [
    {
     "data": {
      "text/plain": [
       "category             0\n",
       "headline             0\n",
       "authors              0\n",
       "link                 0\n",
       "short_description    0\n",
       "date                 0\n",
       "dtype: int64"
      ]
     },
     "execution_count": 7,
     "metadata": {},
     "output_type": "execute_result"
    }
   ],
   "source": [
    "news_articles.isna().sum()"
   ]
  },
  {
   "cell_type": "markdown",
   "id": "addressed-kentucky",
   "metadata": {
    "papermill": {
     "duration": 0.01895,
     "end_time": "2021-04-08T14:58:08.665709",
     "exception": false,
     "start_time": "2021-04-08T14:58:08.646759",
     "status": "completed"
    },
    "tags": []
   },
   "source": [
    "## 4. Text Preprocessing\n",
    "- By Data processing in Step 2, we get a subset of original dataset which has different index labels. <br>\n",
    "  So, let's make the indices uniform ranging from 0 to total number of articles.\n",
    "- After text preprocessing, the original headlines will be modified. <br>\n",
    "  However, It doesn't make sense to recommend articles by displaying modified headlines. <br>\n",
    "  Therefore, let's copy the dataset into some other dataset and perform text preprocessing on the later."
   ]
  },
  {
   "cell_type": "code",
   "execution_count": 8,
   "id": "derived-copying",
   "metadata": {
    "execution": {
     "iopub.execute_input": "2021-04-08T14:58:08.722826Z",
     "iopub.status.busy": "2021-04-08T14:58:08.708099Z",
     "iopub.status.idle": "2021-04-08T14:58:08.732275Z",
     "shell.execute_reply": "2021-04-08T14:58:08.732959Z"
    },
    "papermill": {
     "duration": 0.049347,
     "end_time": "2021-04-08T14:58:08.733200",
     "exception": false,
     "start_time": "2021-04-08T14:58:08.683853",
     "status": "completed"
    },
    "tags": []
   },
   "outputs": [
    {
     "data": {
      "text/html": [
       "<div>\n",
       "<style scoped>\n",
       "    .dataframe tbody tr th:only-of-type {\n",
       "        vertical-align: middle;\n",
       "    }\n",
       "\n",
       "    .dataframe tbody tr th {\n",
       "        vertical-align: top;\n",
       "    }\n",
       "\n",
       "    .dataframe thead th {\n",
       "        text-align: right;\n",
       "    }\n",
       "</style>\n",
       "<table border=\"1\" class=\"dataframe\">\n",
       "  <thead>\n",
       "    <tr style=\"text-align: right;\">\n",
       "      <th></th>\n",
       "      <th>category</th>\n",
       "      <th>headline</th>\n",
       "      <th>authors</th>\n",
       "      <th>link</th>\n",
       "      <th>short_description</th>\n",
       "      <th>date</th>\n",
       "    </tr>\n",
       "  </thead>\n",
       "  <tbody>\n",
       "    <tr>\n",
       "      <th>0</th>\n",
       "      <td>QUEER VOICES</td>\n",
       "      <td>‘Will &amp; Grace’ Creator To Donate Gay Bunny Boo...</td>\n",
       "      <td>Elyse Wanshel</td>\n",
       "      <td>https://www.huffingtonpost.com/entry/will-grac...</td>\n",
       "      <td>It's about to be a lot easier for kids in Mike...</td>\n",
       "      <td>2018-04-02</td>\n",
       "    </tr>\n",
       "    <tr>\n",
       "      <th>1</th>\n",
       "      <td>QUEER VOICES</td>\n",
       "      <td>‘The Voice’ Blind Auditions Make History With ...</td>\n",
       "      <td>Lyndsey Parker, Yahoo Entertainment</td>\n",
       "      <td>https://www.huffingtonpost.com/entry/the-voice...</td>\n",
       "      <td>Austin Giorgio, 21: “How Sweet It Is (To Be Lo...</td>\n",
       "      <td>2018-03-06</td>\n",
       "    </tr>\n",
       "    <tr>\n",
       "      <th>2</th>\n",
       "      <td>QUEER VOICES</td>\n",
       "      <td>‘The Penumbra’ Is The Queer Audio Drama You Di...</td>\n",
       "      <td>Sarah Emily Baum, ContributorFreelance Writer</td>\n",
       "      <td>https://www.huffingtonpost.com/entry/the-penum...</td>\n",
       "      <td>Young, fun, fantastical and, most notably, inc...</td>\n",
       "      <td>2018-01-05</td>\n",
       "    </tr>\n",
       "  </tbody>\n",
       "</table>\n",
       "</div>"
      ],
      "text/plain": [
       "       category                                           headline  \\\n",
       "0  QUEER VOICES  ‘Will & Grace’ Creator To Donate Gay Bunny Boo...   \n",
       "1  QUEER VOICES  ‘The Voice’ Blind Auditions Make History With ...   \n",
       "2  QUEER VOICES  ‘The Penumbra’ Is The Queer Audio Drama You Di...   \n",
       "\n",
       "                                         authors  \\\n",
       "0                                  Elyse Wanshel   \n",
       "1            Lyndsey Parker, Yahoo Entertainment   \n",
       "2  Sarah Emily Baum, ContributorFreelance Writer   \n",
       "\n",
       "                                                link  \\\n",
       "0  https://www.huffingtonpost.com/entry/will-grac...   \n",
       "1  https://www.huffingtonpost.com/entry/the-voice...   \n",
       "2  https://www.huffingtonpost.com/entry/the-penum...   \n",
       "\n",
       "                                   short_description       date  \n",
       "0  It's about to be a lot easier for kids in Mike... 2018-04-02  \n",
       "1  Austin Giorgio, 21: “How Sweet It Is (To Be Lo... 2018-03-06  \n",
       "2  Young, fun, fantastical and, most notably, inc... 2018-01-05  "
      ]
     },
     "execution_count": 8,
     "metadata": {},
     "output_type": "execute_result"
    }
   ],
   "source": [
    "# reset index\n",
    "news_articles = news_articles.reset_index(drop=True)\n",
    "\n",
    "# copy original dataset for preprocessing\n",
    "news_articles_temp = news_articles.copy()\n",
    "\n",
    "news_articles_temp.head(3)"
   ]
  },
  {
   "cell_type": "markdown",
   "id": "anonymous-default",
   "metadata": {
    "papermill": {
     "duration": 0.028428,
     "end_time": "2021-04-08T14:58:08.790240",
     "exception": false,
     "start_time": "2021-04-08T14:58:08.761812",
     "status": "completed"
    },
    "tags": []
   },
   "source": [
    "### 4.a Stopwords removal"
   ]
  },
  {
   "cell_type": "code",
   "execution_count": 9,
   "id": "polished-personal",
   "metadata": {
    "execution": {
     "iopub.execute_input": "2021-04-08T14:58:08.854274Z",
     "iopub.status.busy": "2021-04-08T14:58:08.853393Z",
     "iopub.status.idle": "2021-04-08T14:58:08.869625Z",
     "shell.execute_reply": "2021-04-08T14:58:08.868814Z"
    },
    "papermill": {
     "duration": 0.051051,
     "end_time": "2021-04-08T14:58:08.869797",
     "exception": false,
     "start_time": "2021-04-08T14:58:08.818746",
     "status": "completed"
    },
    "tags": []
   },
   "outputs": [
    {
     "data": {
      "text/plain": [
       "(179,\n",
       " ['any',\n",
       "  'weren',\n",
       "  \"isn't\",\n",
       "  'who',\n",
       "  \"needn't\",\n",
       "  'more',\n",
       "  \"shan't\",\n",
       "  \"you'd\",\n",
       "  'so',\n",
       "  \"should've\"])"
      ]
     },
     "execution_count": 9,
     "metadata": {},
     "output_type": "execute_result"
    }
   ],
   "source": [
    "stop_words = set(stopwords.words('english'))  # stopwords from nltk\n",
    "len(stop_words), list(stop_words)[:10]"
   ]
  },
  {
   "cell_type": "code",
   "execution_count": 10,
   "id": "excess-diagnosis",
   "metadata": {
    "execution": {
     "iopub.execute_input": "2021-04-08T14:58:08.947742Z",
     "iopub.status.busy": "2021-04-08T14:58:08.936455Z",
     "iopub.status.idle": "2021-04-08T14:58:09.584920Z",
     "shell.execute_reply": "2021-04-08T14:58:09.583844Z"
    },
    "papermill": {
     "duration": 0.685757,
     "end_time": "2021-04-08T14:58:09.585105",
     "exception": false,
     "start_time": "2021-04-08T14:58:08.899348",
     "status": "completed"
    },
    "tags": []
   },
   "outputs": [
    {
     "name": "stdout",
     "output_type": "stream",
     "text": [
      "CPU times: user 630 ms, sys: 0 ns, total: 630 ms\n",
      "Wall time: 629 ms\n"
     ]
    },
    {
     "data": {
      "text/html": [
       "<div>\n",
       "<style scoped>\n",
       "    .dataframe tbody tr th:only-of-type {\n",
       "        vertical-align: middle;\n",
       "    }\n",
       "\n",
       "    .dataframe tbody tr th {\n",
       "        vertical-align: top;\n",
       "    }\n",
       "\n",
       "    .dataframe thead th {\n",
       "        text-align: right;\n",
       "    }\n",
       "</style>\n",
       "<table border=\"1\" class=\"dataframe\">\n",
       "  <thead>\n",
       "    <tr style=\"text-align: right;\">\n",
       "      <th></th>\n",
       "      <th>category</th>\n",
       "      <th>headline</th>\n",
       "      <th>authors</th>\n",
       "      <th>link</th>\n",
       "      <th>short_description</th>\n",
       "      <th>date</th>\n",
       "    </tr>\n",
       "  </thead>\n",
       "  <tbody>\n",
       "    <tr>\n",
       "      <th>0</th>\n",
       "      <td>QUEER VOICES</td>\n",
       "      <td>grace creator donate gay bunny book every grad...</td>\n",
       "      <td>Elyse Wanshel</td>\n",
       "      <td>https://www.huffingtonpost.com/entry/will-grac...</td>\n",
       "      <td>It's about to be a lot easier for kids in Mike...</td>\n",
       "      <td>2018-04-02</td>\n",
       "    </tr>\n",
       "    <tr>\n",
       "      <th>1</th>\n",
       "      <td>QUEER VOICES</td>\n",
       "      <td>voice blind auditions make history first trans...</td>\n",
       "      <td>Lyndsey Parker, Yahoo Entertainment</td>\n",
       "      <td>https://www.huffingtonpost.com/entry/the-voice...</td>\n",
       "      <td>Austin Giorgio, 21: “How Sweet It Is (To Be Lo...</td>\n",
       "      <td>2018-03-06</td>\n",
       "    </tr>\n",
       "    <tr>\n",
       "      <th>2</th>\n",
       "      <td>QUEER VOICES</td>\n",
       "      <td>penumbra queer audio drama didnt know needed</td>\n",
       "      <td>Sarah Emily Baum, ContributorFreelance Writer</td>\n",
       "      <td>https://www.huffingtonpost.com/entry/the-penum...</td>\n",
       "      <td>Young, fun, fantastical and, most notably, inc...</td>\n",
       "      <td>2018-01-05</td>\n",
       "    </tr>\n",
       "  </tbody>\n",
       "</table>\n",
       "</div>"
      ],
      "text/plain": [
       "       category                                           headline  \\\n",
       "0  QUEER VOICES  grace creator donate gay bunny book every grad...   \n",
       "1  QUEER VOICES  voice blind auditions make history first trans...   \n",
       "2  QUEER VOICES       penumbra queer audio drama didnt know needed   \n",
       "\n",
       "                                         authors  \\\n",
       "0                                  Elyse Wanshel   \n",
       "1            Lyndsey Parker, Yahoo Entertainment   \n",
       "2  Sarah Emily Baum, ContributorFreelance Writer   \n",
       "\n",
       "                                                link  \\\n",
       "0  https://www.huffingtonpost.com/entry/will-grac...   \n",
       "1  https://www.huffingtonpost.com/entry/the-voice...   \n",
       "2  https://www.huffingtonpost.com/entry/the-penum...   \n",
       "\n",
       "                                   short_description       date  \n",
       "0  It's about to be a lot easier for kids in Mike... 2018-04-02  \n",
       "1  Austin Giorgio, 21: “How Sweet It Is (To Be Lo... 2018-03-06  \n",
       "2  Young, fun, fantastical and, most notably, inc... 2018-01-05  "
      ]
     },
     "execution_count": 10,
     "metadata": {},
     "output_type": "execute_result"
    }
   ],
   "source": [
    "%%time\n",
    "\n",
    "for i in range(len(news_articles_temp[\"headline\"])):\n",
    "    string = \"\"\n",
    "    for word in news_articles_temp[\"headline\"][i].split():\n",
    "        word = (\"\".join(e for e in word if e.isalnum()))\n",
    "        word = word.lower()\n",
    "        if not word in stop_words:\n",
    "            string += word + \" \"\n",
    "    news_articles_temp.at[i,\"headline\"] = string.strip()\n",
    "\n",
    "news_articles_temp.head(3)"
   ]
  },
  {
   "cell_type": "markdown",
   "id": "surprised-jefferson",
   "metadata": {
    "papermill": {
     "duration": 0.030187,
     "end_time": "2021-04-08T14:58:09.646500",
     "exception": false,
     "start_time": "2021-04-08T14:58:09.616313",
     "status": "completed"
    },
    "tags": []
   },
   "source": [
    "### 4.b Lemmatization"
   ]
  },
  {
   "cell_type": "code",
   "execution_count": 11,
   "id": "soviet-dimension",
   "metadata": {
    "execution": {
     "iopub.execute_input": "2021-04-08T14:58:09.716324Z",
     "iopub.status.busy": "2021-04-08T14:58:09.715600Z",
     "iopub.status.idle": "2021-04-08T14:58:16.440055Z",
     "shell.execute_reply": "2021-04-08T14:58:16.440692Z"
    },
    "papermill": {
     "duration": 6.763724,
     "end_time": "2021-04-08T14:58:16.440877",
     "exception": false,
     "start_time": "2021-04-08T14:58:09.677153",
     "status": "completed"
    },
    "tags": []
   },
   "outputs": [
    {
     "name": "stdout",
     "output_type": "stream",
     "text": [
      "CPU times: user 6.63 s, sys: 40.2 ms, total: 6.67 s\n",
      "Wall time: 6.71 s\n"
     ]
    },
    {
     "data": {
      "text/html": [
       "<div>\n",
       "<style scoped>\n",
       "    .dataframe tbody tr th:only-of-type {\n",
       "        vertical-align: middle;\n",
       "    }\n",
       "\n",
       "    .dataframe tbody tr th {\n",
       "        vertical-align: top;\n",
       "    }\n",
       "\n",
       "    .dataframe thead th {\n",
       "        text-align: right;\n",
       "    }\n",
       "</style>\n",
       "<table border=\"1\" class=\"dataframe\">\n",
       "  <thead>\n",
       "    <tr style=\"text-align: right;\">\n",
       "      <th></th>\n",
       "      <th>category</th>\n",
       "      <th>headline</th>\n",
       "      <th>authors</th>\n",
       "      <th>link</th>\n",
       "      <th>short_description</th>\n",
       "      <th>date</th>\n",
       "    </tr>\n",
       "  </thead>\n",
       "  <tbody>\n",
       "    <tr>\n",
       "      <th>0</th>\n",
       "      <td>QUEER VOICES</td>\n",
       "      <td>grace creator donate gay bunny book every grad...</td>\n",
       "      <td>Elyse Wanshel</td>\n",
       "      <td>https://www.huffingtonpost.com/entry/will-grac...</td>\n",
       "      <td>It's about to be a lot easier for kids in Mike...</td>\n",
       "      <td>2018-04-02</td>\n",
       "    </tr>\n",
       "    <tr>\n",
       "      <th>1</th>\n",
       "      <td>QUEER VOICES</td>\n",
       "      <td>voice blind audition make history first trans ...</td>\n",
       "      <td>Lyndsey Parker, Yahoo Entertainment</td>\n",
       "      <td>https://www.huffingtonpost.com/entry/the-voice...</td>\n",
       "      <td>Austin Giorgio, 21: “How Sweet It Is (To Be Lo...</td>\n",
       "      <td>2018-03-06</td>\n",
       "    </tr>\n",
       "    <tr>\n",
       "      <th>2</th>\n",
       "      <td>QUEER VOICES</td>\n",
       "      <td>penumbra queer audio drama didnt know need</td>\n",
       "      <td>Sarah Emily Baum, ContributorFreelance Writer</td>\n",
       "      <td>https://www.huffingtonpost.com/entry/the-penum...</td>\n",
       "      <td>Young, fun, fantastical and, most notably, inc...</td>\n",
       "      <td>2018-01-05</td>\n",
       "    </tr>\n",
       "  </tbody>\n",
       "</table>\n",
       "</div>"
      ],
      "text/plain": [
       "       category                                           headline  \\\n",
       "0  QUEER VOICES  grace creator donate gay bunny book every grad...   \n",
       "1  QUEER VOICES  voice blind audition make history first trans ...   \n",
       "2  QUEER VOICES         penumbra queer audio drama didnt know need   \n",
       "\n",
       "                                         authors  \\\n",
       "0                                  Elyse Wanshel   \n",
       "1            Lyndsey Parker, Yahoo Entertainment   \n",
       "2  Sarah Emily Baum, ContributorFreelance Writer   \n",
       "\n",
       "                                                link  \\\n",
       "0  https://www.huffingtonpost.com/entry/will-grac...   \n",
       "1  https://www.huffingtonpost.com/entry/the-voice...   \n",
       "2  https://www.huffingtonpost.com/entry/the-penum...   \n",
       "\n",
       "                                   short_description       date  \n",
       "0  It's about to be a lot easier for kids in Mike... 2018-04-02  \n",
       "1  Austin Giorgio, 21: “How Sweet It Is (To Be Lo... 2018-03-06  \n",
       "2  Young, fun, fantastical and, most notably, inc... 2018-01-05  "
      ]
     },
     "execution_count": 11,
     "metadata": {},
     "output_type": "execute_result"
    }
   ],
   "source": [
    "%%time\n",
    "\n",
    "lemmatizer = WordNetLemmatizer()  # lemmatizer from nltk.stem\n",
    "for i in range(len(news_articles_temp[\"headline\"])):\n",
    "    string = \"\"\n",
    "    for w in word_tokenize(news_articles_temp[\"headline\"][i]):\n",
    "        string += lemmatizer.lemmatize(w,pos = \"v\") + \" \"\n",
    "    news_articles_temp.at[i, \"headline\"] = string.strip()\n",
    "\n",
    "news_articles_temp.head(3)"
   ]
  },
  {
   "cell_type": "code",
   "execution_count": null,
   "id": "weird-basics",
   "metadata": {
    "papermill": {
     "duration": 0.021045,
     "end_time": "2021-04-08T14:58:16.483099",
     "exception": false,
     "start_time": "2021-04-08T14:58:16.462054",
     "status": "completed"
    },
    "tags": []
   },
   "outputs": [],
   "source": []
  }
 ],
 "metadata": {
  "kernelspec": {
   "display_name": "Python 3",
   "language": "python",
   "name": "python3"
  },
  "language_info": {
   "codemirror_mode": {
    "name": "ipython",
    "version": 3
   },
   "file_extension": ".py",
   "mimetype": "text/x-python",
   "name": "python",
   "nbconvert_exporter": "python",
   "pygments_lexer": "ipython3",
   "version": "3.7.9"
  },
  "papermill": {
   "default_parameters": {},
   "duration": 33.371557,
   "end_time": "2021-04-08T14:58:18.423727",
   "environment_variables": {},
   "exception": null,
   "input_path": "__notebook__.ipynb",
   "output_path": "__notebook__.ipynb",
   "parameters": {},
   "start_time": "2021-04-08T14:57:45.052170",
   "version": "2.3.2"
  }
 },
 "nbformat": 4,
 "nbformat_minor": 5
}
