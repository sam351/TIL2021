{
 "cells": [
  {
   "cell_type": "markdown",
   "id": "fantastic-economics",
   "metadata": {
    "papermill": {
     "duration": 0.011382,
     "end_time": "2021-04-08T14:40:23.762555",
     "exception": false,
     "start_time": "2021-04-08T14:40:23.751173",
     "status": "completed"
    },
    "tags": []
   },
   "source": [
    "## ref : https://www.kaggle.com/vikashrajluhaniwal/recommending-news-articles-based-on-read-articles\n",
    "<br><br>\n",
    "## Table of Content\n",
    "### 1. Importing necessary Libraries<br>\n",
    "\n",
    "### 2. Loading Data<br>\n",
    "\n",
    "### 3. Data Preprocessing\n",
    "#### 3.a Fetching only the articles from 2018\n",
    "#### 3.b Removing all the short headline articles\n",
    "#### 3.c Checking and removing all the duplicates\n",
    "#### 3.d Checking for missing values<br>\n",
    "\n",
    "### 4. Basic Data Exploration\n",
    "#### 4.a Basic statistics - Number of articles,authors,categories\n",
    "#### 4.b Distribution of articles category-wise\n",
    "#### 4.c Number of articles per month\n",
    "#### 4.d PDF for length of headlines<br>\n",
    "\n",
    "### 5. Text Preprocessing\n",
    "#### 5.a Stopwords removal\n",
    "#### 5.b Lemmatization<br>\n",
    "\n",
    "### 6. Headline based similarity on new articles\n",
    "#### 6.a Using Bag of Words method\n",
    "#### 6.b Using TF-IDF method\n",
    "#### 6.c Using Word2Vec embedding\n",
    "#### 6.d Weighted similarity based on headline and category\n",
    "#### 6.e Weighted similarity based on headline, category and author\n",
    "#### 6.f Weighted similarity based on headline, category, author and publishing day"
   ]
  },
  {
   "cell_type": "markdown",
   "id": "greenhouse-hello",
   "metadata": {
    "papermill": {
     "duration": 0.009437,
     "end_time": "2021-04-08T14:40:23.782019",
     "exception": false,
     "start_time": "2021-04-08T14:40:23.772582",
     "status": "completed"
    },
    "tags": []
   },
   "source": [
    "## 1. Importing necessary Libraries"
   ]
  },
  {
   "cell_type": "code",
   "execution_count": 1,
   "id": "dying-disposition",
   "metadata": {
    "_cell_guid": "b1076dfc-b9ad-4769-8c92-a6c4dae69d19",
    "_uuid": "8f2839f25d086af736a60e9eeb907d3b93b6e0e5",
    "execution": {
     "iopub.execute_input": "2021-04-08T14:40:23.812601Z",
     "iopub.status.busy": "2021-04-08T14:40:23.811746Z",
     "iopub.status.idle": "2021-04-08T14:40:29.297521Z",
     "shell.execute_reply": "2021-04-08T14:40:29.295687Z"
    },
    "papermill": {
     "duration": 5.505672,
     "end_time": "2021-04-08T14:40:29.297875",
     "exception": false,
     "start_time": "2021-04-08T14:40:23.792203",
     "status": "completed"
    },
    "tags": []
   },
   "outputs": [
    {
     "name": "stdout",
     "output_type": "stream",
     "text": [
      "np : 1.19.5  |  pd : 1.2.2  |  nltk : 3.2.4  |  sklearn : 0.24.1\n"
     ]
    }
   ],
   "source": [
    "import numpy as np\n",
    "import pandas as pd\n",
    "\n",
    "import os\n",
    "import math\n",
    "import time\n",
    "\n",
    "import matplotlib.pyplot as plt\n",
    "import seaborn as sns\n",
    "import plotly.figure_factory as ff\n",
    "import plotly.graph_objects as go\n",
    "import plotly.express as px\n",
    "\n",
    "# For text processing (NLTK)\n",
    "import nltk\n",
    "from nltk.corpus import stopwords\n",
    "from nltk.tokenize import word_tokenize\n",
    "from nltk.stem import WordNetLemmatizer\n",
    "\n",
    "import sklearn\n",
    "\n",
    "# For feature representation using sklearn\n",
    "from sklearn.feature_extraction.text import CountVectorizer\n",
    "from sklearn.feature_extraction.text import TfidfVectorizer\n",
    "\n",
    "# For similarity matrices using sklearn\n",
    "from sklearn.metrics.pairwise import cosine_similarity  \n",
    "from sklearn.metrics import pairwise_distances\n",
    "\n",
    "\n",
    "# original - np : 1.19.5  |  pd : 1.2.2  |  nltk : 3.2.4  |  sklearn : 0.24.1\n",
    "print(f'np : {np.__version__}  |  pd : {pd.__version__}  |  nltk : {nltk.__version__}  |  sklearn : {sklearn.__version__}')"
   ]
  },
  {
   "cell_type": "markdown",
   "id": "decent-transition",
   "metadata": {
    "papermill": {
     "duration": 0.010594,
     "end_time": "2021-04-08T14:40:29.320881",
     "exception": false,
     "start_time": "2021-04-08T14:40:29.310287",
     "status": "completed"
    },
    "tags": []
   },
   "source": [
    "## 2. Loading Data"
   ]
  },
  {
   "cell_type": "code",
   "execution_count": 2,
   "id": "significant-efficiency",
   "metadata": {
    "execution": {
     "iopub.execute_input": "2021-04-08T14:40:29.352450Z",
     "iopub.status.busy": "2021-04-08T14:40:29.351679Z",
     "iopub.status.idle": "2021-04-08T14:40:33.968593Z",
     "shell.execute_reply": "2021-04-08T14:40:33.967993Z"
    },
    "papermill": {
     "duration": 4.637528,
     "end_time": "2021-04-08T14:40:33.968754",
     "exception": false,
     "start_time": "2021-04-08T14:40:29.331226",
     "status": "completed"
    },
    "tags": []
   },
   "outputs": [
    {
     "name": "stdout",
     "output_type": "stream",
     "text": [
      "<class 'pandas.core.frame.DataFrame'>\n",
      "RangeIndex: 200853 entries, 0 to 200852\n",
      "Data columns (total 6 columns):\n",
      " #   Column             Non-Null Count   Dtype         \n",
      "---  ------             --------------   -----         \n",
      " 0   category           200853 non-null  object        \n",
      " 1   headline           200853 non-null  object        \n",
      " 2   authors            200853 non-null  object        \n",
      " 3   link               200853 non-null  object        \n",
      " 4   short_description  200853 non-null  object        \n",
      " 5   date               200853 non-null  datetime64[ns]\n",
      "dtypes: datetime64[ns](1), object(5)\n",
      "memory usage: 9.2+ MB\n"
     ]
    }
   ],
   "source": [
    "news_articles = pd.read_json(\"/kaggle/input/news-category-dataset/News_Category_Dataset_v2.json\", lines = True)\n",
    "news_articles.info()"
   ]
  },
  {
   "cell_type": "code",
   "execution_count": 3,
   "id": "incident-greeting",
   "metadata": {
    "execution": {
     "iopub.execute_input": "2021-04-08T14:40:34.000333Z",
     "iopub.status.busy": "2021-04-08T14:40:33.998224Z",
     "iopub.status.idle": "2021-04-08T14:40:34.024409Z",
     "shell.execute_reply": "2021-04-08T14:40:34.023738Z"
    },
    "papermill": {
     "duration": 0.044787,
     "end_time": "2021-04-08T14:40:34.024566",
     "exception": false,
     "start_time": "2021-04-08T14:40:33.979779",
     "status": "completed"
    },
    "tags": []
   },
   "outputs": [
    {
     "data": {
      "text/html": [
       "<div>\n",
       "<style scoped>\n",
       "    .dataframe tbody tr th:only-of-type {\n",
       "        vertical-align: middle;\n",
       "    }\n",
       "\n",
       "    .dataframe tbody tr th {\n",
       "        vertical-align: top;\n",
       "    }\n",
       "\n",
       "    .dataframe thead th {\n",
       "        text-align: right;\n",
       "    }\n",
       "</style>\n",
       "<table border=\"1\" class=\"dataframe\">\n",
       "  <thead>\n",
       "    <tr style=\"text-align: right;\">\n",
       "      <th></th>\n",
       "      <th>category</th>\n",
       "      <th>headline</th>\n",
       "      <th>authors</th>\n",
       "      <th>link</th>\n",
       "      <th>short_description</th>\n",
       "      <th>date</th>\n",
       "    </tr>\n",
       "  </thead>\n",
       "  <tbody>\n",
       "    <tr>\n",
       "      <th>0</th>\n",
       "      <td>CRIME</td>\n",
       "      <td>There Were 2 Mass Shootings In Texas Last Week...</td>\n",
       "      <td>Melissa Jeltsen</td>\n",
       "      <td>https://www.huffingtonpost.com/entry/texas-ama...</td>\n",
       "      <td>She left her husband. He killed their children...</td>\n",
       "      <td>2018-05-26</td>\n",
       "    </tr>\n",
       "    <tr>\n",
       "      <th>1</th>\n",
       "      <td>ENTERTAINMENT</td>\n",
       "      <td>Will Smith Joins Diplo And Nicky Jam For The 2...</td>\n",
       "      <td>Andy McDonald</td>\n",
       "      <td>https://www.huffingtonpost.com/entry/will-smit...</td>\n",
       "      <td>Of course it has a song.</td>\n",
       "      <td>2018-05-26</td>\n",
       "    </tr>\n",
       "    <tr>\n",
       "      <th>2</th>\n",
       "      <td>ENTERTAINMENT</td>\n",
       "      <td>Hugh Grant Marries For The First Time At Age 57</td>\n",
       "      <td>Ron Dicker</td>\n",
       "      <td>https://www.huffingtonpost.com/entry/hugh-gran...</td>\n",
       "      <td>The actor and his longtime girlfriend Anna Ebe...</td>\n",
       "      <td>2018-05-26</td>\n",
       "    </tr>\n",
       "    <tr>\n",
       "      <th>3</th>\n",
       "      <td>ENTERTAINMENT</td>\n",
       "      <td>Jim Carrey Blasts 'Castrato' Adam Schiff And D...</td>\n",
       "      <td>Ron Dicker</td>\n",
       "      <td>https://www.huffingtonpost.com/entry/jim-carre...</td>\n",
       "      <td>The actor gives Dems an ass-kicking for not fi...</td>\n",
       "      <td>2018-05-26</td>\n",
       "    </tr>\n",
       "    <tr>\n",
       "      <th>4</th>\n",
       "      <td>ENTERTAINMENT</td>\n",
       "      <td>Julianna Margulies Uses Donald Trump Poop Bags...</td>\n",
       "      <td>Ron Dicker</td>\n",
       "      <td>https://www.huffingtonpost.com/entry/julianna-...</td>\n",
       "      <td>The \"Dietland\" actress said using the bags is ...</td>\n",
       "      <td>2018-05-26</td>\n",
       "    </tr>\n",
       "  </tbody>\n",
       "</table>\n",
       "</div>"
      ],
      "text/plain": [
       "        category                                           headline  \\\n",
       "0          CRIME  There Were 2 Mass Shootings In Texas Last Week...   \n",
       "1  ENTERTAINMENT  Will Smith Joins Diplo And Nicky Jam For The 2...   \n",
       "2  ENTERTAINMENT    Hugh Grant Marries For The First Time At Age 57   \n",
       "3  ENTERTAINMENT  Jim Carrey Blasts 'Castrato' Adam Schiff And D...   \n",
       "4  ENTERTAINMENT  Julianna Margulies Uses Donald Trump Poop Bags...   \n",
       "\n",
       "           authors                                               link  \\\n",
       "0  Melissa Jeltsen  https://www.huffingtonpost.com/entry/texas-ama...   \n",
       "1    Andy McDonald  https://www.huffingtonpost.com/entry/will-smit...   \n",
       "2       Ron Dicker  https://www.huffingtonpost.com/entry/hugh-gran...   \n",
       "3       Ron Dicker  https://www.huffingtonpost.com/entry/jim-carre...   \n",
       "4       Ron Dicker  https://www.huffingtonpost.com/entry/julianna-...   \n",
       "\n",
       "                                   short_description       date  \n",
       "0  She left her husband. He killed their children... 2018-05-26  \n",
       "1                           Of course it has a song. 2018-05-26  \n",
       "2  The actor and his longtime girlfriend Anna Ebe... 2018-05-26  \n",
       "3  The actor gives Dems an ass-kicking for not fi... 2018-05-26  \n",
       "4  The \"Dietland\" actress said using the bags is ... 2018-05-26  "
      ]
     },
     "execution_count": 3,
     "metadata": {},
     "output_type": "execute_result"
    }
   ],
   "source": [
    "news_articles.head()"
   ]
  },
  {
   "cell_type": "markdown",
   "id": "excited-battle",
   "metadata": {
    "papermill": {
     "duration": 0.011681,
     "end_time": "2021-04-08T14:40:34.048757",
     "exception": false,
     "start_time": "2021-04-08T14:40:34.037076",
     "status": "completed"
    },
    "tags": []
   },
   "source": [
    "## 3. Data Preprocessing\n",
    "### 3.a Fetching only the articles from 2018\n",
    "- We are only considering the latest articles from the year 2018. Those are 8583 articles out of 200853."
   ]
  },
  {
   "cell_type": "code",
   "execution_count": 4,
   "id": "consistent-transformation",
   "metadata": {
    "execution": {
     "iopub.execute_input": "2021-04-08T14:40:34.079298Z",
     "iopub.status.busy": "2021-04-08T14:40:34.078090Z",
     "iopub.status.idle": "2021-04-08T14:40:34.089423Z",
     "shell.execute_reply": "2021-04-08T14:40:34.088685Z"
    },
    "papermill": {
     "duration": 0.028863,
     "end_time": "2021-04-08T14:40:34.089579",
     "exception": false,
     "start_time": "2021-04-08T14:40:34.060716",
     "status": "completed"
    },
    "tags": []
   },
   "outputs": [
    {
     "data": {
      "text/plain": [
       "(8583, 6)"
      ]
     },
     "execution_count": 4,
     "metadata": {},
     "output_type": "execute_result"
    }
   ],
   "source": [
    "news_articles = news_articles[news_articles['date'] >= pd.Timestamp('2018-01-01')]\n",
    "news_articles.shape"
   ]
  },
  {
   "cell_type": "markdown",
   "id": "buried-elements",
   "metadata": {
    "papermill": {
     "duration": 0.011731,
     "end_time": "2021-04-08T14:40:34.113506",
     "exception": false,
     "start_time": "2021-04-08T14:40:34.101775",
     "status": "completed"
    },
    "tags": []
   },
   "source": [
    "### 3.b Removing all the short headline articles"
   ]
  },
  {
   "cell_type": "code",
   "execution_count": 5,
   "id": "decimal-evans",
   "metadata": {
    "execution": {
     "iopub.execute_input": "2021-04-08T14:40:34.145150Z",
     "iopub.status.busy": "2021-04-08T14:40:34.144361Z",
     "iopub.status.idle": "2021-04-08T14:40:34.164343Z",
     "shell.execute_reply": "2021-04-08T14:40:34.164850Z"
    },
    "papermill": {
     "duration": 0.036308,
     "end_time": "2021-04-08T14:40:34.165034",
     "exception": false,
     "start_time": "2021-04-08T14:40:34.128726",
     "status": "completed"
    },
    "tags": []
   },
   "outputs": [
    {
     "data": {
      "text/plain": [
       "(8530, 6)"
      ]
     },
     "execution_count": 5,
     "metadata": {},
     "output_type": "execute_result"
    }
   ],
   "source": [
    "news_articles = news_articles[news_articles.headline.apply(lambda x : len(x.split())>5)]\n",
    "news_articles.shape"
   ]
  },
  {
   "cell_type": "markdown",
   "id": "clean-timeline",
   "metadata": {
    "papermill": {
     "duration": 0.012263,
     "end_time": "2021-04-08T14:40:34.190773",
     "exception": false,
     "start_time": "2021-04-08T14:40:34.178510",
     "status": "completed"
    },
    "tags": []
   },
   "source": [
    "### 3.c Checking and removing all the duplicates"
   ]
  },
  {
   "cell_type": "code",
   "execution_count": 6,
   "id": "ordinary-circuit",
   "metadata": {
    "execution": {
     "iopub.execute_input": "2021-04-08T14:40:34.220707Z",
     "iopub.status.busy": "2021-04-08T14:40:34.219969Z",
     "iopub.status.idle": "2021-04-08T14:40:34.252146Z",
     "shell.execute_reply": "2021-04-08T14:40:34.251443Z"
    },
    "papermill": {
     "duration": 0.04793,
     "end_time": "2021-04-08T14:40:34.252296",
     "exception": false,
     "start_time": "2021-04-08T14:40:34.204366",
     "status": "completed"
    },
    "tags": []
   },
   "outputs": [
    {
     "data": {
      "text/plain": [
       "(8485, 6)"
      ]
     },
     "execution_count": 6,
     "metadata": {},
     "output_type": "execute_result"
    }
   ],
   "source": [
    "news_articles = news_articles.sort_values('headline', ascending=False)\n",
    "duplicated_articles_series = news_articles.duplicated('headline', keep = False)\n",
    "news_articles = news_articles[~duplicated_articles_series]\n",
    "\n",
    "news_articles.shape"
   ]
  },
  {
   "cell_type": "markdown",
   "id": "accepted-desktop",
   "metadata": {
    "papermill": {
     "duration": 0.01302,
     "end_time": "2021-04-08T14:40:34.278524",
     "exception": false,
     "start_time": "2021-04-08T14:40:34.265504",
     "status": "completed"
    },
    "tags": []
   },
   "source": [
    "### 3.d Checking for missing values"
   ]
  },
  {
   "cell_type": "code",
   "execution_count": 7,
   "id": "unique-quest",
   "metadata": {
    "execution": {
     "iopub.execute_input": "2021-04-08T14:40:34.321687Z",
     "iopub.status.busy": "2021-04-08T14:40:34.320918Z",
     "iopub.status.idle": "2021-04-08T14:40:34.324802Z",
     "shell.execute_reply": "2021-04-08T14:40:34.325566Z"
    },
    "papermill": {
     "duration": 0.033589,
     "end_time": "2021-04-08T14:40:34.325824",
     "exception": false,
     "start_time": "2021-04-08T14:40:34.292235",
     "status": "completed"
    },
    "tags": []
   },
   "outputs": [
    {
     "data": {
      "text/plain": [
       "category             0\n",
       "headline             0\n",
       "authors              0\n",
       "link                 0\n",
       "short_description    0\n",
       "date                 0\n",
       "dtype: int64"
      ]
     },
     "execution_count": 7,
     "metadata": {},
     "output_type": "execute_result"
    }
   ],
   "source": [
    "news_articles.isna().sum()"
   ]
  },
  {
   "cell_type": "code",
   "execution_count": null,
   "id": "straight-ocean",
   "metadata": {
    "papermill": {
     "duration": 0.016053,
     "end_time": "2021-04-08T14:40:34.356496",
     "exception": false,
     "start_time": "2021-04-08T14:40:34.340443",
     "status": "completed"
    },
    "tags": []
   },
   "outputs": [],
   "source": []
  }
 ],
 "metadata": {
  "kernelspec": {
   "display_name": "Python 3",
   "language": "python",
   "name": "python3"
  },
  "language_info": {
   "codemirror_mode": {
    "name": "ipython",
    "version": 3
   },
   "file_extension": ".py",
   "mimetype": "text/x-python",
   "name": "python",
   "nbconvert_exporter": "python",
   "pygments_lexer": "ipython3",
   "version": "3.7.9"
  },
  "papermill": {
   "default_parameters": {},
   "duration": 20.007078,
   "end_time": "2021-04-08T14:40:36.355882",
   "environment_variables": {},
   "exception": null,
   "input_path": "__notebook__.ipynb",
   "output_path": "__notebook__.ipynb",
   "parameters": {},
   "start_time": "2021-04-08T14:40:16.348804",
   "version": "2.3.2"
  }
 },
 "nbformat": 4,
 "nbformat_minor": 5
}
