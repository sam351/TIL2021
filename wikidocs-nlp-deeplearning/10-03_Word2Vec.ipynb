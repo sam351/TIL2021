{
  "nbformat": 4,
  "nbformat_minor": 0,
  "metadata": {
    "colab": {
      "name": "10-03_Word2Vec",
      "provenance": [],
      "collapsed_sections": []
    },
    "kernelspec": {
      "name": "python3",
      "display_name": "Python 3"
    },
    "language_info": {
      "name": "python"
    },
    "widgets": {
      "application/vnd.jupyter.widget-state+json": {
        "97a012f6a2974f98a45d0700d65c973a": {
          "model_module": "@jupyter-widgets/controls",
          "model_name": "HBoxModel",
          "state": {
            "_view_name": "HBoxView",
            "_dom_classes": [],
            "_model_name": "HBoxModel",
            "_view_module": "@jupyter-widgets/controls",
            "_model_module_version": "1.5.0",
            "_view_count": null,
            "_view_module_version": "1.5.0",
            "box_style": "",
            "layout": "IPY_MODEL_9d9d3574b94b4e6aae12f91cf2341883",
            "_model_module": "@jupyter-widgets/controls",
            "children": [
              "IPY_MODEL_7f7d649c803a4a06925b69ecf513d863",
              "IPY_MODEL_6985c4880e9e4583ba1a196c6c093288"
            ]
          }
        },
        "9d9d3574b94b4e6aae12f91cf2341883": {
          "model_module": "@jupyter-widgets/base",
          "model_name": "LayoutModel",
          "state": {
            "_view_name": "LayoutView",
            "grid_template_rows": null,
            "right": null,
            "justify_content": null,
            "_view_module": "@jupyter-widgets/base",
            "overflow": null,
            "_model_module_version": "1.2.0",
            "_view_count": null,
            "flex_flow": null,
            "width": null,
            "min_width": null,
            "border": null,
            "align_items": null,
            "bottom": null,
            "_model_module": "@jupyter-widgets/base",
            "top": null,
            "grid_column": null,
            "overflow_y": null,
            "overflow_x": null,
            "grid_auto_flow": null,
            "grid_area": null,
            "grid_template_columns": null,
            "flex": null,
            "_model_name": "LayoutModel",
            "justify_items": null,
            "grid_row": null,
            "max_height": null,
            "align_content": null,
            "visibility": null,
            "align_self": null,
            "height": null,
            "min_height": null,
            "padding": null,
            "grid_auto_rows": null,
            "grid_gap": null,
            "max_width": null,
            "order": null,
            "_view_module_version": "1.2.0",
            "grid_template_areas": null,
            "object_position": null,
            "object_fit": null,
            "grid_auto_columns": null,
            "margin": null,
            "display": null,
            "left": null
          }
        },
        "7f7d649c803a4a06925b69ecf513d863": {
          "model_module": "@jupyter-widgets/controls",
          "model_name": "FloatProgressModel",
          "state": {
            "_view_name": "ProgressView",
            "style": "IPY_MODEL_d6593ed9ab134a7ea14ee4b8aa01cfa6",
            "_dom_classes": [],
            "description": "100%",
            "_model_name": "FloatProgressModel",
            "bar_style": "success",
            "max": 273424,
            "_view_module": "@jupyter-widgets/controls",
            "_model_module_version": "1.5.0",
            "value": 273424,
            "_view_count": null,
            "_view_module_version": "1.5.0",
            "orientation": "horizontal",
            "min": 0,
            "description_tooltip": null,
            "_model_module": "@jupyter-widgets/controls",
            "layout": "IPY_MODEL_2261a8dc773d48fc9314b9fac9af2a8c"
          }
        },
        "6985c4880e9e4583ba1a196c6c093288": {
          "model_module": "@jupyter-widgets/controls",
          "model_name": "HTMLModel",
          "state": {
            "_view_name": "HTMLView",
            "style": "IPY_MODEL_dc94f5090616491997ae7d130638e1ff",
            "_dom_classes": [],
            "description": "",
            "_model_name": "HTMLModel",
            "placeholder": "​",
            "_view_module": "@jupyter-widgets/controls",
            "_model_module_version": "1.5.0",
            "value": " 273424/273424 [01:18&lt;00:00, 3498.59it/s]",
            "_view_count": null,
            "_view_module_version": "1.5.0",
            "description_tooltip": null,
            "_model_module": "@jupyter-widgets/controls",
            "layout": "IPY_MODEL_530e864b0a9f41149ae7f574532736ec"
          }
        },
        "d6593ed9ab134a7ea14ee4b8aa01cfa6": {
          "model_module": "@jupyter-widgets/controls",
          "model_name": "ProgressStyleModel",
          "state": {
            "_view_name": "StyleView",
            "_model_name": "ProgressStyleModel",
            "description_width": "initial",
            "_view_module": "@jupyter-widgets/base",
            "_model_module_version": "1.5.0",
            "_view_count": null,
            "_view_module_version": "1.2.0",
            "bar_color": null,
            "_model_module": "@jupyter-widgets/controls"
          }
        },
        "2261a8dc773d48fc9314b9fac9af2a8c": {
          "model_module": "@jupyter-widgets/base",
          "model_name": "LayoutModel",
          "state": {
            "_view_name": "LayoutView",
            "grid_template_rows": null,
            "right": null,
            "justify_content": null,
            "_view_module": "@jupyter-widgets/base",
            "overflow": null,
            "_model_module_version": "1.2.0",
            "_view_count": null,
            "flex_flow": null,
            "width": null,
            "min_width": null,
            "border": null,
            "align_items": null,
            "bottom": null,
            "_model_module": "@jupyter-widgets/base",
            "top": null,
            "grid_column": null,
            "overflow_y": null,
            "overflow_x": null,
            "grid_auto_flow": null,
            "grid_area": null,
            "grid_template_columns": null,
            "flex": null,
            "_model_name": "LayoutModel",
            "justify_items": null,
            "grid_row": null,
            "max_height": null,
            "align_content": null,
            "visibility": null,
            "align_self": null,
            "height": null,
            "min_height": null,
            "padding": null,
            "grid_auto_rows": null,
            "grid_gap": null,
            "max_width": null,
            "order": null,
            "_view_module_version": "1.2.0",
            "grid_template_areas": null,
            "object_position": null,
            "object_fit": null,
            "grid_auto_columns": null,
            "margin": null,
            "display": null,
            "left": null
          }
        },
        "dc94f5090616491997ae7d130638e1ff": {
          "model_module": "@jupyter-widgets/controls",
          "model_name": "DescriptionStyleModel",
          "state": {
            "_view_name": "StyleView",
            "_model_name": "DescriptionStyleModel",
            "description_width": "",
            "_view_module": "@jupyter-widgets/base",
            "_model_module_version": "1.5.0",
            "_view_count": null,
            "_view_module_version": "1.2.0",
            "_model_module": "@jupyter-widgets/controls"
          }
        },
        "530e864b0a9f41149ae7f574532736ec": {
          "model_module": "@jupyter-widgets/base",
          "model_name": "LayoutModel",
          "state": {
            "_view_name": "LayoutView",
            "grid_template_rows": null,
            "right": null,
            "justify_content": null,
            "_view_module": "@jupyter-widgets/base",
            "overflow": null,
            "_model_module_version": "1.2.0",
            "_view_count": null,
            "flex_flow": null,
            "width": null,
            "min_width": null,
            "border": null,
            "align_items": null,
            "bottom": null,
            "_model_module": "@jupyter-widgets/base",
            "top": null,
            "grid_column": null,
            "overflow_y": null,
            "overflow_x": null,
            "grid_auto_flow": null,
            "grid_area": null,
            "grid_template_columns": null,
            "flex": null,
            "_model_name": "LayoutModel",
            "justify_items": null,
            "grid_row": null,
            "max_height": null,
            "align_content": null,
            "visibility": null,
            "align_self": null,
            "height": null,
            "min_height": null,
            "padding": null,
            "grid_auto_rows": null,
            "grid_gap": null,
            "max_width": null,
            "order": null,
            "_view_module_version": "1.2.0",
            "grid_template_areas": null,
            "object_position": null,
            "object_fit": null,
            "grid_auto_columns": null,
            "margin": null,
            "display": null,
            "left": null
          }
        }
      }
    }
  },
  "cells": [
    {
      "cell_type": "code",
      "metadata": {
        "colab": {
          "base_uri": "https://localhost:8080/"
        },
        "id": "wivds9THg1co",
        "outputId": "c201eb02-7a57-4631-a1bb-37a0f5cb0277"
      },
      "source": [
        "import urllib.request\n",
        "import zipfile\n",
        "from lxml import etree\n",
        "import re\n",
        "import tqdm\n",
        "\n",
        "import nltk\n",
        "from nltk.tokenize import word_tokenize, sent_tokenize\n",
        "nltk.download('punkt')\n",
        "\n",
        "import gensim\n",
        "from gensim.models import KeyedVectors, Word2Vec\n",
        "\n",
        "# nltk : 3.2.5  |  gensim : 3.6.0\n",
        "print(f'\\n>>> nltk : {nltk.__version__}  |  gensim : {gensim.__version__}') "
      ],
      "execution_count": 1,
      "outputs": [
        {
          "output_type": "stream",
          "text": [
            "[nltk_data] Downloading package punkt to /root/nltk_data...\n",
            "[nltk_data]   Unzipping tokenizers/punkt.zip.\n",
            "\n",
            ">>> nltk : 3.2.5  |  gensim : 3.6.0\n"
          ],
          "name": "stdout"
        }
      ]
    },
    {
      "cell_type": "markdown",
      "metadata": {
        "id": "6RApgK2PhgqF"
      },
      "source": [
        "## 1. 영어 Word2Vec 만들기 (Word2Vec in English)"
      ]
    },
    {
      "cell_type": "code",
      "metadata": {
        "id": "wZMi-M3rhhNi",
        "colab": {
          "base_uri": "https://localhost:8080/"
        },
        "outputId": "8b6b3703-54ab-4139-d5f2-63124c2964a3"
      },
      "source": [
        "%%time\n",
        "\n",
        "# donwload corpus\n",
        "urllib.request.urlretrieve(\"https://raw.githubusercontent.com/GaoleMeng/RNN-and-FFNN-textClassification/master/ted_en-20160408.xml\", filename=\"ted_en-20160408.xml\")\n",
        "\n",
        "# get text data from corpus\n",
        "with open('ted_en-20160408.xml') as fp:\n",
        "  target_text = etree.parse(fp)\n",
        "text_list = target_text.xpath('//content/text()')\n",
        "\n",
        "# check text data\n",
        "print(len(text_list), 'texts \\n')\n",
        "for idx, line in enumerate(text_list[:5]):\n",
        "  print(f'>>> Line {idx}. {line[:500]}...\\n')"
      ],
      "execution_count": 2,
      "outputs": [
        {
          "output_type": "stream",
          "text": [
            "2085 texts \n",
            "\n",
            ">>> Line 0. Here are two reasons companies fail: they only do more of the same, or they only do what's new.\n",
            "To me the real, real solution to quality growth is figuring out the balance between two activities: exploration and exploitation. Both are necessary, but it can be too much of a good thing.\n",
            "Consider Facit. I'm actually old enough to remember them. Facit was a fantastic company. They were born deep in the Swedish forest, and they made the best mechanical calculators in the world. Everybody used them. A...\n",
            "\n",
            ">>> Line 1. So there are lands few and far between on Earth itself that are hospitable to humans by any measure, but survive we have. Our primitive ancestors, when they found their homes and livelihood endangered, they dared to make their way into unfamiliar territories in search of better opportunities. And as the descendants of these explorers, we have their nomadic blood coursing through our own veins. But at the same time, distracted by our bread and circuses and embroiled in the wars that we have waged...\n",
            "\n",
            ">>> Line 2. OK, so, confession: I've always been weirdly obsessed with advertising. I remember watching Saturday morning cartoons, paying more attention to the commercials than to the shows, trying to figure out how they were trying to get inside my head. Ultimately, that led me to my dream job. I became a partner at a big New York ad agency.\n",
            "But then, all of that suddenly changed on February 23, 1997, when my little brother Matt was shot in the head in a shooting that happened on the observation deck of th...\n",
            "\n",
            ">>> Line 3. It has been 128 years since the last country in the world abolished slavery and 53 years since Martin Luther King pronounced his \"I Have A Dream\" speech. But we still live in a world where the color of our skin not only gives a first impression, but a lasting one that remains.\n",
            "I was born in a family full of colors. My father is the son of a maid from whom he inherited an intense dark chocolate tone. He was adopted by those who I know as my grandparents. The matriarch, my grandma, has a porcelain...\n",
            "\n",
            ">>> Line 4. Thousands of years from now, we'll look back at the first century of computing as a fascinating but very peculiar time -- the only time in history where humans were reduced to live in 2D space, interacting with technology as if we were machines; a singular, 100-year period in the vastness of time where humans communicated, were entertained and managed their lives from behind a screen.\n",
            "Today, we spend most of our time tapping and looking at screens. What happened to interacting with each other? I...\n",
            "\n",
            "CPU times: user 731 ms, sys: 579 ms, total: 1.31 s\n",
            "Wall time: 3.05 s\n"
          ],
          "name": "stdout"
        }
      ]
    },
    {
      "cell_type": "code",
      "metadata": {
        "colab": {
          "base_uri": "https://localhost:8080/",
          "height": 172,
          "referenced_widgets": [
            "97a012f6a2974f98a45d0700d65c973a",
            "9d9d3574b94b4e6aae12f91cf2341883",
            "7f7d649c803a4a06925b69ecf513d863",
            "6985c4880e9e4583ba1a196c6c093288",
            "d6593ed9ab134a7ea14ee4b8aa01cfa6",
            "2261a8dc773d48fc9314b9fac9af2a8c",
            "dc94f5090616491997ae7d130638e1ff",
            "530e864b0a9f41149ae7f574532736ec"
          ]
        },
        "id": "_0ii7MG2ZzWN",
        "outputId": "df19549d-a39b-46ff-866a-337337723748"
      },
      "source": [
        "%%time\n",
        "\n",
        "# pre-process text data\n",
        "parse_text = '\\n'.join(text_list)\n",
        "content_text = re.sub(r'\\([^)]*\\)', '', parse_text)  # (Audio), (Laughter) 등의 배경음 제거 - 괄호로 구성된 내용 제거\n",
        "sent_text = sent_tokenize(content_text)  # 문장 토큰화\n",
        "\n",
        "result = []\n",
        "for sentence in tqdm.tqdm_notebook(sent_text):\n",
        "  sentence = re.sub(r\"[^a-z0-9]+\", \" \", sentence)  # 구두점 제거\n",
        "  tokens = word_tokenize(sentence.lower())  # 단어 토큰화\n",
        "  result.append(tokens)\n",
        "\n",
        "print(len(result), result[0])"
      ],
      "execution_count": 3,
      "outputs": [
        {
          "output_type": "stream",
          "text": [
            "/usr/local/lib/python3.7/dist-packages/ipykernel_launcher.py:8: TqdmDeprecationWarning: This function will be removed in tqdm==5.0.0\n",
            "Please use `tqdm.notebook.tqdm` instead of `tqdm.tqdm_notebook`\n",
            "  \n"
          ],
          "name": "stderr"
        },
        {
          "output_type": "display_data",
          "data": {
            "application/vnd.jupyter.widget-view+json": {
              "model_id": "97a012f6a2974f98a45d0700d65c973a",
              "version_minor": 0,
              "version_major": 2
            },
            "text/plain": [
              "HBox(children=(FloatProgress(value=0.0, max=273424.0), HTML(value='')))"
            ]
          },
          "metadata": {
            "tags": []
          }
        },
        {
          "output_type": "stream",
          "text": [
            "\n",
            "273424 ['ere', 'are', 'two', 'reasons', 'companies', 'fail', 'they', 'only', 'do', 'more', 'of', 'the', 'same', 'or', 'they', 'only', 'do', 'what', 's', 'new']\n",
            "CPU times: user 47 s, sys: 762 ms, total: 47.8 s\n",
            "Wall time: 48.1 s\n"
          ],
          "name": "stdout"
        }
      ]
    },
    {
      "cell_type": "code",
      "metadata": {
        "colab": {
          "base_uri": "https://localhost:8080/",
          "height": 228
        },
        "id": "ClX1dc6KepS5",
        "outputId": "18af6483-a96b-4614-aa7d-d921cfde6f64"
      },
      "source": [
        "%%time\n",
        "# train Word2Vec model\n",
        "model = Word2Vec(sentences=result, size=100, window=5, min_count=5, workers=4, sg=0)\n",
        "\n",
        "# check model\n",
        "display(model.wv.most_similar('man'))"
      ],
      "execution_count": 4,
      "outputs": [
        {
          "output_type": "display_data",
          "data": {
            "text/plain": [
              "[('woman', 0.8687087297439575),\n",
              " ('guy', 0.8160133361816406),\n",
              " ('lady', 0.7881927490234375),\n",
              " ('girl', 0.7770200967788696),\n",
              " ('boy', 0.757689356803894),\n",
              " ('gentleman', 0.7470839023590088),\n",
              " ('soldier', 0.7310497760772705),\n",
              " ('kid', 0.7228984832763672),\n",
              " ('person', 0.6674720644950867),\n",
              " ('friend', 0.6444056630134583)]"
            ]
          },
          "metadata": {
            "tags": []
          }
        },
        {
          "output_type": "stream",
          "text": [
            "CPU times: user 1min 1s, sys: 372 ms, total: 1min 1s\n",
            "Wall time: 35.1 s\n"
          ],
          "name": "stdout"
        }
      ]
    },
    {
      "cell_type": "code",
      "metadata": {
        "colab": {
          "base_uri": "https://localhost:8080/",
          "height": 263
        },
        "id": "O0pekAkTgMvp",
        "outputId": "deedb240-bbb4-4e1e-fff0-fc253e1bb5f1"
      },
      "source": [
        "%%time\n",
        "# save & load trained model\n",
        "model.wv.save_word2vec_format(fname='eng_w2v')\n",
        "loaded_model = KeyedVectors.load_word2vec_format(fname='eng_w2v')\n",
        "\n",
        "# check loaded model\n",
        "display(loaded_model.wv.most_similar('man'))"
      ],
      "execution_count": 5,
      "outputs": [
        {
          "output_type": "stream",
          "text": [
            "/usr/local/lib/python3.7/dist-packages/ipykernel_launcher.py:6: DeprecationWarning: Call to deprecated `wv` (Attribute will be removed in 4.0.0, use self instead).\n",
            "  \n"
          ],
          "name": "stderr"
        },
        {
          "output_type": "display_data",
          "data": {
            "text/plain": [
              "[('woman', 0.8687087297439575),\n",
              " ('guy', 0.8160133361816406),\n",
              " ('lady', 0.7881927490234375),\n",
              " ('girl', 0.7770200967788696),\n",
              " ('boy', 0.757689356803894),\n",
              " ('gentleman', 0.7470839023590088),\n",
              " ('soldier', 0.7310497760772705),\n",
              " ('kid', 0.7228984832763672),\n",
              " ('person', 0.6674720644950867),\n",
              " ('friend', 0.6444056630134583)]"
            ]
          },
          "metadata": {
            "tags": []
          }
        },
        {
          "output_type": "stream",
          "text": [
            "CPU times: user 4.38 s, sys: 217 ms, total: 4.6 s\n",
            "Wall time: 4.47 s\n"
          ],
          "name": "stdout"
        }
      ]
    },
    {
      "cell_type": "markdown",
      "metadata": {
        "id": "bvBimxUhhysH"
      },
      "source": [
        "## 2. 한국어 Word2Vec 만들기(네이버 영화 리뷰)"
      ]
    },
    {
      "cell_type": "code",
      "metadata": {
        "id": "YaZcp0fVhyvc"
      },
      "source": [
        ""
      ],
      "execution_count": 5,
      "outputs": []
    },
    {
      "cell_type": "markdown",
      "metadata": {
        "id": "VO6IthXjh3Lo"
      },
      "source": [
        "## 3. 한국어 Word2Vec 만들기(위키피디아)"
      ]
    },
    {
      "cell_type": "code",
      "metadata": {
        "id": "Wzyi4mIxh3Qu"
      },
      "source": [
        ""
      ],
      "execution_count": 5,
      "outputs": []
    },
    {
      "cell_type": "markdown",
      "metadata": {
        "id": "yGVUqO87X2sz"
      },
      "source": [
        "## 4. 사전 훈련된 Word2Vec 임베딩(Pre-trained Word2Vec embedding) 소개"
      ]
    },
    {
      "cell_type": "code",
      "metadata": {
        "id": "qaK5BH3sX2v9"
      },
      "source": [
        ""
      ],
      "execution_count": 5,
      "outputs": []
    }
  ]
}