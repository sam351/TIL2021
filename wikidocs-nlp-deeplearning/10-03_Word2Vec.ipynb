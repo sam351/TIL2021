{
  "nbformat": 4,
  "nbformat_minor": 0,
  "metadata": {
    "colab": {
      "name": "10-03_Word2Vec",
      "provenance": [],
      "collapsed_sections": []
    },
    "kernelspec": {
      "name": "python3",
      "display_name": "Python 3"
    },
    "language_info": {
      "name": "python"
    }
  },
  "cells": [
    {
      "cell_type": "code",
      "metadata": {
        "colab": {
          "base_uri": "https://localhost:8080/"
        },
        "id": "wivds9THg1co",
        "outputId": "25c0c10f-5c6c-45fb-ca2a-d0f9c72186b6"
      },
      "source": [
        "import urllib.request\n",
        "import zipfile\n",
        "from lxml import etree\n",
        "import re\n",
        "\n",
        "import nltk\n",
        "from nltk.tokenize import word_tokenize, sent_tokenize\n",
        "nltk.download('punkt')\n",
        "\n",
        "import gensim\n",
        "from gensim.models import KeyedVectors\n",
        "\n",
        "# nltk : 3.2.5  |  gensim : 3.6.0\n",
        "print(f'\\n>>> nltk : {nltk.__version__}  |  gensim : {gensim.__version__}') "
      ],
      "execution_count": 1,
      "outputs": [
        {
          "output_type": "stream",
          "text": [
            "[nltk_data] Downloading package punkt to /root/nltk_data...\n",
            "[nltk_data]   Unzipping tokenizers/punkt.zip.\n",
            "\n",
            ">>> nltk : 3.2.5  |  gensim : 3.6.0\n"
          ],
          "name": "stdout"
        }
      ]
    },
    {
      "cell_type": "markdown",
      "metadata": {
        "id": "6RApgK2PhgqF"
      },
      "source": [
        "## 1. 영어 Word2Vec 만들기"
      ]
    },
    {
      "cell_type": "code",
      "metadata": {
        "id": "wZMi-M3rhhNi",
        "colab": {
          "base_uri": "https://localhost:8080/"
        },
        "outputId": "d3c4361e-75d3-4732-c92a-1bd18ec2789f"
      },
      "source": [
        "%%time\n",
        "\n",
        "# donwload corpus\n",
        "urllib.request.urlretrieve(\"https://raw.githubusercontent.com/GaoleMeng/RNN-and-FFNN-textClassification/master/ted_en-20160408.xml\", filename=\"ted_en-20160408.xml\")\n",
        "\n",
        "# get text data from corpus\n",
        "with open('ted_en-20160408.xml') as fp:\n",
        "  target_text = etree.parse(fp)\n",
        "text_list = target_text.xpath('//content/text()')\n",
        "\n",
        "# check text data\n",
        "print(len(text_list), 'texts \\n')\n",
        "for idx, line in enumerate(text_list[:5]):\n",
        "  print(f'>>> Line {idx}. {line[:500]}...\\n')"
      ],
      "execution_count": 2,
      "outputs": [
        {
          "output_type": "stream",
          "text": [
            "2085 texts \n",
            "\n",
            ">>> Line 0. Here are two reasons companies fail: they only do more of the same, or they only do what's new.\n",
            "To me the real, real solution to quality growth is figuring out the balance between two activities: exploration and exploitation. Both are necessary, but it can be too much of a good thing.\n",
            "Consider Facit. I'm actually old enough to remember them. Facit was a fantastic company. They were born deep in the Swedish forest, and they made the best mechanical calculators in the world. Everybody used them. A...\n",
            "\n",
            ">>> Line 1. So there are lands few and far between on Earth itself that are hospitable to humans by any measure, but survive we have. Our primitive ancestors, when they found their homes and livelihood endangered, they dared to make their way into unfamiliar territories in search of better opportunities. And as the descendants of these explorers, we have their nomadic blood coursing through our own veins. But at the same time, distracted by our bread and circuses and embroiled in the wars that we have waged...\n",
            "\n",
            ">>> Line 2. OK, so, confession: I've always been weirdly obsessed with advertising. I remember watching Saturday morning cartoons, paying more attention to the commercials than to the shows, trying to figure out how they were trying to get inside my head. Ultimately, that led me to my dream job. I became a partner at a big New York ad agency.\n",
            "But then, all of that suddenly changed on February 23, 1997, when my little brother Matt was shot in the head in a shooting that happened on the observation deck of th...\n",
            "\n",
            ">>> Line 3. It has been 128 years since the last country in the world abolished slavery and 53 years since Martin Luther King pronounced his \"I Have A Dream\" speech. But we still live in a world where the color of our skin not only gives a first impression, but a lasting one that remains.\n",
            "I was born in a family full of colors. My father is the son of a maid from whom he inherited an intense dark chocolate tone. He was adopted by those who I know as my grandparents. The matriarch, my grandma, has a porcelain...\n",
            "\n",
            ">>> Line 4. Thousands of years from now, we'll look back at the first century of computing as a fascinating but very peculiar time -- the only time in history where humans were reduced to live in 2D space, interacting with technology as if we were machines; a singular, 100-year period in the vastness of time where humans communicated, were entertained and managed their lives from behind a screen.\n",
            "Today, we spend most of our time tapping and looking at screens. What happened to interacting with each other? I...\n",
            "\n",
            "CPU times: user 928 ms, sys: 525 ms, total: 1.45 s\n",
            "Wall time: 2.59 s\n"
          ],
          "name": "stdout"
        }
      ]
    }
  ]
}