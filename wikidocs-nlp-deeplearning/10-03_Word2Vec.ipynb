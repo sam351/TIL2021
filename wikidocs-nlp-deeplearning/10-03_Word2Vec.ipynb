{
  "nbformat": 4,
  "nbformat_minor": 0,
  "metadata": {
    "colab": {
      "name": "10-03_Word2Vec",
      "provenance": [],
      "collapsed_sections": []
    },
    "kernelspec": {
      "name": "python3",
      "display_name": "Python 3"
    },
    "language_info": {
      "name": "python"
    },
    "widgets": {
      "application/vnd.jupyter.widget-state+json": {
        "4390cc86dd8d4851908e5888204cb280": {
          "model_module": "@jupyter-widgets/controls",
          "model_name": "HBoxModel",
          "state": {
            "_view_name": "HBoxView",
            "_dom_classes": [],
            "_model_name": "HBoxModel",
            "_view_module": "@jupyter-widgets/controls",
            "_model_module_version": "1.5.0",
            "_view_count": null,
            "_view_module_version": "1.5.0",
            "box_style": "",
            "layout": "IPY_MODEL_331a708e5e1746f39330978b509829ca",
            "_model_module": "@jupyter-widgets/controls",
            "children": [
              "IPY_MODEL_f37309d355994b7aad6240b1bae91240",
              "IPY_MODEL_56ed959f6bd84c22a12e305ed7a4eb7d"
            ]
          }
        },
        "331a708e5e1746f39330978b509829ca": {
          "model_module": "@jupyter-widgets/base",
          "model_name": "LayoutModel",
          "state": {
            "_view_name": "LayoutView",
            "grid_template_rows": null,
            "right": null,
            "justify_content": null,
            "_view_module": "@jupyter-widgets/base",
            "overflow": null,
            "_model_module_version": "1.2.0",
            "_view_count": null,
            "flex_flow": null,
            "width": null,
            "min_width": null,
            "border": null,
            "align_items": null,
            "bottom": null,
            "_model_module": "@jupyter-widgets/base",
            "top": null,
            "grid_column": null,
            "overflow_y": null,
            "overflow_x": null,
            "grid_auto_flow": null,
            "grid_area": null,
            "grid_template_columns": null,
            "flex": null,
            "_model_name": "LayoutModel",
            "justify_items": null,
            "grid_row": null,
            "max_height": null,
            "align_content": null,
            "visibility": null,
            "align_self": null,
            "height": null,
            "min_height": null,
            "padding": null,
            "grid_auto_rows": null,
            "grid_gap": null,
            "max_width": null,
            "order": null,
            "_view_module_version": "1.2.0",
            "grid_template_areas": null,
            "object_position": null,
            "object_fit": null,
            "grid_auto_columns": null,
            "margin": null,
            "display": null,
            "left": null
          }
        },
        "f37309d355994b7aad6240b1bae91240": {
          "model_module": "@jupyter-widgets/controls",
          "model_name": "FloatProgressModel",
          "state": {
            "_view_name": "ProgressView",
            "style": "IPY_MODEL_5afac6ecdd24459089255f01b5ac39d9",
            "_dom_classes": [],
            "description": "100%",
            "_model_name": "FloatProgressModel",
            "bar_style": "success",
            "max": 273424,
            "_view_module": "@jupyter-widgets/controls",
            "_model_module_version": "1.5.0",
            "value": 273424,
            "_view_count": null,
            "_view_module_version": "1.5.0",
            "orientation": "horizontal",
            "min": 0,
            "description_tooltip": null,
            "_model_module": "@jupyter-widgets/controls",
            "layout": "IPY_MODEL_fcaf77b8f5384916bca56e51df4b7d20"
          }
        },
        "56ed959f6bd84c22a12e305ed7a4eb7d": {
          "model_module": "@jupyter-widgets/controls",
          "model_name": "HTMLModel",
          "state": {
            "_view_name": "HTMLView",
            "style": "IPY_MODEL_e8812941d5a64abf8505a3ac3959e629",
            "_dom_classes": [],
            "description": "",
            "_model_name": "HTMLModel",
            "placeholder": "​",
            "_view_module": "@jupyter-widgets/controls",
            "_model_module_version": "1.5.0",
            "value": " 273424/273424 [01:20&lt;00:00, 3414.76it/s]",
            "_view_count": null,
            "_view_module_version": "1.5.0",
            "description_tooltip": null,
            "_model_module": "@jupyter-widgets/controls",
            "layout": "IPY_MODEL_ad36b951c5b74025b3fdaa4525905f85"
          }
        },
        "5afac6ecdd24459089255f01b5ac39d9": {
          "model_module": "@jupyter-widgets/controls",
          "model_name": "ProgressStyleModel",
          "state": {
            "_view_name": "StyleView",
            "_model_name": "ProgressStyleModel",
            "description_width": "initial",
            "_view_module": "@jupyter-widgets/base",
            "_model_module_version": "1.5.0",
            "_view_count": null,
            "_view_module_version": "1.2.0",
            "bar_color": null,
            "_model_module": "@jupyter-widgets/controls"
          }
        },
        "fcaf77b8f5384916bca56e51df4b7d20": {
          "model_module": "@jupyter-widgets/base",
          "model_name": "LayoutModel",
          "state": {
            "_view_name": "LayoutView",
            "grid_template_rows": null,
            "right": null,
            "justify_content": null,
            "_view_module": "@jupyter-widgets/base",
            "overflow": null,
            "_model_module_version": "1.2.0",
            "_view_count": null,
            "flex_flow": null,
            "width": null,
            "min_width": null,
            "border": null,
            "align_items": null,
            "bottom": null,
            "_model_module": "@jupyter-widgets/base",
            "top": null,
            "grid_column": null,
            "overflow_y": null,
            "overflow_x": null,
            "grid_auto_flow": null,
            "grid_area": null,
            "grid_template_columns": null,
            "flex": null,
            "_model_name": "LayoutModel",
            "justify_items": null,
            "grid_row": null,
            "max_height": null,
            "align_content": null,
            "visibility": null,
            "align_self": null,
            "height": null,
            "min_height": null,
            "padding": null,
            "grid_auto_rows": null,
            "grid_gap": null,
            "max_width": null,
            "order": null,
            "_view_module_version": "1.2.0",
            "grid_template_areas": null,
            "object_position": null,
            "object_fit": null,
            "grid_auto_columns": null,
            "margin": null,
            "display": null,
            "left": null
          }
        },
        "e8812941d5a64abf8505a3ac3959e629": {
          "model_module": "@jupyter-widgets/controls",
          "model_name": "DescriptionStyleModel",
          "state": {
            "_view_name": "StyleView",
            "_model_name": "DescriptionStyleModel",
            "description_width": "",
            "_view_module": "@jupyter-widgets/base",
            "_model_module_version": "1.5.0",
            "_view_count": null,
            "_view_module_version": "1.2.0",
            "_model_module": "@jupyter-widgets/controls"
          }
        },
        "ad36b951c5b74025b3fdaa4525905f85": {
          "model_module": "@jupyter-widgets/base",
          "model_name": "LayoutModel",
          "state": {
            "_view_name": "LayoutView",
            "grid_template_rows": null,
            "right": null,
            "justify_content": null,
            "_view_module": "@jupyter-widgets/base",
            "overflow": null,
            "_model_module_version": "1.2.0",
            "_view_count": null,
            "flex_flow": null,
            "width": null,
            "min_width": null,
            "border": null,
            "align_items": null,
            "bottom": null,
            "_model_module": "@jupyter-widgets/base",
            "top": null,
            "grid_column": null,
            "overflow_y": null,
            "overflow_x": null,
            "grid_auto_flow": null,
            "grid_area": null,
            "grid_template_columns": null,
            "flex": null,
            "_model_name": "LayoutModel",
            "justify_items": null,
            "grid_row": null,
            "max_height": null,
            "align_content": null,
            "visibility": null,
            "align_self": null,
            "height": null,
            "min_height": null,
            "padding": null,
            "grid_auto_rows": null,
            "grid_gap": null,
            "max_width": null,
            "order": null,
            "_view_module_version": "1.2.0",
            "grid_template_areas": null,
            "object_position": null,
            "object_fit": null,
            "grid_auto_columns": null,
            "margin": null,
            "display": null,
            "left": null
          }
        }
      }
    }
  },
  "cells": [
    {
      "cell_type": "code",
      "metadata": {
        "colab": {
          "base_uri": "https://localhost:8080/"
        },
        "id": "wivds9THg1co",
        "outputId": "790275cf-8ad3-4d10-d203-4f7673e0ca3f"
      },
      "source": [
        "# install required packages\n",
        "!pip install konlpy\n",
        "\n",
        "# clear install verbose messages\n",
        "from IPython.display import clear_output\n",
        "clear_output()\n",
        "\n",
        "import urllib.request\n",
        "import zipfile\n",
        "from lxml import etree\n",
        "import re\n",
        "import tqdm\n",
        "\n",
        "import nltk\n",
        "from nltk.tokenize import word_tokenize, sent_tokenize\n",
        "nltk.download('punkt')\n",
        "\n",
        "import gensim\n",
        "from gensim.models import KeyedVectors, Word2Vec\n",
        "\n",
        "import pandas as pd\n",
        "import matplotlib.pyplot as plt\n",
        "import urllib.request\n",
        "import konlpy\n",
        "from konlpy.tag import Okt\n",
        "# from gensim.models.word2vec import Word2Vec\n",
        "\n",
        "\n",
        "def show_table(df, sample_num=2):\n",
        "  print('>>> shape :', df.shape)\n",
        "  print('>>> No of NA :', df.isna().sum().sum())\n",
        "  if len(df) <= sample_num*2:\n",
        "    display(df)\n",
        "  else:\n",
        "    display(df.head(sample_num))\n",
        "    display(df.tail(sample_num))\n",
        "  pass\n",
        "\n",
        "\n",
        "# nltk : 3.2.5  |  gensim : 3.6.0\n",
        "print(f'\\n>>> nltk : {nltk.__version__}  |  gensim : {gensim.__version__}  |  pd : {pd.__version__}  |  konlpy : {konlpy.__version__}') "
      ],
      "execution_count": 1,
      "outputs": [
        {
          "output_type": "stream",
          "text": [
            "[nltk_data] Downloading package punkt to /root/nltk_data...\n",
            "[nltk_data]   Package punkt is already up-to-date!\n",
            "\n",
            ">>> nltk : 3.2.5  |  gensim : 3.6.0  |  pd : 1.1.5  |  konlpy : 0.5.2\n"
          ],
          "name": "stdout"
        }
      ]
    },
    {
      "cell_type": "markdown",
      "metadata": {
        "id": "6RApgK2PhgqF"
      },
      "source": [
        "## 1. 영어 Word2Vec 만들기 (Word2Vec in English)"
      ]
    },
    {
      "cell_type": "code",
      "metadata": {
        "id": "wZMi-M3rhhNi",
        "colab": {
          "base_uri": "https://localhost:8080/"
        },
        "outputId": "6273c3de-2c32-4e37-e02d-2b8bda3ff171"
      },
      "source": [
        "%%time\n",
        "\n",
        "# donwload corpus\n",
        "urllib.request.urlretrieve(\"https://raw.githubusercontent.com/GaoleMeng/RNN-and-FFNN-textClassification/master/ted_en-20160408.xml\", filename=\"ted_en-20160408.xml\")\n",
        "\n",
        "# get text data from corpus\n",
        "with open('ted_en-20160408.xml') as fp:\n",
        "  target_text = etree.parse(fp)\n",
        "text_list = target_text.xpath('//content/text()')\n",
        "\n",
        "# check text data\n",
        "print(len(text_list), 'texts \\n')\n",
        "for idx, line in enumerate(text_list[:5]):\n",
        "  print(f'>>> Line {idx}. {line[:500]}...\\n')"
      ],
      "execution_count": 2,
      "outputs": [
        {
          "output_type": "stream",
          "text": [
            "2085 texts \n",
            "\n",
            ">>> Line 0. Here are two reasons companies fail: they only do more of the same, or they only do what's new.\n",
            "To me the real, real solution to quality growth is figuring out the balance between two activities: exploration and exploitation. Both are necessary, but it can be too much of a good thing.\n",
            "Consider Facit. I'm actually old enough to remember them. Facit was a fantastic company. They were born deep in the Swedish forest, and they made the best mechanical calculators in the world. Everybody used them. A...\n",
            "\n",
            ">>> Line 1. So there are lands few and far between on Earth itself that are hospitable to humans by any measure, but survive we have. Our primitive ancestors, when they found their homes and livelihood endangered, they dared to make their way into unfamiliar territories in search of better opportunities. And as the descendants of these explorers, we have their nomadic blood coursing through our own veins. But at the same time, distracted by our bread and circuses and embroiled in the wars that we have waged...\n",
            "\n",
            ">>> Line 2. OK, so, confession: I've always been weirdly obsessed with advertising. I remember watching Saturday morning cartoons, paying more attention to the commercials than to the shows, trying to figure out how they were trying to get inside my head. Ultimately, that led me to my dream job. I became a partner at a big New York ad agency.\n",
            "But then, all of that suddenly changed on February 23, 1997, when my little brother Matt was shot in the head in a shooting that happened on the observation deck of th...\n",
            "\n",
            ">>> Line 3. It has been 128 years since the last country in the world abolished slavery and 53 years since Martin Luther King pronounced his \"I Have A Dream\" speech. But we still live in a world where the color of our skin not only gives a first impression, but a lasting one that remains.\n",
            "I was born in a family full of colors. My father is the son of a maid from whom he inherited an intense dark chocolate tone. He was adopted by those who I know as my grandparents. The matriarch, my grandma, has a porcelain...\n",
            "\n",
            ">>> Line 4. Thousands of years from now, we'll look back at the first century of computing as a fascinating but very peculiar time -- the only time in history where humans were reduced to live in 2D space, interacting with technology as if we were machines; a singular, 100-year period in the vastness of time where humans communicated, were entertained and managed their lives from behind a screen.\n",
            "Today, we spend most of our time tapping and looking at screens. What happened to interacting with each other? I...\n",
            "\n",
            "CPU times: user 731 ms, sys: 501 ms, total: 1.23 s\n",
            "Wall time: 1.34 s\n"
          ],
          "name": "stdout"
        }
      ]
    },
    {
      "cell_type": "code",
      "metadata": {
        "colab": {
          "base_uri": "https://localhost:8080/",
          "height": 172,
          "referenced_widgets": [
            "4390cc86dd8d4851908e5888204cb280",
            "331a708e5e1746f39330978b509829ca",
            "f37309d355994b7aad6240b1bae91240",
            "56ed959f6bd84c22a12e305ed7a4eb7d",
            "5afac6ecdd24459089255f01b5ac39d9",
            "fcaf77b8f5384916bca56e51df4b7d20",
            "e8812941d5a64abf8505a3ac3959e629",
            "ad36b951c5b74025b3fdaa4525905f85"
          ]
        },
        "id": "_0ii7MG2ZzWN",
        "outputId": "23df07ca-cdc3-43af-fc32-72be4391cbbc"
      },
      "source": [
        "%%time\n",
        "\n",
        "# pre-process text data\n",
        "parse_text = '\\n'.join(text_list)\n",
        "content_text = re.sub(r'\\([^)]*\\)', '', parse_text)  # (Audio), (Laughter) 등의 배경음 제거 - 괄호로 구성된 내용 제거\n",
        "sent_text = sent_tokenize(content_text)  # 문장 토큰화\n",
        "\n",
        "result = []\n",
        "for sentence in tqdm.tqdm_notebook(sent_text):\n",
        "  sentence = re.sub(r\"[^a-z0-9]+\", \" \", sentence)  # 구두점 제거\n",
        "  tokens = word_tokenize(sentence.lower())  # 단어 토큰화\n",
        "  result.append(tokens)\n",
        "\n",
        "print(len(result), result[0])"
      ],
      "execution_count": 3,
      "outputs": [
        {
          "output_type": "stream",
          "text": [
            "/usr/local/lib/python3.7/dist-packages/ipykernel_launcher.py:8: TqdmDeprecationWarning: This function will be removed in tqdm==5.0.0\n",
            "Please use `tqdm.notebook.tqdm` instead of `tqdm.tqdm_notebook`\n",
            "  \n"
          ],
          "name": "stderr"
        },
        {
          "output_type": "display_data",
          "data": {
            "application/vnd.jupyter.widget-view+json": {
              "model_id": "4390cc86dd8d4851908e5888204cb280",
              "version_minor": 0,
              "version_major": 2
            },
            "text/plain": [
              "HBox(children=(FloatProgress(value=0.0, max=273424.0), HTML(value='')))"
            ]
          },
          "metadata": {
            "tags": []
          }
        },
        {
          "output_type": "stream",
          "text": [
            "\n",
            "273424 ['ere', 'are', 'two', 'reasons', 'companies', 'fail', 'they', 'only', 'do', 'more', 'of', 'the', 'same', 'or', 'they', 'only', 'do', 'what', 's', 'new']\n",
            "CPU times: user 48.5 s, sys: 762 ms, total: 49.3 s\n",
            "Wall time: 49.5 s\n"
          ],
          "name": "stdout"
        }
      ]
    },
    {
      "cell_type": "code",
      "metadata": {
        "colab": {
          "base_uri": "https://localhost:8080/",
          "height": 228
        },
        "id": "ClX1dc6KepS5",
        "outputId": "b5e727b3-db8a-4a21-a240-e65c9865dbfe"
      },
      "source": [
        "%%time\n",
        "# train Word2Vec model\n",
        "model = Word2Vec(sentences=result, size=100, window=5, min_count=5, workers=4, sg=0)\n",
        "\n",
        "# check model\n",
        "display(model.wv.most_similar('man'))"
      ],
      "execution_count": 4,
      "outputs": [
        {
          "output_type": "display_data",
          "data": {
            "text/plain": [
              "[('woman', 0.8899336457252502),\n",
              " ('guy', 0.8076452016830444),\n",
              " ('lady', 0.8012735843658447),\n",
              " ('girl', 0.7669002413749695),\n",
              " ('soldier', 0.7586746215820312),\n",
              " ('boy', 0.7400370836257935),\n",
              " ('gentleman', 0.7280025482177734),\n",
              " ('kid', 0.690168023109436),\n",
              " ('photographer', 0.6577188372612),\n",
              " ('person', 0.6439493894577026)]"
            ]
          },
          "metadata": {
            "tags": []
          }
        },
        {
          "output_type": "stream",
          "text": [
            "CPU times: user 58.5 s, sys: 346 ms, total: 58.9 s\n",
            "Wall time: 34 s\n"
          ],
          "name": "stdout"
        }
      ]
    },
    {
      "cell_type": "code",
      "metadata": {
        "colab": {
          "base_uri": "https://localhost:8080/",
          "height": 263
        },
        "id": "O0pekAkTgMvp",
        "outputId": "61a0c195-3b0f-45e3-8508-549d1ceb776e"
      },
      "source": [
        "%%time\n",
        "# save & load trained model\n",
        "model.wv.save_word2vec_format(fname='eng_w2v')\n",
        "loaded_model = KeyedVectors.load_word2vec_format(fname='eng_w2v')\n",
        "\n",
        "# check loaded model\n",
        "display(loaded_model.wv.most_similar('man'))"
      ],
      "execution_count": 5,
      "outputs": [
        {
          "output_type": "stream",
          "text": [
            "/usr/local/lib/python3.7/dist-packages/ipykernel_launcher.py:6: DeprecationWarning: Call to deprecated `wv` (Attribute will be removed in 4.0.0, use self instead).\n",
            "  \n"
          ],
          "name": "stderr"
        },
        {
          "output_type": "display_data",
          "data": {
            "text/plain": [
              "[('woman', 0.8899336457252502),\n",
              " ('guy', 0.8076452016830444),\n",
              " ('lady', 0.8012735843658447),\n",
              " ('girl', 0.7669002413749695),\n",
              " ('soldier', 0.7586746215820312),\n",
              " ('boy', 0.7400370836257935),\n",
              " ('gentleman', 0.7280025482177734),\n",
              " ('kid', 0.690168023109436),\n",
              " ('photographer', 0.6577188372612),\n",
              " ('person', 0.6439493894577026)]"
            ]
          },
          "metadata": {
            "tags": []
          }
        },
        {
          "output_type": "stream",
          "text": [
            "CPU times: user 4.22 s, sys: 197 ms, total: 4.42 s\n",
            "Wall time: 4.24 s\n"
          ],
          "name": "stdout"
        }
      ]
    },
    {
      "cell_type": "markdown",
      "metadata": {
        "id": "bvBimxUhhysH"
      },
      "source": [
        "## 2. 한국어 Word2Vec 만들기 - 네이버 영화 리뷰 (Word2Vec with Naver Movie Reviews)"
      ]
    },
    {
      "cell_type": "code",
      "metadata": {
        "id": "YaZcp0fVhyvc",
        "colab": {
          "base_uri": "https://localhost:8080/",
          "height": 266
        },
        "outputId": "c0795cd4-0487-48ed-c18b-a194903e994e"
      },
      "source": [
        "%%time\n",
        "\n",
        "# download Korean corpus - Naver movie review\n",
        "urllib.request.urlretrieve(\"https://raw.githubusercontent.com/e9t/nsmc/master/ratings.txt\", filename=\"ratings.txt\")\n",
        "\n",
        "# load data\n",
        "train_data = pd.read_table('ratings.txt')\n",
        "train_data = train_data.dropna()  # drop rows with NA\n",
        "\n",
        "# pre-process data - takes time\n",
        "train_data['document_processed'] = train_data['document'].str.replace('[^ㄱ-ㅎㅏ-ㅣ가-힣 ]', '')\n",
        "stopwords = ['의','가','이','은','들','는','좀','잘','걍','과','도','를','으로','자','에','와','한','하다']\n",
        "okt = Okt()\n",
        "train_data['document_processed'] = train_data['document_processed'].apply(lambda sent : [tk for tk in okt.morphs(sent, stem=True) if tk not in stopwords])\n",
        "\n",
        "# check the result\n",
        "show_table(train_data)"
      ],
      "execution_count": 6,
      "outputs": [
        {
          "output_type": "stream",
          "text": [
            ">>> shape : (199992, 4)\n",
            ">>> No of NA : 0\n"
          ],
          "name": "stdout"
        },
        {
          "output_type": "display_data",
          "data": {
            "text/html": [
              "<div>\n",
              "<style scoped>\n",
              "    .dataframe tbody tr th:only-of-type {\n",
              "        vertical-align: middle;\n",
              "    }\n",
              "\n",
              "    .dataframe tbody tr th {\n",
              "        vertical-align: top;\n",
              "    }\n",
              "\n",
              "    .dataframe thead th {\n",
              "        text-align: right;\n",
              "    }\n",
              "</style>\n",
              "<table border=\"1\" class=\"dataframe\">\n",
              "  <thead>\n",
              "    <tr style=\"text-align: right;\">\n",
              "      <th></th>\n",
              "      <th>id</th>\n",
              "      <th>document</th>\n",
              "      <th>label</th>\n",
              "      <th>document_processed</th>\n",
              "    </tr>\n",
              "  </thead>\n",
              "  <tbody>\n",
              "    <tr>\n",
              "      <th>0</th>\n",
              "      <td>8112052</td>\n",
              "      <td>어릴때보고 지금다시봐도 재밌어요ㅋㅋ</td>\n",
              "      <td>1</td>\n",
              "      <td>[어리다, 때, 보고, 지금, 다시, 보다, 재밌다, ㅋㅋ]</td>\n",
              "    </tr>\n",
              "    <tr>\n",
              "      <th>1</th>\n",
              "      <td>8132799</td>\n",
              "      <td>디자인을 배우는 학생으로, 외국디자이너와 그들이 일군 전통을 통해 발전해가는 문화산...</td>\n",
              "      <td>1</td>\n",
              "      <td>[디자인, 을, 배우다, 학생, 외국, 디자이너, 그, 일군, 전통, 을, 통해, ...</td>\n",
              "    </tr>\n",
              "  </tbody>\n",
              "</table>\n",
              "</div>"
            ],
            "text/plain": [
              "        id  ...                                 document_processed\n",
              "0  8112052  ...                  [어리다, 때, 보고, 지금, 다시, 보다, 재밌다, ㅋㅋ]\n",
              "1  8132799  ...  [디자인, 을, 배우다, 학생, 외국, 디자이너, 그, 일군, 전통, 을, 통해, ...\n",
              "\n",
              "[2 rows x 4 columns]"
            ]
          },
          "metadata": {
            "tags": []
          }
        },
        {
          "output_type": "display_data",
          "data": {
            "text/html": [
              "<div>\n",
              "<style scoped>\n",
              "    .dataframe tbody tr th:only-of-type {\n",
              "        vertical-align: middle;\n",
              "    }\n",
              "\n",
              "    .dataframe tbody tr th {\n",
              "        vertical-align: top;\n",
              "    }\n",
              "\n",
              "    .dataframe thead th {\n",
              "        text-align: right;\n",
              "    }\n",
              "</style>\n",
              "<table border=\"1\" class=\"dataframe\">\n",
              "  <thead>\n",
              "    <tr style=\"text-align: right;\">\n",
              "      <th></th>\n",
              "      <th>id</th>\n",
              "      <th>document</th>\n",
              "      <th>label</th>\n",
              "      <th>document_processed</th>\n",
              "    </tr>\n",
              "  </thead>\n",
              "  <tbody>\n",
              "    <tr>\n",
              "      <th>199998</th>\n",
              "      <td>6908648</td>\n",
              "      <td>왜난 재미없었지 ㅠㅠ 라따뚜이 보고나서 스머프 봐서 그런가 ㅋㅋ</td>\n",
              "      <td>0</td>\n",
              "      <td>[왜, 난, 재미없다, ㅠㅠ, 라따뚜이, 보다, 스머프, 보다, 그, 런가, ㅋㅋ]</td>\n",
              "    </tr>\n",
              "    <tr>\n",
              "      <th>199999</th>\n",
              "      <td>8548411</td>\n",
              "      <td>포풍저그가나가신다영차영차영차</td>\n",
              "      <td>0</td>\n",
              "      <td>[포, 풍, 저그, 나가다, 영차, 영차, 영차]</td>\n",
              "    </tr>\n",
              "  </tbody>\n",
              "</table>\n",
              "</div>"
            ],
            "text/plain": [
              "             id  ...                              document_processed\n",
              "199998  6908648  ...  [왜, 난, 재미없다, ㅠㅠ, 라따뚜이, 보다, 스머프, 보다, 그, 런가, ㅋㅋ]\n",
              "199999  8548411  ...                     [포, 풍, 저그, 나가다, 영차, 영차, 영차]\n",
              "\n",
              "[2 rows x 4 columns]"
            ]
          },
          "metadata": {
            "tags": []
          }
        },
        {
          "output_type": "stream",
          "text": [
            "CPU times: user 13min 40s, sys: 4.35 s, total: 13min 44s\n",
            "Wall time: 13min 17s\n"
          ],
          "name": "stdout"
        }
      ]
    },
    {
      "cell_type": "code",
      "metadata": {
        "colab": {
          "base_uri": "https://localhost:8080/",
          "height": 314
        },
        "id": "u5RQBjtZVdWe",
        "outputId": "c44f1287-5941-44f7-fdd8-adc70296c8d3"
      },
      "source": [
        "# check the distribution of sentence length\n",
        "len_ser = train_data['document_processed'].str.len()\n",
        "print('>>> max  sentence length :', len_ser.max())\n",
        "print('>>> mean sentence length :', len_ser.mean())\n",
        "\n",
        "len_ser.plot.hist(bins=50)\n",
        "plt.xlabel('length of samples')\n",
        "plt.ylabel('number of samples')\n",
        "plt.show()"
      ],
      "execution_count": 7,
      "outputs": [
        {
          "output_type": "stream",
          "text": [
            ">>> max  sentence length : 72\n",
            ">>> mean sentence length : 10.716703668146726\n"
          ],
          "name": "stdout"
        },
        {
          "output_type": "display_data",
          "data": {
            "image/png": "[encoded data removed]",
            "text/plain": [
              "<Figure size 432x288 with 1 Axes>"
            ]
          },
          "metadata": {
            "tags": [],
            "needs_background": "light"
          }
        }
      ]
    },
    {
      "cell_type": "code",
      "metadata": {
        "id": "GMxWLri5VdS0"
      },
      "source": [
        ""
      ],
      "execution_count": 7,
      "outputs": []
    }
  ]
}