{
  "nbformat": 4,
  "nbformat_minor": 0,
  "metadata": {
    "colab": {
      "name": "10-03_Word2Vec",
      "provenance": [],
      "collapsed_sections": []
    },
    "kernelspec": {
      "name": "python3",
      "display_name": "Python 3"
    },
    "language_info": {
      "name": "python"
    },
    "widgets": {
      "application/vnd.jupyter.widget-state+json": {
        "7da79bb74fd84554b266677cef7981e2": {
          "model_module": "@jupyter-widgets/controls",
          "model_name": "HBoxModel",
          "state": {
            "_view_name": "HBoxView",
            "_dom_classes": [],
            "_model_name": "HBoxModel",
            "_view_module": "@jupyter-widgets/controls",
            "_model_module_version": "1.5.0",
            "_view_count": null,
            "_view_module_version": "1.5.0",
            "box_style": "",
            "layout": "IPY_MODEL_adefc9384a064a3890da89a88f8ec50e",
            "_model_module": "@jupyter-widgets/controls",
            "children": [
              "IPY_MODEL_cf0152c4a63d47b2878c77a823cab8f1",
              "IPY_MODEL_bb631f026275479494e431ab4a116898"
            ]
          }
        },
        "adefc9384a064a3890da89a88f8ec50e": {
          "model_module": "@jupyter-widgets/base",
          "model_name": "LayoutModel",
          "state": {
            "_view_name": "LayoutView",
            "grid_template_rows": null,
            "right": null,
            "justify_content": null,
            "_view_module": "@jupyter-widgets/base",
            "overflow": null,
            "_model_module_version": "1.2.0",
            "_view_count": null,
            "flex_flow": null,
            "width": null,
            "min_width": null,
            "border": null,
            "align_items": null,
            "bottom": null,
            "_model_module": "@jupyter-widgets/base",
            "top": null,
            "grid_column": null,
            "overflow_y": null,
            "overflow_x": null,
            "grid_auto_flow": null,
            "grid_area": null,
            "grid_template_columns": null,
            "flex": null,
            "_model_name": "LayoutModel",
            "justify_items": null,
            "grid_row": null,
            "max_height": null,
            "align_content": null,
            "visibility": null,
            "align_self": null,
            "height": null,
            "min_height": null,
            "padding": null,
            "grid_auto_rows": null,
            "grid_gap": null,
            "max_width": null,
            "order": null,
            "_view_module_version": "1.2.0",
            "grid_template_areas": null,
            "object_position": null,
            "object_fit": null,
            "grid_auto_columns": null,
            "margin": null,
            "display": null,
            "left": null
          }
        },
        "cf0152c4a63d47b2878c77a823cab8f1": {
          "model_module": "@jupyter-widgets/controls",
          "model_name": "FloatProgressModel",
          "state": {
            "_view_name": "ProgressView",
            "style": "IPY_MODEL_c86e8055f27147b9b72c6ce4434b6ce9",
            "_dom_classes": [],
            "description": "100%",
            "_model_name": "FloatProgressModel",
            "bar_style": "success",
            "max": 273424,
            "_view_module": "@jupyter-widgets/controls",
            "_model_module_version": "1.5.0",
            "value": 273424,
            "_view_count": null,
            "_view_module_version": "1.5.0",
            "orientation": "horizontal",
            "min": 0,
            "description_tooltip": null,
            "_model_module": "@jupyter-widgets/controls",
            "layout": "IPY_MODEL_ec08bbee4bf64890a65b2e24d65410e7"
          }
        },
        "bb631f026275479494e431ab4a116898": {
          "model_module": "@jupyter-widgets/controls",
          "model_name": "HTMLModel",
          "state": {
            "_view_name": "HTMLView",
            "style": "IPY_MODEL_160eca134c5c47e8870d89f225599748",
            "_dom_classes": [],
            "description": "",
            "_model_name": "HTMLModel",
            "placeholder": "​",
            "_view_module": "@jupyter-widgets/controls",
            "_model_module_version": "1.5.0",
            "value": " 273424/273424 [01:20&lt;00:00, 3412.61it/s]",
            "_view_count": null,
            "_view_module_version": "1.5.0",
            "description_tooltip": null,
            "_model_module": "@jupyter-widgets/controls",
            "layout": "IPY_MODEL_716c07e54c5f419fb1f0b95f4f439925"
          }
        },
        "c86e8055f27147b9b72c6ce4434b6ce9": {
          "model_module": "@jupyter-widgets/controls",
          "model_name": "ProgressStyleModel",
          "state": {
            "_view_name": "StyleView",
            "_model_name": "ProgressStyleModel",
            "description_width": "initial",
            "_view_module": "@jupyter-widgets/base",
            "_model_module_version": "1.5.0",
            "_view_count": null,
            "_view_module_version": "1.2.0",
            "bar_color": null,
            "_model_module": "@jupyter-widgets/controls"
          }
        },
        "ec08bbee4bf64890a65b2e24d65410e7": {
          "model_module": "@jupyter-widgets/base",
          "model_name": "LayoutModel",
          "state": {
            "_view_name": "LayoutView",
            "grid_template_rows": null,
            "right": null,
            "justify_content": null,
            "_view_module": "@jupyter-widgets/base",
            "overflow": null,
            "_model_module_version": "1.2.0",
            "_view_count": null,
            "flex_flow": null,
            "width": null,
            "min_width": null,
            "border": null,
            "align_items": null,
            "bottom": null,
            "_model_module": "@jupyter-widgets/base",
            "top": null,
            "grid_column": null,
            "overflow_y": null,
            "overflow_x": null,
            "grid_auto_flow": null,
            "grid_area": null,
            "grid_template_columns": null,
            "flex": null,
            "_model_name": "LayoutModel",
            "justify_items": null,
            "grid_row": null,
            "max_height": null,
            "align_content": null,
            "visibility": null,
            "align_self": null,
            "height": null,
            "min_height": null,
            "padding": null,
            "grid_auto_rows": null,
            "grid_gap": null,
            "max_width": null,
            "order": null,
            "_view_module_version": "1.2.0",
            "grid_template_areas": null,
            "object_position": null,
            "object_fit": null,
            "grid_auto_columns": null,
            "margin": null,
            "display": null,
            "left": null
          }
        },
        "160eca134c5c47e8870d89f225599748": {
          "model_module": "@jupyter-widgets/controls",
          "model_name": "DescriptionStyleModel",
          "state": {
            "_view_name": "StyleView",
            "_model_name": "DescriptionStyleModel",
            "description_width": "",
            "_view_module": "@jupyter-widgets/base",
            "_model_module_version": "1.5.0",
            "_view_count": null,
            "_view_module_version": "1.2.0",
            "_model_module": "@jupyter-widgets/controls"
          }
        },
        "716c07e54c5f419fb1f0b95f4f439925": {
          "model_module": "@jupyter-widgets/base",
          "model_name": "LayoutModel",
          "state": {
            "_view_name": "LayoutView",
            "grid_template_rows": null,
            "right": null,
            "justify_content": null,
            "_view_module": "@jupyter-widgets/base",
            "overflow": null,
            "_model_module_version": "1.2.0",
            "_view_count": null,
            "flex_flow": null,
            "width": null,
            "min_width": null,
            "border": null,
            "align_items": null,
            "bottom": null,
            "_model_module": "@jupyter-widgets/base",
            "top": null,
            "grid_column": null,
            "overflow_y": null,
            "overflow_x": null,
            "grid_auto_flow": null,
            "grid_area": null,
            "grid_template_columns": null,
            "flex": null,
            "_model_name": "LayoutModel",
            "justify_items": null,
            "grid_row": null,
            "max_height": null,
            "align_content": null,
            "visibility": null,
            "align_self": null,
            "height": null,
            "min_height": null,
            "padding": null,
            "grid_auto_rows": null,
            "grid_gap": null,
            "max_width": null,
            "order": null,
            "_view_module_version": "1.2.0",
            "grid_template_areas": null,
            "object_position": null,
            "object_fit": null,
            "grid_auto_columns": null,
            "margin": null,
            "display": null,
            "left": null
          }
        }
      }
    }
  },
  "cells": [
    {
      "cell_type": "code",
      "metadata": {
        "colab": {
          "base_uri": "https://localhost:8080/"
        },
        "id": "wivds9THg1co",
        "outputId": "2218747e-27c1-409a-bca7-04a742b6e956"
      },
      "source": [
        "# install required packages\n",
        "!pip install konlpy\n",
        "\n",
        "# clear install verbose messages\n",
        "from IPython.display import clear_output\n",
        "clear_output()\n",
        "\n",
        "import urllib.request\n",
        "import zipfile\n",
        "from lxml import etree\n",
        "import re\n",
        "import tqdm\n",
        "\n",
        "import nltk\n",
        "from nltk.tokenize import word_tokenize, sent_tokenize\n",
        "nltk.download('punkt')\n",
        "\n",
        "import gensim\n",
        "from gensim.models import KeyedVectors, Word2Vec\n",
        "\n",
        "import pandas as pd\n",
        "import matplotlib.pyplot as plt\n",
        "import urllib.request\n",
        "import konlpy\n",
        "from konlpy.tag import Okt\n",
        "# from gensim.models.word2vec import Word2Vec\n",
        "\n",
        "\n",
        "def show_table(df, sample_num=2):\n",
        "  print('>>> shape :', df.shape)\n",
        "  print('>>> No of NA :', df.isna().sum().sum())\n",
        "  if len(df) <= sample_num*2:\n",
        "    display(df)\n",
        "  else:\n",
        "    display(df.head(sample_num))\n",
        "    display(df.tail(sample_num))\n",
        "  pass\n",
        "\n",
        "\n",
        "# nltk : 3.2.5  |  gensim : 3.6.0\n",
        "print(f'\\n>>> nltk : {nltk.__version__}  |  gensim : {gensim.__version__}  |  pd : {pd.__version__}  |  konlpy : {konlpy.__version__}') "
      ],
      "execution_count": 1,
      "outputs": [
        {
          "output_type": "stream",
          "text": [
            "[nltk_data] Downloading package punkt to /root/nltk_data...\n",
            "[nltk_data]   Unzipping tokenizers/punkt.zip.\n",
            "\n",
            ">>> nltk : 3.2.5  |  gensim : 3.6.0  |  pd : 1.1.5  |  konlpy : 0.5.2\n"
          ],
          "name": "stdout"
        }
      ]
    },
    {
      "cell_type": "markdown",
      "metadata": {
        "id": "6RApgK2PhgqF"
      },
      "source": [
        "## 1. 영어 Word2Vec 만들기 (Word2Vec in English)"
      ]
    },
    {
      "cell_type": "code",
      "metadata": {
        "id": "wZMi-M3rhhNi",
        "colab": {
          "base_uri": "https://localhost:8080/"
        },
        "outputId": "086fd4c1-e872-441e-944f-67cc573b980b"
      },
      "source": [
        "%%time\n",
        "\n",
        "# donwload corpus\n",
        "urllib.request.urlretrieve(\"https://raw.githubusercontent.com/GaoleMeng/RNN-and-FFNN-textClassification/master/ted_en-20160408.xml\", filename=\"ted_en-20160408.xml\")\n",
        "\n",
        "# get text data from corpus\n",
        "with open('ted_en-20160408.xml') as fp:\n",
        "  target_text = etree.parse(fp)\n",
        "text_list = target_text.xpath('//content/text()')\n",
        "\n",
        "# check text data\n",
        "print(len(text_list), 'texts \\n')\n",
        "for idx, line in enumerate(text_list[:5]):\n",
        "  print(f'>>> Line {idx}. {line[:500]}...\\n')"
      ],
      "execution_count": 2,
      "outputs": [
        {
          "output_type": "stream",
          "text": [
            "2085 texts \n",
            "\n",
            ">>> Line 0. Here are two reasons companies fail: they only do more of the same, or they only do what's new.\n",
            "To me the real, real solution to quality growth is figuring out the balance between two activities: exploration and exploitation. Both are necessary, but it can be too much of a good thing.\n",
            "Consider Facit. I'm actually old enough to remember them. Facit was a fantastic company. They were born deep in the Swedish forest, and they made the best mechanical calculators in the world. Everybody used them. A...\n",
            "\n",
            ">>> Line 1. So there are lands few and far between on Earth itself that are hospitable to humans by any measure, but survive we have. Our primitive ancestors, when they found their homes and livelihood endangered, they dared to make their way into unfamiliar territories in search of better opportunities. And as the descendants of these explorers, we have their nomadic blood coursing through our own veins. But at the same time, distracted by our bread and circuses and embroiled in the wars that we have waged...\n",
            "\n",
            ">>> Line 2. OK, so, confession: I've always been weirdly obsessed with advertising. I remember watching Saturday morning cartoons, paying more attention to the commercials than to the shows, trying to figure out how they were trying to get inside my head. Ultimately, that led me to my dream job. I became a partner at a big New York ad agency.\n",
            "But then, all of that suddenly changed on February 23, 1997, when my little brother Matt was shot in the head in a shooting that happened on the observation deck of th...\n",
            "\n",
            ">>> Line 3. It has been 128 years since the last country in the world abolished slavery and 53 years since Martin Luther King pronounced his \"I Have A Dream\" speech. But we still live in a world where the color of our skin not only gives a first impression, but a lasting one that remains.\n",
            "I was born in a family full of colors. My father is the son of a maid from whom he inherited an intense dark chocolate tone. He was adopted by those who I know as my grandparents. The matriarch, my grandma, has a porcelain...\n",
            "\n",
            ">>> Line 4. Thousands of years from now, we'll look back at the first century of computing as a fascinating but very peculiar time -- the only time in history where humans were reduced to live in 2D space, interacting with technology as if we were machines; a singular, 100-year period in the vastness of time where humans communicated, were entertained and managed their lives from behind a screen.\n",
            "Today, we spend most of our time tapping and looking at screens. What happened to interacting with each other? I...\n",
            "\n",
            "CPU times: user 739 ms, sys: 552 ms, total: 1.29 s\n",
            "Wall time: 1.93 s\n"
          ],
          "name": "stdout"
        }
      ]
    },
    {
      "cell_type": "code",
      "metadata": {
        "colab": {
          "base_uri": "https://localhost:8080/",
          "height": 192,
          "referenced_widgets": [
            "7da79bb74fd84554b266677cef7981e2",
            "adefc9384a064a3890da89a88f8ec50e",
            "cf0152c4a63d47b2878c77a823cab8f1",
            "bb631f026275479494e431ab4a116898",
            "c86e8055f27147b9b72c6ce4434b6ce9",
            "ec08bbee4bf64890a65b2e24d65410e7",
            "160eca134c5c47e8870d89f225599748",
            "716c07e54c5f419fb1f0b95f4f439925"
          ]
        },
        "id": "_0ii7MG2ZzWN",
        "outputId": "d38b4f2d-13aa-4d2a-cdf6-bb2e9017f763"
      },
      "source": [
        "%%time\n",
        "\n",
        "# pre-process text data\n",
        "parse_text = '\\n'.join(text_list)\n",
        "content_text = re.sub(r'\\([^)]*\\)', '', parse_text)  # (Audio), (Laughter) 등의 배경음 제거 - 괄호로 구성된 내용 제거\n",
        "sent_text = sent_tokenize(content_text)  # 문장 토큰화\n",
        "\n",
        "result = []\n",
        "for sentence in tqdm.tqdm_notebook(sent_text):\n",
        "  sentence = re.sub(r\"[^a-z0-9]+\", \" \", sentence)  # 구두점 제거\n",
        "  tokens = word_tokenize(sentence.lower())  # 단어 토큰화\n",
        "  result.append(tokens)\n",
        "\n",
        "print(len(result), result[0])"
      ],
      "execution_count": 3,
      "outputs": [
        {
          "output_type": "stream",
          "text": [
            "/usr/local/lib/python3.7/dist-packages/ipykernel_launcher.py:8: TqdmDeprecationWarning: This function will be removed in tqdm==5.0.0\n",
            "Please use `tqdm.notebook.tqdm` instead of `tqdm.tqdm_notebook`\n",
            "  \n"
          ],
          "name": "stderr"
        },
        {
          "output_type": "display_data",
          "data": {
            "application/vnd.jupyter.widget-view+json": {
              "model_id": "7da79bb74fd84554b266677cef7981e2",
              "version_minor": 0,
              "version_major": 2
            },
            "text/plain": [
              "HBox(children=(FloatProgress(value=0.0, max=273424.0), HTML(value='')))"
            ]
          },
          "metadata": {
            "tags": []
          }
        },
        {
          "output_type": "stream",
          "text": [
            "\n",
            "273424 ['ere', 'are', 'two', 'reasons', 'companies', 'fail', 'they', 'only', 'do', 'more', 'of', 'the', 'same', 'or', 'they', 'only', 'do', 'what', 's', 'new']\n",
            "CPU times: user 46.7 s, sys: 861 ms, total: 47.6 s\n",
            "Wall time: 47.8 s\n"
          ],
          "name": "stdout"
        }
      ]
    },
    {
      "cell_type": "code",
      "metadata": {
        "colab": {
          "base_uri": "https://localhost:8080/",
          "height": 228
        },
        "id": "ClX1dc6KepS5",
        "outputId": "4166570b-e59f-4d74-9b8d-4917afe22b21"
      },
      "source": [
        "%%time\n",
        "# train Word2Vec model\n",
        "model = Word2Vec(sentences=result, size=100, window=5, min_count=5, workers=4, sg=0)\n",
        "\n",
        "# check model\n",
        "display(model.wv.most_similar('man'))"
      ],
      "execution_count": 4,
      "outputs": [
        {
          "output_type": "display_data",
          "data": {
            "text/plain": [
              "[('woman', 0.8632310628890991),\n",
              " ('guy', 0.8084983825683594),\n",
              " ('lady', 0.8012562990188599),\n",
              " ('girl', 0.7765939831733704),\n",
              " ('boy', 0.7653244733810425),\n",
              " ('gentleman', 0.7490462064743042),\n",
              " ('kid', 0.7369090914726257),\n",
              " ('soldier', 0.7095596790313721),\n",
              " ('friend', 0.6592523455619812),\n",
              " ('photographer', 0.6489014625549316)]"
            ]
          },
          "metadata": {
            "tags": []
          }
        },
        {
          "output_type": "stream",
          "text": [
            "CPU times: user 1min 2s, sys: 372 ms, total: 1min 2s\n",
            "Wall time: 35.5 s\n"
          ],
          "name": "stdout"
        }
      ]
    },
    {
      "cell_type": "code",
      "metadata": {
        "colab": {
          "base_uri": "https://localhost:8080/",
          "height": 283
        },
        "id": "O0pekAkTgMvp",
        "outputId": "79816d3d-cb88-49ee-bc8e-c1a69a26913d"
      },
      "source": [
        "%%time\n",
        "# save & load trained model\n",
        "model.wv.save_word2vec_format(fname='eng_w2v')\n",
        "loaded_model = KeyedVectors.load_word2vec_format(fname='eng_w2v')\n",
        "\n",
        "# check loaded model\n",
        "display(loaded_model.wv.most_similar('man'))"
      ],
      "execution_count": 5,
      "outputs": [
        {
          "output_type": "stream",
          "text": [
            "/usr/local/lib/python3.7/dist-packages/ipykernel_launcher.py:6: DeprecationWarning: Call to deprecated `wv` (Attribute will be removed in 4.0.0, use self instead).\n",
            "  \n"
          ],
          "name": "stderr"
        },
        {
          "output_type": "display_data",
          "data": {
            "text/plain": [
              "[('woman', 0.8632310628890991),\n",
              " ('guy', 0.8084983825683594),\n",
              " ('lady', 0.8012562990188599),\n",
              " ('girl', 0.7765939831733704),\n",
              " ('boy', 0.7653244733810425),\n",
              " ('gentleman', 0.7490462064743042),\n",
              " ('kid', 0.7369090914726257),\n",
              " ('soldier', 0.7095596790313721),\n",
              " ('friend', 0.6592523455619812),\n",
              " ('photographer', 0.6489014625549316)]"
            ]
          },
          "metadata": {
            "tags": []
          }
        },
        {
          "output_type": "stream",
          "text": [
            "CPU times: user 4.18 s, sys: 218 ms, total: 4.4 s\n",
            "Wall time: 4.23 s\n"
          ],
          "name": "stdout"
        }
      ]
    },
    {
      "cell_type": "markdown",
      "metadata": {
        "id": "bvBimxUhhysH"
      },
      "source": [
        "## 2. 한국어 Word2Vec 만들기 - 네이버 영화 리뷰 (Word2Vec with Naver Movie Reviews)"
      ]
    },
    {
      "cell_type": "code",
      "metadata": {
        "id": "YaZcp0fVhyvc",
        "colab": {
          "base_uri": "https://localhost:8080/",
          "height": 283
        },
        "outputId": "9ddc80e5-1779-449e-db2b-a483480cff2b"
      },
      "source": [
        "%%time\n",
        "\n",
        "# download Korean corpus - Naver movie review\n",
        "urllib.request.urlretrieve(\"https://raw.githubusercontent.com/e9t/nsmc/master/ratings.txt\", filename=\"ratings.txt\")\n",
        "\n",
        "# load data\n",
        "train_data = pd.read_table('ratings.txt').head(50000)\n",
        "train_data = train_data.dropna()  # drop rows with NA\n",
        "\n",
        "# pre-process data - takes time\n",
        "stopwords = ['의','가','이','은','들','는','좀','잘','걍','과','도','를','으로','자','에','와','한','하다']\n",
        "okt = Okt()\n",
        "train_data['document_processed'] = train_data['document'].str.replace('[^ㄱ-ㅎㅏ-ㅣ가-힣 ]', '') \\\n",
        "                                      .apply(lambda sent : [tk for tk in okt.morphs(sent, stem=True) if tk not in stopwords])\n",
        "\n",
        "# check the result\n",
        "show_table(train_data)"
      ],
      "execution_count": 6,
      "outputs": [
        {
          "output_type": "stream",
          "text": [
            ">>> shape : (49999, 4)\n",
            ">>> No of NA : 0\n"
          ],
          "name": "stdout"
        },
        {
          "output_type": "display_data",
          "data": {
            "text/html": [
              "<div>\n",
              "<style scoped>\n",
              "    .dataframe tbody tr th:only-of-type {\n",
              "        vertical-align: middle;\n",
              "    }\n",
              "\n",
              "    .dataframe tbody tr th {\n",
              "        vertical-align: top;\n",
              "    }\n",
              "\n",
              "    .dataframe thead th {\n",
              "        text-align: right;\n",
              "    }\n",
              "</style>\n",
              "<table border=\"1\" class=\"dataframe\">\n",
              "  <thead>\n",
              "    <tr style=\"text-align: right;\">\n",
              "      <th></th>\n",
              "      <th>id</th>\n",
              "      <th>document</th>\n",
              "      <th>label</th>\n",
              "      <th>document_processed</th>\n",
              "    </tr>\n",
              "  </thead>\n",
              "  <tbody>\n",
              "    <tr>\n",
              "      <th>0</th>\n",
              "      <td>8112052</td>\n",
              "      <td>어릴때보고 지금다시봐도 재밌어요ㅋㅋ</td>\n",
              "      <td>1</td>\n",
              "      <td>[어리다, 때, 보고, 지금, 다시, 보다, 재밌다, ㅋㅋ]</td>\n",
              "    </tr>\n",
              "    <tr>\n",
              "      <th>1</th>\n",
              "      <td>8132799</td>\n",
              "      <td>디자인을 배우는 학생으로, 외국디자이너와 그들이 일군 전통을 통해 발전해가는 문화산...</td>\n",
              "      <td>1</td>\n",
              "      <td>[디자인, 을, 배우다, 학생, 외국, 디자이너, 그, 일군, 전통, 을, 통해, ...</td>\n",
              "    </tr>\n",
              "  </tbody>\n",
              "</table>\n",
              "</div>"
            ],
            "text/plain": [
              "        id  ...                                 document_processed\n",
              "0  8112052  ...                  [어리다, 때, 보고, 지금, 다시, 보다, 재밌다, ㅋㅋ]\n",
              "1  8132799  ...  [디자인, 을, 배우다, 학생, 외국, 디자이너, 그, 일군, 전통, 을, 통해, ...\n",
              "\n",
              "[2 rows x 4 columns]"
            ]
          },
          "metadata": {
            "tags": []
          }
        },
        {
          "output_type": "display_data",
          "data": {
            "text/html": [
              "<div>\n",
              "<style scoped>\n",
              "    .dataframe tbody tr th:only-of-type {\n",
              "        vertical-align: middle;\n",
              "    }\n",
              "\n",
              "    .dataframe tbody tr th {\n",
              "        vertical-align: top;\n",
              "    }\n",
              "\n",
              "    .dataframe thead th {\n",
              "        text-align: right;\n",
              "    }\n",
              "</style>\n",
              "<table border=\"1\" class=\"dataframe\">\n",
              "  <thead>\n",
              "    <tr style=\"text-align: right;\">\n",
              "      <th></th>\n",
              "      <th>id</th>\n",
              "      <th>document</th>\n",
              "      <th>label</th>\n",
              "      <th>document_processed</th>\n",
              "    </tr>\n",
              "  </thead>\n",
              "  <tbody>\n",
              "    <tr>\n",
              "      <th>49998</th>\n",
              "      <td>10018465</td>\n",
              "      <td>재밋어요. 많이 봐줘야할 영화여요.</td>\n",
              "      <td>1</td>\n",
              "      <td>[재밋어, 요, 많이, 보다, 야하다, 영화, 여요]</td>\n",
              "    </tr>\n",
              "    <tr>\n",
              "      <th>49999</th>\n",
              "      <td>6393602</td>\n",
              "      <td>하균신 짱연기 쩔어!!</td>\n",
              "      <td>1</td>\n",
              "      <td>[하, 균신, 짱, 연기, 쩔다]</td>\n",
              "    </tr>\n",
              "  </tbody>\n",
              "</table>\n",
              "</div>"
            ],
            "text/plain": [
              "             id             document  label             document_processed\n",
              "49998  10018465  재밋어요. 많이 봐줘야할 영화여요.      1  [재밋어, 요, 많이, 보다, 야하다, 영화, 여요]\n",
              "49999   6393602         하균신 짱연기 쩔어!!      1             [하, 균신, 짱, 연기, 쩔다]"
            ]
          },
          "metadata": {
            "tags": []
          }
        },
        {
          "output_type": "stream",
          "text": [
            "CPU times: user 3min 50s, sys: 1.72 s, total: 3min 51s\n",
            "Wall time: 3min 35s\n"
          ],
          "name": "stdout"
        }
      ]
    },
    {
      "cell_type": "code",
      "metadata": {
        "colab": {
          "base_uri": "https://localhost:8080/",
          "height": 314
        },
        "id": "u5RQBjtZVdWe",
        "outputId": "36e69245-3ff6-40e7-c037-c0d7a2ae111f"
      },
      "source": [
        "# check the distribution of sentence length\n",
        "len_ser = train_data['document_processed'].str.len()\n",
        "print('>>> max  sentence length :', len_ser.max())\n",
        "print('>>> mean sentence length :', len_ser.mean())\n",
        "\n",
        "len_ser.plot.hist(bins=50)\n",
        "plt.xlabel('length of samples')\n",
        "plt.ylabel('number of samples')\n",
        "plt.show()"
      ],
      "execution_count": 7,
      "outputs": [
        {
          "output_type": "stream",
          "text": [
            ">>> max  sentence length : 68\n",
            ">>> mean sentence length : 10.454389087781756\n"
          ],
          "name": "stdout"
        },
        {
          "output_type": "display_data",
          "data": {
            "image/png": "[encoded data removed]",
            "text/plain": [
              "<Figure size 432x288 with 1 Axes>"
            ]
          },
          "metadata": {
            "tags": [],
            "needs_background": "light"
          }
        }
      ]
    },
    {
      "cell_type": "code",
      "metadata": {
        "id": "GMxWLri5VdS0",
        "colab": {
          "base_uri": "https://localhost:8080/"
        },
        "outputId": "10e224f0-f091-4da2-f4d3-8f23ca7f9c15"
      },
      "source": [
        "# build & train Word2Vec model\n",
        "model = Word2Vec(sentences=train_data['document_processed'], size=100, window=5, min_count=5, workers=4, sg=0)\n",
        "\n",
        "print(model)\n",
        "print(model.wv.vectors.shape)"
      ],
      "execution_count": 8,
      "outputs": [
        {
          "output_type": "stream",
          "text": [
            "Word2Vec(vocab=7065, size=100, alpha=0.025)\n",
            "(7065, 100)\n"
          ],
          "name": "stdout"
        }
      ]
    },
    {
      "cell_type": "code",
      "metadata": {
        "id": "TtWiVkeHUN98",
        "colab": {
          "base_uri": "https://localhost:8080/"
        },
        "outputId": "afa19355-ad69-4716-f65f-90621fa961cd"
      },
      "source": [
        "# check most similar words from given word\n",
        "for tmp_word in ['최민식', '히어로', 'man']:\n",
        "  try :\n",
        "    tmp_list = model.wv.most_similar(tmp_word, topn=5)\n",
        "    print(f'\\n>>> {tmp_word} :')\n",
        "    print(tmp_list)\n",
        "  except Exception as e:\n",
        "    print(f'\\n>>> {e}')"
      ],
      "execution_count": 9,
      "outputs": [
        {
          "output_type": "stream",
          "text": [
            "\n",
            ">>> 최민식 :\n",
            "[('홍금보', 0.9701711535453796), ('임청하', 0.9664468169212341), ('에드워드', 0.9620298147201538), ('최', 0.9612336754798889), ('디카프리오', 0.960641622543335)]\n",
            "\n",
            ">>> 히어로 :\n",
            "[('엑스맨', 0.9849721193313599), ('최고봉', 0.9835575222969055), ('로맨스코미디', 0.9806380271911621), ('건담', 0.9765819907188416), ('채플린', 0.9760320782661438)]\n",
            "\n",
            ">>> \"word 'man' not in vocabulary\"\n"
          ],
          "name": "stdout"
        }
      ]
    }
  ]
}