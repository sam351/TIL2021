{
  "nbformat": 4,
  "nbformat_minor": 0,
  "metadata": {
    "colab": {
      "name": "05_vector-similarity",
      "provenance": [],
      "collapsed_sections": []
    },
    "kernelspec": {
      "name": "python3",
      "display_name": "Python 3"
    },
    "language_info": {
      "name": "python"
    }
  },
  "cells": [
    {
      "cell_type": "markdown",
      "metadata": {
        "id": "fR4xCPCNg1Y3"
      },
      "source": [
        "## Vector Similarity\n",
        "- 문서의 유사도의 성능은 각 문서의 단어들을 어떤 방법으로 수치화하여 표현했는지(DTM, Word2Vec 등), 문서 간의 단어들의 차이를 어떤 방법으로 계산했는지(코사인 유사도, 유클리드 거리, 자카드 유사도 등)에 따라 달라짐"
      ]
    },
    {
      "cell_type": "code",
      "metadata": {
        "colab": {
          "base_uri": "https://localhost:8080/"
        },
        "id": "wivds9THg1co",
        "outputId": "05328397-49aa-4fdb-c1b1-181ec008c6c4"
      },
      "source": [
        "import numpy as np\n",
        "from numpy import dot\n",
        "from numpy.linalg import norm\n",
        "import pandas as pd\n",
        "\n",
        "import sklearn\n",
        "from sklearn.feature_extraction.text import TfidfVectorizer\n",
        "from sklearn.metrics.pairwise import linear_kernel\n",
        "\n",
        "\n",
        "print(f'\\n\\n>>> np : {np.__version__}  |  pd : {pd.__version__}  |  sklearn : {sklearn.__version__}') "
      ],
      "execution_count": null,
      "outputs": [
        {
          "output_type": "stream",
          "text": [
            "\n",
            "\n",
            ">>> np : 1.19.5  |  pd : 1.1.5  |  sklearn : 0.22.2.post1\n"
          ],
          "name": "stdout"
        }
      ]
    },
    {
      "cell_type": "markdown",
      "metadata": {
        "id": "6RApgK2PhgqF"
      },
      "source": [
        "## 1. 코사인 유사도(Cosine Similarity)"
      ]
    },
    {
      "cell_type": "code",
      "metadata": {
        "id": "wZMi-M3rhhNi"
      },
      "source": [
        ""
      ],
      "execution_count": null,
      "outputs": []
    },
    {
      "cell_type": "markdown",
      "metadata": {
        "id": "bvBimxUhhysH"
      },
      "source": [
        "## 2. 유클리드 거리(Euclidean distance)"
      ]
    },
    {
      "cell_type": "code",
      "metadata": {
        "id": "YaZcp0fVhyvc"
      },
      "source": [
        ""
      ],
      "execution_count": null,
      "outputs": []
    },
    {
      "cell_type": "markdown",
      "metadata": {
        "id": "VO6IthXjh3Lo"
      },
      "source": [
        "## 3. 자카드 유사도(Jaccard similarity)"
      ]
    },
    {
      "cell_type": "code",
      "metadata": {
        "id": "Wzyi4mIxh3Qu"
      },
      "source": [
        ""
      ],
      "execution_count": null,
      "outputs": []
    }
  ]
}