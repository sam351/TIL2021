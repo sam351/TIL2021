{
  "nbformat": 4,
  "nbformat_minor": 0,
  "metadata": {
    "colab": {
      "name": "05_vector-similarity",
      "provenance": [],
      "collapsed_sections": []
    },
    "kernelspec": {
      "name": "python3",
      "display_name": "Python 3"
    },
    "language_info": {
      "name": "python"
    }
  },
  "cells": [
    {
      "cell_type": "markdown",
      "metadata": {
        "id": "fR4xCPCNg1Y3"
      },
      "source": [
        "## Vector Similarity\n",
        "- 문서의 유사도의 성능은 각 문서의 단어들을 어떤 방법으로 수치화하여 표현했는지(DTM, Word2Vec 등), 문서 간의 단어들의 차이를 어떤 방법으로 계산했는지(코사인 유사도, 유클리드 거리, 자카드 유사도 등)에 따라 달라짐"
      ]
    },
    {
      "cell_type": "code",
      "metadata": {
        "colab": {
          "base_uri": "https://localhost:8080/"
        },
        "id": "wivds9THg1co",
        "outputId": "ba6237f1-cab8-4fce-f9eb-b9414c4214a6"
      },
      "source": [
        "import numpy as np\n",
        "import pandas as pd\n",
        "\n",
        "import sklearn\n",
        "from sklearn.feature_extraction.text import TfidfVectorizer\n",
        "from sklearn.metrics.pairwise import linear_kernel\n",
        "\n",
        "\n",
        "print(f'\\n\\n>>> np : {np.__version__}  |  pd : {pd.__version__}  |  sklearn : {sklearn.__version__}') "
      ],
      "execution_count": 1,
      "outputs": [
        {
          "output_type": "stream",
          "text": [
            "\n",
            "\n",
            ">>> np : 1.19.5  |  pd : 1.1.5  |  sklearn : 0.22.2.post1\n"
          ],
          "name": "stdout"
        }
      ]
    },
    {
      "cell_type": "markdown",
      "metadata": {
        "id": "6RApgK2PhgqF"
      },
      "source": [
        "## 1. 코사인 유사도(Cosine Similarity)\n",
        "- 코사인 유사도 : 두 벡터 간의 코사인 각도를 이용하여 구할 수 있는 두 벡터의 유사도\n",
        "- -1에서 1 사이의 값을 가지며, 1에 가까울수록 높은 유사도를 의미함<br>\n",
        "$ cosine\\ similarity = cos(\\Theta) = \\frac{A{\\cdot}B}{{\\Vert}A{\\Vert}{\\Vert}B{\\Vert}} = \\frac{\\sum_{i=1}^{n}A_i \\times B_i}{\\sqrt{\\sum_{i=1}^{n}(A_i)^2} \\times \\sqrt{\\sum_{i=1}^{n}(B_i)^2}} $"
      ]
    },
    {
      "cell_type": "code",
      "metadata": {
        "id": "wZMi-M3rhhNi",
        "colab": {
          "base_uri": "https://localhost:8080/"
        },
        "outputId": "85d3a973-fcfa-48d2-90b7-9bf84fcb6b33"
      },
      "source": [
        "# function for cosine similarty\n",
        "def cosine_similarity(a, b):\n",
        "  return np.dot(a, b) / (np.linalg.norm(a) * np.linalg.norm(b))\n",
        "\n",
        "\n",
        "doc1=np.array([0, 1, 1, 1])\n",
        "doc2=np.array([1, 0, 1, 1])\n",
        "doc3=np.array([2, 0, 2, 2])\n",
        "\n",
        "print(cosine_similarity(doc1, doc2))\n",
        "print(cosine_similarity(doc1, doc3))\n",
        "print(cosine_similarity(doc2, doc3))"
      ],
      "execution_count": 2,
      "outputs": [
        {
          "output_type": "stream",
          "text": [
            "0.6666666666666667\n",
            "0.6666666666666667\n",
            "1.0000000000000002\n"
          ],
          "name": "stdout"
        }
      ]
    },
    {
      "cell_type": "markdown",
      "metadata": {
        "id": "bvBimxUhhysH"
      },
      "source": [
        "## 2. 유클리드 거리(Euclidean distance)\n",
        "- 유클리드 거리 : 다차원 좌표평면 공간에서 두 점 사이의 거리\n",
        "- 0 이상의 값을 가지며, 값이 낮을수록 높은 유사도를 의미함 <br>\n",
        "$ euclidean\\ similarity = Dist(p, q) = \\sqrt {(q_1-p_1)^2 + (q_2-p_2)^2 + ... + (q_n-p_n)^2} = \\sqrt { \\sum_{i=1}^{n} (q_i-p_i)^2 } \\ \\ \\ \\  (p = p_1,\\ p_2,\\ p_3,\\ ...,\\ p_n\\ |\\ q = q_1,\\ q_2,\\ q_3,\\ ...,\\ q_n) $ <br>\n"
      ]
    },
    {
      "cell_type": "code",
      "metadata": {
        "id": "YaZcp0fVhyvc",
        "colab": {
          "base_uri": "https://localhost:8080/"
        },
        "outputId": "ca95fde9-33c2-43f7-99d4-a9d1d60cb2dc"
      },
      "source": [
        "# function for euclidean similarity\n",
        "def dist(x, y):\n",
        "  x, y = np.array(x), np.array(y)\n",
        "  return np.sqrt(np.sum((x-y)**2))\n",
        "\n",
        "\n",
        "doc1 = [2, 3, 0, 1]\n",
        "doc2 = [1, 2, 3, 1]\n",
        "doc3 = [2, 1, 2, 2]\n",
        "docQ = [1, 1, 0, 1]\n",
        "\n",
        "for doc in [doc1, doc2, doc3]:\n",
        "  print(dist(doc, docQ))"
      ],
      "execution_count": 3,
      "outputs": [
        {
          "output_type": "stream",
          "text": [
            "2.23606797749979\n",
            "3.1622776601683795\n",
            "2.449489742783178\n"
          ],
          "name": "stdout"
        }
      ]
    },
    {
      "cell_type": "markdown",
      "metadata": {
        "id": "VO6IthXjh3Lo"
      },
      "source": [
        "## 3. 자카드 유사도(Jaccard similarity)\n",
        "  - 자카드 유사도 : 합집합 대비 교집합의 비율\n",
        "  - 0에서 1 사이의 값을 가지며, 1에 가까울수록 높은 유사도를 의미함 <br>\n",
        "$ jaccard\\ similarity = J(A, B) = \\frac{{\\vert} A \\cap B {\\vert} }{{\\vert} A \\cup B {\\vert} } = \\frac{{\\vert} A \\cap B {\\vert} }{{\\vert} A {\\vert} + {\\vert} B {\\vert} - {\\vert} A \\cap B {\\vert}} $ <br>\n",
        "$ J(doc_1, doc_2) = \\frac{ doc_1\\ \\cap\\ doc_2 }{ doc_1\\ \\cup\\ doc_2 } $\n",
        "\n",
        "  - 문서 비교 시 자카드 유사도는 두 문서의 총 단어(토큰) 집합에서 두 문서에서 공통적으로 등장한 단어(토큰)의 비율을 의미"
      ]
    },
    {
      "cell_type": "code",
      "metadata": {
        "id": "Wzyi4mIxh3Qu",
        "colab": {
          "base_uri": "https://localhost:8080/"
        },
        "outputId": "1ca4dec5-18ac-4adc-be35-52eb217771b4"
      },
      "source": [
        "# function for jaccard similarty\n",
        "def jaccard_similarity(a, b):\n",
        "  union_set = set(a).union(set(b))\n",
        "  inter_set = set(a).intersection(set(b))\n",
        "  return len(inter_set) / len(union_set)\n",
        "\n",
        "\n",
        "doc1 = \"apple banana everyone like likey watch card holder\"\n",
        "doc2 = \"apple banana coupon passport love you\"\n",
        "\n",
        "jaccard_similarity(doc1.split(), doc2.split())"
      ],
      "execution_count": 4,
      "outputs": [
        {
          "output_type": "execute_result",
          "data": {
            "text/plain": [
              "0.16666666666666666"
            ]
          },
          "metadata": {
            "tags": []
          },
          "execution_count": 4
        }
      ]
    }
  ]
}