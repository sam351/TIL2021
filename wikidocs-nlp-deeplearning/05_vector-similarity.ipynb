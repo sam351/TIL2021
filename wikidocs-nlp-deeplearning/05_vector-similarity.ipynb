{
  "nbformat": 4,
  "nbformat_minor": 0,
  "metadata": {
    "colab": {
      "name": "05_vector-similarity",
      "provenance": [],
      "collapsed_sections": []
    },
    "kernelspec": {
      "name": "python3",
      "display_name": "Python 3"
    },
    "language_info": {
      "name": "python"
    }
  },
  "cells": [
    {
      "cell_type": "markdown",
      "metadata": {
        "id": "fR4xCPCNg1Y3"
      },
      "source": [
        "## Vector Similarity\n",
        "- 문서의 유사도의 성능은 각 문서의 단어들을 어떤 방법으로 수치화하여 표현했는지(DTM, Word2Vec 등), 문서 간의 단어들의 차이를 어떤 방법으로 계산했는지(코사인 유사도, 유클리드 거리, 자카드 유사도 등)에 따라 달라짐"
      ]
    },
    {
      "cell_type": "code",
      "metadata": {
        "colab": {
          "base_uri": "https://localhost:8080/"
        },
        "id": "wivds9THg1co",
        "outputId": "c33b972e-929f-44bb-a474-283d8dea4dfd"
      },
      "source": [
        "import numpy as np\n",
        "import pandas as pd\n",
        "\n",
        "import sklearn\n",
        "from sklearn.feature_extraction.text import TfidfVectorizer\n",
        "from sklearn.metrics.pairwise import linear_kernel\n",
        "\n",
        "\n",
        "print(f'\\n\\n>>> np : {np.__version__}  |  pd : {pd.__version__}  |  sklearn : {sklearn.__version__}') "
      ],
      "execution_count": 1,
      "outputs": [
        {
          "output_type": "stream",
          "text": [
            "\n",
            "\n",
            ">>> np : 1.19.5  |  pd : 1.1.5  |  sklearn : 0.22.2.post1\n"
          ],
          "name": "stdout"
        }
      ]
    },
    {
      "cell_type": "markdown",
      "metadata": {
        "id": "6RApgK2PhgqF"
      },
      "source": [
        "## 1. 코사인 유사도(Cosine Similarity)\n",
        "- 코사인 유사도 : 두 벡터 간의 코사인 각도를 이용하여 구할 수 있는 두 벡터의 유사도\n",
        "- -1에서 1 사이의 값을 가지며, 1에 가까울수록 높은 유사도를 의미함<br>\n",
        "$ similarity = cos(\\Theta) = \\frac{A{\\cdot}B}{{\\Vert}A{\\Vert}{\\Vert}B{\\Vert}} = \\frac{\\sum_{i=1}^{n}A_i \\times B_i}{\\sqrt{\\sum_{i=1}^{n}(A_i)^2} \\times \\sqrt{\\sum_{i=1}^{n}(B_i)^2}} $"
      ]
    },
    {
      "cell_type": "code",
      "metadata": {
        "id": "wZMi-M3rhhNi",
        "colab": {
          "base_uri": "https://localhost:8080/"
        },
        "outputId": "1f67fc09-b5a2-4066-e849-88a6c882ffab"
      },
      "source": [
        "# function for cosine similarty\n",
        "def cosine_similarity(a, b):\n",
        "  return np.dot(a, b) / (np.linalg.norm(a) * np.linalg.norm(b))\n",
        "\n",
        "\n",
        "doc1=np.array([0, 1, 1, 1])\n",
        "doc2=np.array([1, 0, 1, 1])\n",
        "doc3=np.array([2, 0, 2, 2])\n",
        "\n",
        "print(cosine_similarity(doc1, doc2))\n",
        "print(cosine_similarity(doc1, doc3))\n",
        "print(cosine_similarity(doc2, doc3))"
      ],
      "execution_count": 2,
      "outputs": [
        {
          "output_type": "stream",
          "text": [
            "0.6666666666666667\n",
            "0.6666666666666667\n",
            "1.0000000000000002\n"
          ],
          "name": "stdout"
        }
      ]
    },
    {
      "cell_type": "markdown",
      "metadata": {
        "id": "bvBimxUhhysH"
      },
      "source": [
        "## 2. 유클리드 거리(Euclidean distance)"
      ]
    },
    {
      "cell_type": "code",
      "metadata": {
        "id": "YaZcp0fVhyvc"
      },
      "source": [
        ""
      ],
      "execution_count": 2,
      "outputs": []
    },
    {
      "cell_type": "markdown",
      "metadata": {
        "id": "VO6IthXjh3Lo"
      },
      "source": [
        "## 3. 자카드 유사도(Jaccard similarity)"
      ]
    },
    {
      "cell_type": "code",
      "metadata": {
        "id": "Wzyi4mIxh3Qu"
      },
      "source": [
        ""
      ],
      "execution_count": 2,
      "outputs": []
    }
  ]
}