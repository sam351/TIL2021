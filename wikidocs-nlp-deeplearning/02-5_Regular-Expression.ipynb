{
  "nbformat": 4,
  "nbformat_minor": 0,
  "metadata": {
    "colab": {
      "name": "02-5_Regular Expression",
      "provenance": [],
      "collapsed_sections": []
    },
    "kernelspec": {
      "name": "python3",
      "display_name": "Python 3"
    },
    "language_info": {
      "name": "python"
    }
  },
  "cells": [
    {
      "cell_type": "code",
      "metadata": {
        "colab": {
          "base_uri": "https://localhost:8080/"
        },
        "id": "Fmx5CfFpl9jq",
        "outputId": "a8ed7239-78aa-4280-8abe-657e96017b36"
      },
      "source": [
        "import re\n",
        "import nltk\n",
        "\n",
        "re.__version__, nltk.__version__"
      ],
      "execution_count": 1,
      "outputs": [
        {
          "output_type": "execute_result",
          "data": {
            "text/plain": [
              "('2.2.1', '3.2.5')"
            ]
          },
          "metadata": {
            "tags": []
          },
          "execution_count": 1
        }
      ]
    },
    {
      "cell_type": "markdown",
      "metadata": {
        "id": "gPlije1XmCjS"
      },
      "source": [
        "## 정규표현식 실습\n",
        "- 정규표현식 문법 및 re 모듈 함수 목록 : https://wikidocs.net/21703\n",
        "- re.compile() : 정규표현식을 컴파일하는 함수. 찾고자 하는 패턴이 빈번한 경우에는 미리 컴파일 해놓고 사용하면 속도 및 편의성에서 유리\n",
        "- re.search() : 문자열 전체에 대해 정규표현식과 일치여부 검색"
      ]
    },
    {
      "cell_type": "code",
      "metadata": {
        "colab": {
          "base_uri": "https://localhost:8080/"
        },
        "id": "ZNcReP9wmRnx",
        "outputId": "e5919138-01ef-427d-e425-224cbf88e780"
      },
      "source": [
        "# . 기호 : 한 개의 임의의 문자\n",
        "r = re.compile('a.c')\n",
        "print(type(r))\n",
        "print(r)\n",
        "print('\\n================================\\n')\n",
        "\n",
        "print(r.search('kkk'))\n",
        "print(r.search('abbc'))\n",
        "print(r.search('abc'))"
      ],
      "execution_count": 2,
      "outputs": [
        {
          "output_type": "stream",
          "text": [
            "<class 're.Pattern'>\n",
            "re.compile('a.c')\n",
            "\n",
            "================================\n",
            "\n",
            "None\n",
            "None\n",
            "<re.Match object; span=(0, 3), match='abc'>\n"
          ],
          "name": "stdout"
        }
      ]
    },
    {
      "cell_type": "code",
      "metadata": {
        "id": "TW-VoY9lmRuh"
      },
      "source": [
        ""
      ],
      "execution_count": 2,
      "outputs": []
    }
  ]
}