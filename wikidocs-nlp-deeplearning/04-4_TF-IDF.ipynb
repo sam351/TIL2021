{
  "nbformat": 4,
  "nbformat_minor": 0,
  "metadata": {
    "colab": {
      "name": "04-4_TF-IDF",
      "provenance": [],
      "collapsed_sections": []
    },
    "kernelspec": {
      "name": "python3",
      "display_name": "Python 3"
    },
    "language_info": {
      "name": "python"
    }
  },
  "cells": [
    {
      "cell_type": "code",
      "metadata": {
        "colab": {
          "base_uri": "https://localhost:8080/"
        },
        "id": "MVMvcJDfk1RV",
        "outputId": "f01c250c-cac2-4194-fffd-7d2105f116b7"
      },
      "source": [
        "import pandas as pd\n",
        "from math import log\n",
        "\n",
        "import sklearn\n",
        "from sklearn.feature_extraction.text import TfidfVectorizer\n",
        "\n",
        "#  pd : 1.1.5  |  sklearn : 0.22.2.post1\n",
        "print(f'>>> pd : {pd.__version__}  |  sklearn : {sklearn.__version__}')"
      ],
      "execution_count": 1,
      "outputs": [
        {
          "output_type": "stream",
          "text": [
            ">>> pd : 1.1.5  |  sklearn : 0.22.2.post1\n"
          ],
          "name": "stdout"
        }
      ]
    },
    {
      "cell_type": "markdown",
      "metadata": {
        "id": "UtSGCCvyxfv0"
      },
      "source": [
        "## TF-IDF(Term Frequency-Inverse Document Frequency)\n",
        "- TF-IDF : 단어의 빈도와 역 문서 빈도(문서의 빈도에 특정 식을 취함)를 사용하여 DTM 내의 각 단어들마다 중요한 정도를 가중치로 주는 방법\n",
        "- 주로 문서의 유사도를 구하는 작업, 검색 시스템에서 검색 결과의 중요도를 정하는 작업, 문서 내에서 특정 단어의 중요도를 구하는 작업 등에 쓰일 수 있음\n",
        "- **TF-IDF = tf(d,t) * idf(d,t)** <br>\n",
        "  (1) tf(d, t) : 특정 문서 d에서의 특정 단어 t의 등장 횟수 <br>\n",
        "  (2) df(t) : 특정 단어 t가 등장한 문서의 수 <br>\n",
        "  (3) idf(d, t) : df(t)에 반비례하는 수 $$idf(d,t) = log({N\\over1+df(t)})\\qquad ※N = number\\ of\\ docs$$ <br>\n",
        "\n",
        "- TF-IDF 값이 낮으면 중요도가 낮은 것이며, TF-IDF 값이 크면 중요도가 큰 것 <br>\n",
        "  (ex. the나 a와 같은 불용어는 모든 문서에 자주 등장하므로 TF-IDF 값이 낮아짐)\n"
      ]
    },
    {
      "cell_type": "markdown",
      "metadata": {
        "id": "I4C5E4MKJL6-"
      },
      "source": [
        "## 1. TF-IDF with Korean"
      ]
    },
    {
      "cell_type": "code",
      "metadata": {
        "id": "88K63KIbZVlG",
        "colab": {
          "base_uri": "https://localhost:8080/",
          "height": 209
        },
        "outputId": "78b44f6b-8b16-4fbf-9732-1ec4f75250e7"
      },
      "source": [
        "# functions to calculate TF-IDF\n",
        "def tf(t, d):\n",
        "  return d.count(t)\n",
        "\n",
        "def idf(t, docs):\n",
        "  N = len(docs)\n",
        "  df = 0\n",
        "  for doc in docs:\n",
        "    if t in doc.split():\n",
        "      df +=1\n",
        "  return log(N/(1+df))\n",
        "\n",
        "def tfidf(t, d, docs):\n",
        "  return tf(t, d) * idf(t, docs)\n",
        "\n",
        "\n",
        "# generate corpus\n",
        "docs = [\n",
        "  '먹고 싶은 사과',\n",
        "  '먹고 싶은 바나나',\n",
        "  '길고 노란 바나나 바나나',\n",
        "  '저는 과일이 좋아요'\n",
        "] \n",
        "\n",
        "# build vocab with corpus\n",
        "vocab = sorted(set(' '.join(docs).split()))\n",
        "print(f'vocab : {vocab}\\n')\n",
        "\n",
        "# generate DTM with TF-IDF\n",
        "result = []\n",
        "for doc in docs:\n",
        "  tmp_list = []\n",
        "  for t in vocab:\n",
        "    tmp_list.append(tfidf(t, doc, docs))\n",
        "  result.append(tmp_list)\n",
        "\n",
        "dtm_tfidf = pd.DataFrame(result, columns=vocab)\n",
        "dtm_tfidf"
      ],
      "execution_count": 2,
      "outputs": [
        {
          "output_type": "stream",
          "text": [
            "vocab : ['과일이', '길고', '노란', '먹고', '바나나', '사과', '싶은', '저는', '좋아요']\n",
            "\n"
          ],
          "name": "stdout"
        },
        {
          "output_type": "execute_result",
          "data": {
            "text/html": [
              "<div>\n",
              "<style scoped>\n",
              "    .dataframe tbody tr th:only-of-type {\n",
              "        vertical-align: middle;\n",
              "    }\n",
              "\n",
              "    .dataframe tbody tr th {\n",
              "        vertical-align: top;\n",
              "    }\n",
              "\n",
              "    .dataframe thead th {\n",
              "        text-align: right;\n",
              "    }\n",
              "</style>\n",
              "<table border=\"1\" class=\"dataframe\">\n",
              "  <thead>\n",
              "    <tr style=\"text-align: right;\">\n",
              "      <th></th>\n",
              "      <th>과일이</th>\n",
              "      <th>길고</th>\n",
              "      <th>노란</th>\n",
              "      <th>먹고</th>\n",
              "      <th>바나나</th>\n",
              "      <th>사과</th>\n",
              "      <th>싶은</th>\n",
              "      <th>저는</th>\n",
              "      <th>좋아요</th>\n",
              "    </tr>\n",
              "  </thead>\n",
              "  <tbody>\n",
              "    <tr>\n",
              "      <th>0</th>\n",
              "      <td>0.000000</td>\n",
              "      <td>0.000000</td>\n",
              "      <td>0.000000</td>\n",
              "      <td>0.287682</td>\n",
              "      <td>0.000000</td>\n",
              "      <td>0.693147</td>\n",
              "      <td>0.287682</td>\n",
              "      <td>0.000000</td>\n",
              "      <td>0.000000</td>\n",
              "    </tr>\n",
              "    <tr>\n",
              "      <th>1</th>\n",
              "      <td>0.000000</td>\n",
              "      <td>0.000000</td>\n",
              "      <td>0.000000</td>\n",
              "      <td>0.287682</td>\n",
              "      <td>0.287682</td>\n",
              "      <td>0.000000</td>\n",
              "      <td>0.287682</td>\n",
              "      <td>0.000000</td>\n",
              "      <td>0.000000</td>\n",
              "    </tr>\n",
              "    <tr>\n",
              "      <th>2</th>\n",
              "      <td>0.000000</td>\n",
              "      <td>0.693147</td>\n",
              "      <td>0.693147</td>\n",
              "      <td>0.000000</td>\n",
              "      <td>0.575364</td>\n",
              "      <td>0.000000</td>\n",
              "      <td>0.000000</td>\n",
              "      <td>0.000000</td>\n",
              "      <td>0.000000</td>\n",
              "    </tr>\n",
              "    <tr>\n",
              "      <th>3</th>\n",
              "      <td>0.693147</td>\n",
              "      <td>0.000000</td>\n",
              "      <td>0.000000</td>\n",
              "      <td>0.000000</td>\n",
              "      <td>0.000000</td>\n",
              "      <td>0.000000</td>\n",
              "      <td>0.000000</td>\n",
              "      <td>0.693147</td>\n",
              "      <td>0.693147</td>\n",
              "    </tr>\n",
              "  </tbody>\n",
              "</table>\n",
              "</div>"
            ],
            "text/plain": [
              "        과일이        길고        노란  ...        싶은        저는       좋아요\n",
              "0  0.000000  0.000000  0.000000  ...  0.287682  0.000000  0.000000\n",
              "1  0.000000  0.000000  0.000000  ...  0.287682  0.000000  0.000000\n",
              "2  0.000000  0.693147  0.693147  ...  0.000000  0.000000  0.000000\n",
              "3  0.693147  0.000000  0.000000  ...  0.000000  0.693147  0.693147\n",
              "\n",
              "[4 rows x 9 columns]"
            ]
          },
          "metadata": {
            "tags": []
          },
          "execution_count": 2
        }
      ]
    },
    {
      "cell_type": "markdown",
      "metadata": {
        "id": "oTXHy-oXNxW1"
      },
      "source": [
        "## 2. TF-IDF with English\n",
        "- We can use **`TfidfVectorizer`** in `scikit-learn` for English"
      ]
    },
    {
      "cell_type": "code",
      "metadata": {
        "colab": {
          "base_uri": "https://localhost:8080/",
          "height": 141
        },
        "id": "zPqBp-RzIXK_",
        "outputId": "3b318a25-110b-4875-9b84-b8da579c23f2"
      },
      "source": [
        "# generate corpus\n",
        "docs = [\n",
        "  'you know I want your love',\n",
        "  'I like you',\n",
        "  'what should I do ',    \n",
        "]\n",
        "\n",
        "# generate DTM with TF-IDF using sklearn.TfidfVectorizer\n",
        "vectorizer = TfidfVectorizer()\n",
        "tfidf_arr = vectorizer.fit_transform(docs).toarray()\n",
        "cols = [tup[0] for tup in sorted(vectorizer.vocabulary_.items(), key=lambda tup: tup[1])]\n",
        "\n",
        "pd.DataFrame(tfidf_arr, columns=cols)"
      ],
      "execution_count": 3,
      "outputs": [
        {
          "output_type": "execute_result",
          "data": {
            "text/html": [
              "<div>\n",
              "<style scoped>\n",
              "    .dataframe tbody tr th:only-of-type {\n",
              "        vertical-align: middle;\n",
              "    }\n",
              "\n",
              "    .dataframe tbody tr th {\n",
              "        vertical-align: top;\n",
              "    }\n",
              "\n",
              "    .dataframe thead th {\n",
              "        text-align: right;\n",
              "    }\n",
              "</style>\n",
              "<table border=\"1\" class=\"dataframe\">\n",
              "  <thead>\n",
              "    <tr style=\"text-align: right;\">\n",
              "      <th></th>\n",
              "      <th>do</th>\n",
              "      <th>know</th>\n",
              "      <th>like</th>\n",
              "      <th>love</th>\n",
              "      <th>should</th>\n",
              "      <th>want</th>\n",
              "      <th>what</th>\n",
              "      <th>you</th>\n",
              "      <th>your</th>\n",
              "    </tr>\n",
              "  </thead>\n",
              "  <tbody>\n",
              "    <tr>\n",
              "      <th>0</th>\n",
              "      <td>0.00000</td>\n",
              "      <td>0.467351</td>\n",
              "      <td>0.000000</td>\n",
              "      <td>0.467351</td>\n",
              "      <td>0.00000</td>\n",
              "      <td>0.467351</td>\n",
              "      <td>0.00000</td>\n",
              "      <td>0.355432</td>\n",
              "      <td>0.467351</td>\n",
              "    </tr>\n",
              "    <tr>\n",
              "      <th>1</th>\n",
              "      <td>0.00000</td>\n",
              "      <td>0.000000</td>\n",
              "      <td>0.795961</td>\n",
              "      <td>0.000000</td>\n",
              "      <td>0.00000</td>\n",
              "      <td>0.000000</td>\n",
              "      <td>0.00000</td>\n",
              "      <td>0.605349</td>\n",
              "      <td>0.000000</td>\n",
              "    </tr>\n",
              "    <tr>\n",
              "      <th>2</th>\n",
              "      <td>0.57735</td>\n",
              "      <td>0.000000</td>\n",
              "      <td>0.000000</td>\n",
              "      <td>0.000000</td>\n",
              "      <td>0.57735</td>\n",
              "      <td>0.000000</td>\n",
              "      <td>0.57735</td>\n",
              "      <td>0.000000</td>\n",
              "      <td>0.000000</td>\n",
              "    </tr>\n",
              "  </tbody>\n",
              "</table>\n",
              "</div>"
            ],
            "text/plain": [
              "        do      know      like      love  ...      want     what       you      your\n",
              "0  0.00000  0.467351  0.000000  0.467351  ...  0.467351  0.00000  0.355432  0.467351\n",
              "1  0.00000  0.000000  0.795961  0.000000  ...  0.000000  0.00000  0.605349  0.000000\n",
              "2  0.57735  0.000000  0.000000  0.000000  ...  0.000000  0.57735  0.000000  0.000000\n",
              "\n",
              "[3 rows x 9 columns]"
            ]
          },
          "metadata": {
            "tags": []
          },
          "execution_count": 3
        }
      ]
    }
  ]
}