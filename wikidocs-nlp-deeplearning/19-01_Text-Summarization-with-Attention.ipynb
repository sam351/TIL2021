{
  "nbformat": 4,
  "nbformat_minor": 0,
  "metadata": {
    "colab": {
      "name": "19-01_Text-Summarization-with-Attention",
      "provenance": [],
      "collapsed_sections": []
    },
    "kernelspec": {
      "name": "python3",
      "display_name": "Python 3"
    },
    "language_info": {
      "name": "python"
    }
  },
  "cells": [
    {
      "cell_type": "markdown",
      "metadata": {
        "id": "qBSQvR-SySl6"
      },
      "source": [
        "## 어텐션을 이용한 텍스트 요약(Text Summarization with Attention mechanism)\n",
        "- 텍스트 요약 : 상대적으로 큰 원문을 핵심 내용만 간추려서 상대적으로 작은 요약문으로 변환하는 것\n",
        "- 어텐션 매커니즘(attention mechanism) 기반의 시퀀스-투-시퀀스(Sequences-to-Sequence, seq2seq) 모델을 활용한 텍스트 요약\n",
        "- 텍스트 요약은 크게 **추출적 요약(extractive summarization)**과 **추상적 요약(abstractive summarization)**으로 구분 <br>\n",
        "  #### 1) 추출적 요약(extractive summarization)\n",
        "  - 원문에서 중요한 핵심 문장 또는 단어구를 몇 개 뽑아서 이들로 구성된 요약문을 만드는 방법\n",
        "  - 결과로 나온 요약문의 문장이나 단어구들은 전부 원문에 있는 문장들\n",
        "  - 단점 : 이미 존재하는 문장이나 단어구로만 구성하므로 모델의 언어 표현 능력이 제한됨\n",
        "  \n",
        "  #### 2) 추상적 요약(abstractive summarization)\n",
        "  - 원문에 없던 문장이라도 핵심 문맥을 반영한 새로운 문장을 생성해서 원문을 요약하는 방법\n",
        "  - 추출적 요약보다는 난이도가 높음\n",
        "  - 단점 : 기본적으로 지도 학습 문제이기 때문에, 대량의 데이터가 필요함"
      ]
    },
    {
      "cell_type": "code",
      "metadata": {
        "colab": {
          "base_uri": "https://localhost:8080/"
        },
        "id": "wivds9THg1co",
        "outputId": "87ad7bcf-32e2-45b6-a08b-7d9b536ebd93"
      },
      "source": [
        "# install required packages\n",
        "import urllib.request\n",
        "urllib.request.urlretrieve(\"https://raw.githubusercontent.com/thushv89/attention_keras/master/src/layers/attention.py\", filename=\"attention.py\")\n",
        "\n",
        "# clear install verbose messages\n",
        "from IPython.display import clear_output\n",
        "clear_output()\n",
        "\n",
        "\n",
        "# import packages\n",
        "import pandas as pd\n",
        "import numpy as np\n",
        "import re\n",
        "import matplotlib.pyplot as plt\n",
        "import nltk\n",
        "from nltk.corpus import stopwords\n",
        "from bs4 import BeautifulSoup\n",
        "pd.options.display.max_colwidth = None\n",
        "np.random.seed(seed=0)\n",
        "nltk.download('stopwords')\n",
        "\n",
        "import tensorflow\n",
        "from tensorflow.keras.preprocessing.text import Tokenizer \n",
        "from tensorflow.keras.preprocessing.sequence import pad_sequences\n",
        "from tensorflow.keras.layers import Input, LSTM, Embedding, Dense, Concatenate\n",
        "from tensorflow.keras.models import Model\n",
        "from tensorflow.keras.callbacks import EarlyStopping, ModelCheckpoint\n",
        "\n",
        "from attention import AttentionLayer\n",
        "\n",
        "\n",
        "def show_table(df, sample_num=2):\n",
        "  print('>>> shape :', df.shape)\n",
        "  print('>>> No of NA :', df.isna().sum().sum())\n",
        "  if len(df) <= sample_num*2:\n",
        "    display(df)\n",
        "  else:\n",
        "    display(df.head(sample_num))\n",
        "    display(df.tail(sample_num))\n",
        "  pass\n",
        "\n",
        "\n",
        "# pd : 1.1.5  |  np : 1.19.5  |  nltk : 3.2.5  |  tensorflow : 2.4.1\n",
        "print(f'>>> pd : {pd.__version__}  |  np : {np.__version__}  |  nltk : {nltk.__version__}  |  tensorflow : {tensorflow.__version__}') "
      ],
      "execution_count": 1,
      "outputs": [
        {
          "output_type": "stream",
          "text": [
            "[nltk_data] Downloading package stopwords to /root/nltk_data...\n",
            "[nltk_data]   Package stopwords is already up-to-date!\n",
            ">>> pd : 1.1.5  |  np : 1.19.5  |  nltk : 3.2.5  |  tensorflow : 2.5.0\n"
          ],
          "name": "stdout"
        }
      ]
    },
    {
      "cell_type": "markdown",
      "metadata": {
        "id": "6RApgK2PhgqF"
      },
      "source": [
        "## 1. 데이터 준비 (Prepare data)\n",
        "- 아마존 리뷰 데이터 사용 (https://www.kaggle.com/snap/amazon-fine-food-reviews)"
      ]
    },
    {
      "cell_type": "code",
      "metadata": {
        "colab": {
          "base_uri": "https://localhost:8080/",
          "height": 349
        },
        "id": "AvHS0Qfz4eFH",
        "outputId": "7e58d57d-82ac-4689-ff75-495c86175ed7"
      },
      "source": [
        "# load and check data\n",
        "data = pd.read_csv('drive/MyDrive/mount_data/Amazon_Fine_Food_Reviews.csv', nrows=100000, usecols=['Text', 'Summary'])\n",
        "show_table(data)"
      ],
      "execution_count": 2,
      "outputs": [
        {
          "output_type": "stream",
          "text": [
            ">>> shape : (100000, 2)\n",
            ">>> No of NA : 2\n"
          ],
          "name": "stdout"
        },
        {
          "output_type": "display_data",
          "data": {
            "text/html": [
              "<div>\n",
              "<style scoped>\n",
              "    .dataframe tbody tr th:only-of-type {\n",
              "        vertical-align: middle;\n",
              "    }\n",
              "\n",
              "    .dataframe tbody tr th {\n",
              "        vertical-align: top;\n",
              "    }\n",
              "\n",
              "    .dataframe thead th {\n",
              "        text-align: right;\n",
              "    }\n",
              "</style>\n",
              "<table border=\"1\" class=\"dataframe\">\n",
              "  <thead>\n",
              "    <tr style=\"text-align: right;\">\n",
              "      <th></th>\n",
              "      <th>Summary</th>\n",
              "      <th>Text</th>\n",
              "    </tr>\n",
              "  </thead>\n",
              "  <tbody>\n",
              "    <tr>\n",
              "      <th>0</th>\n",
              "      <td>Good Quality Dog Food</td>\n",
              "      <td>I have bought several of the Vitality canned dog food products and have found them all to be of good quality. The product looks more like a stew than a processed meat and it smells better. My Labrador is finicky and she appreciates this product better than  most.</td>\n",
              "    </tr>\n",
              "    <tr>\n",
              "      <th>1</th>\n",
              "      <td>Not as Advertised</td>\n",
              "      <td>Product arrived labeled as Jumbo Salted Peanuts...the peanuts were actually small sized unsalted. Not sure if this was an error or if the vendor intended to represent the product as \"Jumbo\".</td>\n",
              "    </tr>\n",
              "  </tbody>\n",
              "</table>\n",
              "</div>"
            ],
            "text/plain": [
              "                 Summary                                                                                                                                                                                                                                                                     Text\n",
              "0  Good Quality Dog Food  I have bought several of the Vitality canned dog food products and have found them all to be of good quality. The product looks more like a stew than a processed meat and it smells better. My Labrador is finicky and she appreciates this product better than  most.\n",
              "1      Not as Advertised                                                                           Product arrived labeled as Jumbo Salted Peanuts...the peanuts were actually small sized unsalted. Not sure if this was an error or if the vendor intended to represent the product as \"Jumbo\"."
            ]
          },
          "metadata": {
            "tags": []
          }
        },
        {
          "output_type": "display_data",
          "data": {
            "text/html": [
              "<div>\n",
              "<style scoped>\n",
              "    .dataframe tbody tr th:only-of-type {\n",
              "        vertical-align: middle;\n",
              "    }\n",
              "\n",
              "    .dataframe tbody tr th {\n",
              "        vertical-align: top;\n",
              "    }\n",
              "\n",
              "    .dataframe thead th {\n",
              "        text-align: right;\n",
              "    }\n",
              "</style>\n",
              "<table border=\"1\" class=\"dataframe\">\n",
              "  <thead>\n",
              "    <tr style=\"text-align: right;\">\n",
              "      <th></th>\n",
              "      <th>Summary</th>\n",
              "      <th>Text</th>\n",
              "    </tr>\n",
              "  </thead>\n",
              "  <tbody>\n",
              "    <tr>\n",
              "      <th>99998</th>\n",
              "      <td>Spicy!!</td>\n",
              "      <td>I do like these noodles although, to say they are spicy is somewhat of an understatement. No one else in the family tolerates spicy very well so, seeing these, I was looking forward to an extra little something for the palate. I was not disappointed. To be completely honest, I usually drain most of the liquid as it is almost too much!</td>\n",
              "    </tr>\n",
              "    <tr>\n",
              "      <th>99999</th>\n",
              "      <td>This spicy noodle cures my cold, upset stomach, and headache every time!</td>\n",
              "      <td>I love this noodle and have it once or twice a week. The amazing thing is that when I don't feel well because of a cold, a hot bowl of this noodle will cure my upset stomach, headache, and running nose! This may not work for you, but you should definitely try it.</td>\n",
              "    </tr>\n",
              "  </tbody>\n",
              "</table>\n",
              "</div>"
            ],
            "text/plain": [
              "                                                                        Summary                                                                                                                                                                                                                                                                                                                                              Text\n",
              "99998                                                                   Spicy!!  I do like these noodles although, to say they are spicy is somewhat of an understatement. No one else in the family tolerates spicy very well so, seeing these, I was looking forward to an extra little something for the palate. I was not disappointed. To be completely honest, I usually drain most of the liquid as it is almost too much!\n",
              "99999  This spicy noodle cures my cold, upset stomach, and headache every time!                                                                           I love this noodle and have it once or twice a week. The amazing thing is that when I don't feel well because of a cold, a hot bowl of this noodle will cure my upset stomach, headache, and running nose! This may not work for you, but you should definitely try it."
            ]
          },
          "metadata": {
            "tags": []
          }
        }
      ]
    },
    {
      "cell_type": "code",
      "metadata": {
        "colab": {
          "base_uri": "https://localhost:8080/",
          "height": 423
        },
        "id": "jqdwah4Q9k38",
        "outputId": "4864b103-0eac-43a9-bf9e-2d7eb1a06ee6"
      },
      "source": [
        "# remove Null or duplicated texts\n",
        "print(data.nunique(), '\\n')\n",
        "data = data.dropna().drop_duplicates('Text', keep='last', ignore_index=True)\n",
        "show_table(data)"
      ],
      "execution_count": 3,
      "outputs": [
        {
          "output_type": "stream",
          "text": [
            "Summary    72348\n",
            "Text       88426\n",
            "dtype: int64 \n",
            "\n",
            ">>> shape : (88425, 2)\n",
            ">>> No of NA : 0\n"
          ],
          "name": "stdout"
        },
        {
          "output_type": "display_data",
          "data": {
            "text/html": [
              "<div>\n",
              "<style scoped>\n",
              "    .dataframe tbody tr th:only-of-type {\n",
              "        vertical-align: middle;\n",
              "    }\n",
              "\n",
              "    .dataframe tbody tr th {\n",
              "        vertical-align: top;\n",
              "    }\n",
              "\n",
              "    .dataframe thead th {\n",
              "        text-align: right;\n",
              "    }\n",
              "</style>\n",
              "<table border=\"1\" class=\"dataframe\">\n",
              "  <thead>\n",
              "    <tr style=\"text-align: right;\">\n",
              "      <th></th>\n",
              "      <th>Summary</th>\n",
              "      <th>Text</th>\n",
              "    </tr>\n",
              "  </thead>\n",
              "  <tbody>\n",
              "    <tr>\n",
              "      <th>0</th>\n",
              "      <td>Good Quality Dog Food</td>\n",
              "      <td>I have bought several of the Vitality canned dog food products and have found them all to be of good quality. The product looks more like a stew than a processed meat and it smells better. My Labrador is finicky and she appreciates this product better than  most.</td>\n",
              "    </tr>\n",
              "    <tr>\n",
              "      <th>1</th>\n",
              "      <td>Not as Advertised</td>\n",
              "      <td>Product arrived labeled as Jumbo Salted Peanuts...the peanuts were actually small sized unsalted. Not sure if this was an error or if the vendor intended to represent the product as \"Jumbo\".</td>\n",
              "    </tr>\n",
              "  </tbody>\n",
              "</table>\n",
              "</div>"
            ],
            "text/plain": [
              "                 Summary                                                                                                                                                                                                                                                                     Text\n",
              "0  Good Quality Dog Food  I have bought several of the Vitality canned dog food products and have found them all to be of good quality. The product looks more like a stew than a processed meat and it smells better. My Labrador is finicky and she appreciates this product better than  most.\n",
              "1      Not as Advertised                                                                           Product arrived labeled as Jumbo Salted Peanuts...the peanuts were actually small sized unsalted. Not sure if this was an error or if the vendor intended to represent the product as \"Jumbo\"."
            ]
          },
          "metadata": {
            "tags": []
          }
        },
        {
          "output_type": "display_data",
          "data": {
            "text/html": [
              "<div>\n",
              "<style scoped>\n",
              "    .dataframe tbody tr th:only-of-type {\n",
              "        vertical-align: middle;\n",
              "    }\n",
              "\n",
              "    .dataframe tbody tr th {\n",
              "        vertical-align: top;\n",
              "    }\n",
              "\n",
              "    .dataframe thead th {\n",
              "        text-align: right;\n",
              "    }\n",
              "</style>\n",
              "<table border=\"1\" class=\"dataframe\">\n",
              "  <thead>\n",
              "    <tr style=\"text-align: right;\">\n",
              "      <th></th>\n",
              "      <th>Summary</th>\n",
              "      <th>Text</th>\n",
              "    </tr>\n",
              "  </thead>\n",
              "  <tbody>\n",
              "    <tr>\n",
              "      <th>88423</th>\n",
              "      <td>Spicy!!</td>\n",
              "      <td>I do like these noodles although, to say they are spicy is somewhat of an understatement. No one else in the family tolerates spicy very well so, seeing these, I was looking forward to an extra little something for the palate. I was not disappointed. To be completely honest, I usually drain most of the liquid as it is almost too much!</td>\n",
              "    </tr>\n",
              "    <tr>\n",
              "      <th>88424</th>\n",
              "      <td>This spicy noodle cures my cold, upset stomach, and headache every time!</td>\n",
              "      <td>I love this noodle and have it once or twice a week. The amazing thing is that when I don't feel well because of a cold, a hot bowl of this noodle will cure my upset stomach, headache, and running nose! This may not work for you, but you should definitely try it.</td>\n",
              "    </tr>\n",
              "  </tbody>\n",
              "</table>\n",
              "</div>"
            ],
            "text/plain": [
              "                                                                        Summary                                                                                                                                                                                                                                                                                                                                              Text\n",
              "88423                                                                   Spicy!!  I do like these noodles although, to say they are spicy is somewhat of an understatement. No one else in the family tolerates spicy very well so, seeing these, I was looking forward to an extra little something for the palate. I was not disappointed. To be completely honest, I usually drain most of the liquid as it is almost too much!\n",
              "88424  This spicy noodle cures my cold, upset stomach, and headache every time!                                                                           I love this noodle and have it once or twice a week. The amazing thing is that when I don't feel well because of a cold, a hot bowl of this noodle will cure my upset stomach, headache, and running nose! This may not work for you, but you should definitely try it."
            ]
          },
          "metadata": {
            "tags": []
          }
        }
      ]
    },
    {
      "cell_type": "code",
      "metadata": {
        "colab": {
          "base_uri": "https://localhost:8080/"
        },
        "id": "fqLmE7vX9k8g",
        "outputId": "a2637863-aba5-4d64-b68a-a7ccecd69722"
      },
      "source": [
        "# contraction dictionary\n",
        "contractions = {\"ain't\": \"is not\", \"aren't\": \"are not\",\"can't\": \"cannot\", \"'cause\": \"because\", \"could've\": \"could have\", \"couldn't\": \"could not\", \"didn't\": \"did not\",  \"doesn't\": \"does not\", \"don't\": \"do not\", \"hadn't\": \"had not\", \"hasn't\": \"has not\", \"haven't\": \"have not\", \"he'd\": \"he would\",\"he'll\": \"he will\", \"he's\": \"he is\", \"how'd\": \"how did\", \"how'd'y\": \"how do you\", \"how'll\": \"how will\", \"how's\": \"how is\", \"I'd\": \"I would\", \"I'd've\": \"I would have\", \"I'll\": \"I will\", \"I'll've\": \"I will have\",\"I'm\": \"I am\", \"I've\": \"I have\", \"i'd\": \"i would\", \"i'd've\": \"i would have\", \"i'll\": \"i will\",  \"i'll've\": \"i will have\",\"i'm\": \"i am\", \"i've\": \"i have\", \"isn't\": \"is not\", \"it'd\": \"it would\", \"it'd've\": \"it would have\", \"it'll\": \"it will\", \"it'll've\": \"it will have\",\"it's\": \"it is\", \"let's\": \"let us\", \"ma'am\": \"madam\", \"mayn't\": \"may not\", \"might've\": \"might have\",\"mightn't\": \"might not\",\"mightn't've\": \"might not have\", \"must've\": \"must have\", \"mustn't\": \"must not\", \"mustn't've\": \"must not have\", \"needn't\": \"need not\", \"needn't've\": \"need not have\",\"o'clock\": \"of the clock\", \"oughtn't\": \"ought not\", \"oughtn't've\": \"ought not have\", \"shan't\": \"shall not\", \"sha'n't\": \"shall not\", \"shan't've\": \"shall not have\", \"she'd\": \"she would\", \"she'd've\": \"she would have\", \"she'll\": \"she will\", \"she'll've\": \"she will have\", \"she's\": \"she is\", \"should've\": \"should have\", \"shouldn't\": \"should not\", \"shouldn't've\": \"should not have\", \"so've\": \"so have\",\"so's\": \"so as\", \"this's\": \"this is\",\"that'd\": \"that would\", \"that'd've\": \"that would have\", \"that's\": \"that is\", \"there'd\": \"there would\", \"there'd've\": \"there would have\", \"there's\": \"there is\", \"here's\": \"here is\",\"they'd\": \"they would\", \"they'd've\": \"they would have\", \"they'll\": \"they will\", \"they'll've\": \"they will have\", \"they're\": \"they are\", \"they've\": \"they have\", \"to've\": \"to have\", \"wasn't\": \"was not\", \"we'd\": \"we would\", \"we'd've\": \"we would have\", \"we'll\": \"we will\", \"we'll've\": \"we will have\", \"we're\": \"we are\", \"we've\": \"we have\", \"weren't\": \"were not\", \"what'll\": \"what will\", \"what'll've\": \"what will have\", \"what're\": \"what are\", \"what's\": \"what is\", \"what've\": \"what have\", \"when's\": \"when is\", \"when've\": \"when have\", \"where'd\": \"where did\", \"where's\": \"where is\", \"where've\": \"where have\", \"who'll\": \"who will\", \"who'll've\": \"who will have\", \"who's\": \"who is\", \"who've\": \"who have\", \"why's\": \"why is\", \"why've\": \"why have\", \"will've\": \"will have\", \"won't\": \"will not\", \"won't've\": \"will not have\", \"would've\": \"would have\", \"wouldn't\": \"would not\", \"wouldn't've\": \"would not have\", \"y'all\": \"you all\", \"y'all'd\": \"you all would\",\"y'all'd've\": \"you all would have\",\"y'all're\": \"you all are\",\"y'all've\": \"you all have\", \"you'd\": \"you would\", \"you'd've\": \"you would have\", \"you'll\": \"you will\", \"you'll've\": \"you will have\", \"you're\": \"you are\", \"you've\": \"you have\"}\n",
        "print('>>> No of contractions :', len(contractions))\n",
        "\n",
        "# stopwords\n",
        "stop_words = set(stopwords.words('english'))\n",
        "print('>>> No of stopwords :', len(stop_words), np.random.choice(list(stop_words), 10), '...')"
      ],
      "execution_count": 4,
      "outputs": [
        {
          "output_type": "stream",
          "text": [
            ">>> No of contractions : 120\n",
            ">>> No of stopwords : 179 ['ours' \"mightn't\" 'shan' 'to' 's' 'whom' 'all' 'isn' 'won' 'theirs'] ...\n"
          ],
          "name": "stdout"
        }
      ]
    },
    {
      "cell_type": "code",
      "metadata": {
        "id": "vceGFRNqDZPi",
        "colab": {
          "base_uri": "https://localhost:8080/"
        },
        "outputId": "d5482eb2-d99d-4b0a-f67b-8149f8e1d363"
      },
      "source": [
        "# function to pre-process text\n",
        "def preprocess_sentence(sentence, remove_stopwords=True):\n",
        "  sentence = sentence.lower()                      # 소문자화\n",
        "  sentence = BeautifulSoup(sentence, \"lxml\").text  # html 태그 제거\n",
        "  sentence = re.sub('\\([^)]*\\)', '', sentence)     # 괄호로 닫힌 문자열 제거  EX) my husband (and myself) for...\n",
        "  sentence = re.sub('\"', '', sentence)             # 쌍따옴표 제거\n",
        "  sentence = ' '.join([contractions[tk] if tk in contractions else tk for tk in sentence.split()])  # 약어 정규화\n",
        "  sentence = re.sub(\"'s\\b\", '', sentence)          # 소유격 제거\n",
        "  sentence = re.sub('[^a-zA-Z]', ' ', sentence)    # 영어 외 문자 제거\n",
        "  sentence = re.sub('m{2,}', 'mm', sentence)       # m이 3개 이상이면 2개로 변경  EX) hmmmm\n",
        "\n",
        "  if remove_stopwords:\n",
        "    sentence = ' '.join([tk for tk in sentence.split() if tk not in stop_words and len(tk)>1])  # 불용어 제거\n",
        "  else:\n",
        "    sentence = ' '.join([tk for tk in sentence.split() if len(tk)>1])  # 불용어 미제거\n",
        "  return sentence\n",
        "\n",
        "\n",
        "# check function output\n",
        "temp_text = 'Everything I bought was great, infact I ordered twice and the third ordered was<br />for my mother and father.'\n",
        "temp_summary = 'Great way to start (or finish) the day!!!'\n",
        "\n",
        "print(preprocess_sentence(temp_text))\n",
        "print(preprocess_sentence(temp_summary, remove_stopwords=False))"
      ],
      "execution_count": 5,
      "outputs": [
        {
          "output_type": "stream",
          "text": [
            "everything bought great infact ordered twice third ordered wasfor mother father\n",
            "great way to start the day\n"
          ],
          "name": "stdout"
        }
      ]
    },
    {
      "cell_type": "code",
      "metadata": {
        "colab": {
          "base_uri": "https://localhost:8080/",
          "height": 565
        },
        "id": "XXmEqguxs1u8",
        "outputId": "47b6ab90-1a34-4ba8-c3d8-21765d6440fe"
      },
      "source": [
        "%%time\n",
        "# pre-process text\n",
        "data['summary_cleaned'] = data['Summary'].apply(preprocess_sentence, remove_stopwords=False)\n",
        "data['text_cleaned'] = data['Text'].apply(preprocess_sentence)\n",
        "\n",
        "# remove empty text\n",
        "data = data.replace('', np.nan).dropna()\n",
        "\n",
        "show_table(data)"
      ],
      "execution_count": 6,
      "outputs": [
        {
          "output_type": "stream",
          "text": [
            "/usr/local/lib/python3.7/dist-packages/bs4/__init__.py:336: UserWarning: \"http://www.amazon.com/gp/product/b007i7yygy/ref=cm_cr_rev_prod_title\" looks like a URL. Beautiful Soup is not an HTTP client. You should probably use an HTTP client like requests to get the document behind the URL, and feed that document to Beautiful Soup.\n",
            "  ' that document to Beautiful Soup.' % decoded_markup\n"
          ],
          "name": "stderr"
        },
        {
          "output_type": "stream",
          "text": [
            ">>> shape : (88355, 4)\n",
            ">>> No of NA : 0\n"
          ],
          "name": "stdout"
        },
        {
          "output_type": "display_data",
          "data": {
            "text/html": [
              "<div>\n",
              "<style scoped>\n",
              "    .dataframe tbody tr th:only-of-type {\n",
              "        vertical-align: middle;\n",
              "    }\n",
              "\n",
              "    .dataframe tbody tr th {\n",
              "        vertical-align: top;\n",
              "    }\n",
              "\n",
              "    .dataframe thead th {\n",
              "        text-align: right;\n",
              "    }\n",
              "</style>\n",
              "<table border=\"1\" class=\"dataframe\">\n",
              "  <thead>\n",
              "    <tr style=\"text-align: right;\">\n",
              "      <th></th>\n",
              "      <th>Summary</th>\n",
              "      <th>Text</th>\n",
              "      <th>summary_cleaned</th>\n",
              "      <th>text_cleaned</th>\n",
              "    </tr>\n",
              "  </thead>\n",
              "  <tbody>\n",
              "    <tr>\n",
              "      <th>0</th>\n",
              "      <td>Good Quality Dog Food</td>\n",
              "      <td>I have bought several of the Vitality canned dog food products and have found them all to be of good quality. The product looks more like a stew than a processed meat and it smells better. My Labrador is finicky and she appreciates this product better than  most.</td>\n",
              "      <td>good quality dog food</td>\n",
              "      <td>bought several vitality canned dog food products found good quality product looks like stew processed meat smells better labrador finicky appreciates product better</td>\n",
              "    </tr>\n",
              "    <tr>\n",
              "      <th>1</th>\n",
              "      <td>Not as Advertised</td>\n",
              "      <td>Product arrived labeled as Jumbo Salted Peanuts...the peanuts were actually small sized unsalted. Not sure if this was an error or if the vendor intended to represent the product as \"Jumbo\".</td>\n",
              "      <td>not as advertised</td>\n",
              "      <td>product arrived labeled jumbo salted peanuts peanuts actually small sized unsalted sure error vendor intended represent product jumbo</td>\n",
              "    </tr>\n",
              "  </tbody>\n",
              "</table>\n",
              "</div>"
            ],
            "text/plain": [
              "                 Summary  ...                                                                                                                                                          text_cleaned\n",
              "0  Good Quality Dog Food  ...  bought several vitality canned dog food products found good quality product looks like stew processed meat smells better labrador finicky appreciates product better\n",
              "1      Not as Advertised  ...                                 product arrived labeled jumbo salted peanuts peanuts actually small sized unsalted sure error vendor intended represent product jumbo\n",
              "\n",
              "[2 rows x 4 columns]"
            ]
          },
          "metadata": {
            "tags": []
          }
        },
        {
          "output_type": "display_data",
          "data": {
            "text/html": [
              "<div>\n",
              "<style scoped>\n",
              "    .dataframe tbody tr th:only-of-type {\n",
              "        vertical-align: middle;\n",
              "    }\n",
              "\n",
              "    .dataframe tbody tr th {\n",
              "        vertical-align: top;\n",
              "    }\n",
              "\n",
              "    .dataframe thead th {\n",
              "        text-align: right;\n",
              "    }\n",
              "</style>\n",
              "<table border=\"1\" class=\"dataframe\">\n",
              "  <thead>\n",
              "    <tr style=\"text-align: right;\">\n",
              "      <th></th>\n",
              "      <th>Summary</th>\n",
              "      <th>Text</th>\n",
              "      <th>summary_cleaned</th>\n",
              "      <th>text_cleaned</th>\n",
              "    </tr>\n",
              "  </thead>\n",
              "  <tbody>\n",
              "    <tr>\n",
              "      <th>88423</th>\n",
              "      <td>Spicy!!</td>\n",
              "      <td>I do like these noodles although, to say they are spicy is somewhat of an understatement. No one else in the family tolerates spicy very well so, seeing these, I was looking forward to an extra little something for the palate. I was not disappointed. To be completely honest, I usually drain most of the liquid as it is almost too much!</td>\n",
              "      <td>spicy</td>\n",
              "      <td>like noodles although say spicy somewhat understatement one else family tolerates spicy well seeing looking forward extra little something palate disappointed completely honest usually drain liquid almost much</td>\n",
              "    </tr>\n",
              "    <tr>\n",
              "      <th>88424</th>\n",
              "      <td>This spicy noodle cures my cold, upset stomach, and headache every time!</td>\n",
              "      <td>I love this noodle and have it once or twice a week. The amazing thing is that when I don't feel well because of a cold, a hot bowl of this noodle will cure my upset stomach, headache, and running nose! This may not work for you, but you should definitely try it.</td>\n",
              "      <td>this spicy noodle cures my cold upset stomach and headache every time</td>\n",
              "      <td>love noodle twice week amazing thing feel well cold hot bowl noodle cure upset stomach headache running nose may work definitely try</td>\n",
              "    </tr>\n",
              "  </tbody>\n",
              "</table>\n",
              "</div>"
            ],
            "text/plain": [
              "                                                                        Summary  ...                                                                                                                                                                                                       text_cleaned\n",
              "88423                                                                   Spicy!!  ...  like noodles although say spicy somewhat understatement one else family tolerates spicy well seeing looking forward extra little something palate disappointed completely honest usually drain liquid almost much\n",
              "88424  This spicy noodle cures my cold, upset stomach, and headache every time!  ...                                                                               love noodle twice week amazing thing feel well cold hot bowl noodle cure upset stomach headache running nose may work definitely try\n",
              "\n",
              "[2 rows x 4 columns]"
            ]
          },
          "metadata": {
            "tags": []
          }
        },
        {
          "output_type": "stream",
          "text": [
            "CPU times: user 49 s, sys: 813 ms, total: 49.8 s\n",
            "Wall time: 49.6 s\n"
          ],
          "name": "stdout"
        }
      ]
    },
    {
      "cell_type": "code",
      "metadata": {
        "colab": {
          "base_uri": "https://localhost:8080/",
          "height": 968
        },
        "id": "eeW1mOjh9-ia",
        "outputId": "0e12ce7c-d654-4aa7-c559-89bf34adc18e"
      },
      "source": [
        "# check distribution of text length\n",
        "text_len = [len(i.split()) for i in data['text_cleaned']]\n",
        "summ_len = [len(i.split()) for i in data['summary_cleaned']]\n",
        "\n",
        "print(f'>>> 텍스트의 최소 길이 : {min(text_len)}')\n",
        "print(f'>>> 텍스트의 최대 길이 : {max(text_len)}')\n",
        "print(f'>>> 텍스트의 평균 길이 : {np.mean(text_len)}')\n",
        "print(f'>>> 요약의 최소 길이 : {min(summ_len)}')\n",
        "print(f'>>> 요약의 최대 길이 : {max(summ_len)}')\n",
        "print(f'>>> 요약의 평균 길이 : {np.mean(summ_len)}\\n')\n",
        "\n",
        "fig, axes = plt.subplots(1, 2, figsize=(7, 4))\n",
        "axes[0].boxplot(summ_len)\n",
        "axes[0].set_title('Summary')\n",
        "axes[1].boxplot(text_len)\n",
        "axes[1].set_title('Text')\n",
        "plt.show()\n",
        "\n",
        "for tmp_title, tmp_list in zip(['Summary', 'Text'], [summ_len, text_len]):\n",
        "  plt.hist(tmp_list, bins=40)\n",
        "  plt.title(tmp_title)\n",
        "  plt.xlabel('length of samples')\n",
        "  plt.ylabel('number of samples')\n",
        "  plt.show()"
      ],
      "execution_count": 7,
      "outputs": [
        {
          "output_type": "stream",
          "text": [
            ">>> 텍스트의 최소 길이 : 2\n",
            ">>> 텍스트의 최대 길이 : 1235\n",
            ">>> 텍스트의 평균 길이 : 38.792428272310566\n",
            ">>> 요약의 최소 길이 : 1\n",
            ">>> 요약의 최대 길이 : 28\n",
            ">>> 요약의 평균 길이 : 4.010718125742742\n",
            "\n"
          ],
          "name": "stdout"
        },
        {
          "output_type": "display_data",
          "data": {
            "image/png": "[encoded data removed]",
            "text/plain": [
              "<Figure size 504x288 with 2 Axes>"
            ]
          },
          "metadata": {
            "tags": [],
            "needs_background": "light"
          }
        },
        {
          "output_type": "display_data",
          "data": {
            "image/png": "[encoded data removed]",
            "text/plain": [
              "<Figure size 432x288 with 1 Axes>"
            ]
          },
          "metadata": {
            "tags": [],
            "needs_background": "light"
          }
        },
        {
          "output_type": "display_data",
          "data": {
            "image/png": "[encoded data removed]",
            "text/plain": [
              "<Figure size 432x288 with 1 Axes>"
            ]
          },
          "metadata": {
            "tags": [],
            "needs_background": "light"
          }
        }
      ]
    },
    {
      "cell_type": "code",
      "metadata": {
        "colab": {
          "base_uri": "https://localhost:8080/"
        },
        "id": "H_YD-FJBIClY",
        "outputId": "a1608695-a708-4389-cd25-761c51e68e65"
      },
      "source": [
        "# set max length parameter\n",
        "text_max_len = 50\n",
        "summ_max_len = 8\n",
        "\n",
        "print(f'>>> 길이가 {text_max_len} 이하인 Text 비율 : {len([i for i in text_len if i<=text_max_len])/len(text_len):.4f}')\n",
        "print(f'>>> 길이가 {summ_max_len} 이하인 Summary 비율 : {len([i for i in summ_len if i<=summ_max_len])/len(summ_len):.4f}')"
      ],
      "execution_count": 8,
      "outputs": [
        {
          "output_type": "stream",
          "text": [
            ">>> 길이가 50 이하인 Text 비율 : 0.7745\n",
            ">>> 길이가 8 이하인 Summary 비율 : 0.9424\n"
          ],
          "name": "stdout"
        }
      ]
    },
    {
      "cell_type": "code",
      "metadata": {
        "id": "ElSz6GLFs1sU",
        "colab": {
          "base_uri": "https://localhost:8080/",
          "height": 435
        },
        "outputId": "f0c58216-8516-45d0-b30b-929e3217641c"
      },
      "source": [
        "# extract samples whose text length is less than max length\n",
        "data = data[data.apply(lambda row : len(row['text_cleaned'].split())<=text_max_len and\n",
        "                                    len(row['summary_cleaned'].split())<=summ_max_len, axis=1)].reset_index(drop=True)\n",
        "show_table(data)"
      ],
      "execution_count": 9,
      "outputs": [
        {
          "output_type": "stream",
          "text": [
            ">>> shape : (65817, 4)\n",
            ">>> No of NA : 0\n"
          ],
          "name": "stdout"
        },
        {
          "output_type": "display_data",
          "data": {
            "text/html": [
              "<div>\n",
              "<style scoped>\n",
              "    .dataframe tbody tr th:only-of-type {\n",
              "        vertical-align: middle;\n",
              "    }\n",
              "\n",
              "    .dataframe tbody tr th {\n",
              "        vertical-align: top;\n",
              "    }\n",
              "\n",
              "    .dataframe thead th {\n",
              "        text-align: right;\n",
              "    }\n",
              "</style>\n",
              "<table border=\"1\" class=\"dataframe\">\n",
              "  <thead>\n",
              "    <tr style=\"text-align: right;\">\n",
              "      <th></th>\n",
              "      <th>Summary</th>\n",
              "      <th>Text</th>\n",
              "      <th>summary_cleaned</th>\n",
              "      <th>text_cleaned</th>\n",
              "    </tr>\n",
              "  </thead>\n",
              "  <tbody>\n",
              "    <tr>\n",
              "      <th>0</th>\n",
              "      <td>Good Quality Dog Food</td>\n",
              "      <td>I have bought several of the Vitality canned dog food products and have found them all to be of good quality. The product looks more like a stew than a processed meat and it smells better. My Labrador is finicky and she appreciates this product better than  most.</td>\n",
              "      <td>good quality dog food</td>\n",
              "      <td>bought several vitality canned dog food products found good quality product looks like stew processed meat smells better labrador finicky appreciates product better</td>\n",
              "    </tr>\n",
              "    <tr>\n",
              "      <th>1</th>\n",
              "      <td>Not as Advertised</td>\n",
              "      <td>Product arrived labeled as Jumbo Salted Peanuts...the peanuts were actually small sized unsalted. Not sure if this was an error or if the vendor intended to represent the product as \"Jumbo\".</td>\n",
              "      <td>not as advertised</td>\n",
              "      <td>product arrived labeled jumbo salted peanuts peanuts actually small sized unsalted sure error vendor intended represent product jumbo</td>\n",
              "    </tr>\n",
              "  </tbody>\n",
              "</table>\n",
              "</div>"
            ],
            "text/plain": [
              "                 Summary  ...                                                                                                                                                          text_cleaned\n",
              "0  Good Quality Dog Food  ...  bought several vitality canned dog food products found good quality product looks like stew processed meat smells better labrador finicky appreciates product better\n",
              "1      Not as Advertised  ...                                 product arrived labeled jumbo salted peanuts peanuts actually small sized unsalted sure error vendor intended represent product jumbo\n",
              "\n",
              "[2 rows x 4 columns]"
            ]
          },
          "metadata": {
            "tags": []
          }
        },
        {
          "output_type": "display_data",
          "data": {
            "text/html": [
              "<div>\n",
              "<style scoped>\n",
              "    .dataframe tbody tr th:only-of-type {\n",
              "        vertical-align: middle;\n",
              "    }\n",
              "\n",
              "    .dataframe tbody tr th {\n",
              "        vertical-align: top;\n",
              "    }\n",
              "\n",
              "    .dataframe thead th {\n",
              "        text-align: right;\n",
              "    }\n",
              "</style>\n",
              "<table border=\"1\" class=\"dataframe\">\n",
              "  <thead>\n",
              "    <tr style=\"text-align: right;\">\n",
              "      <th></th>\n",
              "      <th>Summary</th>\n",
              "      <th>Text</th>\n",
              "      <th>summary_cleaned</th>\n",
              "      <th>text_cleaned</th>\n",
              "    </tr>\n",
              "  </thead>\n",
              "  <tbody>\n",
              "    <tr>\n",
              "      <th>65815</th>\n",
              "      <td>Great ramen</td>\n",
              "      <td>This is my favorite brand of Korean ramen. It is spicy so if you are not used to eating spicy food, make sure you don't use all of the spice pack. If you add an egg to the soup, it makes a great snack.</td>\n",
              "      <td>great ramen</td>\n",
              "      <td>favorite brand korean ramen spicy used eating spicy food make sure use spice pack add egg soup makes great snack</td>\n",
              "    </tr>\n",
              "    <tr>\n",
              "      <th>65816</th>\n",
              "      <td>Spicy!!</td>\n",
              "      <td>I do like these noodles although, to say they are spicy is somewhat of an understatement. No one else in the family tolerates spicy very well so, seeing these, I was looking forward to an extra little something for the palate. I was not disappointed. To be completely honest, I usually drain most of the liquid as it is almost too much!</td>\n",
              "      <td>spicy</td>\n",
              "      <td>like noodles although say spicy somewhat understatement one else family tolerates spicy well seeing looking forward extra little something palate disappointed completely honest usually drain liquid almost much</td>\n",
              "    </tr>\n",
              "  </tbody>\n",
              "</table>\n",
              "</div>"
            ],
            "text/plain": [
              "           Summary  ...                                                                                                                                                                                                       text_cleaned\n",
              "65815  Great ramen  ...                                                                                                   favorite brand korean ramen spicy used eating spicy food make sure use spice pack add egg soup makes great snack\n",
              "65816      Spicy!!  ...  like noodles although say spicy somewhat understatement one else family tolerates spicy well seeing looking forward extra little something palate disappointed completely honest usually drain liquid almost much\n",
              "\n",
              "[2 rows x 4 columns]"
            ]
          },
          "metadata": {
            "tags": []
          }
        }
      ]
    },
    {
      "cell_type": "code",
      "metadata": {
        "id": "Bmpa_d19s1pc",
        "colab": {
          "base_uri": "https://localhost:8080/",
          "height": 331
        },
        "outputId": "42cb3cae-1cbf-4c78-8196-a64597b054bc"
      },
      "source": [
        "# add special tokens for seq2seq model\n",
        "data['decoder_input'] = 'sostoken ' + data['summary_cleaned']\n",
        "data['decoder_target'] = data['summary_cleaned'] + ' eostoken'\n",
        "\n",
        "# initialize train data for seq2seq model\n",
        "encoder_input = data['text_cleaned'].values\n",
        "decoder_input = data['decoder_input'].values\n",
        "decoder_target = data['decoder_target'].values\n",
        "\n",
        "show_table(data[[c for c in data if '_' in c]])"
      ],
      "execution_count": 10,
      "outputs": [
        {
          "output_type": "stream",
          "text": [
            ">>> shape : (65817, 4)\n",
            ">>> No of NA : 0\n"
          ],
          "name": "stdout"
        },
        {
          "output_type": "display_data",
          "data": {
            "text/html": [
              "<div>\n",
              "<style scoped>\n",
              "    .dataframe tbody tr th:only-of-type {\n",
              "        vertical-align: middle;\n",
              "    }\n",
              "\n",
              "    .dataframe tbody tr th {\n",
              "        vertical-align: top;\n",
              "    }\n",
              "\n",
              "    .dataframe thead th {\n",
              "        text-align: right;\n",
              "    }\n",
              "</style>\n",
              "<table border=\"1\" class=\"dataframe\">\n",
              "  <thead>\n",
              "    <tr style=\"text-align: right;\">\n",
              "      <th></th>\n",
              "      <th>summary_cleaned</th>\n",
              "      <th>text_cleaned</th>\n",
              "      <th>decoder_input</th>\n",
              "      <th>decoder_target</th>\n",
              "    </tr>\n",
              "  </thead>\n",
              "  <tbody>\n",
              "    <tr>\n",
              "      <th>0</th>\n",
              "      <td>good quality dog food</td>\n",
              "      <td>bought several vitality canned dog food products found good quality product looks like stew processed meat smells better labrador finicky appreciates product better</td>\n",
              "      <td>sostoken good quality dog food</td>\n",
              "      <td>good quality dog food eostoken</td>\n",
              "    </tr>\n",
              "    <tr>\n",
              "      <th>1</th>\n",
              "      <td>not as advertised</td>\n",
              "      <td>product arrived labeled jumbo salted peanuts peanuts actually small sized unsalted sure error vendor intended represent product jumbo</td>\n",
              "      <td>sostoken not as advertised</td>\n",
              "      <td>not as advertised eostoken</td>\n",
              "    </tr>\n",
              "  </tbody>\n",
              "</table>\n",
              "</div>"
            ],
            "text/plain": [
              "         summary_cleaned  ...                  decoder_target\n",
              "0  good quality dog food  ...  good quality dog food eostoken\n",
              "1      not as advertised  ...      not as advertised eostoken\n",
              "\n",
              "[2 rows x 4 columns]"
            ]
          },
          "metadata": {
            "tags": []
          }
        },
        {
          "output_type": "display_data",
          "data": {
            "text/html": [
              "<div>\n",
              "<style scoped>\n",
              "    .dataframe tbody tr th:only-of-type {\n",
              "        vertical-align: middle;\n",
              "    }\n",
              "\n",
              "    .dataframe tbody tr th {\n",
              "        vertical-align: top;\n",
              "    }\n",
              "\n",
              "    .dataframe thead th {\n",
              "        text-align: right;\n",
              "    }\n",
              "</style>\n",
              "<table border=\"1\" class=\"dataframe\">\n",
              "  <thead>\n",
              "    <tr style=\"text-align: right;\">\n",
              "      <th></th>\n",
              "      <th>summary_cleaned</th>\n",
              "      <th>text_cleaned</th>\n",
              "      <th>decoder_input</th>\n",
              "      <th>decoder_target</th>\n",
              "    </tr>\n",
              "  </thead>\n",
              "  <tbody>\n",
              "    <tr>\n",
              "      <th>65815</th>\n",
              "      <td>great ramen</td>\n",
              "      <td>favorite brand korean ramen spicy used eating spicy food make sure use spice pack add egg soup makes great snack</td>\n",
              "      <td>sostoken great ramen</td>\n",
              "      <td>great ramen eostoken</td>\n",
              "    </tr>\n",
              "    <tr>\n",
              "      <th>65816</th>\n",
              "      <td>spicy</td>\n",
              "      <td>like noodles although say spicy somewhat understatement one else family tolerates spicy well seeing looking forward extra little something palate disappointed completely honest usually drain liquid almost much</td>\n",
              "      <td>sostoken spicy</td>\n",
              "      <td>spicy eostoken</td>\n",
              "    </tr>\n",
              "  </tbody>\n",
              "</table>\n",
              "</div>"
            ],
            "text/plain": [
              "      summary_cleaned  ...        decoder_target\n",
              "65815     great ramen  ...  great ramen eostoken\n",
              "65816           spicy  ...        spicy eostoken\n",
              "\n",
              "[2 rows x 4 columns]"
            ]
          },
          "metadata": {
            "tags": []
          }
        }
      ]
    },
    {
      "cell_type": "code",
      "metadata": {
        "id": "J4vKJXEHVvIm",
        "colab": {
          "base_uri": "https://localhost:8080/"
        },
        "outputId": "9ff7262e-2296-44d9-90aa-a7bfdbeb7284"
      },
      "source": [
        "# shuffle data order\n",
        "indices = np.arange(len(encoder_input))\n",
        "np.random.shuffle(indices)\n",
        "print(f'>>> shuffle indices : {indices}\\n')\n",
        "\n",
        "encoder_input = encoder_input[indices]\n",
        "decoder_input = decoder_input[indices]\n",
        "decoder_target = decoder_target[indices]\n",
        "\n",
        "# split data into Train & Validation dataset\n",
        "val_num = int(len(encoder_input)*0.2)\n",
        "\n",
        "encoder_input_train = encoder_input[val_num:]\n",
        "decoder_input_train = decoder_input[val_num:]\n",
        "decoder_target_train = decoder_target[val_num:]\n",
        "\n",
        "encoder_input_valid = encoder_input[:val_num]\n",
        "decoder_input_valid = decoder_input[:val_num]\n",
        "decoder_target_valid = decoder_target[:val_num]\n",
        "\n",
        "print('>>> size X_train :', len(encoder_input_train))\n",
        "print('>>> size y_train :', len(decoder_target_train))\n",
        "print('>>> size X_test  :', len(encoder_input_valid))\n",
        "print('>>> size y_test  :', len(decoder_target_valid))"
      ],
      "execution_count": 11,
      "outputs": [
        {
          "output_type": "stream",
          "text": [
            ">>> shuffle indices : [ 4496 31705 61885 ... 52620 39512 48600]\n",
            "\n",
            ">>> size X_train : 52654\n",
            ">>> size y_train : 52654\n",
            ">>> size X_test  : 13163\n",
            ">>> size y_test  : 13163\n"
          ],
          "name": "stdout"
        }
      ]
    },
    {
      "cell_type": "code",
      "metadata": {
        "id": "8fs9ouENBce8",
        "colab": {
          "base_uri": "https://localhost:8080/"
        },
        "outputId": "afdb55e3-3b34-4abd-ed08-b1f424f06cea"
      },
      "source": [
        "# build vocab - input data\n",
        "src_tokenizer = Tokenizer()\n",
        "src_tokenizer.fit_on_texts(encoder_input_train)\n",
        "\n",
        "# check rare tokens in vocab (whose freq less than threshold)\n",
        "threshold = 7\n",
        "total_word_cnt = len(src_tokenizer.word_counts)\n",
        "\n",
        "rare_word_cnt = 0\n",
        "total_freq = 0\n",
        "rare_word_freq = 0\n",
        "for key, val in src_tokenizer.word_counts.items():\n",
        "  total_freq += val\n",
        "  \n",
        "  if val < threshold:\n",
        "    rare_word_cnt += 1\n",
        "    rare_word_freq += val\n",
        "\n",
        "print(f'>>> vocab size : {total_word_cnt}')\n",
        "print(f'>>> number of rare words(freq less than {threshold}) : {rare_word_cnt}')\n",
        "print(f'>>> vocab size without rare words : {total_word_cnt - rare_word_cnt}')\n",
        "print(f'>>> ratio of rare words in vocab : {rare_word_cnt/total_word_cnt*100:.3f} %')\n",
        "print(f'>>> ratio of rare words\\' freq to total words\\' freq : {rare_word_freq/total_freq*100:.3f} %')\n",
        "\n",
        "# build vocab with size limit - input data\n",
        "src_vocab_size = min(8000, total_word_cnt - rare_word_cnt)  # limit vocab size to 8000 or less\n",
        "src_tokenizer = Tokenizer(num_words=src_vocab_size)\n",
        "src_tokenizer.fit_on_texts(encoder_input_train)\n",
        "\n",
        "# integer encoding - input data\n",
        "encoder_input_train = src_tokenizer.texts_to_sequences(encoder_input_train)\n",
        "encoder_input_valid = src_tokenizer.texts_to_sequences(encoder_input_valid)\n",
        "\n",
        "# check encoding result\n",
        "print('\\n>>> final vocab size (with limit) :', src_tokenizer.num_words)\n",
        "print('>>> sample sequences after encoding:')\n",
        "for seq in encoder_input_train[:3]:\n",
        "  print('\\t', seq)"
      ],
      "execution_count": 12,
      "outputs": [
        {
          "output_type": "stream",
          "text": [
            ">>> vocab size : 32127\n",
            ">>> number of rare words(freq less than 7) : 23902\n",
            ">>> vocab size without rare words : 8225\n",
            ">>> ratio of rare words in vocab : 74.398 %\n",
            ">>> ratio of rare words' freq to total words' freq : 3.412 %\n",
            "\n",
            ">>> final vocab size (with limit) : 8000\n",
            ">>> sample sequences after encoding:\n",
            "\t [112, 4, 325, 15, 514, 35, 590, 215, 174]\n",
            "\t [729, 20, 7149, 309, 152, 4609, 220, 90, 62, 3342, 949, 47, 77, 53, 333, 600, 24, 1269, 402, 3153, 30, 68]\n",
            "\t [58, 354, 1642, 113, 825, 613, 113, 128, 643, 148, 27, 132, 147, 36, 847, 2259, 1487, 248, 115, 3998]\n"
          ],
          "name": "stdout"
        }
      ]
    },
    {
      "cell_type": "code",
      "metadata": {
        "colab": {
          "base_uri": "https://localhost:8080/"
        },
        "id": "oc5NUHGJCIbz",
        "outputId": "93bddcf0-2039-47e5-8c59-7bcfefb69555"
      },
      "source": [
        "# build vocab - target data\n",
        "tar_tokenizer = Tokenizer()\n",
        "tar_tokenizer.fit_on_texts(decoder_input_train)\n",
        "\n",
        "# check rare tokens in vocab (whose freq less than threshold)\n",
        "threshold = 6\n",
        "total_word_cnt = len(tar_tokenizer.word_counts)\n",
        "\n",
        "rare_word_cnt = 0\n",
        "total_freq = 0\n",
        "rare_word_freq = 0\n",
        "for key, val in tar_tokenizer.word_counts.items():\n",
        "  total_freq += val\n",
        "  \n",
        "  if val < threshold:\n",
        "    rare_word_cnt += 1\n",
        "    rare_word_freq += val\n",
        "\n",
        "print(f'>>> vocab size : {total_word_cnt}')\n",
        "print(f'>>> number of rare words(freq less than {threshold}) : {rare_word_cnt}')\n",
        "print(f'>>> vocab size without rare words : {total_word_cnt - rare_word_cnt}')\n",
        "print(f'>>> ratio of rare words in vocab : {rare_word_cnt/total_word_cnt*100:.3f} %')\n",
        "print(f'>>> ratio of rare words\\' freq to total words\\' freq : {rare_word_freq/total_freq*100:.3f} %')\n",
        "\n",
        "# build vocab with size limit - target data\n",
        "## NOTE : fit on both input & target train (to include all special tokens)\n",
        "tar_vocab_size = min(2000, total_word_cnt - rare_word_cnt)  # limit vocab size to 2000 or less\n",
        "tar_tokenizer = Tokenizer(num_words=tar_vocab_size)\n",
        "tar_tokenizer.fit_on_texts(decoder_input_train)\n",
        "tar_tokenizer.fit_on_texts(decoder_target_train)\n",
        "\n",
        "# integer encoding - target data\n",
        "decoder_input_train = tar_tokenizer.texts_to_sequences(decoder_input_train)\n",
        "decoder_input_valid = tar_tokenizer.texts_to_sequences(decoder_input_valid)\n",
        "decoder_target_train = tar_tokenizer.texts_to_sequences(decoder_target_train)\n",
        "decoder_target_valid = tar_tokenizer.texts_to_sequences(decoder_target_valid)\n",
        "\n",
        "# check encoding result\n",
        "print('\\n>>> final vocab size (with limit) :', tar_tokenizer.num_words)\n",
        "print('>>> sample sequences after encoding:')\n",
        "for seq in decoder_input_train[:3]:\n",
        "  print('\\t', seq)"
      ],
      "execution_count": 13,
      "outputs": [
        {
          "output_type": "stream",
          "text": [
            ">>> vocab size : 10490\n",
            ">>> number of rare words(freq less than 6) : 8116\n",
            ">>> vocab size without rare words : 2374\n",
            ">>> ratio of rare words in vocab : 77.369 %\n",
            ">>> ratio of rare words' freq to total words' freq : 5.906 %\n",
            "\n",
            ">>> final vocab size (with limit) : 2000\n",
            ">>> sample sequences after encoding:\n",
            "\t [1, 195, 149, 87, 51, 190]\n",
            "\t [1, 3]\n",
            "\t [1, 4, 7]\n"
          ],
          "name": "stdout"
        }
      ]
    },
    {
      "cell_type": "code",
      "metadata": {
        "colab": {
          "base_uri": "https://localhost:8080/"
        },
        "id": "X3wvlZB-C_-n",
        "outputId": "6a8c6416-8a9d-4b2f-e4cc-08be21456b0f"
      },
      "source": [
        "# get indices of samples with empty text\n",
        "drop_train = [idx for idx, lst in enumerate(decoder_input_train) if len(lst)==1]\n",
        "drop_valid = [idx for idx, lst in enumerate(decoder_input_valid) if len(lst)==1]\n",
        "print(f'>>> Removing {len(drop_train)} trian samples  & {len(drop_valid)} valid samples...\\n')\n",
        "\n",
        "# remove samples with empty text\n",
        "# encoder_input_train  = [i for idx, i in enumerate(encoder_input_train)  if idx not in drop_train]  # slower, but not deprecated\n",
        "encoder_input_train  = np.delete(encoder_input_train,  drop_train).tolist()  # faster, but deprecated\n",
        "decoder_input_train  = np.delete(decoder_input_train,  drop_train).tolist()\n",
        "decoder_target_train = np.delete(decoder_target_train, drop_train).tolist()\n",
        "\n",
        "encoder_input_valid  = np.delete(encoder_input_valid,  drop_valid).tolist()\n",
        "decoder_input_valid  = np.delete(decoder_input_valid,  drop_valid).tolist()\n",
        "decoder_target_valid = np.delete(decoder_target_valid, drop_valid).tolist()\n",
        "\n",
        "# check the dataset size after \n",
        "print('>>> size X_train :', len(encoder_input_train))\n",
        "print('>>> size y_train :', len(decoder_target_train))\n",
        "print('>>> size X_test  :', len(encoder_input_valid))\n",
        "print('>>> size y_test  :', len(decoder_target_valid))\n",
        "print()"
      ],
      "execution_count": 14,
      "outputs": [
        {
          "output_type": "stream",
          "text": [
            ">>> Removing 1270 trian samples  & 350 valid samples...\n",
            "\n",
            ">>> size X_train : 51384\n",
            ">>> size y_train : 51384\n",
            ">>> size X_test  : 12813\n",
            ">>> size y_test  : 12813\n",
            "\n"
          ],
          "name": "stdout"
        },
        {
          "output_type": "stream",
          "text": [
            "/usr/local/lib/python3.7/dist-packages/numpy/core/_asarray.py:83: VisibleDeprecationWarning: Creating an ndarray from ragged nested sequences (which is a list-or-tuple of lists-or-tuples-or ndarrays with different lengths or shapes) is deprecated. If you meant to do this, you must specify 'dtype=object' when creating the ndarray\n",
            "  return array(a, dtype, copy=False, order=order)\n"
          ],
          "name": "stderr"
        }
      ]
    },
    {
      "cell_type": "code",
      "metadata": {
        "id": "FaLVgiy4VvPc",
        "colab": {
          "base_uri": "https://localhost:8080/"
        },
        "outputId": "711279b5-9f53-4e39-be2e-a74408f60aed"
      },
      "source": [
        "# add padding\n",
        "encoder_input_train = pad_sequences(encoder_input_train, maxlen=text_max_len)\n",
        "decoder_input_train = pad_sequences(decoder_input_train, maxlen=summ_max_len+1)  # add 1 to maxlen due to special token\n",
        "decoder_target_train = pad_sequences(decoder_target_train, maxlen=summ_max_len+1)  # add 1 to maxlen due to special token\n",
        "\n",
        "encoder_input_valid = pad_sequences(encoder_input_valid, maxlen=text_max_len)\n",
        "decoder_input_valid = pad_sequences(decoder_input_valid, maxlen=summ_max_len+1)  # add 1 to maxlen due to special token\n",
        "decoder_target_valid = pad_sequences(decoder_target_valid, maxlen=summ_max_len+1)  # add 1 to maxlen due to special token\n",
        "\n",
        "# check the result\n",
        "print(encoder_input_train.shape, decoder_input_train.shape, decoder_target_train.shape, encoder_input_valid.shape, decoder_input_valid.shape, decoder_target_valid.shape)\n",
        "print(encoder_input_train[0])"
      ],
      "execution_count": 15,
      "outputs": [
        {
          "output_type": "stream",
          "text": [
            "(51384, 50) (51384, 9) (51384, 9) (12813, 50) (12813, 9) (12813, 9)\n",
            "[  0   0   0   0   0   0   0   0   0   0   0   0   0   0   0   0   0   0\n",
            "   0   0   0   0   0   0   0   0   0   0   0   0   0   0   0   0   0   0\n",
            "   0   0   0   0   0 112   4 325  15 514  35 590 215 174]\n"
          ],
          "name": "stdout"
        }
      ]
    },
    {
      "cell_type": "markdown",
      "metadata": {
        "id": "95hmSXjc4KdX"
      },
      "source": [
        "## 2. seq2seq + attention 요약 모델 설계 및 훈련 (Build & Train the model)"
      ]
    },
    {
      "cell_type": "code",
      "metadata": {
        "id": "FiKve6j14e0E",
        "colab": {
          "base_uri": "https://localhost:8080/"
        },
        "outputId": "493c5617-9d36-417c-ce31-d28504809ac3"
      },
      "source": [
        "embedding_dim = 128\n",
        "hidden_size = 256\n",
        "\n",
        "\n",
        "# Encoder layers\n",
        "encoder_inputs = Input(shape=(text_max_len,))\n",
        "enc_emb = Embedding(src_vocab_size, embedding_dim)(encoder_inputs)\n",
        "\n",
        "enc_lstm1 = LSTM(units=hidden_size, return_sequences=True, return_state=True, dropout=0.4, recurrent_dropout=0.4)\n",
        "enc_out1, state_h1, state_c1 = enc_lstm1(enc_emb)\n",
        "\n",
        "enc_lstm2 = LSTM(units=hidden_size, return_sequences=True, return_state=True, dropout=0.4, recurrent_dropout=0.4)\n",
        "enc_out2, state_h2, state_c2 = enc_lstm2(enc_out1)\n",
        "\n",
        "enc_lstm3 = LSTM(units=hidden_size, return_sequences=True, return_state=True, dropout=0.4, recurrent_dropout=0.4)\n",
        "enc_out3, state_h3, state_c3 = enc_lstm3(enc_out2)\n",
        "\n",
        "\n",
        "# Decoder layers\n",
        "decoder_inputs = Input(shape=(None,))\n",
        "dec_emb = Embedding(tar_vocab_size, embedding_dim)(decoder_inputs)\n",
        "\n",
        "dec_lstm1 = LSTM(units=hidden_size, return_sequences=True, return_state=True, dropout=0.4, recurrent_dropout=0.2)\n",
        "dec_out1, _, _ = dec_lstm1(inputs=dec_emb, initial_state=[state_h3, state_c3])\n",
        "\n",
        "\n",
        "# Decoder ouput layer\n",
        "dec_softmax_out = Dense(tar_vocab_size, activation='softmax')(dec_out1)\n",
        "\n",
        "\n",
        "# generate model (seq2seq with LSTM)\n",
        "model = Model(inputs=[encoder_inputs, decoder_inputs], outputs=dec_softmax_out)\n",
        "model.summary()"
      ],
      "execution_count": 16,
      "outputs": [
        {
          "output_type": "stream",
          "text": [
            "Model: \"model\"\n",
            "__________________________________________________________________________________________________\n",
            "Layer (type)                    Output Shape         Param #     Connected to                     \n",
            "==================================================================================================\n",
            "input_1 (InputLayer)            [(None, 50)]         0                                            \n",
            "__________________________________________________________________________________________________\n",
            "embedding (Embedding)           (None, 50, 128)      1024000     input_1[0][0]                    \n",
            "__________________________________________________________________________________________________\n",
            "lstm (LSTM)                     [(None, 50, 256), (N 394240      embedding[0][0]                  \n",
            "__________________________________________________________________________________________________\n",
            "input_2 (InputLayer)            [(None, None)]       0                                            \n",
            "__________________________________________________________________________________________________\n",
            "lstm_1 (LSTM)                   [(None, 50, 256), (N 525312      lstm[0][0]                       \n",
            "__________________________________________________________________________________________________\n",
            "embedding_1 (Embedding)         (None, None, 128)    256000      input_2[0][0]                    \n",
            "__________________________________________________________________________________________________\n",
            "lstm_2 (LSTM)                   [(None, 50, 256), (N 525312      lstm_1[0][0]                     \n",
            "__________________________________________________________________________________________________\n",
            "lstm_3 (LSTM)                   [(None, None, 256),  394240      embedding_1[0][0]                \n",
            "                                                                 lstm_2[0][1]                     \n",
            "                                                                 lstm_2[0][2]                     \n",
            "__________________________________________________________________________________________________\n",
            "dense (Dense)                   (None, None, 2000)   514000      lstm_3[0][0]                     \n",
            "==================================================================================================\n",
            "Total params: 3,633,104\n",
            "Trainable params: 3,633,104\n",
            "Non-trainable params: 0\n",
            "__________________________________________________________________________________________________\n"
          ],
          "name": "stdout"
        }
      ]
    },
    {
      "cell_type": "code",
      "metadata": {
        "colab": {
          "base_uri": "https://localhost:8080/"
        },
        "id": "TLuk2z-K5FdP",
        "outputId": "63a625af-20ea-46e7-a025-1dcf68170654"
      },
      "source": [
        "# Attention layer\n",
        "attn_layer = AttentionLayer(name='attention_layer')\n",
        "attn_out, attn_states = attn_layer(inputs=[enc_out3, dec_out1])\n",
        "\n",
        "# Concatenate attention outputs & decoder hidden states\n",
        "dec_concat_input = Concatenate(axis=-1, name='concat_layer')([dec_out1, attn_out])\n",
        "\n",
        "# Decoder ouput layer\n",
        "dec_softmax_out = Dense(tar_vocab_size, activation='softmax')(dec_concat_input)\n",
        "\n",
        "\n",
        "# generate model (seq2seq with attention)\n",
        "model = Model(inputs=[encoder_inputs, decoder_inputs], outputs=dec_softmax_out)\n",
        "model.summary()"
      ],
      "execution_count": 17,
      "outputs": [
        {
          "output_type": "stream",
          "text": [
            "Model: \"model_1\"\n",
            "__________________________________________________________________________________________________\n",
            "Layer (type)                    Output Shape         Param #     Connected to                     \n",
            "==================================================================================================\n",
            "input_1 (InputLayer)            [(None, 50)]         0                                            \n",
            "__________________________________________________________________________________________________\n",
            "embedding (Embedding)           (None, 50, 128)      1024000     input_1[0][0]                    \n",
            "__________________________________________________________________________________________________\n",
            "lstm (LSTM)                     [(None, 50, 256), (N 394240      embedding[0][0]                  \n",
            "__________________________________________________________________________________________________\n",
            "input_2 (InputLayer)            [(None, None)]       0                                            \n",
            "__________________________________________________________________________________________________\n",
            "lstm_1 (LSTM)                   [(None, 50, 256), (N 525312      lstm[0][0]                       \n",
            "__________________________________________________________________________________________________\n",
            "embedding_1 (Embedding)         (None, None, 128)    256000      input_2[0][0]                    \n",
            "__________________________________________________________________________________________________\n",
            "lstm_2 (LSTM)                   [(None, 50, 256), (N 525312      lstm_1[0][0]                     \n",
            "__________________________________________________________________________________________________\n",
            "lstm_3 (LSTM)                   [(None, None, 256),  394240      embedding_1[0][0]                \n",
            "                                                                 lstm_2[0][1]                     \n",
            "                                                                 lstm_2[0][2]                     \n",
            "__________________________________________________________________________________________________\n",
            "attention_layer (AttentionLayer ((None, None, 256),  131328      lstm_2[0][0]                     \n",
            "                                                                 lstm_3[0][0]                     \n",
            "__________________________________________________________________________________________________\n",
            "concat_layer (Concatenate)      (None, None, 512)    0           lstm_3[0][0]                     \n",
            "                                                                 attention_layer[0][0]            \n",
            "__________________________________________________________________________________________________\n",
            "dense_1 (Dense)                 (None, None, 2000)   1026000     concat_layer[0][0]               \n",
            "==================================================================================================\n",
            "Total params: 4,276,432\n",
            "Trainable params: 4,276,432\n",
            "Non-trainable params: 0\n",
            "__________________________________________________________________________________________________\n"
          ],
          "name": "stdout"
        }
      ]
    },
    {
      "cell_type": "code",
      "metadata": {
        "id": "zx3pSoq_7nrG"
      },
      "source": [
        ""
      ],
      "execution_count": 17,
      "outputs": []
    }
  ]
}