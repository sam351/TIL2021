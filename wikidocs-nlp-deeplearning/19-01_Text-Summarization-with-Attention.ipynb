{
  "nbformat": 4,
  "nbformat_minor": 0,
  "metadata": {
    "colab": {
      "name": "19-01_Text-Summarization-with-Attention",
      "provenance": [],
      "collapsed_sections": []
    },
    "kernelspec": {
      "name": "python3",
      "display_name": "Python 3"
    },
    "language_info": {
      "name": "python"
    }
  },
  "cells": [
    {
      "cell_type": "markdown",
      "metadata": {
        "id": "qBSQvR-SySl6"
      },
      "source": [
        "## 어텐션을 이용한 텍스트 요약(Text Summarization with Attention mechanism)\n",
        "- 텍스트 요약 : 상대적으로 큰 원문을 핵심 내용만 간추려서 상대적으로 작은 요약문으로 변환하는 것\n",
        "- 어텐션 매커니즘(attention mechanism) 기반의 시퀀스-투-시퀀스(Sequences-to-Sequence, seq2seq) 모델을 활용한 텍스트 요약\n",
        "- 텍스트 요약은 크게 **추출적 요약(extractive summarization)**과 **추상적 요약(abstractive summarization)**으로 구분 <br>\n",
        "  #### 1) 추출적 요약(extractive summarization)\n",
        "  - 원문에서 중요한 핵심 문장 또는 단어구를 몇 개 뽑아서 이들로 구성된 요약문을 만드는 방법\n",
        "  - 결과로 나온 요약문의 문장이나 단어구들은 전부 원문에 있는 문장들\n",
        "  - 단점 : 이미 존재하는 문장이나 단어구로만 구성하므로 모델의 언어 표현 능력이 제한됨\n",
        "  \n",
        "  #### 2) 추상적 요약(abstractive summarization)\n",
        "  - 원문에 없던 문장이라도 핵심 문맥을 반영한 새로운 문장을 생성해서 원문을 요약하는 방법\n",
        "  - 추출적 요약보다는 난이도가 높음\n",
        "  - 단점 : 기본적으로 지도 학습 문제이기 때문에, 대량의 데이터가 필요함"
      ]
    },
    {
      "cell_type": "code",
      "metadata": {
        "colab": {
          "base_uri": "https://localhost:8080/"
        },
        "id": "wivds9THg1co",
        "outputId": "1610f1ad-6f06-4e58-c5c7-245b37665d6e"
      },
      "source": [
        "# install required packages\n",
        "import urllib.request\n",
        "urllib.request.urlretrieve(\"https://raw.githubusercontent.com/thushv89/attention_keras/master/src/layers/attention.py\", filename=\"attention.py\")\n",
        "\n",
        "# clear install verbose messages\n",
        "from IPython.display import clear_output\n",
        "clear_output()\n",
        "\n",
        "\n",
        "# import packages\n",
        "import pandas as pd\n",
        "import numpy as np\n",
        "import re\n",
        "import matplotlib.pyplot as plt\n",
        "import nltk\n",
        "from nltk.corpus import stopwords\n",
        "from bs4 import BeautifulSoup \n",
        "np.random.seed(seed=0)\n",
        "\n",
        "import tensorflow\n",
        "from tensorflow.keras.preprocessing.text import Tokenizer \n",
        "from tensorflow.keras.preprocessing.sequence import pad_sequences\n",
        "from tensorflow.keras.layers import Input, LSTM, Embedding, Dense, Concatenate\n",
        "from tensorflow.keras.models import Model\n",
        "from tensorflow.keras.callbacks import EarlyStopping, ModelCheckpoint\n",
        "\n",
        "from attention import AttentionLayer\n",
        "\n",
        "\n",
        "def show_table(df, sample_num=2):\n",
        "  print('>>> shape :', df.shape)\n",
        "  print('>>> No of NA :', df.isna().sum().sum())\n",
        "  if len(df) <= sample_num*2:\n",
        "    display(df)\n",
        "  else:\n",
        "    display(df.head(sample_num))\n",
        "    display(df.tail(sample_num))\n",
        "  pass\n",
        "\n",
        "\n",
        "# pd : 1.1.5  |  np : 1.19.5  |  nltk : 3.2.5  |  tensorflow : 2.4.1\n",
        "print(f'>>> pd : {pd.__version__}  |  np : {np.__version__}  |  nltk : {nltk.__version__}  |  tensorflow : {tensorflow.__version__}') "
      ],
      "execution_count": 1,
      "outputs": [
        {
          "output_type": "stream",
          "text": [
            ">>> pd : 1.1.5  |  np : 1.19.5  |  nltk : 3.2.5  |  tensorflow : 2.4.1\n"
          ],
          "name": "stdout"
        }
      ]
    },
    {
      "cell_type": "code",
      "metadata": {
        "id": "qaK5BH3sX2v9"
      },
      "source": [
        ""
      ],
      "execution_count": 1,
      "outputs": []
    }
  ]
}