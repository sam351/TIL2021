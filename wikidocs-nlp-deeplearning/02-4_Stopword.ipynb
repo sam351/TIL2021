{
  "nbformat": 4,
  "nbformat_minor": 0,
  "metadata": {
    "colab": {
      "name": "02-4_Stopword",
      "provenance": [],
      "collapsed_sections": []
    },
    "kernelspec": {
      "name": "python3",
      "display_name": "Python 3"
    },
    "language_info": {
      "name": "python"
    }
  },
  "cells": [
    {
      "cell_type": "code",
      "metadata": {
        "colab": {
          "base_uri": "https://localhost:8080/",
          "height": 35
        },
        "id": "8AxScIHgilkp",
        "outputId": "ad5c815e-ec22-415a-9500-edcfe1e69022"
      },
      "source": [
        "import nltk\n",
        "\n",
        "nltk.__version__"
      ],
      "execution_count": 1,
      "outputs": [
        {
          "output_type": "execute_result",
          "data": {
            "application/vnd.google.colaboratory.intrinsic+json": {
              "type": "string"
            },
            "text/plain": [
              "'3.2.5'"
            ]
          },
          "metadata": {
            "tags": []
          },
          "execution_count": 1
        }
      ]
    },
    {
      "cell_type": "markdown",
      "metadata": {
        "id": "NL4DjiNHkWv7"
      },
      "source": [
        "## NLTK 불용어 제거"
      ]
    },
    {
      "cell_type": "code",
      "metadata": {
        "colab": {
          "base_uri": "https://localhost:8080/"
        },
        "id": "8Se1m5_Nitpo",
        "outputId": "e45f6b0a-46cf-44e5-f572-2a1d5807f178"
      },
      "source": [
        "# download nltk packages\n",
        "nltk.download('stopwords')\n",
        "nltk.download('punkt')\n",
        "\n",
        "# generate stopword list\n",
        "stopword_list = nltk.corpus.stopwords.words(\"english\")\n",
        "\n",
        "print()\n",
        "print(type(stopword_list))\n",
        "print(len(stopword_list))\n",
        "stopword_list[:10]"
      ],
      "execution_count": 2,
      "outputs": [
        {
          "output_type": "stream",
          "text": [
            "[nltk_data] Downloading package stopwords to /root/nltk_data...\n",
            "[nltk_data]   Unzipping corpora/stopwords.zip.\n",
            "[nltk_data] Downloading package punkt to /root/nltk_data...\n",
            "[nltk_data]   Unzipping tokenizers/punkt.zip.\n",
            "\n",
            "<class 'list'>\n",
            "179\n"
          ],
          "name": "stdout"
        },
        {
          "output_type": "execute_result",
          "data": {
            "text/plain": [
              "['i', 'me', 'my', 'myself', 'we', 'our', 'ours', 'ourselves', 'you', \"you're\"]"
            ]
          },
          "metadata": {
            "tags": []
          },
          "execution_count": 2
        }
      ]
    },
    {
      "cell_type": "code",
      "metadata": {
        "colab": {
          "base_uri": "https://localhost:8080/"
        },
        "id": "E5fI8dESi0BW",
        "outputId": "a8f7fa06-20c7-4af1-8d50-71139ef63ed3"
      },
      "source": [
        "# removing stopwords after tokenization\n",
        "example = \"Family is not an important thing. It's everything.\"\n",
        "\n",
        "tokens = nltk.tokenize.word_tokenize(example)\n",
        "print(tokens)\n",
        "print([t for t in tokens if t not in stopword_list])"
      ],
      "execution_count": 3,
      "outputs": [
        {
          "output_type": "stream",
          "text": [
            "['Family', 'is', 'not', 'an', 'important', 'thing', '.', 'It', \"'s\", 'everything', '.']\n",
            "['Family', 'important', 'thing', '.', 'It', \"'s\", 'everything', '.']\n"
          ],
          "name": "stdout"
        }
      ]
    },
    {
      "cell_type": "markdown",
      "metadata": {
        "id": "20VMZC-0kZSV"
      },
      "source": [
        "## 한글 불용어 제거\n",
        "- 한글에서 불용어를 제거하는 기본적인 방법은 토큰화 이후 조사, 접속사 등을 제거하는 방법임\n",
        "- 명사, 형용사 등의 단어들 중에서도 불용어로 제거하고 싶은 경우 직접 불용어 사전을 만들어 사용할 수 있음"
      ]
    },
    {
      "cell_type": "code",
      "metadata": {
        "colab": {
          "base_uri": "https://localhost:8080/"
        },
        "id": "GL097zUVkbZX",
        "outputId": "162879c3-6293-40f1-f9cf-704439ccfd61"
      },
      "source": [
        "example = \"고기를 아무렇게나 구우려고 하면 안 돼. 고기라고 다 같은 게 아니거든. 예컨대 삼겹살을 구울 때는 중요한 게 있지.\"\n",
        "stopword_list = \"아무거나 아무렇게나 어찌하든지 같다 비슷하다 예컨대 이럴정도로 하면 아니거든\".split()\n",
        "\n",
        "tokens_list = nltk.tokenize.word_tokenize(example)\n",
        "print(tokens_list)\n",
        "print([t for t in tokens_list if t not in stopword_list])"
      ],
      "execution_count": 4,
      "outputs": [
        {
          "output_type": "stream",
          "text": [
            "['고기를', '아무렇게나', '구우려고', '하면', '안', '돼', '.', '고기라고', '다', '같은', '게', '아니거든', '.', '예컨대', '삼겹살을', '구울', '때는', '중요한', '게', '있지', '.']\n",
            "['고기를', '구우려고', '안', '돼', '.', '고기라고', '다', '같은', '게', '.', '삼겹살을', '구울', '때는', '중요한', '게', '있지', '.']\n"
          ],
          "name": "stdout"
        }
      ]
    }
  ]
}